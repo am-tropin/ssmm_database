{
 "cells": [
  {
   "cell_type": "code",
   "execution_count": 5,
   "id": "c80b6a11",
   "metadata": {},
   "outputs": [
    {
     "name": "stdout",
     "output_type": "stream",
     "text": [
      "4\n",
      "[' ЯНКОВА Маргарита Михайловна']\n"
     ]
    }
   ],
   "source": [
    "import re\n",
    "\n",
    "line1 = '— ЯНКОВА Маргарита Михайловна' \n",
    "# line1 = '— ОСТРОУХОВА Наталья Владимировна, группа 402' \n",
    "# line1 = '— ЧЕБОТАЕВА Виктория Алексеевна, 332 группа' +\n",
    "# line1 = '— ПРОМЫСЛОВ Платон Валерьевич, гр.409' +\n",
    "# line1 = '— БУН-ЯН-ТУН Владислав Владимирович, группа 125' +\n",
    "\n",
    "# r'\\—([\\w\\s\\-]+)[\\,\\.\\s\\w]*([\\d]*)'\n",
    "\n",
    "if len(re.findall(r'\\—([\\w\\s\\-]+)', line1)) > 0:\n",
    "    print(re.search(r'\\—([\\w\\s\\-]+)', line1).start())\n",
    "#     print(re.finditer(r'\\—([\\w\\s\\-]+)', line1))\n",
    "    name_line = (re.findall(r'\\—([\\w\\s\\-]+)', line1))\n",
    "    print(name_line)\n",
    "#     name = (re.sub('\\W\\s', '', name_line[0])).strip().title()\n",
    "#     if re.sub('\\D', '', line1):\n",
    "#         academic_group_no = int(re.sub('\\D', '', line1))\n",
    "#         print(academic_group_no)\n",
    "\n",
    "# print(name)"
   ]
  },
  {
   "cell_type": "code",
   "execution_count": null,
   "id": "af1de829",
   "metadata": {},
   "outputs": [],
   "source": []
  }
 ],
 "metadata": {
  "kernelspec": {
   "display_name": "Python 3 (ipykernel)",
   "language": "python",
   "name": "python3"
  },
  "language_info": {
   "codemirror_mode": {
    "name": "ipython",
    "version": 3
   },
   "file_extension": ".py",
   "mimetype": "text/x-python",
   "name": "python",
   "nbconvert_exporter": "python",
   "pygments_lexer": "ipython3",
   "version": "3.9.13"
  }
 },
 "nbformat": 4,
 "nbformat_minor": 5
}
