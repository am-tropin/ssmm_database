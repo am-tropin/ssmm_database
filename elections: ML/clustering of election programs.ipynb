{
 "cells": [
  {
   "cell_type": "code",
   "execution_count": null,
   "id": "727a9f8e",
   "metadata": {},
   "outputs": [],
   "source": []
  },
  {
   "cell_type": "code",
   "execution_count": null,
   "id": "fa5f00a3",
   "metadata": {},
   "outputs": [],
   "source": [
    "'''\n",
    "\n",
    "'''"
   ]
  },
  {
   "cell_type": "code",
   "execution_count": null,
   "id": "9e923d12",
   "metadata": {},
   "outputs": [],
   "source": [
    "'''\n",
    "    - NLTK -- for tokenezing russian texts of election programs\n",
    "    \n",
    "    - (LINK!!) -- for creating matrix of program_x_term\n",
    "    - sklearn -- for clustering...\n",
    "'''"
   ]
  },
  {
   "cell_type": "code",
   "execution_count": null,
   "id": "56918fb9",
   "metadata": {},
   "outputs": [],
   "source": []
  },
  {
   "cell_type": "markdown",
   "id": "c1d8578e",
   "metadata": {},
   "source": [
    "# 1. Loading data -- table of election programs"
   ]
  },
  {
   "cell_type": "code",
   "execution_count": 1,
   "id": "f309e608",
   "metadata": {},
   "outputs": [],
   "source": [
    "import pandas as pd\n",
    "import re\n",
    "import numpy as np"
   ]
  },
  {
   "cell_type": "code",
   "execution_count": 2,
   "id": "18dbf1dd",
   "metadata": {},
   "outputs": [
    {
     "data": {
      "text/html": [
       "<div>\n",
       "<style scoped>\n",
       "    .dataframe tbody tr th:only-of-type {\n",
       "        vertical-align: middle;\n",
       "    }\n",
       "\n",
       "    .dataframe tbody tr th {\n",
       "        vertical-align: top;\n",
       "    }\n",
       "\n",
       "    .dataframe thead th {\n",
       "        text-align: right;\n",
       "    }\n",
       "</style>\n",
       "<table border=\"1\" class=\"dataframe\">\n",
       "  <thead>\n",
       "    <tr style=\"text-align: right;\">\n",
       "      <th></th>\n",
       "      <th>conv_x_name</th>\n",
       "      <th>program_txt</th>\n",
       "      <th>convocation_no</th>\n",
       "    </tr>\n",
       "  </thead>\n",
       "  <tbody>\n",
       "    <tr>\n",
       "      <th>0</th>\n",
       "      <td>1_Левин_Андрей</td>\n",
       "      <td>Активный участник и организатор различных меро...</td>\n",
       "      <td>1</td>\n",
       "    </tr>\n",
       "    <tr>\n",
       "      <th>1</th>\n",
       "      <td>1_Кириллова_Полина</td>\n",
       "      <td>Мне нравится заниматься общественной деятельно...</td>\n",
       "      <td>1</td>\n",
       "    </tr>\n",
       "    <tr>\n",
       "      <th>2</th>\n",
       "      <td>1_Семенов_Павел</td>\n",
       "      <td>\"Здравствуйте. Я так понимаю, что я уже поздно...</td>\n",
       "      <td>1</td>\n",
       "    </tr>\n",
       "    <tr>\n",
       "      <th>3</th>\n",
       "      <td>1_Кузнецова_Алёна</td>\n",
       "      <td>\"Меня очень интересует жизнь Университета. я б...</td>\n",
       "      <td>1</td>\n",
       "    </tr>\n",
       "    <tr>\n",
       "      <th>4</th>\n",
       "      <td>1_Кунденко_Вадим</td>\n",
       "      <td>\"   Добрый день! Пару слов о себе. Путь к мехм...</td>\n",
       "      <td>1</td>\n",
       "    </tr>\n",
       "  </tbody>\n",
       "</table>\n",
       "</div>"
      ],
      "text/plain": [
       "          conv_x_name                                        program_txt  \\\n",
       "0      1_Левин_Андрей  Активный участник и организатор различных меро...   \n",
       "1  1_Кириллова_Полина  Мне нравится заниматься общественной деятельно...   \n",
       "2     1_Семенов_Павел  \"Здравствуйте. Я так понимаю, что я уже поздно...   \n",
       "3   1_Кузнецова_Алёна  \"Меня очень интересует жизнь Университета. я б...   \n",
       "4    1_Кунденко_Вадим  \"   Добрый день! Пару слов о себе. Путь к мехм...   \n",
       "\n",
       "   convocation_no  \n",
       "0               1  \n",
       "1               1  \n",
       "2               1  \n",
       "3               1  \n",
       "4               1  "
      ]
     },
     "execution_count": 2,
     "metadata": {},
     "output_type": "execute_result"
    }
   ],
   "source": [
    "programs_df = pd.read_csv('../library: main/ssmm_elections_candidates_1_11.csv', sep='\\t', encoding='utf-8')\n",
    "programs_df = programs_df[['conv_x_name','program_txt','convocation_no']][programs_df['program_txt'].notna()].reset_index().drop(['index'],axis=1)\n",
    "programs_df.head()\n"
   ]
  },
  {
   "cell_type": "code",
   "execution_count": 3,
   "id": "fc0f7de2",
   "metadata": {},
   "outputs": [
    {
     "data": {
      "text/plain": [
       "481"
      ]
     },
     "execution_count": 3,
     "metadata": {},
     "output_type": "execute_result"
    }
   ],
   "source": [
    "len(programs_df)"
   ]
  },
  {
   "cell_type": "code",
   "execution_count": 302,
   "id": "3bbb057f",
   "metadata": {},
   "outputs": [],
   "source": [
    "limit = 91 # for convocations 1-3\n",
    "# limit = len(programs_df)"
   ]
  },
  {
   "cell_type": "code",
   "execution_count": 303,
   "id": "4dd09ba9",
   "metadata": {},
   "outputs": [
    {
     "data": {
      "text/plain": [
       "['3_Сапунов_Кирилл_Вячеславович',\n",
       " '3_Самонов_Алексей_Александрович',\n",
       " '3_Короткин_Виталий_Владимирович',\n",
       " '3_Буряк_Анна_Андреевна',\n",
       " '3_Морозов_Сергей_Сергеевич']"
      ]
     },
     "execution_count": 303,
     "metadata": {},
     "output_type": "execute_result"
    }
   ],
   "source": [
    "key_list = list(programs_df['conv_x_name'])[:limit]\n",
    "key_list[-5:]"
   ]
  },
  {
   "cell_type": "code",
   "execution_count": 304,
   "id": "583eef5b",
   "metadata": {},
   "outputs": [],
   "source": [
    "program_list = list(programs_df['program_txt'])[:limit]\n",
    "\n",
    "# program_list"
   ]
  },
  {
   "cell_type": "code",
   "execution_count": null,
   "id": "7fb561ba",
   "metadata": {},
   "outputs": [],
   "source": []
  },
  {
   "cell_type": "markdown",
   "id": "983bf262",
   "metadata": {},
   "source": [
    "# 2. Tokenizing of texts"
   ]
  },
  {
   "cell_type": "code",
   "execution_count": 7,
   "id": "c6210923",
   "metadata": {},
   "outputs": [
    {
     "name": "stdout",
     "output_type": "stream",
     "text": [
      "Collecting nltk\n",
      "  Downloading nltk-3.8.1-py3-none-any.whl (1.5 MB)\n",
      "\u001b[2K     \u001b[90m━━━━━━━━━━━━━━━━━━━━━━━━━━━━━━━━━━━━━━━━\u001b[0m \u001b[32m1.5/1.5 MB\u001b[0m \u001b[31m3.4 MB/s\u001b[0m eta \u001b[36m0:00:00\u001b[0m00:01\u001b[0m00:01\u001b[0m0m\n",
      "\u001b[?25hCollecting joblib\n",
      "  Using cached joblib-1.2.0-py3-none-any.whl (297 kB)\n",
      "Collecting regex>=2021.8.3\n",
      "  Downloading regex-2022.10.31-cp37-cp37m-macosx_10_9_x86_64.whl (294 kB)\n",
      "\u001b[2K     \u001b[90m━━━━━━━━━━━━━━━━━━━━━━━━━━━━━━━━━━━━━━━\u001b[0m \u001b[32m294.4/294.4 kB\u001b[0m \u001b[31m1.5 MB/s\u001b[0m eta \u001b[36m0:00:00\u001b[0ma \u001b[36m0:00:01\u001b[0m\n",
      "\u001b[?25hCollecting tqdm\n",
      "  Using cached tqdm-4.64.1-py2.py3-none-any.whl (78 kB)\n",
      "Collecting click\n",
      "  Using cached click-8.1.3-py3-none-any.whl (96 kB)\n",
      "Requirement already satisfied: importlib-metadata in /Library/Frameworks/Python.framework/Versions/3.7/lib/python3.7/site-packages (from click->nltk) (6.0.0)\n",
      "Requirement already satisfied: zipp>=0.5 in /Library/Frameworks/Python.framework/Versions/3.7/lib/python3.7/site-packages (from importlib-metadata->click->nltk) (3.11.0)\n",
      "Requirement already satisfied: typing-extensions>=3.6.4 in /Library/Frameworks/Python.framework/Versions/3.7/lib/python3.7/site-packages (from importlib-metadata->click->nltk) (4.4.0)\n",
      "Installing collected packages: tqdm, regex, joblib, click, nltk\n",
      "Successfully installed click-8.1.3 joblib-1.2.0 nltk-3.8.1 regex-2022.10.31 tqdm-4.64.1\n"
     ]
    }
   ],
   "source": [
    "# !pip3 install nltk"
   ]
  },
  {
   "cell_type": "code",
   "execution_count": 10,
   "id": "4e05f39c",
   "metadata": {},
   "outputs": [],
   "source": [
    "from nltk.tokenize import word_tokenize"
   ]
  },
  {
   "cell_type": "code",
   "execution_count": 14,
   "id": "eb745519",
   "metadata": {},
   "outputs": [
    {
     "name": "stderr",
     "output_type": "stream",
     "text": [
      "[nltk_data] Downloading package punkt to /Users/user/nltk_data...\n",
      "[nltk_data]   Unzipping tokenizers/punkt.zip.\n"
     ]
    },
    {
     "data": {
      "text/plain": [
       "True"
      ]
     },
     "execution_count": 14,
     "metadata": {},
     "output_type": "execute_result"
    }
   ],
   "source": [
    "import nltk\n",
    "nltk.download('punkt')\n",
    "# for russian text"
   ]
  },
  {
   "cell_type": "code",
   "execution_count": 94,
   "id": "be74a4f8",
   "metadata": {},
   "outputs": [],
   "source": [
    "\n",
    "# def remove_noise(text, stop_words = []):\n",
    "#     tokens = word_tokenize(text, language=\"russian\")\n",
    "#     cleaned_tokens = []\n",
    "#     for token in tokens:\n",
    "#         token = re.sub('[^А-Яа-я]+', '', token)\n",
    "#         if len(token) > 1 and token.lower() not in stop_words:\n",
    "#             # Get lowercase\n",
    "#             cleaned_tokens.append(token.lower())\n",
    "#     return cleaned_tokens\n",
    "\n",
    "# [^A-Za-z0-9]+"
   ]
  },
  {
   "cell_type": "code",
   "execution_count": 17,
   "id": "49c337d4",
   "metadata": {},
   "outputs": [
    {
     "data": {
      "text/plain": [
       "['мне', 'нравится', 'заниматься', 'общественной', 'деятельностью']"
      ]
     },
     "execution_count": 17,
     "metadata": {},
     "output_type": "execute_result"
    }
   ],
   "source": [
    "# remove_noise(\"Мне нравится заниматься общественной деятельностью.\")"
   ]
  },
  {
   "cell_type": "code",
   "execution_count": null,
   "id": "80d55d57",
   "metadata": {},
   "outputs": [],
   "source": []
  },
  {
   "cell_type": "code",
   "execution_count": null,
   "id": "e4839992",
   "metadata": {},
   "outputs": [],
   "source": [
    "# http://brandonrose.org/clustering#Stopwords,-stemming,-and-tokenizing"
   ]
  },
  {
   "cell_type": "code",
   "execution_count": 28,
   "id": "aa6328ab",
   "metadata": {},
   "outputs": [
    {
     "name": "stderr",
     "output_type": "stream",
     "text": [
      "[nltk_data] Downloading package stopwords to /Users/user/nltk_data...\n",
      "[nltk_data]   Package stopwords is already up-to-date!\n"
     ]
    },
    {
     "data": {
      "text/plain": [
       "['и',\n",
       " 'в',\n",
       " 'во',\n",
       " 'не',\n",
       " 'что',\n",
       " 'он',\n",
       " 'на',\n",
       " 'я',\n",
       " 'с',\n",
       " 'со',\n",
       " 'как',\n",
       " 'а',\n",
       " 'то',\n",
       " 'все',\n",
       " 'она',\n",
       " 'так',\n",
       " 'его',\n",
       " 'но',\n",
       " 'да',\n",
       " 'ты',\n",
       " 'к',\n",
       " 'у',\n",
       " 'же',\n",
       " 'вы',\n",
       " 'за',\n",
       " 'бы',\n",
       " 'по',\n",
       " 'только',\n",
       " 'ее',\n",
       " 'мне',\n",
       " 'было',\n",
       " 'вот',\n",
       " 'от',\n",
       " 'меня',\n",
       " 'еще',\n",
       " 'нет',\n",
       " 'о',\n",
       " 'из',\n",
       " 'ему',\n",
       " 'теперь',\n",
       " 'когда',\n",
       " 'даже',\n",
       " 'ну',\n",
       " 'вдруг',\n",
       " 'ли',\n",
       " 'если',\n",
       " 'уже',\n",
       " 'или',\n",
       " 'ни',\n",
       " 'быть',\n",
       " 'был',\n",
       " 'него',\n",
       " 'до',\n",
       " 'вас',\n",
       " 'нибудь',\n",
       " 'опять',\n",
       " 'уж',\n",
       " 'вам',\n",
       " 'ведь',\n",
       " 'там',\n",
       " 'потом',\n",
       " 'себя',\n",
       " 'ничего',\n",
       " 'ей',\n",
       " 'может',\n",
       " 'они',\n",
       " 'тут',\n",
       " 'где',\n",
       " 'есть',\n",
       " 'надо',\n",
       " 'ней',\n",
       " 'для',\n",
       " 'мы',\n",
       " 'тебя',\n",
       " 'их',\n",
       " 'чем',\n",
       " 'была',\n",
       " 'сам',\n",
       " 'чтоб',\n",
       " 'без',\n",
       " 'будто',\n",
       " 'чего',\n",
       " 'раз',\n",
       " 'тоже',\n",
       " 'себе',\n",
       " 'под',\n",
       " 'будет',\n",
       " 'ж',\n",
       " 'тогда',\n",
       " 'кто',\n",
       " 'этот',\n",
       " 'того',\n",
       " 'потому',\n",
       " 'этого',\n",
       " 'какой',\n",
       " 'совсем',\n",
       " 'ним',\n",
       " 'здесь',\n",
       " 'этом',\n",
       " 'один',\n",
       " 'почти',\n",
       " 'мой',\n",
       " 'тем',\n",
       " 'чтобы',\n",
       " 'нее',\n",
       " 'сейчас',\n",
       " 'были',\n",
       " 'куда',\n",
       " 'зачем',\n",
       " 'всех',\n",
       " 'никогда',\n",
       " 'можно',\n",
       " 'при',\n",
       " 'наконец',\n",
       " 'два',\n",
       " 'об',\n",
       " 'другой',\n",
       " 'хоть',\n",
       " 'после',\n",
       " 'над',\n",
       " 'больше',\n",
       " 'тот',\n",
       " 'через',\n",
       " 'эти',\n",
       " 'нас',\n",
       " 'про',\n",
       " 'всего',\n",
       " 'них',\n",
       " 'какая',\n",
       " 'много',\n",
       " 'разве',\n",
       " 'три',\n",
       " 'эту',\n",
       " 'моя',\n",
       " 'впрочем',\n",
       " 'хорошо',\n",
       " 'свою',\n",
       " 'этой',\n",
       " 'перед',\n",
       " 'иногда',\n",
       " 'лучше',\n",
       " 'чуть',\n",
       " 'том',\n",
       " 'нельзя',\n",
       " 'такой',\n",
       " 'им',\n",
       " 'более',\n",
       " 'всегда',\n",
       " 'конечно',\n",
       " 'всю',\n",
       " 'между']"
      ]
     },
     "execution_count": 28,
     "metadata": {},
     "output_type": "execute_result"
    }
   ],
   "source": [
    "nltk.download('stopwords')\n",
    "\n",
    "stopwords = nltk.corpus.stopwords.words('russian')\n",
    "stopwords"
   ]
  },
  {
   "cell_type": "code",
   "execution_count": 281,
   "id": "e2b15b4a",
   "metadata": {},
   "outputs": [],
   "source": [
    "# to add stopwords\n",
    "\n",
    "stopwords += [\n",
    "        'это', 'этим', \n",
    "        'свой', 'свои', 'своего', \n",
    "        'всем', 'всё',\n",
    "        'нашего', \n",
    "        'таких', 'также', \n",
    "        'поэтому', 'многие', 'очень', 'которые'\n",
    "    ] + [\n",
    "        'являюсь', \n",
    "        'хотел', 'хотела', 'хочу', 'хотелось',\n",
    "        'рассказ', 'школе', \n",
    "        'году', 'год', 'года',\n",
    "        'зовут', 'привет', 'различных', 'надеюсь', 'считаю', 'просто'\n",
    "    ] + [\n",
    "        'мгу', 'университет', 'университета',\n",
    "        'студсовета', 'студсовете', 'студсовет', 'совет', 'совета', 'совете',\n",
    "#         'студентов', \n",
    "        'мехмата', 'мехмат', 'мехмате', 'факультета', 'факультете', 'факультет',\n",
    "        'студентов', 'студенты', 'студентам', 'студенческий', 'студенческого', 'студенческом',\n",
    "        '2012',\n",
    "        'организации', 'организацией', 'организация'\n",
    "      ]\n",
    "\n"
   ]
  },
  {
   "cell_type": "code",
   "execution_count": 20,
   "id": "65b330cc",
   "metadata": {},
   "outputs": [],
   "source": [
    "# Stemming is just the process of breaking a word down into its root.\n",
    "\n",
    "from nltk.stem.snowball import SnowballStemmer\n",
    "stemmer = SnowballStemmer(\"russian\")"
   ]
  },
  {
   "cell_type": "code",
   "execution_count": null,
   "id": "0af55764",
   "metadata": {},
   "outputs": [],
   "source": []
  },
  {
   "cell_type": "code",
   "execution_count": 40,
   "id": "50fede48",
   "metadata": {},
   "outputs": [],
   "source": [
    "# sents = nltk.sent_tokenize('Мне нравится заниматься общественной деятельностью, всячески пытаюсь расширять свой кругозор. Еще в школе организовывала различные мероприятия и была сильно этим заинтересована', language=\"russian\")\n",
    "# print(sents)\n",
    "\n",
    "# for sent in sents:\n",
    "#     for word in nltk.word_tokenize(sent, language=\"russian\"):\n",
    "#         print(word)\n"
   ]
  },
  {
   "cell_type": "code",
   "execution_count": 96,
   "id": "2686327c",
   "metadata": {},
   "outputs": [],
   "source": [
    "#\n",
    "\n",
    "def tokenize_and_stem(text, stopwords, lang):\n",
    "    # first tokenize by sentence, then by word to ensure that punctuation is caught as it's own token\n",
    "    tokens = [word.lower() for sent in nltk.sent_tokenize(text, language=lang) for word in nltk.word_tokenize(sent, language=lang) if word.lower() not in stopwords]\n",
    "    filtered_tokens = []\n",
    "    # filter out any tokens not containing letters (e.g., numeric tokens, raw punctuation)\n",
    "    for token in tokens:\n",
    "        if re.search('[а-яА-Я]', token):\n",
    "            filtered_tokens.append(token)\n",
    "    stems = [stemmer.stem(t) for t in filtered_tokens]\n",
    "    return stems\n",
    "\n",
    "def tokenize_only(text, stopwords, lang):\n",
    "    # first tokenize by sentence, then by word to ensure that punctuation is caught as it's own token\n",
    "    tokens = [word.lower() for sent in nltk.sent_tokenize(text, language=lang) for word in nltk.word_tokenize(sent, language=lang) if word.lower() not in stopwords]\n",
    "    filtered_tokens = []\n",
    "    # filter out any tokens not containing letters (e.g., numeric tokens, raw punctuation)\n",
    "    for token in tokens:\n",
    "        if re.search('[а-яА-Я]', token):\n",
    "            filtered_tokens.append(token)\n",
    "    return filtered_tokens\n",
    "\n"
   ]
  },
  {
   "cell_type": "code",
   "execution_count": 43,
   "id": "378c91a4",
   "metadata": {},
   "outputs": [],
   "source": [
    "# for program in program_list:\n",
    "#     print(tokenize_and_stem(program, stopwords, \"russian\"))"
   ]
  },
  {
   "cell_type": "code",
   "execution_count": 305,
   "id": "ab28ec3d",
   "metadata": {},
   "outputs": [
    {
     "name": "stdout",
     "output_type": "stream",
     "text": [
      "there are 4057 items in vocab_frame\n"
     ]
    }
   ],
   "source": [
    "#not super pythonic, no, not at all.\n",
    "#use extend so it's a big flat list of vocab\n",
    "totalvocab_stemmed = []\n",
    "totalvocab_tokenized = []\n",
    "\n",
    "for i in program_list:\n",
    "    allwords_stemmed = tokenize_and_stem(i, stopwords, \"russian\") #for each item in 'synopses', tokenize/stem\n",
    "    totalvocab_stemmed.extend(allwords_stemmed) #extend the 'totalvocab_stemmed' list\n",
    "    \n",
    "    allwords_tokenized = tokenize_only(i, stopwords, \"russian\")\n",
    "    totalvocab_tokenized.extend(allwords_tokenized)\n",
    "    \n",
    "vocab_frame = pd.DataFrame({'words': totalvocab_tokenized}, index = totalvocab_stemmed)\n",
    "print('there are ' + str(vocab_frame.shape[0]) + ' items in vocab_frame')"
   ]
  },
  {
   "cell_type": "code",
   "execution_count": 223,
   "id": "63c23127",
   "metadata": {},
   "outputs": [],
   "source": [
    "# vocab_frame"
   ]
  },
  {
   "cell_type": "code",
   "execution_count": null,
   "id": "6751bc6b",
   "metadata": {},
   "outputs": [],
   "source": []
  },
  {
   "cell_type": "markdown",
   "id": "e2ff281b",
   "metadata": {},
   "source": [
    "# Tf-idf and program similarity"
   ]
  },
  {
   "cell_type": "code",
   "execution_count": null,
   "id": "eaf9eb4e",
   "metadata": {},
   "outputs": [],
   "source": [
    "# key_list, program_list"
   ]
  },
  {
   "cell_type": "code",
   "execution_count": 57,
   "id": "8786fa68",
   "metadata": {},
   "outputs": [],
   "source": [
    "from sklearn.feature_extraction.text import TfidfVectorizer\n"
   ]
  },
  {
   "cell_type": "code",
   "execution_count": 58,
   "id": "716e1deb",
   "metadata": {},
   "outputs": [],
   "source": [
    "\n",
    "#define vectorizer parameters\n",
    "# tfidf_vectorizer = TfidfVectorizer(max_df=0.8, max_features=200000,\n",
    "#                                  min_df=0.2, stop_words=stopwords,\n",
    "#                                  use_idf=True, tokenizer=tokenize_and_stem, ngram_range=(1,3))\n",
    "\n",
    "# %time tfidf_matrix = tfidf_vectorizer.fit_transform(program_list) \n",
    "\n",
    "# print(tfidf_matrix.shape)"
   ]
  },
  {
   "cell_type": "code",
   "execution_count": null,
   "id": "8add09b2",
   "metadata": {},
   "outputs": [],
   "source": [
    "'''\n",
    "https://scikit-learn.org/stable/modules/generated/sklearn.feature_extraction.text.TfidfVectorizer.html\n",
    "\n",
    "max_df - float or int, default=1.0\n",
    "When building the vocabulary ignore terms that have a document frequency strictly higher \n",
    "than the given threshold (corpus-specific stop words). \n",
    "If float in range of [0.0, 1.0], the parameter represents a proportion of documents, integer absolute counts. \n",
    "This parameter is ignored if vocabulary is not None.\n",
    "\n",
    "min_df - float or int, default=1\n",
    "When building the vocabulary ignore terms that have a document frequency strictly lower \n",
    "than the given threshold. This value is also called cut-off in the literature. \n",
    "If float in range of [0.0, 1.0], the parameter represents a proportion of documents, integer absolute counts. \n",
    "This parameter is ignored if vocabulary is not None.\n",
    "\n",
    "max_features - int, default=None\n",
    "If not None, build a vocabulary that only consider the top max_features ordered by term frequency across the corpus.\n",
    "This parameter is ignored if vocabulary is not None.\n",
    "\n",
    "'''\n"
   ]
  },
  {
   "cell_type": "code",
   "execution_count": 306,
   "id": "6ef0692b",
   "metadata": {},
   "outputs": [
    {
     "name": "stdout",
     "output_type": "stream",
     "text": [
      "(91, 84)\n"
     ]
    }
   ],
   "source": [
    "# alternative way, with won list of stop words\n",
    "# https://stackoverflow.com/questions/26826002/adding-words-to-stop-words-list-in-tfidfvectorizer-in-sklearn\n",
    "\n",
    "from sklearn.feature_extraction.text import TfidfVectorizer\n",
    "\n",
    "tfidf_vectorizer = TfidfVectorizer(\n",
    "    max_df=0.1, max_features=200, min_df=0.05, \n",
    "    ngram_range=(1,1), stop_words=stopwords\n",
    ")\n",
    "\n",
    "tfidf_matrix = tfidf_vectorizer.fit_transform(program_list)\n",
    "\n",
    "# idf_values = dict(zip(vectorizer.get_feature_names(), vectorizer.idf_))\n",
    "\n",
    "# printing the tfidf vectors\n",
    "# print(tfidf_matrix)\n",
    "\n",
    "terms = tfidf_vectorizer.get_feature_names_out()\n",
    "\n",
    "print(tfidf_matrix.shape)\n"
   ]
  },
  {
   "cell_type": "code",
   "execution_count": null,
   "id": "a9f95651",
   "metadata": {},
   "outputs": [],
   "source": []
  },
  {
   "cell_type": "code",
   "execution_count": 243,
   "id": "42551458",
   "metadata": {},
   "outputs": [],
   "source": [
    "def find_substring(txt, str1, n):\n",
    "    parts = txt.split(str1, n + 1)\n",
    "    if len(parts) <= n + 1:\n",
    "        return -1\n",
    "    return len(txt) - len(parts[-1]) - len(str1)"
   ]
  },
  {
   "cell_type": "code",
   "execution_count": null,
   "id": "91fa60c8",
   "metadata": {},
   "outputs": [],
   "source": []
  },
  {
   "cell_type": "markdown",
   "id": "ee01cb66",
   "metadata": {},
   "source": [
    "# K-Means"
   ]
  },
  {
   "cell_type": "code",
   "execution_count": 54,
   "id": "6978122e",
   "metadata": {},
   "outputs": [],
   "source": [
    "from sklearn.cluster import KMeans"
   ]
  },
  {
   "cell_type": "code",
   "execution_count": 308,
   "id": "ff86fd8d",
   "metadata": {},
   "outputs": [
    {
     "name": "stdout",
     "output_type": "stream",
     "text": [
      "CPU times: user 72.7 ms, sys: 58.5 ms, total: 131 ms\n",
      "Wall time: 43.4 ms\n"
     ]
    }
   ],
   "source": [
    "num_clusters = 4\n",
    "\n",
    "km = KMeans(n_clusters=num_clusters, n_init=10)\n",
    "\n",
    "%time km.fit(tfidf_matrix)\n",
    "\n",
    "clusters = km.labels_.tolist()"
   ]
  },
  {
   "cell_type": "code",
   "execution_count": 309,
   "id": "722bae63",
   "metadata": {},
   "outputs": [
    {
     "data": {
      "text/plain": [
       "1    40\n",
       "3    20\n",
       "0    18\n",
       "2    13\n",
       "Name: cluster, dtype: int64"
      ]
     },
     "execution_count": 309,
     "metadata": {},
     "output_type": "execute_result"
    }
   ],
   "source": [
    "program_clusters = {\n",
    "    'key': key_list, \n",
    "    'program': program_list, \n",
    "    'cluster': clusters\n",
    "}\n",
    "\n",
    "frame = pd.DataFrame(program_clusters, index = [clusters] , columns = ['key', 'program', 'cluster'])\n",
    "\n",
    "frame['cluster'].value_counts()"
   ]
  },
  {
   "cell_type": "code",
   "execution_count": null,
   "id": "2d98fcf6",
   "metadata": {},
   "outputs": [],
   "source": [
    "# grouped = frame['rank'].groupby(frame['cluster']) #groupby cluster for aggregation purposes\n",
    "\n",
    "# grouped.mean() #average rank (1 to 100) per cluster"
   ]
  },
  {
   "cell_type": "code",
   "execution_count": 310,
   "id": "e3fdc6b9",
   "metadata": {},
   "outputs": [
    {
     "name": "stdout",
     "output_type": "stream",
     "text": [
      "Top terms per cluster:\n",
      "\n",
      "Cluster 0 words: могу, нужно, жизнь, человек, знают, желание, мероприятиях, других, делать, времени, например, курсе, почему, имею, идеи, готов, деятельность, возможно, курсов, людей,\n",
      "\n",
      "Cluster 0 keys: 1_Кириллова_П, 1_Кузнецова_А, 1_Кунденко_В, 1_Сафина_Д, 1_Артамонова_М, 1_Удимов_Д, 2_Ватутин_К, 2_Багров_К, 2_Сергеева_Э, 3_Бурнус_А, 3_Суркова_А, 3_Тюрина_Т, 3_Изимова_А, 3_Ариас-Альварес_В, 3_Григорьев_И, 3_Локтионов_Ф, 3_Селиверстова_Е, 3_Ласкин_А,\n",
      "\n",
      "Cluster 1 words: опыт, оповещению, образованию, интересы, заняться, работу, реализовать, продолжить, студ, желание, планах, студенческих, мех, деятельность, хочется, проблем, студент, рабочей, мероприятия, бытовых,\n",
      "\n",
      "Cluster 1 keys: 1_Левин_А, 1_Глухова_А, 1_Владыкина_В, 1_Попов_Л, 1_Чернодед_А, 1_Савушкин_Н, 1_Миценко_В, 2_Остроухова_Н, 2_Ванунц_А, 2_Никифоров_С, 2_Лавров_В, 2_Осин_Р, 2_Антонов_С, 2_Смелов_В, 2_Оджаев_Р, 2_Сапунов_К, 2_Абдуллаева_Э, 3_Корно_Д, 3_Дорман_Е, 3_Остроухова_Н, 3_Глунчадзе_И, 3_Ватутин_К, 3_Матвеев_Д, 3_Андреев_М, 3_Бунеев_А, 3_Хамматова_Г, 3_Медведева_Я, 3_Хасанов_Р, 3_Скопинцев_А, 3_Осин_Р, 3_Куркотов_В, 3_Ольшевская_П, 3_Шариков_А, 3_Владыкина_В, 3_Попов_Л, 3_Сергеева_Э, 3_Тен_А, 3_Сапунов_К, 3_Самонов_А, 3_Короткин_В,\n",
      "\n",
      "Cluster 2 words: участвовал, стипендий, повышенных, гз, работе, инициативной, активное, моего, культурно, люди, вопросам, планах, который, организовывал, выборах, положение, курсов, различные, идеи, вопросов,\n",
      "\n",
      "Cluster 2 keys: 1_Тропин_А, 1_Котляров_Н, 2_Власов_А, 2_Медведева_Я, 2_Тишин_П, 2_Владыкина_В, 2_Тропин_А, 2_Котляров_Н, 3_Дяченко_М, 3_Матвеев_А, 3_Садрисламов_А, 3_Антонова_О, 3_Морозов_С,\n",
      "\n",
      "Cluster 3 words: дня, приемной, комиссии, принимал, вступить, проблемы, пифагора, работаю, мероприятиях, первокурсников, которых, активно, вопросов, мероприятия, работа, других, рабочей, вопросы, организовывать, жизнь,\n",
      "\n",
      "Cluster 3 keys: 1_Семенов_П, 1_Сапунов_К, 1_Штейников_Ю, 2_Габидов_А, 2_Дяченко_М, 2_Быстрицкая_В, 2_Сафина_Д, 2_Попов_Л, 2_Тен_А, 2_Акушевич_А, 2_Дьяков_П, 2_Морозов_С, 3_Денисов_И, 3_Чистяков_М, 3_Савченко_А, 3_Борисов_В, 3_Быстрицкая_В, 3_Антонов_С, 3_Митькина_М, 3_Буряк_А,\n",
      "\n"
     ]
    }
   ],
   "source": [
    "print(\"Top terms per cluster:\")\n",
    "print()\n",
    "\n",
    "#sort cluster centers by proximity to centroid\n",
    "order_centroids = km.cluster_centers_.argsort()[:, ::-1] \n",
    "\n",
    "for i in range(num_clusters):\n",
    "    print(\"Cluster %d words:\" % i, end='')\n",
    "    \n",
    "    for ind in order_centroids[i, :20]: #replace 6 with n words per cluster\n",
    "        print('', terms[ind], end=',')\n",
    "#         print('', vocab_frame.loc[terms[ind].split(' ')], end=',')\n",
    "#         print(' %s' % vocab_frame.loc[terms[ind].split(' ')].values.tolist()[0][0].encode('utf-8', 'ignore'), end=',')\n",
    "    print() #add whitespace\n",
    "    print() #add whitespace\n",
    "    \n",
    "    print(\"Cluster %d keys:\" % i, end='')\n",
    "    for key in frame.loc[i]['key'].values.tolist():\n",
    "#         print(' %s,' % key, end='')\n",
    "        print(' %s,' % key[:find_substring(key, '_', 1)+2], end='')\n",
    "    print() #add whitespace\n",
    "    print() #add whitespace\n",
    "    \n",
    "# print() \n",
    "# print() \n"
   ]
  },
  {
   "cell_type": "code",
   "execution_count": null,
   "id": "3a7a4096",
   "metadata": {},
   "outputs": [],
   "source": [
    "# GOOD ENOUGH: \n",
    "# 1-3 conv [:91] \n",
    "# max_features=100\n",
    "# max_df=0.2, min_df=0.05\n",
    "# num_clusters = 3\n"
   ]
  },
  {
   "cell_type": "code",
   "execution_count": 215,
   "id": "fc826ed1",
   "metadata": {},
   "outputs": [],
   "source": [
    "# order_centroids"
   ]
  },
  {
   "cell_type": "code",
   "execution_count": 214,
   "id": "7ad3b2b2",
   "metadata": {},
   "outputs": [],
   "source": [
    "# km.cluster_centers_"
   ]
  },
  {
   "cell_type": "code",
   "execution_count": null,
   "id": "0c9d9b9b",
   "metadata": {},
   "outputs": [],
   "source": []
  },
  {
   "cell_type": "markdown",
   "id": "dde8cd6b",
   "metadata": {},
   "source": [
    "# (Alt: Clustering with sparse matrix)"
   ]
  },
  {
   "cell_type": "code",
   "execution_count": 175,
   "id": "b72a3920",
   "metadata": {},
   "outputs": [],
   "source": [
    "from scipy.cluster.vq import kmeans, vq"
   ]
  },
  {
   "cell_type": "code",
   "execution_count": null,
   "id": "122c5a3c",
   "metadata": {},
   "outputs": [],
   "source": []
  },
  {
   "cell_type": "code",
   "execution_count": null,
   "id": "466c2b02",
   "metadata": {},
   "outputs": [],
   "source": []
  },
  {
   "cell_type": "code",
   "execution_count": 216,
   "id": "ab03b5bc",
   "metadata": {},
   "outputs": [],
   "source": [
    "cluster_centers, distortion = kmeans(tfidf_matrix.todense(), num_clusters)"
   ]
  },
  {
   "cell_type": "code",
   "execution_count": 297,
   "id": "36f4e90c",
   "metadata": {},
   "outputs": [
    {
     "name": "stdout",
     "output_type": "stream",
     "text": [
      "['жизни', 'жизнь', 'сделать', 'мероприятий', 'участвовать', 'идей', 'идеи', 'время', 'участие', 'вместе', 'помочь', 'каждый', 'нашем', 'вопросов', 'возможность', 'мероприятия', 'хочется', 'человек', 'мехматян', 'опыт']\n",
      "['день', 'пифагора', 'мероприятий', 'работы', 'помогать', 'группы', 'организовывать', 'групп', 'праздников', 'время', 'несколько', 'работу', 'мероприятия', 'вопросов', 'продолжить', 'курса', 'избираюсь', 'рабочей', 'вашу', 'поддержку']\n"
     ]
    }
   ],
   "source": [
    "# terms = tfidf_vectorizer.get_feature_names_out()\n",
    "\n",
    "for i in range(num_clusters):\n",
    "    center_terms = dict(zip(terms, list(cluster_centers[i])))\n",
    "    sorted_terms = sorted(center_terms, key=center_terms.get, reverse=True)\n",
    "    print(sorted_terms[:20])"
   ]
  },
  {
   "cell_type": "code",
   "execution_count": null,
   "id": "371fdc46",
   "metadata": {},
   "outputs": [],
   "source": []
  },
  {
   "cell_type": "markdown",
   "id": "32697218",
   "metadata": {},
   "source": [
    "# Create an elbow plot"
   ]
  },
  {
   "cell_type": "code",
   "execution_count": 290,
   "id": "5accc82d",
   "metadata": {},
   "outputs": [],
   "source": [
    "import seaborn as sns\n",
    "import matplotlib.pyplot as plt"
   ]
  },
  {
   "cell_type": "code",
   "execution_count": 307,
   "id": "8e19731d",
   "metadata": {},
   "outputs": [
    {
     "data": {
      "image/png": "[encoded data removed]",
      "text/plain": [
       "<Figure size 640x480 with 1 Axes>"
      ]
     },
     "metadata": {},
     "output_type": "display_data"
    }
   ],
   "source": [
    "distortions = []\n",
    "num_clusters = range(1, 11)\n",
    "\n",
    "# Create a list of distortions from the kmeans method\n",
    "for i in num_clusters:\n",
    "    cluster_centers, distortion = kmeans(tfidf_matrix.todense(), i)\n",
    "    distortions.append(distortion)\n",
    "    \n",
    "# Create a DataFrame with two lists - number of clusters and distortions\n",
    "elbow_plot = pd.DataFrame({'num_clusters': num_clusters,\n",
    "                           'distortions': distortions})\n",
    "# Creat a line plot of num_clusters and distortions\n",
    "sns.lineplot(x='num_clusters', y='distortions', data = elbow_plot)\n",
    "plt.xticks(num_clusters)\n",
    "plt.show()"
   ]
  },
  {
   "cell_type": "code",
   "execution_count": null,
   "id": "692d3c2f",
   "metadata": {},
   "outputs": [],
   "source": [
    "# CONCLUSION: clustering is failed\n",
    "# (maybe because of noisy words)"
   ]
  },
  {
   "cell_type": "code",
   "execution_count": null,
   "id": "c2016678",
   "metadata": {},
   "outputs": [],
   "source": []
  },
  {
   "cell_type": "code",
   "execution_count": null,
   "id": "f15c7036",
   "metadata": {},
   "outputs": [],
   "source": [
    "'''\n",
    "QUESTIONS:\n",
    "    - is clustering working on stemmed_words, not on original?\n",
    "    - how to cut the top of noisy words?\n",
    "\n",
    "'''"
   ]
  }
 ],
 "metadata": {
  "kernelspec": {
   "display_name": "Python 3 (ipykernel)",
   "language": "python",
   "name": "python3"
  },
  "language_info": {
   "codemirror_mode": {
    "name": "ipython",
    "version": 3
   },
   "file_extension": ".py",
   "mimetype": "text/x-python",
   "name": "python",
   "nbconvert_exporter": "python",
   "pygments_lexer": "ipython3",
   "version": "3.11.1"
  }
 },
 "nbformat": 4,
 "nbformat_minor": 5
}
