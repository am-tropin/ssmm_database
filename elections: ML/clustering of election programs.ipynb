{
 "cells": [
  {
   "cell_type": "code",
   "execution_count": null,
   "id": "297eea42",
   "metadata": {},
   "outputs": [],
   "source": []
  },
  {
   "cell_type": "code",
   "execution_count": null,
   "id": "9c4b53e5",
   "metadata": {},
   "outputs": [],
   "source": [
    "'''\n",
    "    - NLTK -- for tokenezing russian texts of election programs\n",
    "    \n",
    "    - (LINK!!) -- for creating matrix of program_x_term\n",
    "    - sklearn -- for clustering...\n",
    "'''"
   ]
  },
  {
   "cell_type": "code",
   "execution_count": 1,
   "id": "8e4c00c4",
   "metadata": {},
   "outputs": [],
   "source": [
    "import pandas as pd\n",
    "import re\n",
    "import numpy as np\n",
    "\n",
    "import seaborn as sns\n",
    "import matplotlib.pyplot as plt\n"
   ]
  },
  {
   "cell_type": "markdown",
   "id": "ba4e4773",
   "metadata": {},
   "source": [
    "# 0. Pre-defining functions"
   ]
  },
  {
   "cell_type": "code",
   "execution_count": 2,
   "id": "4ba11c40",
   "metadata": {},
   "outputs": [],
   "source": [
    "# to find n-th occurance of substring in the string (n = 0,1...)\n",
    "\n",
    "def find_substring(txt, str1, n):\n",
    "    parts = txt.split(str1, n + 1)\n",
    "    if len(parts) <= n + 1:\n",
    "        return -1\n",
    "    return len(txt) - len(parts[-1]) - len(str1)"
   ]
  },
  {
   "cell_type": "code",
   "execution_count": null,
   "id": "f39f7d98",
   "metadata": {},
   "outputs": [],
   "source": []
  },
  {
   "cell_type": "markdown",
   "id": "63e3a0fa",
   "metadata": {},
   "source": [
    "# 1. Loading data - election programs and flags of candidates"
   ]
  },
  {
   "cell_type": "code",
   "execution_count": 182,
   "id": "92a2bfc8",
   "metadata": {},
   "outputs": [
    {
     "data": {
      "text/html": [
       "<div>\n",
       "<style scoped>\n",
       "    .dataframe tbody tr th:only-of-type {\n",
       "        vertical-align: middle;\n",
       "    }\n",
       "\n",
       "    .dataframe tbody tr th {\n",
       "        vertical-align: top;\n",
       "    }\n",
       "\n",
       "    .dataframe thead th {\n",
       "        text-align: right;\n",
       "    }\n",
       "</style>\n",
       "<table border=\"1\" class=\"dataframe\">\n",
       "  <thead>\n",
       "    <tr style=\"text-align: right;\">\n",
       "      <th></th>\n",
       "      <th>conv_x_name</th>\n",
       "      <th>name</th>\n",
       "      <th>program_txt</th>\n",
       "      <th>convocation_no</th>\n",
       "    </tr>\n",
       "  </thead>\n",
       "  <tbody>\n",
       "    <tr>\n",
       "      <th>0</th>\n",
       "      <td>1_Левин_Андрей</td>\n",
       "      <td>Левин Андрей</td>\n",
       "      <td>Активный участник и организатор различных мероприятий (воспоминания о любимой школе), готов работать, творить, уверен, что все получится.)</td>\n",
       "      <td>1</td>\n",
       "    </tr>\n",
       "    <tr>\n",
       "      <th>1</th>\n",
       "      <td>1_Кириллова_Полина</td>\n",
       "      <td>Кириллова Полина</td>\n",
       "      <td>Мне нравится заниматься общественной деятельностью, всячески пытаюсь расширять свой кругозор. Еще в школе организовывала различные мероприятия и была сильно этим заинтересована. Увлекаюсь музыкой, для большего развития записалась в Академический хор. Начала заниматься спортивными бальными танцами. Но в спорте симпатизирую футболу. Планирую посетить еще некоторые клубы Университета и найти, что также может меня затянуть. Хотелось бы внести свой клад в развитие Университета. План работы: 1.Всестороннее развитие студентов. Нас кругом окружает бескультурье и невежество, общество просто гниет. Многие не могут отстаивать свои права, а причина в том, что они просто их не знают. И нужно что-то с этим делать. Поэтому хочется поднять вопрос о всестороннем развитии студентов. Если мы, допустим, обучаемся на Мехмате, это не означает, что мы должны всё своё время отдавать математике и только ей. (В расписании 1 курса в этом учебном году стояли только одни математические дисциплины и физкультура, во втором семестре появились английский язык и БЖД,. Это уже хорошо, но нам убрали историю, это что не такой важный предмет, мы не должны знать истории своей страны?А потом говорят, что нынешнее поколение необразованное.) Почему бы не ввести дополнительный предмет, но при условии, что студент сможет сам для себя выбрать, что ему интересно? Или дополнительные курсы для желающих, возможно, конечно, что такие курсы проводятся, но тогда встает другой вопрос, почему многие студенты не информированы об этом, ведь просто повесить объявление – это мало. Так же можно приглашать государственных деятелей, людей творческих профессий и т. д. Чтобы они делились своим опытом, общались со студентами, отвечали на их вопросы. 2. Мероприятия внутри  потоков. Считаю важным поддерживать дружескую атмосферу внутри потоков. Это  небольшие ячейки всего университета, поэтому нужно начать с них, нужно делать их крепче и сплоченней. Предлагаю проводить состязательные мероприятия между группами, игры, что ускорит процесс сближения студентов, как в самих группах, так и внутри потоков. 3.Предоставление  большей информации о внеучебной  деятельности и о клубах МГУ. 4.Общежития. Улучшение санитарных условий. Обустройство общежитий. Нормальный тренажерный зал и душ. Создание клуба в общежитии для организации праздников.</td>\n",
       "      <td>1</td>\n",
       "    </tr>\n",
       "    <tr>\n",
       "      <th>2</th>\n",
       "      <td>1_Семенов_Павел</td>\n",
       "      <td>Семенов Павел</td>\n",
       "      <td>\"Здравствуйте. Я так понимаю, что я уже поздно отправляю вам свой небольшой рассказ, но возможности сделать это ранее просто не представлялось. Итак, есть несколько пунктов, которые необходимо постоянно поддерживать и развивать. Большинство из них известно всем студентам, на них останавливаться я не буду, так как методы решения проблем там идентичны. Общежитие. К сожалению, сам я не очень хорошо знаю всех плюсов и минусов нынешнего общежития для ММ. Но по рассказам однокурсников, проблемы возникают, в первую очередь, с насекомыми. На кухне шастают тараканы, в комнатах клопы, от которых утром просыпаешься весь в укусах, а порой и вообще невозможно уснуть. Эти вопросы несомненно нужно решать общими усилиями СтудСовета и самого общежития. Студенческая жизнь. Очень слабый поток информации доходит до студентов ММ о каких-либо развлекательных и культурных мероприятиях. В первую очередь, необходимо увеличить потом этой информации, а так же дать студентам факультета больше свободы для организации подобных праздников. Пожалуй это основные два пункта, на которых я хотел остановиться. Буду рад вступить в СтудСовет, помогать и развивать Мех-Мат изнутри. Всем удачи. ;)\"</td>\n",
       "      <td>1</td>\n",
       "    </tr>\n",
       "    <tr>\n",
       "      <th>3</th>\n",
       "      <td>1_Кузнецова_Алёна</td>\n",
       "      <td>Кузнецова Алёна</td>\n",
       "      <td>\"Меня очень интересует жизнь Университета. я была активным участником жизни класса и гимназии, участвовала в различных городских мероприятиях, играла в школьном театре и была постановщиком танцев. Здесь мне немного этого не хватает..и со мной согласятся многие,поэтому хочу помогать в организации мероприятий, чтобы учиться было веселее:)\"</td>\n",
       "      <td>1</td>\n",
       "    </tr>\n",
       "    <tr>\n",
       "      <th>4</th>\n",
       "      <td>1_Кунденко_Вадим</td>\n",
       "      <td>Кунденко Вадим</td>\n",
       "      <td>\"   Добрый день! Пару слов о себе. Путь к мехмату, признаюсь, был для меня тернистым. Два года напряженной подготовки, и, наконец, мечта сбылась. Наверное, решающим оказалось влияние моего деда, который тоже был мехматянином. Я вовсе не жалею, что поступил сюда. Мне нравится все: преподаватели, атмосфера, любимые одногруппники и, особенно, математика. Сессию сдавать было тяжело, но я справился. Работа, работа и еще раз работа - вот ключ к успеху. Пробую себя в роли преподавателя на Малом Мехмате. Планы работы в Студсовете. Планы - это, наверно, громко сказано. А возможность сделать, что-то полезное для своего любимого факультета и его студентов - это было бы большой честью для меня. Проблем много и нужно их решить как можно быстрее и эффективнее.  Готов совмещать работу в Студсовете и обязанности профорга. Если ребята за меня проголосуют, сделаю все возможное и невозможное, чтобы оправдать их доверие. Благодарю за внимание, студент 1 курса, Кунденко Вадим.\"</td>\n",
       "      <td>1</td>\n",
       "    </tr>\n",
       "  </tbody>\n",
       "</table>\n",
       "</div>"
      ],
      "text/plain": [
       "          conv_x_name              name  \\\n",
       "0      1_Левин_Андрей      Левин Андрей   \n",
       "1  1_Кириллова_Полина  Кириллова Полина   \n",
       "2     1_Семенов_Павел     Семенов Павел   \n",
       "3   1_Кузнецова_Алёна   Кузнецова Алёна   \n",
       "4    1_Кунденко_Вадим    Кунденко Вадим   \n",
       "\n",
       "                                                                                                                                                                                                                                                                                                                                                                                                                                                                                                                                                                                                                                                                                                                                                                                                                                                                                                                                                                                                                                                                                                                                                                                                                                                                                                                                                                                                                                                                                                                                                                                                                                                                                                                                                                                                                                                                                                                                                                                                                                                                                                                                                                                                                                                                                                                                                                                          program_txt  \\\n",
       "0                                                                                                                                                                                                                                                                                                                                                                                                                                                                                                                                                                                                                                                                                                                                                                                                                                                                                                                                                                                                                                                                                                                                                                                                                                                                                                                                                                                                                                                                                                                                                                                                                                                                                                                                                                                                                                                                                                                                                                                                                                                                                                                                                                                                                                                          Активный участник и организатор различных мероприятий (воспоминания о любимой школе), готов работать, творить, уверен, что все получится.)   \n",
       "1  Мне нравится заниматься общественной деятельностью, всячески пытаюсь расширять свой кругозор. Еще в школе организовывала различные мероприятия и была сильно этим заинтересована. Увлекаюсь музыкой, для большего развития записалась в Академический хор. Начала заниматься спортивными бальными танцами. Но в спорте симпатизирую футболу. Планирую посетить еще некоторые клубы Университета и найти, что также может меня затянуть. Хотелось бы внести свой клад в развитие Университета. План работы: 1.Всестороннее развитие студентов. Нас кругом окружает бескультурье и невежество, общество просто гниет. Многие не могут отстаивать свои права, а причина в том, что они просто их не знают. И нужно что-то с этим делать. Поэтому хочется поднять вопрос о всестороннем развитии студентов. Если мы, допустим, обучаемся на Мехмате, это не означает, что мы должны всё своё время отдавать математике и только ей. (В расписании 1 курса в этом учебном году стояли только одни математические дисциплины и физкультура, во втором семестре появились английский язык и БЖД,. Это уже хорошо, но нам убрали историю, это что не такой важный предмет, мы не должны знать истории своей страны?А потом говорят, что нынешнее поколение необразованное.) Почему бы не ввести дополнительный предмет, но при условии, что студент сможет сам для себя выбрать, что ему интересно? Или дополнительные курсы для желающих, возможно, конечно, что такие курсы проводятся, но тогда встает другой вопрос, почему многие студенты не информированы об этом, ведь просто повесить объявление – это мало. Так же можно приглашать государственных деятелей, людей творческих профессий и т. д. Чтобы они делились своим опытом, общались со студентами, отвечали на их вопросы. 2. Мероприятия внутри  потоков. Считаю важным поддерживать дружескую атмосферу внутри потоков. Это  небольшие ячейки всего университета, поэтому нужно начать с них, нужно делать их крепче и сплоченней. Предлагаю проводить состязательные мероприятия между группами, игры, что ускорит процесс сближения студентов, как в самих группах, так и внутри потоков. 3.Предоставление  большей информации о внеучебной  деятельности и о клубах МГУ. 4.Общежития. Улучшение санитарных условий. Обустройство общежитий. Нормальный тренажерный зал и душ. Создание клуба в общежитии для организации праздников.   \n",
       "2                                                                                                                                                                                                                                                                                                                                                                                                                                                                                                                                                                                                                                                                                                                                                                                                                                                                                                                                                                                                                                                                                                                                                                             \"Здравствуйте. Я так понимаю, что я уже поздно отправляю вам свой небольшой рассказ, но возможности сделать это ранее просто не представлялось. Итак, есть несколько пунктов, которые необходимо постоянно поддерживать и развивать. Большинство из них известно всем студентам, на них останавливаться я не буду, так как методы решения проблем там идентичны. Общежитие. К сожалению, сам я не очень хорошо знаю всех плюсов и минусов нынешнего общежития для ММ. Но по рассказам однокурсников, проблемы возникают, в первую очередь, с насекомыми. На кухне шастают тараканы, в комнатах клопы, от которых утром просыпаешься весь в укусах, а порой и вообще невозможно уснуть. Эти вопросы несомненно нужно решать общими усилиями СтудСовета и самого общежития. Студенческая жизнь. Очень слабый поток информации доходит до студентов ММ о каких-либо развлекательных и культурных мероприятиях. В первую очередь, необходимо увеличить потом этой информации, а так же дать студентам факультета больше свободы для организации подобных праздников. Пожалуй это основные два пункта, на которых я хотел остановиться. Буду рад вступить в СтудСовет, помогать и развивать Мех-Мат изнутри. Всем удачи. ;)\"   \n",
       "3                                                                                                                                                                                                                                                                                                                                                                                                                                                                                                                                                                                                                                                                                                                                                                                                                                                                                                                                                                                                                                                                                                                                                                                                                                                                                                                                                                                                                                                                                                                                                                                                                                                                                                                                                                                                                                                                                                                                                                                                                                                 \"Меня очень интересует жизнь Университета. я была активным участником жизни класса и гимназии, участвовала в различных городских мероприятиях, играла в школьном театре и была постановщиком танцев. Здесь мне немного этого не хватает..и со мной согласятся многие,поэтому хочу помогать в организации мероприятий, чтобы учиться было веселее:)\"   \n",
       "4                                                                                                                                                                                                                                                                                                                                                                                                                                                                                                                                                                                                                                                                                                                                                                                                                                                                                                                                                                                                                                                                                                                                                                                                                                                                                                                                                                                         \"   Добрый день! Пару слов о себе. Путь к мехмату, признаюсь, был для меня тернистым. Два года напряженной подготовки, и, наконец, мечта сбылась. Наверное, решающим оказалось влияние моего деда, который тоже был мехматянином. Я вовсе не жалею, что поступил сюда. Мне нравится все: преподаватели, атмосфера, любимые одногруппники и, особенно, математика. Сессию сдавать было тяжело, но я справился. Работа, работа и еще раз работа - вот ключ к успеху. Пробую себя в роли преподавателя на Малом Мехмате. Планы работы в Студсовете. Планы - это, наверно, громко сказано. А возможность сделать, что-то полезное для своего любимого факультета и его студентов - это было бы большой честью для меня. Проблем много и нужно их решить как можно быстрее и эффективнее.  Готов совмещать работу в Студсовете и обязанности профорга. Если ребята за меня проголосуют, сделаю все возможное и невозможное, чтобы оправдать их доверие. Благодарю за внимание, студент 1 курса, Кунденко Вадим.\"   \n",
       "\n",
       "   convocation_no  \n",
       "0               1  \n",
       "1               1  \n",
       "2               1  \n",
       "3               1  \n",
       "4               1  "
      ]
     },
     "execution_count": 182,
     "metadata": {},
     "output_type": "execute_result"
    }
   ],
   "source": [
    "# downloading all election programs\n",
    "\n",
    "programs_df = pd.read_csv('../library: main/ssmm_elections_candidates_1_11.csv', sep='\\t', encoding='utf-8')\n",
    "programs_df = programs_df[['conv_x_name','name','program_txt','convocation_no']][programs_df['program_txt'].notna()].reset_index().drop(['index'],axis=1)\n",
    "programs_df.head()\n"
   ]
  },
  {
   "cell_type": "code",
   "execution_count": 52,
   "id": "af1dff5d",
   "metadata": {},
   "outputs": [
    {
     "data": {
      "text/html": [
       "<div>\n",
       "<style scoped>\n",
       "    .dataframe tbody tr th:only-of-type {\n",
       "        vertical-align: middle;\n",
       "    }\n",
       "\n",
       "    .dataframe tbody tr th {\n",
       "        vertical-align: top;\n",
       "    }\n",
       "\n",
       "    .dataframe thead th {\n",
       "        text-align: right;\n",
       "    }\n",
       "</style>\n",
       "<table border=\"1\" class=\"dataframe\">\n",
       "  <thead>\n",
       "    <tr style=\"text-align: right;\">\n",
       "      <th></th>\n",
       "      <th>name</th>\n",
       "      <th>min_member_conv_no</th>\n",
       "      <th>min_cand_conv_no</th>\n",
       "      <th>cand_conv_cnt</th>\n",
       "      <th>manage_convocation_cnt</th>\n",
       "    </tr>\n",
       "  </thead>\n",
       "  <tbody>\n",
       "    <tr>\n",
       "      <th>0</th>\n",
       "      <td>Владыкина Вероника Евгеньевна</td>\n",
       "      <td>1.0</td>\n",
       "      <td>1</td>\n",
       "      <td>3</td>\n",
       "      <td>2.0</td>\n",
       "    </tr>\n",
       "    <tr>\n",
       "      <th>1</th>\n",
       "      <td>Коновалов Антон Александрович</td>\n",
       "      <td>1.0</td>\n",
       "      <td>1</td>\n",
       "      <td>2</td>\n",
       "      <td>1.0</td>\n",
       "    </tr>\n",
       "    <tr>\n",
       "      <th>2</th>\n",
       "      <td>Ласкин Алексей Александрович</td>\n",
       "      <td>1.0</td>\n",
       "      <td>1</td>\n",
       "      <td>3</td>\n",
       "      <td>0.0</td>\n",
       "    </tr>\n",
       "    <tr>\n",
       "      <th>3</th>\n",
       "      <td>Малхасян Арамаис</td>\n",
       "      <td>1.0</td>\n",
       "      <td>1</td>\n",
       "      <td>1</td>\n",
       "      <td>0.0</td>\n",
       "    </tr>\n",
       "    <tr>\n",
       "      <th>4</th>\n",
       "      <td>Попов Леонид Андреевич</td>\n",
       "      <td>1.0</td>\n",
       "      <td>1</td>\n",
       "      <td>3</td>\n",
       "      <td>2.0</td>\n",
       "    </tr>\n",
       "  </tbody>\n",
       "</table>\n",
       "</div>"
      ],
      "text/plain": [
       "                            name  min_member_conv_no  min_cand_conv_no  \\\n",
       "0  Владыкина Вероника Евгеньевна                 1.0                 1   \n",
       "1  Коновалов Антон Александрович                 1.0                 1   \n",
       "2   Ласкин Алексей Александрович                 1.0                 1   \n",
       "3               Малхасян Арамаис                 1.0                 1   \n",
       "4         Попов Леонид Андреевич                 1.0                 1   \n",
       "\n",
       "   cand_conv_cnt  manage_convocation_cnt  \n",
       "0              3                     2.0  \n",
       "1              2                     1.0  \n",
       "2              3                     0.0  \n",
       "3              1                     0.0  \n",
       "4              3                     2.0  "
      ]
     },
     "execution_count": 52,
     "metadata": {},
     "output_type": "execute_result"
    }
   ],
   "source": [
    "# downloading info about first nomination/membership of person\n",
    "\n",
    "core_df = pd.read_csv('../library: main/ssmm_candidates_core.csv', sep='\\t', encoding='utf-8')\n",
    "# print(list(core_df))\n",
    "core_df = core_df[['name','min_member_conv_no','min_cand_conv_no','cand_conv_cnt','manage_convocation_cnt']].reset_index().drop(['index'],axis=1)\n",
    "core_df = core_df.fillna(0)\n",
    "core_df.head()\n"
   ]
  },
  {
   "cell_type": "code",
   "execution_count": 53,
   "id": "1968db63",
   "metadata": {},
   "outputs": [
    {
     "data": {
      "text/html": [
       "<div>\n",
       "<style scoped>\n",
       "    .dataframe tbody tr th:only-of-type {\n",
       "        vertical-align: middle;\n",
       "    }\n",
       "\n",
       "    .dataframe tbody tr th {\n",
       "        vertical-align: top;\n",
       "    }\n",
       "\n",
       "    .dataframe thead th {\n",
       "        text-align: right;\n",
       "    }\n",
       "</style>\n",
       "<table border=\"1\" class=\"dataframe\">\n",
       "  <thead>\n",
       "    <tr style=\"text-align: right;\">\n",
       "      <th></th>\n",
       "      <th>name</th>\n",
       "      <th>cluster</th>\n",
       "    </tr>\n",
       "  </thead>\n",
       "  <tbody>\n",
       "    <tr>\n",
       "      <th>0</th>\n",
       "      <td>Владыкина Вероника Евгеньевна</td>\n",
       "      <td>4</td>\n",
       "    </tr>\n",
       "    <tr>\n",
       "      <th>1</th>\n",
       "      <td>Коновалов Антон Александрович</td>\n",
       "      <td>1</td>\n",
       "    </tr>\n",
       "    <tr>\n",
       "      <th>2</th>\n",
       "      <td>Ласкин Алексей Александрович</td>\n",
       "      <td>1</td>\n",
       "    </tr>\n",
       "    <tr>\n",
       "      <th>3</th>\n",
       "      <td>Малхасян Арамаис</td>\n",
       "      <td>2</td>\n",
       "    </tr>\n",
       "    <tr>\n",
       "      <th>4</th>\n",
       "      <td>Попов Леонид Андреевич</td>\n",
       "      <td>4</td>\n",
       "    </tr>\n",
       "  </tbody>\n",
       "</table>\n",
       "</div>"
      ],
      "text/plain": [
       "                            name  cluster\n",
       "0  Владыкина Вероника Евгеньевна        4\n",
       "1  Коновалов Антон Александрович        1\n",
       "2   Ласкин Алексей Александрович        1\n",
       "3               Малхасян Арамаис        2\n",
       "4         Попов Леонид Андреевич        4"
      ]
     },
     "execution_count": 53,
     "metadata": {},
     "output_type": "execute_result"
    }
   ],
   "source": [
    "# downloanding info about person's cluster (after clustering of person)\n",
    "\n",
    "person_clusters_df = pd.read_csv('person_clusters.csv', sep='\\t', encoding='utf-8')\n",
    "person_clusters_df = person_clusters_df[['key','cluster']].rename(columns={'key':'name'})\n",
    "person_clusters_df.head()"
   ]
  },
  {
   "cell_type": "code",
   "execution_count": 183,
   "id": "ea3599b4",
   "metadata": {},
   "outputs": [
    {
     "data": {
      "text/html": [
       "<div>\n",
       "<style scoped>\n",
       "    .dataframe tbody tr th:only-of-type {\n",
       "        vertical-align: middle;\n",
       "    }\n",
       "\n",
       "    .dataframe tbody tr th {\n",
       "        vertical-align: top;\n",
       "    }\n",
       "\n",
       "    .dataframe thead th {\n",
       "        text-align: right;\n",
       "    }\n",
       "</style>\n",
       "<table border=\"1\" class=\"dataframe\">\n",
       "  <thead>\n",
       "    <tr style=\"text-align: right;\">\n",
       "      <th></th>\n",
       "      <th>conv_x_name</th>\n",
       "      <th>name</th>\n",
       "      <th>program_txt</th>\n",
       "      <th>convocation_no</th>\n",
       "      <th>min_member_conv_no</th>\n",
       "      <th>min_cand_conv_no</th>\n",
       "      <th>cand_conv_cnt</th>\n",
       "      <th>manage_convocation_cnt</th>\n",
       "      <th>first_nomination_flg</th>\n",
       "      <th>first_membership_flg</th>\n",
       "      <th>cluster</th>\n",
       "    </tr>\n",
       "  </thead>\n",
       "  <tbody>\n",
       "    <tr>\n",
       "      <th>0</th>\n",
       "      <td>1_Левин_Андрей</td>\n",
       "      <td>Левин Андрей</td>\n",
       "      <td>Активный участник и организатор различных мероприятий (воспоминания о любимой школе), готов работать, творить, уверен, что все получится.)</td>\n",
       "      <td>1</td>\n",
       "      <td>1.0</td>\n",
       "      <td>1</td>\n",
       "      <td>1</td>\n",
       "      <td>0.0</td>\n",
       "      <td>True</td>\n",
       "      <td>True</td>\n",
       "      <td>2</td>\n",
       "    </tr>\n",
       "  </tbody>\n",
       "</table>\n",
       "</div>"
      ],
      "text/plain": [
       "      conv_x_name          name  \\\n",
       "0  1_Левин_Андрей  Левин Андрей   \n",
       "\n",
       "                                                                                                                                  program_txt  \\\n",
       "0  Активный участник и организатор различных мероприятий (воспоминания о любимой школе), готов работать, творить, уверен, что все получится.)   \n",
       "\n",
       "   convocation_no  min_member_conv_no  min_cand_conv_no  cand_conv_cnt  \\\n",
       "0               1                 1.0                 1              1   \n",
       "\n",
       "   manage_convocation_cnt  first_nomination_flg  first_membership_flg  cluster  \n",
       "0                     0.0                  True                  True        2  "
      ]
     },
     "execution_count": 183,
     "metadata": {},
     "output_type": "execute_result"
    }
   ],
   "source": [
    "programs_df_2 = programs_df.merge(core_df, on='name', how='left')\n",
    "# print(list(programs_df_2))\n",
    "\n",
    "# new flag (I'm interested in: True / False)\n",
    "programs_df_2['first_nomination_flg'] = programs_df_2['convocation_no'] == programs_df_2['min_cand_conv_no']\n",
    "# new flag (I'm interested in: False)\n",
    "programs_df_2['first_membership_flg'] = programs_df_2['convocation_no'] == programs_df_2['min_member_conv_no']\n",
    "\n",
    "programs_df_2 = programs_df_2.merge(person_clusters_df, on='name', how='left')\n",
    "programs_df_2.head(1)"
   ]
  },
  {
   "cell_type": "code",
   "execution_count": 55,
   "id": "85ca89e6",
   "metadata": {},
   "outputs": [
    {
     "data": {
      "text/plain": [
       "481"
      ]
     },
     "execution_count": 55,
     "metadata": {},
     "output_type": "execute_result"
    }
   ],
   "source": [
    "len(programs_df_2)"
   ]
  },
  {
   "cell_type": "code",
   "execution_count": null,
   "id": "4b427b04",
   "metadata": {},
   "outputs": [],
   "source": []
  },
  {
   "cell_type": "markdown",
   "id": "a8b82c73",
   "metadata": {},
   "source": []
  },
  {
   "cell_type": "code",
   "execution_count": 8,
   "id": "2e6380c6",
   "metadata": {},
   "outputs": [],
   "source": [
    "pd.set_option('display.max_colwidth', None)"
   ]
  },
  {
   "cell_type": "code",
   "execution_count": 12,
   "id": "52f84c22",
   "metadata": {},
   "outputs": [],
   "source": [
    "# downloading info about candidates with election programs\n",
    "\n",
    "# programs_df = pd.read_csv('../library: main/ssmm_elections_candidates_1_11.csv', sep='\\t', encoding='utf-8')\n",
    "# programs_df = programs_df[['conv_x_name','program_txt','convocation_no']][programs_df['program_txt'].notna()].reset_index().drop(['index'],axis=1)\n",
    "\n",
    "# programs_df.head()\n"
   ]
  },
  {
   "cell_type": "code",
   "execution_count": 13,
   "id": "a1b3a75c",
   "metadata": {},
   "outputs": [],
   "source": [
    "# len(programs_df)"
   ]
  },
  {
   "cell_type": "code",
   "execution_count": 359,
   "id": "1e50ff08",
   "metadata": {},
   "outputs": [
    {
     "name": "stderr",
     "output_type": "stream",
     "text": [
      "/var/folders/zh/mnvg84rj3_7413ycjzpn5y8r0000gp/T/ipykernel_22491/3089012103.py:18: SettingWithCopyWarning: \n",
      "A value is trying to be set on a copy of a slice from a DataFrame.\n",
      "Try using .loc[row_indexer,col_indexer] = value instead\n",
      "\n",
      "See the caveats in the documentation: https://pandas.pydata.org/pandas-docs/stable/user_guide/indexing.html#returning-a-view-versus-a-copy\n",
      "  programs_df_3['short_key'] = programs_df_3['conv_x_name'].apply(lambda x: x[:find_substring(x, '_', 1)+2])\n"
     ]
    },
    {
     "data": {
      "text/plain": [
       "379"
      ]
     },
     "execution_count": 359,
     "metadata": {},
     "output_type": "execute_result"
    }
   ],
   "source": [
    "# all nominations\n",
    "# programs_df_3 = programs_df_2[list(programs_df_2)] # bad clustering\n",
    "\n",
    "# only persons from clusters 1,2,4\n",
    "programs_df_3 = programs_df_2[programs_df_2['cluster'].isin([1,2,4])] # bad clustering\n",
    "\n",
    "# programs_df_3 = programs_df_2[programs_df_2['cluster'] == 4] # bad clustering\n",
    "# programs_df_3 = programs_df_2[programs_df_2['cand_conv_cnt'] >= 3] # worse clustering\n",
    "# programs_df_3 = programs_df_2[programs_df_2['cand_conv_cnt'] >= 4] # bad clustering\n",
    "# programs_df_3 = programs_df_2[programs_df_2['convocation_no'].isin([4,5,6])] # bad clustering\n",
    "\n",
    "# 2+ ordinal number of nomination\n",
    "# programs_df_3 = programs_df_2[programs_df_2['first_nomination_flg'] == False] \n",
    "\n",
    "# limit = 91 # for convocations 1-3\n",
    "limit = len(programs_df_3)\n",
    "\n",
    "programs_df_3['short_key'] = programs_df_3['conv_x_name'].apply(lambda x: x[:find_substring(x, '_', 1)+2])\n",
    "key_list = list(programs_df_3['short_key'])[:limit]\n",
    "# key_list[-5:]\n",
    "program_list = list(programs_df_3['program_txt'])[:limit]\n",
    "\n",
    "# number of processing programs \n",
    "len(program_list)"
   ]
  },
  {
   "cell_type": "code",
   "execution_count": 360,
   "id": "588549e5",
   "metadata": {},
   "outputs": [
    {
     "data": {
      "text/plain": [
       "['11_Терехов_М',\n",
       " '11_Поликарпов_А',\n",
       " '11_Каляев_Т',\n",
       " '11_Маммагаджиев_Р',\n",
       " '11_Третьякова_Е']"
      ]
     },
     "execution_count": 360,
     "metadata": {},
     "output_type": "execute_result"
    }
   ],
   "source": []
  },
  {
   "cell_type": "code",
   "execution_count": null,
   "id": "5fb14956",
   "metadata": {},
   "outputs": [],
   "source": []
  },
  {
   "cell_type": "markdown",
   "id": "b30a249d",
   "metadata": {},
   "source": [
    "# 2. Tokenizing of texts"
   ]
  },
  {
   "cell_type": "code",
   "execution_count": 185,
   "id": "553567f1",
   "metadata": {},
   "outputs": [
    {
     "name": "stderr",
     "output_type": "stream",
     "text": [
      "[nltk_data] Downloading package punkt to /Users/user/nltk_data...\n",
      "[nltk_data]   Package punkt is already up-to-date!\n",
      "[nltk_data] Downloading package stopwords to /Users/user/nltk_data...\n",
      "[nltk_data]   Package stopwords is already up-to-date!\n"
     ]
    }
   ],
   "source": [
    "from nltk.tokenize import word_tokenize\n",
    "\n",
    "import nltk\n",
    "nltk.download('punkt')\n",
    "# for russian text\n",
    "\n",
    "nltk.download('stopwords')\n",
    "stopwords = nltk.corpus.stopwords.words('russian')\n",
    "# stopwords\n",
    "\n",
    "# Stemming is just the process of breaking a word down into its root.\n",
    "from nltk.stem.snowball import SnowballStemmer\n",
    "stemmer = SnowballStemmer(\"russian\")"
   ]
  },
  {
   "cell_type": "code",
   "execution_count": 94,
   "id": "5281f3dc",
   "metadata": {},
   "outputs": [],
   "source": [
    "\n",
    "# def remove_noise(text, stop_words = []):\n",
    "#     tokens = word_tokenize(text, language=\"russian\")\n",
    "#     cleaned_tokens = []\n",
    "#     for token in tokens:\n",
    "#         token = re.sub('[^А-Яа-я]+', '', token)\n",
    "#         if len(token) > 1 and token.lower() not in stop_words:\n",
    "#             # Get lowercase\n",
    "#             cleaned_tokens.append(token.lower())\n",
    "#     return cleaned_tokens\n",
    "\n",
    "# [^A-Za-z0-9]+\n",
    "\n",
    "# remove_noise(\"Мне нравится заниматься общественной деятельностью.\")"
   ]
  },
  {
   "cell_type": "code",
   "execution_count": null,
   "id": "431e18e6",
   "metadata": {},
   "outputs": [],
   "source": []
  },
  {
   "cell_type": "code",
   "execution_count": null,
   "id": "8532d7e9",
   "metadata": {},
   "outputs": [],
   "source": [
    "# http://brandonrose.org/clustering#Stopwords,-stemming,-and-tokenizing"
   ]
  },
  {
   "cell_type": "code",
   "execution_count": 83,
   "id": "4d75c556",
   "metadata": {},
   "outputs": [],
   "source": [
    "# to add stopwords\n",
    "\n",
    "# stopwords += [\n",
    "#         'это', 'этим', \n",
    "#         'моего',\n",
    "#         'свой', 'свои', 'своего', 'своей', \n",
    "#         'всем', 'всё',\n",
    "#         'нашего', \n",
    "#         'таких', 'также', \n",
    "#         'поэтому', 'многие', 'очень', 'других', \n",
    "#         'который', 'которая', 'которое', 'которого', 'которую', 'которым', 'которой', 'которых'\n",
    "#     ] + [\n",
    "#         'являюсь', \n",
    "#         'хотел', 'хотела', 'хочу', 'хотелось',\n",
    "#         'могу',\n",
    "#         'рассказ', 'школе', \n",
    "#         'году', 'год', 'года',\n",
    "#         'зовут', 'привет', 'различных', 'надеюсь', 'считаю', 'просто', 'вообще'\n",
    "#     ] + [\n",
    "#         'мгу', 'университет', 'университета',\n",
    "# #         'мехмата', 'мехмат', 'мехмате', 'факультета', 'факультете', 'факультет',\n",
    "#         'студсовета', 'студсовете', 'студсовет', 'совет', 'совета', 'совете',\n",
    "#         'студентов', 'студенты', 'студентам', 'студенческий', 'студенческого', 'студенческом',\n",
    "#         '2012',\n",
    "#         'организации', 'организацией', 'организация'\n",
    "#       ]\n"
   ]
  },
  {
   "cell_type": "code",
   "execution_count": null,
   "id": "cafebe89",
   "metadata": {},
   "outputs": [],
   "source": []
  },
  {
   "cell_type": "code",
   "execution_count": 40,
   "id": "2d022e1f",
   "metadata": {},
   "outputs": [],
   "source": [
    "# sents = nltk.sent_tokenize('Мне нравится заниматься общественной деятельностью, всячески пытаюсь расширять свой кругозор. Еще в школе организовывала различные мероприятия и была сильно этим заинтересована', language=\"russian\")\n",
    "# print(sents)\n",
    "\n",
    "# for sent in sents:\n",
    "#     for word in nltk.word_tokenize(sent, language=\"russian\"):\n",
    "#         print(word)\n"
   ]
  },
  {
   "cell_type": "code",
   "execution_count": 20,
   "id": "96b15a30",
   "metadata": {},
   "outputs": [],
   "source": [
    "#\n",
    "\n",
    "def tokenize_and_stem(text, stopwords=stopwords, lang=\"russian\"):\n",
    "    # first tokenize by sentence, then by word to ensure that punctuation is caught as it's own token\n",
    "    tokens = [word.lower() for sent in nltk.sent_tokenize(text, language=lang) for word in nltk.word_tokenize(sent, language=lang) if word.lower() not in stopwords]\n",
    "    filtered_tokens = []\n",
    "    # filter out any tokens not containing letters (e.g., numeric tokens, raw punctuation)\n",
    "    for token in tokens:\n",
    "        if re.search('[а-яА-Я]', token):\n",
    "            filtered_tokens.append(token)\n",
    "    stems = [stemmer.stem(t) for t in filtered_tokens]\n",
    "    return stems\n",
    "\n",
    "def tokenize_only(text, stopwords, lang):\n",
    "    # first tokenize by sentence, then by word to ensure that punctuation is caught as it's own token\n",
    "    tokens = [word.lower() for sent in nltk.sent_tokenize(text, language=lang) for word in nltk.word_tokenize(sent, language=lang) if word.lower() not in stopwords]\n",
    "    filtered_tokens = []\n",
    "    # filter out any tokens not containing letters (e.g., numeric tokens, raw punctuation)\n",
    "    for token in tokens:\n",
    "        if re.search('[а-яА-Я]', token):\n",
    "            filtered_tokens.append(token)\n",
    "    return filtered_tokens\n",
    "\n"
   ]
  },
  {
   "cell_type": "code",
   "execution_count": 43,
   "id": "00c9c60f",
   "metadata": {},
   "outputs": [],
   "source": [
    "# for program in program_list:\n",
    "#     print(tokenize_and_stem(program, stopwords, \"russian\"))"
   ]
  },
  {
   "cell_type": "code",
   "execution_count": 236,
   "id": "8b0307e6",
   "metadata": {},
   "outputs": [
    {
     "name": "stdout",
     "output_type": "stream",
     "text": [
      "20187\n"
     ]
    }
   ],
   "source": [
    "totalvocab_stemmed = []\n",
    "totalvocab_tokenized = []\n",
    "\n",
    "for i in program_list:\n",
    "    allwords_stemmed = tokenize_and_stem(i, stopwords, \"russian\")\n",
    "    totalvocab_stemmed.extend(allwords_stemmed)\n",
    "    \n",
    "    allwords_tokenized = tokenize_only(i, stopwords, \"russian\")\n",
    "    totalvocab_tokenized.extend(allwords_tokenized)\n",
    "    \n",
    "vocab_frame = pd.DataFrame({'words': totalvocab_tokenized}, index = totalvocab_stemmed)\n",
    "print(vocab_frame.shape[0])"
   ]
  },
  {
   "cell_type": "code",
   "execution_count": null,
   "id": "69bdb06e",
   "metadata": {},
   "outputs": [],
   "source": []
  },
  {
   "cell_type": "markdown",
   "id": "ecfd238f",
   "metadata": {},
   "source": [
    "# Tf-idf and program similarity"
   ]
  },
  {
   "cell_type": "code",
   "execution_count": 23,
   "id": "505841b0",
   "metadata": {},
   "outputs": [],
   "source": [
    "from sklearn.feature_extraction.text import TfidfVectorizer\n"
   ]
  },
  {
   "cell_type": "code",
   "execution_count": 342,
   "id": "d94f3340",
   "metadata": {},
   "outputs": [
    {
     "name": "stderr",
     "output_type": "stream",
     "text": [
      "/opt/homebrew/lib/python3.11/site-packages/sklearn/feature_extraction/text.py:528: UserWarning: The parameter 'token_pattern' will not be used since 'tokenizer' is not None'\n",
      "  warnings.warn(\n"
     ]
    },
    {
     "name": "stdout",
     "output_type": "stream",
     "text": [
      "(379, 145)\n"
     ]
    }
   ],
   "source": [
    "# alternative way, with own list of stop words\n",
    "# https://stackoverflow.com/questions/26826002/adding-words-to-stop-words-list-in-tfidfvectorizer-in-sklearn\n",
    "\n",
    "tfidf_vectorizer = TfidfVectorizer(\n",
    "#     max_features=200, \n",
    "    max_df=0.7, min_df=0.013, \n",
    "    ngram_range=(2,2), # only 2-grams\n",
    "    tokenizer=tokenize_and_stem, \n",
    "    stop_words=stopwords\n",
    ")\n",
    "\n",
    "tfidf_matrix = tfidf_vectorizer.fit_transform(program_list)\n",
    "# idf_values = dict(zip(vectorizer.get_feature_names(), vectorizer.idf_))\n",
    "terms = tfidf_vectorizer.get_feature_names_out()\n",
    "\n",
    "print(tfidf_matrix.shape)"
   ]
  },
  {
   "cell_type": "code",
   "execution_count": null,
   "id": "ef538596",
   "metadata": {},
   "outputs": [],
   "source": []
  },
  {
   "cell_type": "code",
   "execution_count": 343,
   "id": "ddffe75a",
   "metadata": {},
   "outputs": [
    {
     "data": {
      "text/plain": [
       "array(['активн занима', 'активн участ', 'активн участвова',\n",
       "       'активн участник', 'больш част', 'буд стара', 'бытов вопрос',\n",
       "       'ваш поддержк', 'вещ котор', 'вмест сдела', 'внест вклад',\n",
       "       'возможн помоч', 'вопрос котор', 'встреч второкурсник',\n",
       "       'втор раз.', 'вуз стран', 'главн здан', 'групп бытов',\n",
       "       'групп занима', 'групп образован', 'групп оповещен',\n",
       "       'групп первокурсник', 'групп помога', 'групп праздник',\n",
       "       'дан момент', 'дела жизн', 'ден ден', 'ден пифагор', 'дня пифагор',\n",
       "       'добр ден', 'жизн интересн', 'жизн мехматя',\n",
       "       'заместител председател', 'занима вопрос', 'занима обществен',\n",
       "       'занима праздник', 'занима спортивн', 'защища интерес',\n",
       "       'избира вперв', 'избира втор', 'измен лучш', 'инициативн групп',\n",
       "       'иностра язык', 'интерес поток', 'интересн мероприят', 'кажд ден',\n",
       "       'кажд студент', 'качеств образован', 'конкурс групп',\n",
       "       'координатор рабоч', 'котор будут', 'культурно-массов мероприят',\n",
       "       'куратор групп', 'лучш вуз', 'люд котор', 'мероприят ден',\n",
       "       'мероприят котор', 'мероприят организовыва', 'младш курс',\n",
       "       'мног друг', 'мо программ', 'направлен работ', 'наш жизн',\n",
       "       'нов ид', 'нов проект', 'нов созыв', 'образован бытов',\n",
       "       'общежит гз', 'обществен деятельн', 'обществен жизн',\n",
       "       'огромн количеств', 'одн организатор', 'организовыва праздник',\n",
       "       'организовыва различн', 'ответствен секретар', 'открыт переход',\n",
       "       'перв курс', 'переход а13-б19', 'пифагор ден', 'план работ',\n",
       "       'планир занима', 'планир заня', 'планир продолж',\n",
       "       'повышен стипенд', 'пода заявк', 'помога мероприят',\n",
       "       'помога организовыва', 'помога праздник', 'помога проведен',\n",
       "       'постара сдела', 'поток курс', 'праздник ден',\n",
       "       'праздник мероприят', 'праздник спорт', 'представля интерес',\n",
       "       'предыдущ созыв', 'приемн комисс', 'принима активн',\n",
       "       'принима участ', 'приня участ', 'проблем котор', 'проведен дня',\n",
       "       'проведен мероприят', 'проведен праздник', 'продолж деятельн',\n",
       "       'продолж занима', 'продолж работ', 'прошл созыв', 'работ групп',\n",
       "       'работ партнер', 'рабоч групп', 'различн мероприят',\n",
       "       'распределен повышен', 'распределен стипенд', 'реша проблем',\n",
       "       'решен бытов', 'решен пробл', 'сбор макулатур', 'связ студент',\n",
       "       'сдела жизн', 'сдела наш', 'систем распределен', 'созыв планир',\n",
       "       'спасиб вниман', 'спортивн мероприят', 'старост групп',\n",
       "       'стат член', 'студент курс', 'студенческ жизн',\n",
       "       'студенческ организац', 'студенческ совет', 'туалетн бумаг',\n",
       "       'улучшен жизн', 'улучшен услов', 'услов проживан', 'участ жизн',\n",
       "       'участ мероприят', 'участвова мероприят', 'участвова проведен',\n",
       "       'участвова распределен', 'учебн процесс', 'учебн част',\n",
       "       'что-т нов', 'что-т полезн', 'школ актив'], dtype=object)"
      ]
     },
     "execution_count": 343,
     "metadata": {},
     "output_type": "execute_result"
    }
   ],
   "source": [
    "# most frequent 2-grams\n",
    "terms"
   ]
  },
  {
   "cell_type": "code",
   "execution_count": 344,
   "id": "d55b606e",
   "metadata": {},
   "outputs": [
    {
     "data": {
      "text/plain": [
       "array(['главн здан', 'групп бытов', 'групп образован', 'групп оповещен',\n",
       "       'групп первокурсник', 'групп помога', 'групп праздник',\n",
       "       'ден пифагор', 'дня пифагор', 'жизн интересн',\n",
       "       'заместител председател', 'занима праздник', 'занима спортивн',\n",
       "       'защища интерес', 'инициативн групп', 'иностра язык',\n",
       "       'интерес поток', 'интересн мероприят', 'качеств образован',\n",
       "       'конкурс групп', 'координатор рабоч', 'культурно-массов мероприят',\n",
       "       'куратор групп', 'мероприят ден', 'мероприят организовыва',\n",
       "       'направлен работ', 'образован бытов', 'общежит гз',\n",
       "       'одн организатор', 'организовыва праздник', 'организовыва различн',\n",
       "       'ответствен секретар', 'открыт переход', 'переход а13-б19',\n",
       "       'пифагор ден', 'повышен стипенд', 'помога мероприят',\n",
       "       'помога организовыва', 'помога праздник', 'помога проведен',\n",
       "       'праздник ден', 'праздник мероприят', 'праздник спорт',\n",
       "       'представля интерес', 'приемн комисс', 'проблем котор',\n",
       "       'проведен дня', 'проведен мероприят', 'проведен праздник',\n",
       "       'продолж деятельн', 'работ партнер', 'различн мероприят',\n",
       "       'распределен повышен', 'распределен стипенд', 'реша проблем',\n",
       "       'решен бытов', 'решен пробл', 'сбор макулатур',\n",
       "       'систем распределен', 'спортивн мероприят', 'студенческ организац',\n",
       "       'туалетн бумаг', 'улучшен жизн', 'улучшен услов', 'услов проживан',\n",
       "       'участ мероприят', 'участвова мероприят', 'участвова проведен',\n",
       "       'участвова распределен', 'учебн процесс', 'школ актив'],\n",
       "      dtype=object)"
      ]
     },
     "execution_count": 344,
     "metadata": {},
     "output_type": "execute_result"
    }
   ],
   "source": [
    "# deleting noisy 2-grams from terms\n",
    "drop_n_grams = [\n",
    "#     greetings and requests\n",
    "    'буд рад', 'ваш поддержк', 'добр ден', 'добр времен', 'времен суток', 'пода заявк', 'спасиб вниман', 'стат член', 'ваш голос', \n",
    "    \n",
    "#     about theirself\n",
    "    'избира вперв', 'избира втор', 'избира трет', 'избира четверт', 'предыдущ созыв', 'прошл созыв', 'нов созыв', 'мо программ', \n",
    "    'перв курс', 'студент курс', 'старост групп', 'ваш интерес', 'поток курс', \n",
    "    \n",
    "#     common phrases\n",
    "    'вмест сдела', 'внест вклад', 'возможн помоч', 'продолж работ', 'занима вопрос', 'продолж занима', 'сдела жизн', 'дела жизн', \n",
    "    'созыв планир', 'планир заня', \n",
    "    'планир занима', 'планир продолж', 'активн занима', 'активн участ', 'активн участвова', 'активн участник', \n",
    "    'помога студсовет', 'постара сдела', 'принима активн', 'принима участ', 'приня участ', 'участ жизн', \n",
    "    'обществен деятельн', 'обществен жизн', 'занима обществен', 'наш жизн', 'студенческ жизн', 'жизн мехматя', 'сдела наш', \n",
    "    'лучш вуз', 'вуз стран', 'нов ид', \n",
    "    'план работ', 'работ групп', 'рабоч групп', 'нов проект', 'студенческ совет', 'групп занима', \n",
    "    \n",
    "#     other\n",
    "    'вопрос котор', 'котор будут', 'огромн количеств', 'дан момент', 'ближайш врем', 'ден ден', 'мероприят котор', 'проект котор', \n",
    "    'котор будут', 'бур эмоц', 'учебн част', 'кажд ден', 'кажд студент', 'младш курс', 'связ студент', 'вещ котор', 'втор раз.', \n",
    "    'люд котор', 'мног друг', 'что-т нов', 'что-т полезн', \n",
    "]\n",
    "\n",
    "search = np.array(drop_n_grams)\n",
    "search_indexes = np.searchsorted(terms, search)\n",
    "terms = np.delete(terms, search_indexes)\n",
    "terms\n",
    "# terms_fix"
   ]
  },
  {
   "cell_type": "code",
   "execution_count": 345,
   "id": "a0e6c719",
   "metadata": {},
   "outputs": [],
   "source": [
    "# deleting appropriate columns from tfidf_matrix\n",
    "\n",
    "from scipy import sparse\n",
    "\n",
    "indexes_to_keep = list(set(range(tfidf_matrix.shape[1]))-set(search_indexes))\n",
    "tfidf_matrix = sparse.lil_matrix(sparse.csr_matrix(tfidf_matrix)[:, indexes_to_keep]) # tfidf_matrix_new\n",
    "\n",
    "# to see the result\n",
    "# tfidf_array_new = tfidf_matrix.todense()\n",
    "# tfidf_df = pd.DataFrame(tfidf_array_new)\n",
    "# tfidf_df\n",
    "# tfidf_df_new"
   ]
  },
  {
   "cell_type": "code",
   "execution_count": null,
   "id": "18b18d82",
   "metadata": {},
   "outputs": [],
   "source": []
  },
  {
   "cell_type": "code",
   "execution_count": null,
   "id": "3ee5eefe",
   "metadata": {},
   "outputs": [],
   "source": [
    "'''\n",
    "TO MANY PHRASES WITH SIMILAR MEANING WHICH CAN DISTRIBUTED IN OTHER CLUSTERS\n",
    "I WANT TO UNITE THEM\n",
    "\n",
    "!!!!\n",
    "\n",
    "IDEA: to cluster 2-grams the same way)))\n",
    "'''"
   ]
  },
  {
   "cell_type": "code",
   "execution_count": 328,
   "id": "1722be26",
   "metadata": {},
   "outputs": [
    {
     "data": {
      "text/html": [
       "<div>\n",
       "<style scoped>\n",
       "    .dataframe tbody tr th:only-of-type {\n",
       "        vertical-align: middle;\n",
       "    }\n",
       "\n",
       "    .dataframe tbody tr th {\n",
       "        vertical-align: top;\n",
       "    }\n",
       "\n",
       "    .dataframe thead th {\n",
       "        text-align: right;\n",
       "    }\n",
       "</style>\n",
       "<table border=\"1\" class=\"dataframe\">\n",
       "  <thead>\n",
       "    <tr style=\"text-align: right;\">\n",
       "      <th></th>\n",
       "      <th>2_gram</th>\n",
       "    </tr>\n",
       "  </thead>\n",
       "  <tbody>\n",
       "    <tr>\n",
       "      <th>0</th>\n",
       "      <td>главн здан</td>\n",
       "    </tr>\n",
       "    <tr>\n",
       "      <th>1</th>\n",
       "      <td>групп бытов</td>\n",
       "    </tr>\n",
       "    <tr>\n",
       "      <th>2</th>\n",
       "      <td>групп образован</td>\n",
       "    </tr>\n",
       "    <tr>\n",
       "      <th>3</th>\n",
       "      <td>групп оповещен</td>\n",
       "    </tr>\n",
       "    <tr>\n",
       "      <th>4</th>\n",
       "      <td>групп первокурсник</td>\n",
       "    </tr>\n",
       "    <tr>\n",
       "      <th>...</th>\n",
       "      <td>...</td>\n",
       "    </tr>\n",
       "    <tr>\n",
       "      <th>66</th>\n",
       "      <td>участвова мероприят</td>\n",
       "    </tr>\n",
       "    <tr>\n",
       "      <th>67</th>\n",
       "      <td>участвова проведен</td>\n",
       "    </tr>\n",
       "    <tr>\n",
       "      <th>68</th>\n",
       "      <td>участвова распределен</td>\n",
       "    </tr>\n",
       "    <tr>\n",
       "      <th>69</th>\n",
       "      <td>учебн процесс</td>\n",
       "    </tr>\n",
       "    <tr>\n",
       "      <th>70</th>\n",
       "      <td>школ актив</td>\n",
       "    </tr>\n",
       "  </tbody>\n",
       "</table>\n",
       "<p>71 rows × 1 columns</p>\n",
       "</div>"
      ],
      "text/plain": [
       "                   2_gram\n",
       "0              главн здан\n",
       "1             групп бытов\n",
       "2         групп образован\n",
       "3          групп оповещен\n",
       "4      групп первокурсник\n",
       "..                    ...\n",
       "66    участвова мероприят\n",
       "67     участвова проведен\n",
       "68  участвова распределен\n",
       "69          учебн процесс\n",
       "70             школ актив\n",
       "\n",
       "[71 rows x 1 columns]"
      ]
     },
     "execution_count": 328,
     "metadata": {},
     "output_type": "execute_result"
    }
   ],
   "source": [
    "terms_df = pd.DataFrame(terms).rename(columns={0: '2_gram'})\n",
    "terms_df"
   ]
  },
  {
   "cell_type": "code",
   "execution_count": 357,
   "id": "3c52da8d",
   "metadata": {},
   "outputs": [],
   "source": [
    "key_terms_list = list(terms_df['2_gram'])\n",
    "terms_list = list(terms_df['2_gram'])"
   ]
  },
  {
   "cell_type": "code",
   "execution_count": 367,
   "id": "34275797",
   "metadata": {},
   "outputs": [
    {
     "name": "stdout",
     "output_type": "stream",
     "text": [
      "(71, 15)\n"
     ]
    },
    {
     "name": "stderr",
     "output_type": "stream",
     "text": [
      "/opt/homebrew/lib/python3.11/site-packages/sklearn/feature_extraction/text.py:528: UserWarning: The parameter 'token_pattern' will not be used since 'tokenizer' is not None'\n",
      "  warnings.warn(\n"
     ]
    }
   ],
   "source": [
    "tfidf_vectorizer_terms = TfidfVectorizer(\n",
    "#     max_features=200, \n",
    "    max_df=0.7, min_df=0.03, \n",
    "    ngram_range=(1,1), # only 1-grams\n",
    "    tokenizer=tokenize_and_stem, \n",
    "    stop_words=stopwords\n",
    ")\n",
    "\n",
    "tfidf_matrix_terms = tfidf_vectorizer_terms.fit_transform(terms_list)\n",
    "# idf_values = dict(zip(vectorizer.get_feature_names(), vectorizer.idf_))\n",
    "terms_terms = tfidf_vectorizer_terms.get_feature_names_out()\n",
    "\n",
    "print(tfidf_matrix_terms.shape)"
   ]
  },
  {
   "cell_type": "code",
   "execution_count": 371,
   "id": "6c12c4c9",
   "metadata": {},
   "outputs": [
    {
     "data": {
      "image/png": "[encoded data removed]",
      "text/plain": [
       "<Figure size 640x480 with 1 Axes>"
      ]
     },
     "metadata": {},
     "output_type": "display_data"
    }
   ],
   "source": [
    "distortions_terms = []\n",
    "num_clusters_range = range(1, 21)\n",
    "\n",
    "# Create a list of distortions from the kmeans method\n",
    "for i in num_clusters_range:\n",
    "    cluster_centers_terms, distortion_terms = kmeans(tfidf_matrix_terms.todense(), i)\n",
    "    distortions_terms.append(distortion_terms) \n",
    "    \n",
    "# Create a DataFrame with two lists - number of clusters and distortions\n",
    "elbow_plot = pd.DataFrame({'num_clusters': num_clusters_range,\n",
    "                           'distortions': distortions_terms})\n",
    "# Creat a line plot of num_clusters and distortions\n",
    "sns.lineplot(x='num_clusters', y='distortions', data = elbow_plot)\n",
    "plt.xticks(num_clusters_range)\n",
    "plt.show()"
   ]
  },
  {
   "cell_type": "code",
   "execution_count": 372,
   "id": "f165bd21",
   "metadata": {},
   "outputs": [
    {
     "name": "stdout",
     "output_type": "stream",
     "text": [
      "CPU times: user 99.1 ms, sys: 83.6 ms, total: 183 ms\n",
      "Wall time: 45.5 ms\n",
      "1    32\n",
      "3     9\n",
      "2     8\n",
      "6     7\n",
      "4     5\n",
      "0     4\n",
      "7     3\n",
      "5     3\n",
      "Name: cluster, dtype: int64\n",
      "Top terms per cluster:\n",
      "\n",
      "Cluster 0 words:\n",
      "распредел - 0.921\n",
      "участвов - 0.182\n",
      "\n",
      "Cluster 0 keys:\n",
      "\t\tраспределен повышен,\t\tраспределен стипенд,\t\tсистем распределен,\t\tучаствова распределен,\n",
      "\n",
      "Cluster 1 words:\n",
      "пробл - 0.075\n",
      "реш - 0.066\n",
      "организовыв - 0.054\n",
      "образова - 0.053\n",
      "быт - 0.044\n",
      "помог - 0.022\n",
      "\n",
      "Cluster 1 keys:\n",
      "\t\tглавн здан,\t\tжизн интересн,\t\tзаместител председател,\t\tзанима спортивн,\t\tиностра язык,\t\tкачеств образован,\t\tкоординатор рабоч,\t\tнаправлен работ,\t\tобразован бытов,\t\tобщежит гз,\t\tодн организатор,\t\tорганизовыва различн,\t\tответствен секретар,\t\tоткрыт переход,\t\tпереход а13-б19,\t\tповышен стипенд,\t\tпомога организовыва,\t\tприемн комисс,\t\tпроблем котор,\t\tпродолж деятельн,\t\tработ партнер,\t\tреша проблем,\t\tрешен бытов,\t\tрешен пробл,\t\tсбор макулатур,\t\tстуденческ организац,\t\tтуалетн бумаг,\t\tулучшен жизн,\t\tулучшен услов,\t\tуслов проживан,\t\tучебн процесс,\t\tшкол актив,\n",
      "\n",
      "Cluster 2 words:\n",
      "групп - 0.858\n",
      "образова - 0.099\n",
      "быт - 0.099\n",
      "помог - 0.095\n",
      "\n",
      "Cluster 2 keys:\n",
      "\t\tгрупп бытов,\t\tгрупп образован,\t\tгрупп оповещен,\t\tгрупп первокурсник,\t\tгрупп помога,\t\tинициативн групп,\t\tконкурс групп,\t\tкуратор групп,\n",
      "\n",
      "Cluster 3 words:\n",
      "меропр - 0.824\n",
      "участвов - 0.090\n",
      "организовыв - 0.088\n",
      "ден - 0.088\n",
      "помог - 0.087\n",
      "\n",
      "Cluster 3 keys:\n",
      "\t\tинтересн мероприят,\t\tкультурно-массов мероприят,\t\tмероприят ден,\t\tмероприят организовыва,\t\tпомога мероприят,\t\tразличн мероприят,\t\tспортивн мероприят,\t\tучаст мероприят,\t\tучаствова мероприят,\n",
      "\n",
      "Cluster 4 words:\n",
      "провед - 0.781\n",
      "участвов - 0.149\n",
      "помог - 0.141\n",
      "праздник - 0.132\n",
      "меропр - 0.125\n",
      "\n",
      "Cluster 4 keys:\n",
      "\t\tпомога проведен,\t\tпроведен дня,\t\tпроведен мероприят,\t\tпроведен праздник,\t\tучаствова проведен,\n",
      "\n",
      "Cluster 5 words:\n",
      "интерес - 1.000\n",
      "\n",
      "Cluster 5 keys:\n",
      "\t\tзащища интерес,\t\tинтерес поток,\t\tпредставля интерес,\n",
      "\n",
      "Cluster 6 words:\n",
      "праздник - 0.773\n",
      "организовыв - 0.109\n",
      "ден - 0.109\n",
      "помог - 0.107\n",
      "групп - 0.099\n",
      "меропр - 0.096\n",
      "\n",
      "Cluster 6 keys:\n",
      "\t\tгрупп праздник,\t\tзанима праздник,\t\tорганизовыва праздник,\t\tпомога праздник,\t\tпраздник ден,\t\tпраздник мероприят,\t\tпраздник спорт,\n",
      "\n",
      "Cluster 7 words:\n",
      "пифагор - 0.818\n",
      "ден - 0.457\n",
      "\n",
      "Cluster 7 keys:\n",
      "\t\tден пифагор,\t\tдня пифагор,\t\tпифагор ден,\n",
      "\n"
     ]
    },
    {
     "data": {
      "text/plain": [
       "1"
      ]
     },
     "execution_count": 372,
     "metadata": {},
     "output_type": "execute_result"
    }
   ],
   "source": [
    "num_clusters_terms = 8\n",
    "\n",
    "km_terms, frame_terms = create_clusters(tfidf_matrix_terms, num_clusters_terms, key_terms_list, terms_list)\n",
    "print_clusters(km_terms, frame_terms, terms_terms, num_clusters_terms)\n"
   ]
  },
  {
   "cell_type": "code",
   "execution_count": null,
   "id": "c6adb5ac",
   "metadata": {},
   "outputs": [],
   "source": []
  },
  {
   "cell_type": "code",
   "execution_count": 322,
   "id": "94f3f57e",
   "metadata": {},
   "outputs": [
    {
     "data": {
      "text/plain": [
       "(array([ 7, 12, 30, 33, 34]),)"
      ]
     },
     "execution_count": 322,
     "metadata": {},
     "output_type": "execute_result"
    }
   ],
   "source": [
    "# to find 2-grams with given word\n",
    "\n",
    "foo = 'мероприят'\n",
    "\n",
    "arr = np.array([np.char.find(t, foo) for t in terms])\n",
    "# np.place(arr, arr > -1, True)\n",
    "# np.place(arr, arr == -1, False)\n",
    "# # arr\n",
    "\n",
    "# indexes = np.where(arr == 1)\n",
    "indexes = np.where(arr != -1)\n",
    "\n",
    "indexes"
   ]
  },
  {
   "cell_type": "code",
   "execution_count": null,
   "id": "832cfcde",
   "metadata": {},
   "outputs": [],
   "source": []
  },
  {
   "cell_type": "code",
   "execution_count": null,
   "id": "404b7d8f",
   "metadata": {},
   "outputs": [],
   "source": []
  },
  {
   "cell_type": "markdown",
   "id": "27ce3bd1",
   "metadata": {},
   "source": [
    "# Create an elbow plot"
   ]
  },
  {
   "cell_type": "code",
   "execution_count": 192,
   "id": "cbe6903c",
   "metadata": {},
   "outputs": [],
   "source": [
    "from scipy.cluster.vq import kmeans #, vq"
   ]
  },
  {
   "cell_type": "code",
   "execution_count": 297,
   "id": "ac1d2cea",
   "metadata": {},
   "outputs": [
    {
     "data": {
      "image/png": "[encoded data removed]",
      "text/plain": [
       "<Figure size 640x480 with 1 Axes>"
      ]
     },
     "metadata": {},
     "output_type": "display_data"
    }
   ],
   "source": [
    "distortions = []\n",
    "num_clusters_range = range(1, 21)\n",
    "\n",
    "# Create a list of distortions from the kmeans method\n",
    "for i in num_clusters_range:\n",
    "    cluster_centers, distortion = kmeans(tfidf_matrix.todense(), i)\n",
    "    distortions.append(distortion) \n",
    "    \n",
    "# Create a DataFrame with two lists - number of clusters and distortions\n",
    "elbow_plot = pd.DataFrame({'num_clusters': num_clusters_range,\n",
    "                           'distortions': distortions})\n",
    "# Creat a line plot of num_clusters and distortions\n",
    "sns.lineplot(x='num_clusters', y='distortions', data = elbow_plot)\n",
    "plt.xticks(num_clusters_range)\n",
    "plt.show()"
   ]
  },
  {
   "cell_type": "code",
   "execution_count": null,
   "id": "cc5d834a",
   "metadata": {},
   "outputs": [],
   "source": [
    "# VERY LOW DISTORTION!!!! \n",
    "# for\n",
    "# only persons from clusters 1,2,4\n"
   ]
  },
  {
   "cell_type": "code",
   "execution_count": null,
   "id": "60f8397c",
   "metadata": {},
   "outputs": [],
   "source": []
  },
  {
   "cell_type": "code",
   "execution_count": null,
   "id": "718333fb",
   "metadata": {},
   "outputs": [],
   "source": []
  },
  {
   "cell_type": "markdown",
   "id": "46572ab1",
   "metadata": {},
   "source": [
    "# K-Means clusters"
   ]
  },
  {
   "cell_type": "code",
   "execution_count": 209,
   "id": "56348b55",
   "metadata": {},
   "outputs": [],
   "source": [
    "from sklearn.cluster import KMeans"
   ]
  },
  {
   "cell_type": "code",
   "execution_count": 355,
   "id": "ba655440",
   "metadata": {},
   "outputs": [],
   "source": [
    "def create_clusters(tfidf_matrix, num_clusters, key_list, content_list):\n",
    "\n",
    "    km = KMeans(n_clusters=num_clusters, n_init=10)\n",
    "    %time km.fit(tfidf_matrix)\n",
    "    clusters = km.labels_.tolist()\n",
    "    \n",
    "    program_clusters = {\n",
    "        'key': key_list, \n",
    "        'content': content_list, \n",
    "        'cluster': clusters\n",
    "    }\n",
    "    frame = pd.DataFrame(program_clusters, index = [clusters], columns = ['key', 'content', 'cluster'])\n",
    "    print(frame['cluster'].value_counts())\n",
    "    \n",
    "    return km, frame"
   ]
  },
  {
   "cell_type": "code",
   "execution_count": 368,
   "id": "9a0c959d",
   "metadata": {},
   "outputs": [],
   "source": [
    "def print_clusters(km, frame, terms, num_clusters):\n",
    "    #sort cluster centers by proximity to centroid\n",
    "    order_centroids = km.cluster_centers_.argsort()[:, ::-1] \n",
    "\n",
    "    print(\"Top terms per cluster:\")\n",
    "    print()\n",
    "    \n",
    "    for i in range(num_clusters):\n",
    "        print(\"Cluster %d words:\" % i) # , end=''\n",
    "\n",
    "        for ind in order_centroids[i, :10]: #replace 10 with n words per cluster\n",
    "            if km.cluster_centers_[i][ind] > 0:\n",
    "                print(\"{0} - {1:.3f}\".format(terms[ind], km.cluster_centers_[i][ind]))\n",
    "        print()\n",
    "\n",
    "        print(\"Cluster %d keys:\" % i) # , end=''\n",
    "        for key in frame.loc[i]['key'].values.tolist():\n",
    "            print('\\t\\t%s,' % key, end='') # JUST FOR conv_x_name !!!\n",
    "        print()\n",
    "        print()\n",
    "\n",
    "    return 1"
   ]
  },
  {
   "cell_type": "code",
   "execution_count": 369,
   "id": "07f1d643",
   "metadata": {},
   "outputs": [
    {
     "name": "stdout",
     "output_type": "stream",
     "text": [
      "CPU times: user 141 ms, sys: 114 ms, total: 256 ms\n",
      "Wall time: 59.6 ms\n",
      "0    287\n",
      "8     30\n",
      "3     15\n",
      "7     13\n",
      "6     10\n",
      "4      9\n",
      "2      8\n",
      "5      4\n",
      "1      3\n",
      "Name: cluster, dtype: int64\n",
      "Top terms per cluster:\n",
      "\n",
      "Cluster 0 words:\n",
      "интересн мероприят - 0.020\n",
      "качеств образован - 0.020\n",
      "групп помога - 0.014\n",
      "участвова мероприят - 0.014\n",
      "проведен мероприят - 0.014\n",
      "пифагор ден - 0.014\n",
      "инициативн групп - 0.013\n",
      "занима праздник - 0.013\n",
      "проблем котор - 0.012\n",
      "сбор макулатур - 0.011\n",
      "\n",
      "Cluster 0 keys:\n",
      "\t\t1_Левин_А,\t\t1_Кириллова_П,\t\t1_Кузнецова_А,\t\t1_Сафина_Д,\t\t1_Глухова_А,\t\t1_Владыкина_В,\t\t1_Сапунов_К,\t\t1_Артамонова_М,\t\t1_Чернодед_А,\t\t1_Штейников_Ю,\t\t1_Савушкин_Н,\t\t2_Габидов_А,\t\t2_Дяченко_М,\t\t2_Ватутин_К,\t\t2_Багров_К,\t\t2_Быстрицкая_В,\t\t2_Сафина_Д,\t\t2_Осин_Р,\t\t2_Смелов_В,\t\t2_Оджаев_Р,\t\t2_Тен_А,\t\t2_Акушевич_А,\t\t2_Дьяков_П,\t\t2_Сапунов_К,\t\t2_Абдуллаева_Э,\t\t3_Бурнус_А,\t\t3_Денисов_И,\t\t3_Ариас-Альварес_В,\t\t3_Григорьев_И,\t\t3_Дорман_Е,\t\t3_Локтионов_Ф,\t\t3_Глунчадзе_И,\t\t3_Ватутин_К,\t\t3_Матвеев_Д,\t\t3_Бунеев_А,\t\t3_Борисов_В,\t\t3_Хамматова_Г,\t\t3_Быстрицкая_В,\t\t3_Хасанов_Р,\t\t3_Осин_Р,\t\t3_Куркотов_В,\t\t3_Ольшевская_П,\t\t3_Селиверстова_Е,\t\t3_Садрисламов_А,\t\t3_Антонова_О,\t\t3_Сергеева_Э,\t\t3_Ласкин_А,\t\t3_Тен_А,\t\t3_Самонов_А,\t\t3_Короткин_В,\t\t4_Денисов_И,\t\t4_Тюрина_Т,\t\t4_Оськин_А,\t\t4_Хапкин_А,\t\t4_Тулякова_А,\t\t4_Бунеев_А,\t\t4_Быстрицкая_В,\t\t4_Антонов_С,\t\t4_Мылзенова_Д,\t\t4_Нечаев_Н,\t\t4_Мизраки_В,\t\t4_Яшин_Р,\t\t4_Ламтюгин_А,\t\t4_Кондрашкин_С,\t\t4_Шведов_К,\t\t4_Бахметьева_М,\t\t4_Белов_А,\t\t4_Оджаев_Р,\t\t4_Лапина_С,\t\t4_Коварский_А,\t\t4_Броницкий_Г,\t\t4_Чидякина_О,\t\t4_Чернова_А,\t\t4_Подкользина_Е,\t\t4_Волчанский_А,\t\t4_Думаревский_А,\t\t4_Остросаблина_О,\t\t4_Бекбулатов_Р,\t\t5_Семенюк_П,\t\t5_Бахметьева_М,\t\t5_Ронжин_Д,\t\t5_Нечаев_Н,\t\t5_Лапина_С,\t\t5_Кравчук_Н,\t\t5_Думаревский_А,\t\t5_Понфиленко_А,\t\t5_Волчанский_А,\t\t5_Шведов_К,\t\t5_Денисов_И,\t\t5_Глунчадзе_И,\t\t5_Проничкин_Ю,\t\t5_Ариас-Альварес_В,\t\t5_Гулин_Н,\t\t5_Сергейчик_Р,\t\t5_Бун-Ян-Тун_В,\t\t5_Провидухина_М,\t\t5_Сакаев_Р,\t\t5_Трошина_Д,\t\t5_Козлова_К,\t\t5_Святкин_И,\t\t5_Мамедов_Р,\t\t5_Базанов_И,\t\t5_Милютин_Э,\t\t6_Поликушин_В,\t\t6_Штерн_А,\t\t6_Корж_Д,\t\t6_Зарубин_Н,\t\t6_Исмагилов_А,\t\t6_Тропин_А,\t\t6_Хан_Т,\t\t6_Кремер_А,\t\t6_Чебунина_Т,\t\t6_Проничкин_Ю,\t\t6_Малахов_Н,\t\t6_Зарков_А,\t\t6_Бекбулатов_Р,\t\t6_Бун-Ян-Тун_В,\t\t6_Думаревский_А,\t\t6_Лапина_С,\t\t6_Украинский_Д,\t\t6_Чидякина_О,\t\t6_Сенотов_В,\t\t6_Пилюгина_С,\t\t6_Сакаев_Р,\t\t6_Татаринцева_М,\t\t6_Трошина_Д,\t\t6_Воробьёва_Н,\t\t6_Гигин_И,\t\t6_Садова_К,\t\t6_Семенюк_П,\t\t6_Кравчук_Н,\t\t6_Нагорных_Я,\t\t6_Захахатнов_Д,\t\t6_Московский_Б,\t\t6_Дмитриев_И,\t\t6_Мищенко_А,\t\t6_Авилова_Е,\t\t6_Рогачёв_А,\t\t7_Савин_П,\t\t7_Бекбулатов_Р,\t\t7_Рогачёв_А,\t\t7_Тонконогов_А,\t\t7_Коновалов_Д,\t\t7_Порфирьева_Н,\t\t7_Сакаев_Р,\t\t7_Малания_Г,\t\t7_Сенотов_В,\t\t7_Жуковский_Н,\t\t7_Кудасов_М,\t\t7_Волкова_Д,\t\t7_Батутина_М,\t\t7_Гигин_И,\t\t7_Малахов_Н,\t\t7_Кухарчук_И,\t\t7_Малиновский_Г,\t\t7_Бузенков_О,\t\t7_Филатов_К,\t\t7_Корж_Д,\t\t7_Вихорева_Н,\t\t7_Митрофанов_Д,\t\t8_Шерстобитов_А,\t\t8_Алиев_Р,\t\t8_Устинов_Н,\t\t8_Сиухина_А,\t\t8_Ефимкина_А,\t\t8_Вихорева_Н,\t\t8_Кудасов_М,\t\t8_Денисов_И,\t\t8_Тонконогов_А,\t\t8_Фенелонов_Д,\t\t8_Скурихин_Д,\t\t8_Бузенков_О,\t\t8_Малиновский_Г,\t\t8_Клюев_А,\t\t8_Корж_Д,\t\t8_Артамонов_С,\t\t8_Винокурова_А,\t\t8_Шишкин_И,\t\t8_Малахов_Н,\t\t8_Промыслов_П,\t\t9_Малахов_Н,\t\t9_Сенотов_В,\t\t9_Клюев_А,\t\t9_Евдокимова_С,\t\t9_Третьяков_П,\t\t9_Корж_Д,\t\t9_Вихорева_Н,\t\t9_Матвеев_Д,\t\t9_Малиновский_Г,\t\t9_Саметов_М,\t\t9_Чулкова_К,\t\t9_Дехнич_К,\t\t9_Аскарова_А,\t\t9_Сиухина_А,\t\t9_Фенелонов_Д,\t\t9_Скурихин_Д,\t\t9_Попова_А,\t\t9_Ладейщиков_Е,\t\t9_Рябцев_Л,\t\t9_Лобанова_А,\t\t9_Рязанов_Д,\t\t9_Зайцева_А,\t\t9_Игин_А,\t\t9_Шишкин_И,\t\t9_Винокурова_А,\t\t9_Меньшикова_Л,\t\t9_Янкова_М,\t\t9_Кузякина_С,\t\t9_Васильев_Н,\t\t10_Малахов_Н,\t\t10_Шишков_А,\t\t10_Лобанова_А,\t\t10_Терехов_М,\t\t10_Янкова_М,\t\t10_Тузова_В,\t\t10_Куслина_К,\t\t10_Мельникова_Д,\t\t10_Малиновский_Г,\t\t10_Пчельникова_Е,\t\t10_Евдокимова_С,\t\t10_Клюев_А,\t\t10_Третьяков_П,\t\t10_Кухарчук_И,\t\t10_Фенелонов_Д,\t\t10_Скурихин_Д,\t\t10_Попова_А,\t\t10_Устинов_Н,\t\t10_Сиухина_А,\t\t10_Кирюхина_А,\t\t10_Фёдоров_Л,\t\t10_Ковыршина_В,\t\t10_Рахматуллаев_Т,\t\t10_Манахова_А,\t\t10_Винокурова_А,\t\t10_Шереметьев_В,\t\t10_Пушкарёва_А,\t\t10_Дехнич_К,\t\t10_Чуб_В,\t\t10_Лобанова_А,\t\t10_Павликова_А,\t\t10_Шевченко_Е,\t\t10_Пятина_А,\t\t10_Зайцева_А,\t\t10_Зеленин_Г,\t\t10_Гаспарян_И,\t\t10_Перфильев_Д,\t\t10_Мишанин_О,\t\t10_Янушкевич_И,\t\t10_Ляпунов_А,\t\t10_Муджиков_В,\t\t10_Приходко_М,\t\t10_Ковалева_К,\t\t10_Алёшечкина_Е,\t\t10_Горшков_Е,\t\t11_Малиновский_Г,\t\t11_Мельникова_Д,\t\t11_Третьяков_П,\t\t11_Клюев_А,\t\t11_Евдокимова_С,\t\t11_Пчельникова_Е,\t\t11_Шереметьев_В,\t\t11_Манахова_А,\t\t11_Дехнич_К,\t\t11_Бабаджанова_Е,\t\t11_Зенков_Т,\t\t11_Чуб_В,\t\t11_Лобанова_А,\t\t11_Шевченко_Е,\t\t11_Макаров_Н,\t\t11_Монина_Д,\t\t11_Белан_А,\t\t11_Бароян_А,\t\t11_Гаспарян_И,\t\t11_Садовицкая_Е,\t\t11_Алёшечкина_Е,\t\t11_Агуреева_Е,\t\t11_Приходко_М,\t\t11_Арефьева_В,\t\t11_Алеев_Д,\t\t11_Заводян_М,\t\t11_Уваров_А,\t\t11_Майданик_А,\t\t11_Кадников_К,\t\t11_Терехов_М,\t\t11_Поликарпов_А,\t\t11_Каляев_Т,\t\t11_Третьякова_Е,\n",
      "\n",
      "Cluster 1 words:\n",
      "главн здан - 0.868\n",
      "\n",
      "Cluster 1 keys:\n",
      "\t\t1_Попов_Л,\t\t6_Саакян_В,\t\t11_Маммагаджиев_Р,\n",
      "\n",
      "Cluster 2 words:\n",
      "спортивн мероприят - 0.588\n",
      "работ партнер - 0.121\n",
      "ден пифагор - 0.092\n",
      "групп праздник - 0.073\n",
      "одн организатор - 0.064\n",
      "распределен повышен - 0.055\n",
      "открыт переход - 0.050\n",
      "пифагор ден - 0.047\n",
      "\n",
      "Cluster 2 keys:\n",
      "\t\t1_Удимов_Д,\t\t2_Власов_А,\t\t3_Тюрина_Т,\t\t4_Нагорных_Я,\t\t5_Чернова_А,\t\t5_Мотовилина_А,\t\t6_Тонконогов_А,\t\t8_Митрофанов_Д,\n",
      "\n",
      "Cluster 3 words:\n",
      "школ актив - 0.629\n",
      "мероприят ден - 0.125\n",
      "повышен стипенд - 0.053\n",
      "помога проведен - 0.040\n",
      "групп оповещен - 0.037\n",
      "групп первокурсник - 0.035\n",
      "конкурс групп - 0.034\n",
      "распределен стипенд - 0.034\n",
      "сбор макулатур - 0.032\n",
      "культурно-массов мероприят - 0.032\n",
      "\n",
      "Cluster 3 keys:\n",
      "\t\t1_Миценко_В,\t\t2_Лавров_В,\t\t2_Антонов_С,\t\t2_Попов_Л,\t\t3_Андреев_М,\t\t3_Антонов_С,\t\t3_Попов_Л,\t\t4_Мамедов_Р,\t\t6_Батутина_М,\t\t8_Антонов_И,\t\t8_Дементьев_Ф,\t\t8_Панина_Т,\t\t9_Фёдоров_К,\t\t9_Панина_Т,\t\t9_Колузанов_Ф,\n",
      "\n",
      "Cluster 4 words:\n",
      "жизн интересн - 0.623\n",
      "занима праздник - 0.070\n",
      "заместител председател - 0.068\n",
      "одн организатор - 0.064\n",
      "организовыва праздник - 0.057\n",
      "открыт переход - 0.047\n",
      "реша проблем - 0.044\n",
      "\n",
      "Cluster 4 keys:\n",
      "\t\t4_Митькина_М,\t\t5_Плотников_В,\t\t9_Пушкарёва_А,\t\t9_Тирешко_Д,\t\t10_Илизаров_Г,\t\t10_Волкова_Е,\t\t11_Лоншаков_Н,\t\t11_Вербовская_Д,\t\t11_Витковский_А,\n",
      "\n",
      "Cluster 5 words:\n",
      "приемн комисс - 0.579\n",
      "помога праздник - 0.488\n",
      "направлен работ - 0.346\n",
      "групп праздник - 0.117\n",
      "главн здан - 0.090\n",
      "представля интерес - 0.090\n",
      "интересн мероприят - 0.049\n",
      "проведен дня - 0.040\n",
      "\n",
      "Cluster 5 keys:\n",
      "\t\t1_Тропин_А,\t\t1_Котляров_Н,\t\t2_Тропин_А,\t\t6_Никулин_М,\n",
      "\n",
      "Cluster 6 words:\n",
      "реша проблем - 0.542\n",
      "общежит гз - 0.330\n",
      "проведен дня - 0.062\n",
      "инициативн групп - 0.062\n",
      "туалетн бумаг - 0.056\n",
      "дня пифагор - 0.043\n",
      "услов проживан - 0.042\n",
      "распределен повышен - 0.042\n",
      "продолж деятельн - 0.042\n",
      "школ актив - 0.038\n",
      "\n",
      "Cluster 6 keys:\n",
      "\t\t3_Шариков_А,\t\t3_Сапунов_К,\t\t4_Чеботаева_В,\t\t4_Матвеев_А,\t\t5_Чидякина_О,\t\t5_Матвеев_Д,\t\t6_Тесля_А,\t\t7_Татаринцева_М,\t\t11_Янушкевич_И,\t\t11_Абубакарова_Л,\n",
      "\n",
      "Cluster 7 words:\n",
      "защища интерес - 0.534\n",
      "помога организовыва - 0.076\n",
      "образован бытов - 0.068\n",
      "организовыва праздник - 0.061\n",
      "ответствен секретар - 0.056\n",
      "туалетн бумаг - 0.049\n",
      "решен бытов - 0.044\n",
      "инициативн групп - 0.034\n",
      "участвова распределен - 0.029\n",
      "культурно-массов мероприят - 0.028\n",
      "\n",
      "Cluster 7 keys:\n",
      "\t\t2_Никифоров_С,\t\t2_Сергеева_Э,\t\t3_Медведева_Я,\t\t3_Митькина_М,\t\t3_Буряк_А,\t\t4_Савин_П,\t\t5_Бекбулатов_Р,\t\t5_Савин_П,\t\t7_Воробьёва_Н,\t\t7_Федотов_К,\t\t10_Саметов_М,\t\t10_Сулейкин_А,\t\t10_Макаров_Н,\n",
      "\n",
      "Cluster 8 words:\n",
      "проведен дня - 0.399\n",
      "улучшен услов - 0.243\n",
      "учебн процесс - 0.069\n",
      "услов проживан - 0.065\n",
      "ответствен секретар - 0.052\n",
      "инициативн групп - 0.051\n",
      "дня пифагор - 0.049\n",
      "открыт переход - 0.042\n",
      "мероприят организовыва - 0.028\n",
      "общежит гз - 0.028\n",
      "\n",
      "Cluster 8 keys:\n",
      "\t\t2_Медведева_Я,\t\t2_Тишин_П,\t\t2_Владыкина_В,\t\t2_Котляров_Н,\t\t3_Дяченко_М,\t\t3_Матвеев_А,\t\t3_Владыкина_В,\t\t4_Дорман_Е,\t\t4_Матвеев_Д,\t\t4_Борисов_В,\t\t4_Глунчадзе_И,\t\t4_Дяченко_М,\t\t5_Тюрина_Т,\t\t5_Нагорных_Я,\t\t5_Подкользина_Е,\t\t6_Хасанов_Р,\t\t6_Глунчадзе_И,\t\t6_Назмутдинов_А,\t\t6_Савин_П,\t\t6_Чаплыгина_Е,\t\t6_Чернова_А,\t\t6_Провидухина_М,\t\t6_Денисов_И,\t\t6_Бахметьева_М,\t\t7_Хасанов_Р,\t\t7_Денисов_И,\t\t7_Зарубин_Н,\t\t8_Кухарчук_И,\t\t8_Сенотов_В,\t\t9_Кухарчук_И,\n",
      "\n"
     ]
    },
    {
     "data": {
      "text/plain": [
       "1"
      ]
     },
     "execution_count": 369,
     "metadata": {},
     "output_type": "execute_result"
    }
   ],
   "source": [
    "num_clusters = 9\n",
    "\n",
    "km, frame = create_clusters(tfidf_matrix, num_clusters, key_list, program_list)\n",
    "print_clusters(km, frame, terms, num_clusters)\n"
   ]
  },
  {
   "cell_type": "code",
   "execution_count": null,
   "id": "62768912",
   "metadata": {},
   "outputs": [],
   "source": []
  },
  {
   "cell_type": "code",
   "execution_count": null,
   "id": "220728ba",
   "metadata": {},
   "outputs": [],
   "source": []
  },
  {
   "cell_type": "code",
   "execution_count": null,
   "id": "c925c904",
   "metadata": {},
   "outputs": [],
   "source": []
  },
  {
   "cell_type": "code",
   "execution_count": null,
   "id": "1af8e215",
   "metadata": {},
   "outputs": [],
   "source": []
  },
  {
   "cell_type": "code",
   "execution_count": null,
   "id": "fbac7762",
   "metadata": {},
   "outputs": [],
   "source": []
  },
  {
   "cell_type": "code",
   "execution_count": null,
   "id": "9636abcb",
   "metadata": {},
   "outputs": [],
   "source": []
  },
  {
   "cell_type": "code",
   "execution_count": null,
   "id": "b9f23a3e",
   "metadata": {},
   "outputs": [],
   "source": []
  },
  {
   "cell_type": "code",
   "execution_count": null,
   "id": "d0f502f9",
   "metadata": {},
   "outputs": [],
   "source": []
  },
  {
   "cell_type": "markdown",
   "id": "27a88783",
   "metadata": {},
   "source": [
    "# ======== DRAFTS:\n",
    "# ======== DRAFTS:\n",
    "# ======== DRAFTS:"
   ]
  },
  {
   "cell_type": "code",
   "execution_count": null,
   "id": "06227905",
   "metadata": {},
   "outputs": [],
   "source": []
  },
  {
   "cell_type": "markdown",
   "id": "2a4218da",
   "metadata": {},
   "source": [
    "## Analysis of most frequent tokens"
   ]
  },
  {
   "cell_type": "code",
   "execution_count": 42,
   "id": "873e36f7",
   "metadata": {},
   "outputs": [],
   "source": [
    "# first index (row) = serial number of program\n",
    "# second index (column) = serial number of feature (1-token)\n",
    "\n",
    "# print(tfidf_matrix)"
   ]
  },
  {
   "cell_type": "code",
   "execution_count": 85,
   "id": "a6952b40",
   "metadata": {},
   "outputs": [
    {
     "data": {
      "text/html": [
       "<div>\n",
       "<style scoped>\n",
       "    .dataframe tbody tr th:only-of-type {\n",
       "        vertical-align: middle;\n",
       "    }\n",
       "\n",
       "    .dataframe tbody tr th {\n",
       "        vertical-align: top;\n",
       "    }\n",
       "\n",
       "    .dataframe thead th {\n",
       "        text-align: right;\n",
       "    }\n",
       "</style>\n",
       "<table border=\"1\" class=\"dataframe\">\n",
       "  <thead>\n",
       "    <tr style=\"text-align: right;\">\n",
       "      <th></th>\n",
       "      <th>0</th>\n",
       "      <th>1</th>\n",
       "      <th>2</th>\n",
       "      <th>3</th>\n",
       "      <th>4</th>\n",
       "      <th>5</th>\n",
       "      <th>6</th>\n",
       "      <th>7</th>\n",
       "      <th>8</th>\n",
       "      <th>9</th>\n",
       "      <th>...</th>\n",
       "      <th>39</th>\n",
       "      <th>40</th>\n",
       "      <th>41</th>\n",
       "      <th>42</th>\n",
       "      <th>43</th>\n",
       "      <th>44</th>\n",
       "      <th>45</th>\n",
       "      <th>46</th>\n",
       "      <th>47</th>\n",
       "      <th>48</th>\n",
       "    </tr>\n",
       "  </thead>\n",
       "  <tbody>\n",
       "    <tr>\n",
       "      <th>0</th>\n",
       "      <td>0.000000</td>\n",
       "      <td>0.0</td>\n",
       "      <td>0.0</td>\n",
       "      <td>0.000000</td>\n",
       "      <td>0.0</td>\n",
       "      <td>0.000000</td>\n",
       "      <td>0.0</td>\n",
       "      <td>0.0</td>\n",
       "      <td>0.000000</td>\n",
       "      <td>0.000000</td>\n",
       "      <td>...</td>\n",
       "      <td>0.000000</td>\n",
       "      <td>0.000000</td>\n",
       "      <td>0.0</td>\n",
       "      <td>0.000000</td>\n",
       "      <td>0.0</td>\n",
       "      <td>0.0</td>\n",
       "      <td>0.0</td>\n",
       "      <td>0.000000</td>\n",
       "      <td>0.000000</td>\n",
       "      <td>0.0</td>\n",
       "    </tr>\n",
       "    <tr>\n",
       "      <th>1</th>\n",
       "      <td>0.000000</td>\n",
       "      <td>0.0</td>\n",
       "      <td>0.0</td>\n",
       "      <td>0.649005</td>\n",
       "      <td>0.0</td>\n",
       "      <td>0.433823</td>\n",
       "      <td>0.0</td>\n",
       "      <td>0.0</td>\n",
       "      <td>0.000000</td>\n",
       "      <td>0.000000</td>\n",
       "      <td>...</td>\n",
       "      <td>0.000000</td>\n",
       "      <td>0.000000</td>\n",
       "      <td>0.0</td>\n",
       "      <td>0.000000</td>\n",
       "      <td>0.0</td>\n",
       "      <td>0.0</td>\n",
       "      <td>0.0</td>\n",
       "      <td>0.449875</td>\n",
       "      <td>0.000000</td>\n",
       "      <td>0.0</td>\n",
       "    </tr>\n",
       "    <tr>\n",
       "      <th>2</th>\n",
       "      <td>0.000000</td>\n",
       "      <td>0.0</td>\n",
       "      <td>0.0</td>\n",
       "      <td>0.000000</td>\n",
       "      <td>0.0</td>\n",
       "      <td>0.000000</td>\n",
       "      <td>0.0</td>\n",
       "      <td>0.0</td>\n",
       "      <td>0.269096</td>\n",
       "      <td>0.225922</td>\n",
       "      <td>...</td>\n",
       "      <td>0.170960</td>\n",
       "      <td>0.000000</td>\n",
       "      <td>0.0</td>\n",
       "      <td>0.000000</td>\n",
       "      <td>0.0</td>\n",
       "      <td>0.0</td>\n",
       "      <td>0.0</td>\n",
       "      <td>0.000000</td>\n",
       "      <td>0.251177</td>\n",
       "      <td>0.0</td>\n",
       "    </tr>\n",
       "    <tr>\n",
       "      <th>3</th>\n",
       "      <td>0.310085</td>\n",
       "      <td>0.0</td>\n",
       "      <td>0.0</td>\n",
       "      <td>0.000000</td>\n",
       "      <td>0.0</td>\n",
       "      <td>0.000000</td>\n",
       "      <td>0.0</td>\n",
       "      <td>0.0</td>\n",
       "      <td>0.000000</td>\n",
       "      <td>0.000000</td>\n",
       "      <td>...</td>\n",
       "      <td>0.000000</td>\n",
       "      <td>0.281636</td>\n",
       "      <td>0.0</td>\n",
       "      <td>0.377678</td>\n",
       "      <td>0.0</td>\n",
       "      <td>0.0</td>\n",
       "      <td>0.0</td>\n",
       "      <td>0.000000</td>\n",
       "      <td>0.000000</td>\n",
       "      <td>0.0</td>\n",
       "    </tr>\n",
       "    <tr>\n",
       "      <th>4</th>\n",
       "      <td>0.000000</td>\n",
       "      <td>0.0</td>\n",
       "      <td>0.0</td>\n",
       "      <td>0.320848</td>\n",
       "      <td>0.0</td>\n",
       "      <td>0.000000</td>\n",
       "      <td>0.0</td>\n",
       "      <td>0.0</td>\n",
       "      <td>0.000000</td>\n",
       "      <td>0.000000</td>\n",
       "      <td>...</td>\n",
       "      <td>0.000000</td>\n",
       "      <td>0.000000</td>\n",
       "      <td>0.0</td>\n",
       "      <td>0.444809</td>\n",
       "      <td>0.0</td>\n",
       "      <td>0.0</td>\n",
       "      <td>0.0</td>\n",
       "      <td>0.000000</td>\n",
       "      <td>0.000000</td>\n",
       "      <td>0.0</td>\n",
       "    </tr>\n",
       "    <tr>\n",
       "      <th>...</th>\n",
       "      <td>...</td>\n",
       "      <td>...</td>\n",
       "      <td>...</td>\n",
       "      <td>...</td>\n",
       "      <td>...</td>\n",
       "      <td>...</td>\n",
       "      <td>...</td>\n",
       "      <td>...</td>\n",
       "      <td>...</td>\n",
       "      <td>...</td>\n",
       "      <td>...</td>\n",
       "      <td>...</td>\n",
       "      <td>...</td>\n",
       "      <td>...</td>\n",
       "      <td>...</td>\n",
       "      <td>...</td>\n",
       "      <td>...</td>\n",
       "      <td>...</td>\n",
       "      <td>...</td>\n",
       "      <td>...</td>\n",
       "      <td>...</td>\n",
       "    </tr>\n",
       "    <tr>\n",
       "      <th>160</th>\n",
       "      <td>0.000000</td>\n",
       "      <td>0.0</td>\n",
       "      <td>0.0</td>\n",
       "      <td>0.399021</td>\n",
       "      <td>0.0</td>\n",
       "      <td>0.000000</td>\n",
       "      <td>0.0</td>\n",
       "      <td>0.0</td>\n",
       "      <td>0.000000</td>\n",
       "      <td>0.000000</td>\n",
       "      <td>...</td>\n",
       "      <td>0.351444</td>\n",
       "      <td>0.000000</td>\n",
       "      <td>0.0</td>\n",
       "      <td>0.000000</td>\n",
       "      <td>0.0</td>\n",
       "      <td>0.0</td>\n",
       "      <td>0.0</td>\n",
       "      <td>0.553184</td>\n",
       "      <td>0.000000</td>\n",
       "      <td>0.0</td>\n",
       "    </tr>\n",
       "    <tr>\n",
       "      <th>161</th>\n",
       "      <td>0.000000</td>\n",
       "      <td>0.0</td>\n",
       "      <td>0.0</td>\n",
       "      <td>0.000000</td>\n",
       "      <td>0.0</td>\n",
       "      <td>0.000000</td>\n",
       "      <td>0.0</td>\n",
       "      <td>0.0</td>\n",
       "      <td>0.000000</td>\n",
       "      <td>0.000000</td>\n",
       "      <td>...</td>\n",
       "      <td>0.000000</td>\n",
       "      <td>0.000000</td>\n",
       "      <td>0.0</td>\n",
       "      <td>0.000000</td>\n",
       "      <td>0.0</td>\n",
       "      <td>0.0</td>\n",
       "      <td>0.0</td>\n",
       "      <td>0.000000</td>\n",
       "      <td>0.000000</td>\n",
       "      <td>0.0</td>\n",
       "    </tr>\n",
       "    <tr>\n",
       "      <th>162</th>\n",
       "      <td>0.000000</td>\n",
       "      <td>1.0</td>\n",
       "      <td>0.0</td>\n",
       "      <td>0.000000</td>\n",
       "      <td>0.0</td>\n",
       "      <td>0.000000</td>\n",
       "      <td>0.0</td>\n",
       "      <td>0.0</td>\n",
       "      <td>0.000000</td>\n",
       "      <td>0.000000</td>\n",
       "      <td>...</td>\n",
       "      <td>0.000000</td>\n",
       "      <td>0.000000</td>\n",
       "      <td>0.0</td>\n",
       "      <td>0.000000</td>\n",
       "      <td>0.0</td>\n",
       "      <td>0.0</td>\n",
       "      <td>0.0</td>\n",
       "      <td>0.000000</td>\n",
       "      <td>0.000000</td>\n",
       "      <td>0.0</td>\n",
       "    </tr>\n",
       "    <tr>\n",
       "      <th>163</th>\n",
       "      <td>0.000000</td>\n",
       "      <td>0.0</td>\n",
       "      <td>0.0</td>\n",
       "      <td>0.000000</td>\n",
       "      <td>0.0</td>\n",
       "      <td>0.000000</td>\n",
       "      <td>0.0</td>\n",
       "      <td>0.0</td>\n",
       "      <td>0.000000</td>\n",
       "      <td>0.000000</td>\n",
       "      <td>...</td>\n",
       "      <td>0.000000</td>\n",
       "      <td>0.000000</td>\n",
       "      <td>0.0</td>\n",
       "      <td>0.000000</td>\n",
       "      <td>0.0</td>\n",
       "      <td>0.0</td>\n",
       "      <td>0.0</td>\n",
       "      <td>0.000000</td>\n",
       "      <td>0.000000</td>\n",
       "      <td>0.0</td>\n",
       "    </tr>\n",
       "    <tr>\n",
       "      <th>164</th>\n",
       "      <td>0.000000</td>\n",
       "      <td>0.0</td>\n",
       "      <td>0.0</td>\n",
       "      <td>0.000000</td>\n",
       "      <td>0.0</td>\n",
       "      <td>0.000000</td>\n",
       "      <td>0.0</td>\n",
       "      <td>0.0</td>\n",
       "      <td>0.000000</td>\n",
       "      <td>0.000000</td>\n",
       "      <td>...</td>\n",
       "      <td>0.000000</td>\n",
       "      <td>0.000000</td>\n",
       "      <td>0.0</td>\n",
       "      <td>0.000000</td>\n",
       "      <td>0.0</td>\n",
       "      <td>0.0</td>\n",
       "      <td>0.0</td>\n",
       "      <td>0.000000</td>\n",
       "      <td>0.000000</td>\n",
       "      <td>0.0</td>\n",
       "    </tr>\n",
       "  </tbody>\n",
       "</table>\n",
       "<p>165 rows × 49 columns</p>\n",
       "</div>"
      ],
      "text/plain": [
       "           0    1    2         3    4         5    6    7         8   \\\n",
       "0    0.000000  0.0  0.0  0.000000  0.0  0.000000  0.0  0.0  0.000000   \n",
       "1    0.000000  0.0  0.0  0.649005  0.0  0.433823  0.0  0.0  0.000000   \n",
       "2    0.000000  0.0  0.0  0.000000  0.0  0.000000  0.0  0.0  0.269096   \n",
       "3    0.310085  0.0  0.0  0.000000  0.0  0.000000  0.0  0.0  0.000000   \n",
       "4    0.000000  0.0  0.0  0.320848  0.0  0.000000  0.0  0.0  0.000000   \n",
       "..        ...  ...  ...       ...  ...       ...  ...  ...       ...   \n",
       "160  0.000000  0.0  0.0  0.399021  0.0  0.000000  0.0  0.0  0.000000   \n",
       "161  0.000000  0.0  0.0  0.000000  0.0  0.000000  0.0  0.0  0.000000   \n",
       "162  0.000000  1.0  0.0  0.000000  0.0  0.000000  0.0  0.0  0.000000   \n",
       "163  0.000000  0.0  0.0  0.000000  0.0  0.000000  0.0  0.0  0.000000   \n",
       "164  0.000000  0.0  0.0  0.000000  0.0  0.000000  0.0  0.0  0.000000   \n",
       "\n",
       "           9   ...        39        40   41        42   43   44   45  \\\n",
       "0    0.000000  ...  0.000000  0.000000  0.0  0.000000  0.0  0.0  0.0   \n",
       "1    0.000000  ...  0.000000  0.000000  0.0  0.000000  0.0  0.0  0.0   \n",
       "2    0.225922  ...  0.170960  0.000000  0.0  0.000000  0.0  0.0  0.0   \n",
       "3    0.000000  ...  0.000000  0.281636  0.0  0.377678  0.0  0.0  0.0   \n",
       "4    0.000000  ...  0.000000  0.000000  0.0  0.444809  0.0  0.0  0.0   \n",
       "..        ...  ...       ...       ...  ...       ...  ...  ...  ...   \n",
       "160  0.000000  ...  0.351444  0.000000  0.0  0.000000  0.0  0.0  0.0   \n",
       "161  0.000000  ...  0.000000  0.000000  0.0  0.000000  0.0  0.0  0.0   \n",
       "162  0.000000  ...  0.000000  0.000000  0.0  0.000000  0.0  0.0  0.0   \n",
       "163  0.000000  ...  0.000000  0.000000  0.0  0.000000  0.0  0.0  0.0   \n",
       "164  0.000000  ...  0.000000  0.000000  0.0  0.000000  0.0  0.0  0.0   \n",
       "\n",
       "           46        47   48  \n",
       "0    0.000000  0.000000  0.0  \n",
       "1    0.449875  0.000000  0.0  \n",
       "2    0.000000  0.251177  0.0  \n",
       "3    0.000000  0.000000  0.0  \n",
       "4    0.000000  0.000000  0.0  \n",
       "..        ...       ...  ...  \n",
       "160  0.553184  0.000000  0.0  \n",
       "161  0.000000  0.000000  0.0  \n",
       "162  0.000000  0.000000  0.0  \n",
       "163  0.000000  0.000000  0.0  \n",
       "164  0.000000  0.000000  0.0  \n",
       "\n",
       "[165 rows x 49 columns]"
      ]
     },
     "execution_count": 85,
     "metadata": {},
     "output_type": "execute_result"
    }
   ],
   "source": [
    "tfidf_array = tfidf_matrix.todense()\n",
    "tfidf_df = pd.DataFrame(tfidf_array)\n",
    "tfidf_df"
   ]
  },
  {
   "cell_type": "code",
   "execution_count": 118,
   "id": "75788576",
   "metadata": {},
   "outputs": [],
   "source": [
    "# tfidf_df[search_indexes]"
   ]
  },
  {
   "cell_type": "code",
   "execution_count": 165,
   "id": "79811af6",
   "metadata": {},
   "outputs": [
    {
     "data": {
      "text/html": [
       "<div>\n",
       "<style scoped>\n",
       "    .dataframe tbody tr th:only-of-type {\n",
       "        vertical-align: middle;\n",
       "    }\n",
       "\n",
       "    .dataframe tbody tr th {\n",
       "        vertical-align: top;\n",
       "    }\n",
       "\n",
       "    .dataframe thead th {\n",
       "        text-align: right;\n",
       "    }\n",
       "</style>\n",
       "<table border=\"1\" class=\"dataframe\">\n",
       "  <thead>\n",
       "    <tr style=\"text-align: right;\">\n",
       "      <th></th>\n",
       "      <th>count</th>\n",
       "      <th>token</th>\n",
       "    </tr>\n",
       "  </thead>\n",
       "  <tbody>\n",
       "    <tr>\n",
       "      <th>30</th>\n",
       "      <td>43.0</td>\n",
       "      <td>повышен стипенд</td>\n",
       "    </tr>\n",
       "    <tr>\n",
       "      <th>9</th>\n",
       "      <td>32.0</td>\n",
       "      <td>ден пифагор</td>\n",
       "    </tr>\n",
       "    <tr>\n",
       "      <th>0</th>\n",
       "      <td>27.0</td>\n",
       "      <td>активн участ</td>\n",
       "    </tr>\n",
       "    <tr>\n",
       "      <th>25</th>\n",
       "      <td>22.0</td>\n",
       "      <td>обществен деятельн</td>\n",
       "    </tr>\n",
       "    <tr>\n",
       "      <th>4</th>\n",
       "      <td>22.0</td>\n",
       "      <td>групп образован</td>\n",
       "    </tr>\n",
       "    <tr>\n",
       "      <th>7</th>\n",
       "      <td>19.0</td>\n",
       "      <td>групп праздник</td>\n",
       "    </tr>\n",
       "    <tr>\n",
       "      <th>5</th>\n",
       "      <td>17.0</td>\n",
       "      <td>групп оповещен</td>\n",
       "    </tr>\n",
       "    <tr>\n",
       "      <th>19</th>\n",
       "      <td>16.0</td>\n",
       "      <td>конкурс групп</td>\n",
       "    </tr>\n",
       "    <tr>\n",
       "      <th>14</th>\n",
       "      <td>16.0</td>\n",
       "      <td>занима обществен</td>\n",
       "    </tr>\n",
       "    <tr>\n",
       "      <th>20</th>\n",
       "      <td>15.0</td>\n",
       "      <td>координатор рабоч</td>\n",
       "    </tr>\n",
       "    <tr>\n",
       "      <th>26</th>\n",
       "      <td>14.0</td>\n",
       "      <td>обществен жизн</td>\n",
       "    </tr>\n",
       "    <tr>\n",
       "      <th>45</th>\n",
       "      <td>14.0</td>\n",
       "      <td>сдела жизн</td>\n",
       "    </tr>\n",
       "    <tr>\n",
       "      <th>40</th>\n",
       "      <td>13.0</td>\n",
       "      <td>продолж работ</td>\n",
       "    </tr>\n",
       "    <tr>\n",
       "      <th>34</th>\n",
       "      <td>13.0</td>\n",
       "      <td>представля интерес</td>\n",
       "    </tr>\n",
       "    <tr>\n",
       "      <th>32</th>\n",
       "      <td>12.0</td>\n",
       "      <td>помога проведен</td>\n",
       "    </tr>\n",
       "    <tr>\n",
       "      <th>8</th>\n",
       "      <td>12.0</td>\n",
       "      <td>ден ден</td>\n",
       "    </tr>\n",
       "    <tr>\n",
       "      <th>17</th>\n",
       "      <td>12.0</td>\n",
       "      <td>интерес поток</td>\n",
       "    </tr>\n",
       "    <tr>\n",
       "      <th>1</th>\n",
       "      <td>12.0</td>\n",
       "      <td>активн участвова</td>\n",
       "    </tr>\n",
       "    <tr>\n",
       "      <th>23</th>\n",
       "      <td>11.0</td>\n",
       "      <td>нов проект</td>\n",
       "    </tr>\n",
       "    <tr>\n",
       "      <th>29</th>\n",
       "      <td>11.0</td>\n",
       "      <td>планир продолж</td>\n",
       "    </tr>\n",
       "  </tbody>\n",
       "</table>\n",
       "</div>"
      ],
      "text/plain": [
       "    count               token\n",
       "30   43.0     повышен стипенд\n",
       "9    32.0         ден пифагор\n",
       "0    27.0        активн участ\n",
       "25   22.0  обществен деятельн\n",
       "4    22.0     групп образован\n",
       "7    19.0      групп праздник\n",
       "5    17.0      групп оповещен\n",
       "19   16.0       конкурс групп\n",
       "14   16.0    занима обществен\n",
       "20   15.0   координатор рабоч\n",
       "26   14.0      обществен жизн\n",
       "45   14.0          сдела жизн\n",
       "40   13.0       продолж работ\n",
       "34   13.0  представля интерес\n",
       "32   12.0     помога проведен\n",
       "8    12.0             ден ден\n",
       "17   12.0       интерес поток\n",
       "1    12.0    активн участвова\n",
       "23   11.0          нов проект\n",
       "29   11.0      планир продолж"
      ]
     },
     "execution_count": 165,
     "metadata": {},
     "output_type": "execute_result"
    }
   ],
   "source": [
    "# flags of occurance \n",
    "tfidf_flags_df = tfidf_df[list(tfidf_df)]\n",
    "for col in list(tfidf_df):\n",
    "    tfidf_flags_df[col] = np.sign(tfidf_flags_df[col])\n",
    "# tfidf_flags_df\n",
    "\n",
    "# frequency of features\n",
    "feature_frequency = pd.DataFrame(np.sum(tfidf_flags_df)).rename(columns={0:'count'})\n",
    "# feature_frequency\n",
    "\n",
    "# russian words of features\n",
    "terms_df = pd.DataFrame(terms).rename(columns={0:'token'})\n",
    "# terms_df\n",
    "\n",
    "# Top-20 of most frequent tokens\n",
    "tfidf_feature_df = pd.concat([feature_frequency, terms_df], axis=1).sort_values(by='count', ascending=False)\n",
    "tfidf_feature_df.head(20)"
   ]
  },
  {
   "cell_type": "code",
   "execution_count": 226,
   "id": "f84ea2f2",
   "metadata": {},
   "outputs": [],
   "source": [
    "# exceptions = ['групп','вопрос','участ','нов','врем','созыв','перв','студент','поток','студенческ','член','наш','ваш','ид','втор']\n",
    "\n",
    "# tfidf_feature_df[~tfidf_feature_df['token'].isin(exceptions)].head(30)"
   ]
  },
  {
   "cell_type": "code",
   "execution_count": null,
   "id": "f680bcf6",
   "metadata": {},
   "outputs": [],
   "source": []
  },
  {
   "cell_type": "code",
   "execution_count": null,
   "id": "9dbc43c8",
   "metadata": {},
   "outputs": [],
   "source": []
  },
  {
   "cell_type": "code",
   "execution_count": null,
   "id": "92d140d7",
   "metadata": {},
   "outputs": [],
   "source": []
  },
  {
   "cell_type": "code",
   "execution_count": 32,
   "id": "02e34d80",
   "metadata": {},
   "outputs": [],
   "source": [
    "# tfidf_matrix.todense()"
   ]
  },
  {
   "cell_type": "code",
   "execution_count": 53,
   "id": "3fb01b8b",
   "metadata": {},
   "outputs": [],
   "source": [
    "# terms"
   ]
  },
  {
   "cell_type": "code",
   "execution_count": null,
   "id": "737be8be",
   "metadata": {},
   "outputs": [],
   "source": []
  },
  {
   "cell_type": "code",
   "execution_count": null,
   "id": "100d19c5",
   "metadata": {},
   "outputs": [],
   "source": []
  },
  {
   "cell_type": "code",
   "execution_count": null,
   "id": "bb989ffc",
   "metadata": {},
   "outputs": [],
   "source": [
    "# GOOD ENOUGH: \n",
    "# 1-3 conv [:91] \n",
    "# max_features=100\n",
    "# max_df=0.2, min_df=0.05\n",
    "# num_clusters = 3\n"
   ]
  },
  {
   "cell_type": "code",
   "execution_count": 175,
   "id": "0a5d22d3",
   "metadata": {},
   "outputs": [],
   "source": [
    "# km.cluster_centers_"
   ]
  },
  {
   "cell_type": "code",
   "execution_count": 176,
   "id": "61d608f3",
   "metadata": {},
   "outputs": [],
   "source": [
    "# km.cluster_centers_.argsort()"
   ]
  },
  {
   "cell_type": "code",
   "execution_count": null,
   "id": "502604cd",
   "metadata": {},
   "outputs": [],
   "source": []
  },
  {
   "cell_type": "code",
   "execution_count": null,
   "id": "c0adb4f5",
   "metadata": {},
   "outputs": [],
   "source": []
  },
  {
   "cell_type": "code",
   "execution_count": null,
   "id": "ae2984e7",
   "metadata": {},
   "outputs": [],
   "source": []
  },
  {
   "cell_type": "code",
   "execution_count": null,
   "id": "f51dd4d3",
   "metadata": {},
   "outputs": [],
   "source": []
  },
  {
   "cell_type": "markdown",
   "id": "22a4de77",
   "metadata": {},
   "source": [
    "# (Alt: Clustering with sparse matrix)"
   ]
  },
  {
   "cell_type": "code",
   "execution_count": 224,
   "id": "35e27fb7",
   "metadata": {},
   "outputs": [],
   "source": [
    "from scipy.cluster.vq import kmeans, vq"
   ]
  },
  {
   "cell_type": "code",
   "execution_count": 225,
   "id": "d5a0892b",
   "metadata": {},
   "outputs": [
    {
     "name": "stdout",
     "output_type": "stream",
     "text": [
      "['конкурс групп', 'обществен деятельн', 'бытов вопрос', 'планир занима', 'вопрос котор', 'активн участ', 'дня пифагор', 'жизн мехматя', 'занима вопрос', 'инициативн групп']\n",
      "['инициативн групп', 'внест вклад', 'иностра язык', 'планир продолж', 'координатор рабоч', 'обществен жизн', 'активн участ', 'дела жизн', 'занима вопрос', 'общежит гз']\n",
      "['обществен работ', 'активн участ', 'добр ден', 'общежит гз', 'групп оповещен', 'интерес поток', 'нов созыв', 'иностра язык', 'дела жизн', 'групп образован']\n",
      "['ответствен секретар', 'активн участ', 'интересн мероприят', 'перв курс', 'активн участник', 'нов проект', 'интерес поток', 'групп первокурсник', 'мероприят ден', 'наш жизн']\n",
      "['групп оповещен', 'встреч второкурсник', 'жизн интересн', 'занима обществен', 'качеств образован', 'групп образован', 'лучш вуз', 'повышен стипенд', 'куратор групп', 'жизн мехматя']\n"
     ]
    }
   ],
   "source": [
    "cluster_centers, distortion = kmeans(tfidf_matrix.todense(), num_clusters)\n",
    "terms = tfidf_vectorizer.get_feature_names_out()\n",
    "\n",
    "for i in range(num_clusters):\n",
    "    center_terms = dict(zip(terms, list(cluster_centers[i])))\n",
    "    sorted_terms = sorted(center_terms, key=center_terms.get, reverse=True)\n",
    "    print(sorted_terms[:10])"
   ]
  },
  {
   "cell_type": "code",
   "execution_count": null,
   "id": "c91fc6d2",
   "metadata": {},
   "outputs": [],
   "source": []
  },
  {
   "cell_type": "code",
   "execution_count": null,
   "id": "e0644d62",
   "metadata": {},
   "outputs": [],
   "source": [
    "# CONCLUSION: clustering is failed\n",
    "# (maybe because of noisy words)"
   ]
  },
  {
   "cell_type": "code",
   "execution_count": null,
   "id": "f43d705b",
   "metadata": {},
   "outputs": [],
   "source": []
  },
  {
   "cell_type": "code",
   "execution_count": null,
   "id": "6046850f",
   "metadata": {},
   "outputs": [],
   "source": []
  },
  {
   "cell_type": "code",
   "execution_count": null,
   "id": "2a354954",
   "metadata": {},
   "outputs": [],
   "source": []
  },
  {
   "cell_type": "code",
   "execution_count": null,
   "id": "ecae2c5a",
   "metadata": {},
   "outputs": [],
   "source": []
  },
  {
   "cell_type": "code",
   "execution_count": null,
   "id": "199e0df7",
   "metadata": {},
   "outputs": [],
   "source": []
  },
  {
   "cell_type": "code",
   "execution_count": null,
   "id": "c37a0dcc",
   "metadata": {},
   "outputs": [],
   "source": []
  },
  {
   "cell_type": "code",
   "execution_count": 356,
   "id": "02c0389f",
   "metadata": {},
   "outputs": [
    {
     "data": {
      "text/plain": [
       "<function print(*args, sep=' ', end='\\n', file=None, flush=False)>"
      ]
     },
     "execution_count": 356,
     "metadata": {},
     "output_type": "execute_result"
    }
   ],
   "source": [
    "from sklearn.metrics.pairwise import cosine_similarity\n",
    "dist = 1 - cosine_similarity(tfidf_matrix)\n",
    "# print\n",
    "# print"
   ]
  },
  {
   "cell_type": "code",
   "execution_count": 357,
   "id": "69823cfe",
   "metadata": {},
   "outputs": [
    {
     "name": "stdout",
     "output_type": "stream",
     "text": [
      "\n",
      "\n"
     ]
    },
    {
     "name": "stderr",
     "output_type": "stream",
     "text": [
      "/opt/homebrew/lib/python3.11/site-packages/sklearn/manifold/_mds.py:299: FutureWarning: The default value of `normalized_stress` will change to `'auto'` in version 1.4. To suppress this warning, manually set the value of `normalized_stress`.\n",
      "  warnings.warn(\n"
     ]
    }
   ],
   "source": [
    "import os  # for os.path.basename\n",
    "\n",
    "import matplotlib.pyplot as plt\n",
    "import matplotlib as mpl\n",
    "\n",
    "from sklearn.manifold import MDS\n",
    "\n",
    "MDS()\n",
    "\n",
    "# convert two components as we're plotting points in a two-dimensional plane\n",
    "# \"precomputed\" because we provide a distance matrix\n",
    "# we will also specify `random_state` so the plot is reproducible.\n",
    "mds = MDS(n_components=2, dissimilarity=\"precomputed\", random_state=1)\n",
    "\n",
    "pos = mds.fit_transform(dist)  # shape (n_components, n_samples)\n",
    "\n",
    "xs, ys = pos[:, 0], pos[:, 1]\n",
    "print()\n",
    "print()"
   ]
  },
  {
   "cell_type": "code",
   "execution_count": 366,
   "id": "9ebc74cd",
   "metadata": {},
   "outputs": [],
   "source": [
    "# cluster_colors = {0: '#1b9e77', 1: '#d95f02', 2: '#7570b3', 3: '#e7298a', 4: '#66a61e'}\n",
    "\n",
    "# cluster_names = {0: 'Family, home, war', \n",
    "#                  1: 'Police, killed, murders', \n",
    "#                  2: 'Father, New York, brothers', \n",
    "#                  3: 'Dance, singing, love', \n",
    "#                  4: 'Killed, soldiers, captain'}\n",
    "\n",
    "cluster_names = {}\n",
    "for i in range(num_clusters):\n",
    "    cluster_names[i] = str(i)"
   ]
  },
  {
   "cell_type": "code",
   "execution_count": 445,
   "id": "863cf485",
   "metadata": {},
   "outputs": [
    {
     "ename": "ValueError",
     "evalue": "All arrays must be of the same length",
     "output_type": "error",
     "traceback": [
      "\u001b[0;31m---------------------------------------------------------------------------\u001b[0m",
      "\u001b[0;31mValueError\u001b[0m                                Traceback (most recent call last)",
      "Cell \u001b[0;32mIn[445], line 5\u001b[0m\n\u001b[1;32m      2\u001b[0m get_ipython()\u001b[38;5;241m.\u001b[39mrun_line_magic(\u001b[38;5;124m'\u001b[39m\u001b[38;5;124mmatplotlib\u001b[39m\u001b[38;5;124m'\u001b[39m, \u001b[38;5;124m'\u001b[39m\u001b[38;5;124minline\u001b[39m\u001b[38;5;124m'\u001b[39m)\n\u001b[1;32m      4\u001b[0m \u001b[38;5;66;03m#create data frame that has the result of the MDS plus the cluster numbers and titles\u001b[39;00m\n\u001b[0;32m----> 5\u001b[0m df \u001b[38;5;241m=\u001b[39m \u001b[43mpd\u001b[49m\u001b[38;5;241;43m.\u001b[39;49m\u001b[43mDataFrame\u001b[49m\u001b[43m(\u001b[49m\u001b[38;5;28;43mdict\u001b[39;49m\u001b[43m(\u001b[49m\u001b[43mx\u001b[49m\u001b[38;5;241;43m=\u001b[39;49m\u001b[43mxs\u001b[49m\u001b[43m,\u001b[49m\u001b[43m \u001b[49m\u001b[43my\u001b[49m\u001b[38;5;241;43m=\u001b[39;49m\u001b[43mys\u001b[49m\u001b[43m,\u001b[49m\u001b[43m \u001b[49m\u001b[43mlabel\u001b[49m\u001b[38;5;241;43m=\u001b[39;49m\u001b[43mclusters\u001b[49m\u001b[43m,\u001b[49m\u001b[43m \u001b[49m\u001b[43mtitle\u001b[49m\u001b[38;5;241;43m=\u001b[39;49m\u001b[43mkey_list\u001b[49m\u001b[43m)\u001b[49m\u001b[43m)\u001b[49m \n\u001b[1;32m      7\u001b[0m \u001b[38;5;66;03m#group by cluster\u001b[39;00m\n\u001b[1;32m      8\u001b[0m groups \u001b[38;5;241m=\u001b[39m df\u001b[38;5;241m.\u001b[39mgroupby(\u001b[38;5;124m'\u001b[39m\u001b[38;5;124mlabel\u001b[39m\u001b[38;5;124m'\u001b[39m)\n",
      "File \u001b[0;32m/opt/homebrew/lib/python3.11/site-packages/pandas/core/frame.py:663\u001b[0m, in \u001b[0;36mDataFrame.__init__\u001b[0;34m(self, data, index, columns, dtype, copy)\u001b[0m\n\u001b[1;32m    657\u001b[0m     mgr \u001b[38;5;241m=\u001b[39m \u001b[38;5;28mself\u001b[39m\u001b[38;5;241m.\u001b[39m_init_mgr(\n\u001b[1;32m    658\u001b[0m         data, axes\u001b[38;5;241m=\u001b[39m{\u001b[38;5;124m\"\u001b[39m\u001b[38;5;124mindex\u001b[39m\u001b[38;5;124m\"\u001b[39m: index, \u001b[38;5;124m\"\u001b[39m\u001b[38;5;124mcolumns\u001b[39m\u001b[38;5;124m\"\u001b[39m: columns}, dtype\u001b[38;5;241m=\u001b[39mdtype, copy\u001b[38;5;241m=\u001b[39mcopy\n\u001b[1;32m    659\u001b[0m     )\n\u001b[1;32m    661\u001b[0m \u001b[38;5;28;01melif\u001b[39;00m \u001b[38;5;28misinstance\u001b[39m(data, \u001b[38;5;28mdict\u001b[39m):\n\u001b[1;32m    662\u001b[0m     \u001b[38;5;66;03m# GH#38939 de facto copy defaults to False only in non-dict cases\u001b[39;00m\n\u001b[0;32m--> 663\u001b[0m     mgr \u001b[38;5;241m=\u001b[39m \u001b[43mdict_to_mgr\u001b[49m\u001b[43m(\u001b[49m\u001b[43mdata\u001b[49m\u001b[43m,\u001b[49m\u001b[43m \u001b[49m\u001b[43mindex\u001b[49m\u001b[43m,\u001b[49m\u001b[43m \u001b[49m\u001b[43mcolumns\u001b[49m\u001b[43m,\u001b[49m\u001b[43m \u001b[49m\u001b[43mdtype\u001b[49m\u001b[38;5;241;43m=\u001b[39;49m\u001b[43mdtype\u001b[49m\u001b[43m,\u001b[49m\u001b[43m \u001b[49m\u001b[43mcopy\u001b[49m\u001b[38;5;241;43m=\u001b[39;49m\u001b[43mcopy\u001b[49m\u001b[43m,\u001b[49m\u001b[43m \u001b[49m\u001b[43mtyp\u001b[49m\u001b[38;5;241;43m=\u001b[39;49m\u001b[43mmanager\u001b[49m\u001b[43m)\u001b[49m\n\u001b[1;32m    664\u001b[0m \u001b[38;5;28;01melif\u001b[39;00m \u001b[38;5;28misinstance\u001b[39m(data, ma\u001b[38;5;241m.\u001b[39mMaskedArray):\n\u001b[1;32m    665\u001b[0m     \u001b[38;5;28;01mimport\u001b[39;00m \u001b[38;5;21;01mnumpy\u001b[39;00m\u001b[38;5;21;01m.\u001b[39;00m\u001b[38;5;21;01mma\u001b[39;00m\u001b[38;5;21;01m.\u001b[39;00m\u001b[38;5;21;01mmrecords\u001b[39;00m \u001b[38;5;28;01mas\u001b[39;00m \u001b[38;5;21;01mmrecords\u001b[39;00m\n",
      "File \u001b[0;32m/opt/homebrew/lib/python3.11/site-packages/pandas/core/internals/construction.py:493\u001b[0m, in \u001b[0;36mdict_to_mgr\u001b[0;34m(data, index, columns, dtype, typ, copy)\u001b[0m\n\u001b[1;32m    489\u001b[0m     \u001b[38;5;28;01melse\u001b[39;00m:\n\u001b[1;32m    490\u001b[0m         \u001b[38;5;66;03m# dtype check to exclude e.g. range objects, scalars\u001b[39;00m\n\u001b[1;32m    491\u001b[0m         arrays \u001b[38;5;241m=\u001b[39m [x\u001b[38;5;241m.\u001b[39mcopy() \u001b[38;5;28;01mif\u001b[39;00m \u001b[38;5;28mhasattr\u001b[39m(x, \u001b[38;5;124m\"\u001b[39m\u001b[38;5;124mdtype\u001b[39m\u001b[38;5;124m\"\u001b[39m) \u001b[38;5;28;01melse\u001b[39;00m x \u001b[38;5;28;01mfor\u001b[39;00m x \u001b[38;5;129;01min\u001b[39;00m arrays]\n\u001b[0;32m--> 493\u001b[0m \u001b[38;5;28;01mreturn\u001b[39;00m \u001b[43marrays_to_mgr\u001b[49m\u001b[43m(\u001b[49m\u001b[43marrays\u001b[49m\u001b[43m,\u001b[49m\u001b[43m \u001b[49m\u001b[43mcolumns\u001b[49m\u001b[43m,\u001b[49m\u001b[43m \u001b[49m\u001b[43mindex\u001b[49m\u001b[43m,\u001b[49m\u001b[43m \u001b[49m\u001b[43mdtype\u001b[49m\u001b[38;5;241;43m=\u001b[39;49m\u001b[43mdtype\u001b[49m\u001b[43m,\u001b[49m\u001b[43m \u001b[49m\u001b[43mtyp\u001b[49m\u001b[38;5;241;43m=\u001b[39;49m\u001b[43mtyp\u001b[49m\u001b[43m,\u001b[49m\u001b[43m \u001b[49m\u001b[43mconsolidate\u001b[49m\u001b[38;5;241;43m=\u001b[39;49m\u001b[43mcopy\u001b[49m\u001b[43m)\u001b[49m\n",
      "File \u001b[0;32m/opt/homebrew/lib/python3.11/site-packages/pandas/core/internals/construction.py:118\u001b[0m, in \u001b[0;36marrays_to_mgr\u001b[0;34m(arrays, columns, index, dtype, verify_integrity, typ, consolidate)\u001b[0m\n\u001b[1;32m    115\u001b[0m \u001b[38;5;28;01mif\u001b[39;00m verify_integrity:\n\u001b[1;32m    116\u001b[0m     \u001b[38;5;66;03m# figure out the index, if necessary\u001b[39;00m\n\u001b[1;32m    117\u001b[0m     \u001b[38;5;28;01mif\u001b[39;00m index \u001b[38;5;129;01mis\u001b[39;00m \u001b[38;5;28;01mNone\u001b[39;00m:\n\u001b[0;32m--> 118\u001b[0m         index \u001b[38;5;241m=\u001b[39m \u001b[43m_extract_index\u001b[49m\u001b[43m(\u001b[49m\u001b[43marrays\u001b[49m\u001b[43m)\u001b[49m\n\u001b[1;32m    119\u001b[0m     \u001b[38;5;28;01melse\u001b[39;00m:\n\u001b[1;32m    120\u001b[0m         index \u001b[38;5;241m=\u001b[39m ensure_index(index)\n",
      "File \u001b[0;32m/opt/homebrew/lib/python3.11/site-packages/pandas/core/internals/construction.py:666\u001b[0m, in \u001b[0;36m_extract_index\u001b[0;34m(data)\u001b[0m\n\u001b[1;32m    664\u001b[0m lengths \u001b[38;5;241m=\u001b[39m \u001b[38;5;28mlist\u001b[39m(\u001b[38;5;28mset\u001b[39m(raw_lengths))\n\u001b[1;32m    665\u001b[0m \u001b[38;5;28;01mif\u001b[39;00m \u001b[38;5;28mlen\u001b[39m(lengths) \u001b[38;5;241m>\u001b[39m \u001b[38;5;241m1\u001b[39m:\n\u001b[0;32m--> 666\u001b[0m     \u001b[38;5;28;01mraise\u001b[39;00m \u001b[38;5;167;01mValueError\u001b[39;00m(\u001b[38;5;124m\"\u001b[39m\u001b[38;5;124mAll arrays must be of the same length\u001b[39m\u001b[38;5;124m\"\u001b[39m)\n\u001b[1;32m    668\u001b[0m \u001b[38;5;28;01mif\u001b[39;00m have_dicts:\n\u001b[1;32m    669\u001b[0m     \u001b[38;5;28;01mraise\u001b[39;00m \u001b[38;5;167;01mValueError\u001b[39;00m(\n\u001b[1;32m    670\u001b[0m         \u001b[38;5;124m\"\u001b[39m\u001b[38;5;124mMixing dicts with non-Series may lead to ambiguous ordering.\u001b[39m\u001b[38;5;124m\"\u001b[39m\n\u001b[1;32m    671\u001b[0m     )\n",
      "\u001b[0;31mValueError\u001b[0m: All arrays must be of the same length"
     ]
    }
   ],
   "source": [
    "#some ipython magic to show the matplotlib plots inline\n",
    "%matplotlib inline \n",
    "\n",
    "#create data frame that has the result of the MDS plus the cluster numbers and titles\n",
    "df = pd.DataFrame(dict(x=xs, y=ys, label=clusters, title=key_list)) \n",
    "\n",
    "#group by cluster\n",
    "groups = df.groupby('label')\n",
    "\n",
    "# set up plot\n",
    "fig, ax = plt.subplots(figsize=(17, 9)) # set size\n",
    "ax.margins(0.05) # Optional, just adds 5% padding to the autoscaling\n",
    "\n",
    "#iterate through groups to layer the plot\n",
    "#note that I use the cluster_name and cluster_color dicts with the 'name' lookup to return the appropriate color/label\n",
    "for name, group in groups:\n",
    "    ax.plot(group.x, group.y, marker='o', linestyle='', ms=12, \n",
    "            label=cluster_names[name], # color=cluster_colors[name], \n",
    "            mec='none')\n",
    "    ax.set_aspect('auto')\n",
    "    ax.tick_params(\\\n",
    "        axis= 'x',          # changes apply to the x-axis\n",
    "        which='both',      # both major and minor ticks are affected\n",
    "        bottom='off',      # ticks along the bottom edge are off\n",
    "        top='off',         # ticks along the top edge are off\n",
    "        labelbottom='off')\n",
    "    ax.tick_params(\\\n",
    "        axis= 'y',         # changes apply to the y-axis\n",
    "        which='both',      # both major and minor ticks are affected\n",
    "        left='off',      # ticks along the bottom edge are off\n",
    "        top='off',         # ticks along the top edge are off\n",
    "        labelleft='off')\n",
    "    \n",
    "ax.legend(numpoints=1)  #show legend with only 1 point\n",
    "\n",
    "#add label in x,y position with the label as the film title\n",
    "for i in range(len(df)):\n",
    "    ax.text(df.loc[i]['x'], df.loc[i]['y'], df.loc[i]['title'], size=8)  \n",
    "\n",
    "    \n",
    "plt.show() #show the plot\n",
    "\n",
    "#uncomment the below to save the plot if need be\n",
    "#plt.savefig('clusters_small_noaxes.png', dpi=200)"
   ]
  },
  {
   "cell_type": "code",
   "execution_count": null,
   "id": "4d51c535",
   "metadata": {},
   "outputs": [],
   "source": []
  },
  {
   "cell_type": "code",
   "execution_count": null,
   "id": "9f631893",
   "metadata": {},
   "outputs": [],
   "source": []
  },
  {
   "cell_type": "code",
   "execution_count": null,
   "id": "90fe32f3",
   "metadata": {},
   "outputs": [],
   "source": []
  },
  {
   "cell_type": "code",
   "execution_count": null,
   "id": "04907a85",
   "metadata": {},
   "outputs": [],
   "source": [
    "# Import TfidfVectorizer\n",
    "from sklearn.feature_extraction.text import TfidfVectorizer\n",
    "\n",
    "# Instantiate TfidfVectorizer\n",
    "tv = TfidfVectorizer(max_features=100, stop_words='english')\n",
    "\n",
    "# Fit the vectroizer and transform the data\n",
    "tv_transformed = tv.fit_transform(speech_df['text_clean'])\n",
    "\n",
    "# Create a DataFrame with these features\n",
    "tv_df = pd.DataFrame(tv_transformed.toarray(), \n",
    "                     columns=tv.get_feature_names()).add_prefix('TFIDF_')\n",
    "print(tv_df.head())"
   ]
  },
  {
   "cell_type": "code",
   "execution_count": null,
   "id": "23bc7e74",
   "metadata": {},
   "outputs": [],
   "source": []
  },
  {
   "cell_type": "code",
   "execution_count": null,
   "id": "1dbf5800",
   "metadata": {},
   "outputs": [],
   "source": [
    "# N-grams !!!!\n",
    "\n",
    "# Import CountVectorizer\n",
    "from sklearn.feature_extraction.text import CountVectorizer\n",
    "\n",
    "# Instantiate a trigram vectorizer\n",
    "cv_trigram_vec = CountVectorizer(max_features=100, \n",
    "                                 stop_words='english', \n",
    "                                 ngram_range=(3,3))\n",
    "\n",
    "# Fit and apply trigram vectorizer\n",
    "cv_trigram = cv_trigram_vec.fit_transform(speech_df['text_clean'])\n",
    "\n",
    "# Print the trigram features\n",
    "print(cv_trigram_vec.get_feature_names())\n",
    "\n",
    "# Create a DataFrame of the features\n",
    "cv_tri_df = pd.DataFrame(cv_trigram.toarray(), \n",
    "                 columns=cv_trigram_vec.get_feature_names()).add_prefix('Counts_')\n",
    "\n",
    "# Print the top 5 words in the sorted output\n",
    "print(cv_tri_df.sum().sort_values(ascending=False).head())"
   ]
  },
  {
   "cell_type": "code",
   "execution_count": null,
   "id": "05f79835",
   "metadata": {},
   "outputs": [],
   "source": []
  },
  {
   "cell_type": "code",
   "execution_count": null,
   "id": "56aefb51",
   "metadata": {},
   "outputs": [],
   "source": []
  },
  {
   "cell_type": "markdown",
   "id": "81d6ab2a",
   "metadata": {},
   "source": [
    "# ideas from datacamp"
   ]
  },
  {
   "cell_type": "code",
   "execution_count": null,
   "id": "d0b81015",
   "metadata": {},
   "outputs": [],
   "source": [
    "# NAIVE BAYES -- the best classifier for texts\n",
    "\n",
    "# Import the necessary modules\n",
    "from sklearn import metrics\n",
    "from sklearn.naive_bayes import MultinomialNB\n",
    "\n",
    "# Training and testing the \"fake news\" model with CountVectorizer\n",
    "\n",
    "# Instantiate a Multinomial Naive Bayes classifier: nb_classifier\n",
    "nb_classifier = MultinomialNB()\n",
    "\n",
    "# Fit the classifier to the training data\n",
    "nb_classifier.fit(count_train, y_train)\n",
    "\n",
    "# Create the predicted tags: pred\n",
    "pred = nb_classifier.predict(count_test)\n",
    "\n",
    "# Calculate the accuracy score: score\n",
    "score = metrics.accuracy_score(y_test, pred)\n",
    "print(score)\n",
    "\n",
    "# Calculate the confusion matrix: cm\n",
    "cm = metrics.confusion_matrix(y_test, pred, labels=['FAKE', 'REAL'])\n",
    "print(cm)\n"
   ]
  },
  {
   "cell_type": "code",
   "execution_count": null,
   "id": "06f85cdf",
   "metadata": {},
   "outputs": [],
   "source": [
    "# Training and testing the \"fake news\" model with TfidfVectorizer\n",
    "\n",
    "# Create a Multinomial Naive Bayes classifier: nb_classifier\n",
    "nb_classifier = MultinomialNB()\n",
    "\n",
    "# Fit the classifier to the training data\n",
    "nb_classifier.fit(tfidf_train, y_train)\n",
    "\n",
    "# Create the predicted tags: pred\n",
    "pred = nb_classifier.predict(tfidf_test)\n",
    "\n",
    "# Calculate the accuracy score: score\n",
    "score = metrics.accuracy_score(y_test, pred)\n",
    "print(score)\n",
    "\n",
    "# Calculate the confusion matrix: cm\n",
    "cm = metrics.confusion_matrix(y_test, pred, labels=['FAKE', 'REAL'])\n",
    "print(cm)\n"
   ]
  },
  {
   "cell_type": "code",
   "execution_count": null,
   "id": "4e06c981",
   "metadata": {},
   "outputs": [],
   "source": [
    "# basic features:\n",
    "#     - number of words\n",
    "#     - number of charachters\n",
    "#     - average length of words\n",
    "\n",
    "#     - number of sentences\n",
    "#     - number of paragraphs\n",
    "#     - number of words starting with capitals\n",
    "\n",
    "\n",
    "# text features\n",
    "# word features\n",
    "\n",
    "# Create a feature char_count\n",
    "tweets['char_count'] = tweets['content'].apply(len)\n",
    "\n",
    "# Print the average character count\n",
    "print(tweets['char_count'].mean())"
   ]
  },
  {
   "cell_type": "code",
   "execution_count": null,
   "id": "8afa9493",
   "metadata": {},
   "outputs": [],
   "source": [
    "# Function that returns number of words in a string\n",
    "def count_words(string):\n",
    "\t# Split the string into words\n",
    "    words = string.split()\n",
    "    \n",
    "    # Return the number of words\n",
    "    return len(words)\n",
    "\n",
    "# Create a new feature word_count\n",
    "ted['word_count'] = ted['transcript'].apply(count_words)\n",
    "\n",
    "# Print the average word count of the talks\n",
    "print(ted['word_count'].mean())"
   ]
  },
  {
   "cell_type": "code",
   "execution_count": null,
   "id": "1b2046f6",
   "metadata": {},
   "outputs": [],
   "source": [
    "# lemmatization = convert words into its base form\n",
    "\n",
    "# Function to preprocess text\n",
    "def preprocess(text):\n",
    "  \t# Create Doc object\n",
    "    doc = nlp(text, disable=['ner', 'parser'])\n",
    "    # Generate lemmas\n",
    "    lemmas = [token.lemma_ for token in doc]\n",
    "    # Remove stopwords and non-alphabetic characters\n",
    "    a_lemmas = [lemma for lemma in lemmas \n",
    "            if lemma.isalpha() and lemma not in stopwords]\n",
    "    \n",
    "    return ' '.join(a_lemmas)\n",
    "  \n",
    "# Apply preprocess to ted['transcript']\n",
    "ted['transcript'] = ted['transcript'].apply(preprocess)\n",
    "print(ted['transcript'])"
   ]
  },
  {
   "cell_type": "code",
   "execution_count": null,
   "id": "68ca154b",
   "metadata": {},
   "outputs": [],
   "source": [
    "# part-of-speech (POS) tagging\n"
   ]
  },
  {
   "cell_type": "code",
   "execution_count": null,
   "id": "16ee2651",
   "metadata": {},
   "outputs": [],
   "source": [
    "# Import CountVectorizer\n",
    "from sklearn.feature_extraction.text import CountVectorizer\n",
    "\n",
    "# Create a CountVectorizer object\n",
    "vectorizer = CountVectorizer(lowercase=True, stop_words='english')\n",
    "\n",
    "# Fit and transform X_train\n",
    "X_train_bow = vectorizer.fit_transform(X_train)\n",
    "\n",
    "# Transform X_test\n",
    "X_test_bow = vectorizer.transform(X_test)\n",
    "\n",
    "# Print shape of X_train_bow and X_test_bow\n",
    "print(X_train_bow.shape)\n",
    "print(X_test_bow.shape)"
   ]
  },
  {
   "cell_type": "code",
   "execution_count": null,
   "id": "4133550f",
   "metadata": {},
   "outputs": [],
   "source": [
    "# Create a MultinomialNB object\n",
    "clf = MultinomialNB()\n",
    "\n",
    "# Fit the classifier\n",
    "clf.fit(X_train_bow, y_train)\n",
    "\n",
    "# Measure the accuracy\n",
    "accuracy = clf.score(X_test_bow, y_test)\n",
    "print(\"The accuracy of the classifier on the test set is %.3f\" % accuracy)\n",
    "\n",
    "# Predict the sentiment of a negative review\n",
    "review = \"The movie was terrible. The music was underwhelming and the acting mediocre.\"\n",
    "prediction = clf.predict(vectorizer.transform([review]))[0]\n",
    "print(\"The sentiment predicted by the classifier is %i\" % (prediction))"
   ]
  },
  {
   "cell_type": "code",
   "execution_count": null,
   "id": "09016a41",
   "metadata": {},
   "outputs": [],
   "source": [
    "# n-grams"
   ]
  },
  {
   "cell_type": "code",
   "execution_count": null,
   "id": "c720de6a",
   "metadata": {},
   "outputs": [],
   "source": [
    "# Generate n-grams upto n=1\n",
    "vectorizer_ng1 = CountVectorizer(ngram_range=(1,1))\n",
    "ng1 = vectorizer_ng1.fit_transform(corpus)\n",
    "\n",
    "# Generate n-grams upto n=2\n",
    "vectorizer_ng2 = CountVectorizer(ngram_range=(1,2))\n",
    "ng2 = vectorizer_ng2.fit_transform(corpus)\n",
    "\n",
    "# Generate n-grams upto n=3\n",
    "vectorizer_ng3 = CountVectorizer(ngram_range=(1, 3))\n",
    "ng3 = vectorizer_ng3.fit_transform(corpus)\n",
    "\n",
    "# Print the number of features for each model\n",
    "print(\"ng1, ng2 and ng3 have %i, %i and %i features respectively\" % (ng1.shape[1], ng2.shape[1], ng3.shape[1]))"
   ]
  },
  {
   "cell_type": "code",
   "execution_count": null,
   "id": "2b1c4874",
   "metadata": {},
   "outputs": [],
   "source": [
    "# Define an instance of MultinomialNB \n",
    "clf_ng = MultinomialNB()\n",
    "\n",
    "# Fit the classifier \n",
    "clf_ng.fit(X_train_ng, y_train)\n",
    "\n",
    "# Measure the accuracy \n",
    "accuracy = clf_ng.score(X_test_ng, y_test)\n",
    "print(\"The accuracy of the classifier on the test set is %.3f\" % accuracy)\n",
    "\n",
    "# Predict the sentiment of a negative review\n",
    "review = \"The movie was not good. The plot had several holes and the acting lacked panache.\"\n",
    "prediction = clf_ng.predict(ng_vectorizer.transform([review]))[0]\n",
    "print(\"The sentiment predicted by the classifier is %i\" % (prediction))"
   ]
  },
  {
   "cell_type": "code",
   "execution_count": null,
   "id": "7f41c58a",
   "metadata": {},
   "outputs": [],
   "source": [
    "start_time = time.time()\n",
    "# Splitting the data into training and test sets\n",
    "train_X, test_X, train_y, test_y = train_test_split(df['review'], df['sentiment'], test_size=0.5, random_state=42, stratify=df['sentiment'])\n",
    "\n",
    "# Generating ngrams\n",
    "vectorizer = CountVectorizer(ngram_range=(1,3))\n",
    "train_X = vectorizer.fit_transform(train_X)\n",
    "test_X = vectorizer.transform(test_X)\n",
    "\n",
    "# Fit classifier\n",
    "clf = MultinomialNB()\n",
    "clf.fit(train_X, train_y)\n",
    "\n",
    "# Print accuracy, time and number of dimensions\n",
    "print(\"The program took %.3f seconds to complete. The accuracy on the test set is %.2f. The ngram representation had %i features.\" % (time.time() - start_time, clf.score(test_X, test_y), train_X.shape[1]))"
   ]
  },
  {
   "cell_type": "code",
   "execution_count": null,
   "id": "592f372b",
   "metadata": {},
   "outputs": [],
   "source": []
  },
  {
   "cell_type": "code",
   "execution_count": null,
   "id": "a48efe54",
   "metadata": {},
   "outputs": [],
   "source": []
  },
  {
   "cell_type": "code",
   "execution_count": null,
   "id": "31021db1",
   "metadata": {},
   "outputs": [],
   "source": [
    "'''\n",
    "(?)\n",
    "    - to predict by program length, in what time the candidate nominates\n",
    "    - to classify programs by quantitative features \n",
    "'''"
   ]
  },
  {
   "cell_type": "code",
   "execution_count": null,
   "id": "04586bcf",
   "metadata": {},
   "outputs": [],
   "source": []
  },
  {
   "cell_type": "code",
   "execution_count": null,
   "id": "798651b4",
   "metadata": {},
   "outputs": [],
   "source": []
  },
  {
   "cell_type": "code",
   "execution_count": null,
   "id": "68754f58",
   "metadata": {},
   "outputs": [],
   "source": [
    "'''\n",
    "QUESTIONS:\n",
    "    - is clustering working on stemmed_words, not on original?\n",
    "    - how to cut the top of noisy words?\n",
    "\n",
    "IDEAS:\n",
    "    - to cluster programs for 1st nomination and for 2+ nominations (+, but no sense)\n",
    "    - to cluster programs for clusters of persons !!!\n",
    "    - to add 2-tokens\n",
    "    \n",
    "    - to cluster programs only for 3+ time nominated persons\n",
    "    - to unite text of each person with 2+ time nominated persons?\n",
    "    \n",
    "    - TO ADD VISUALIZATION (scatterplot) !!!!!\n",
    "'''"
   ]
  }
 ],
 "metadata": {
  "kernelspec": {
   "display_name": "Python 3 (ipykernel)",
   "language": "python",
   "name": "python3"
  },
  "language_info": {
   "codemirror_mode": {
    "name": "ipython",
    "version": 3
   },
   "file_extension": ".py",
   "mimetype": "text/x-python",
   "name": "python",
   "nbconvert_exporter": "python",
   "pygments_lexer": "ipython3",
   "version": "3.11.1"
  }
 },
 "nbformat": 4,
 "nbformat_minor": 5
}
