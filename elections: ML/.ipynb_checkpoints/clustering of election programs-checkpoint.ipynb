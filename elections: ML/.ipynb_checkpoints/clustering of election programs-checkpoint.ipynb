{
 "cells": [
  {
   "cell_type": "code",
   "execution_count": null,
   "id": "098a3a33",
   "metadata": {},
   "outputs": [],
   "source": []
  },
  {
   "cell_type": "code",
   "execution_count": null,
   "id": "70b6e64a",
   "metadata": {},
   "outputs": [],
   "source": [
    "'''\n",
    "\n",
    "'''"
   ]
  },
  {
   "cell_type": "code",
   "execution_count": null,
   "id": "cb49c939",
   "metadata": {},
   "outputs": [],
   "source": [
    "'''\n",
    "    - NLTK -- for tokenezing russian texts of election programs\n",
    "    \n",
    "    - (LINK!!) -- for creating matrix of program_x_term\n",
    "    - sklearn -- for clustering...\n",
    "'''"
   ]
  },
  {
   "cell_type": "code",
   "execution_count": null,
   "id": "827b3505",
   "metadata": {},
   "outputs": [],
   "source": [
    "import pandas as pd\n",
    "import re\n",
    "import numpy as np\n",
    "\n",
    "import seaborn as sns\n",
    "import matplotlib.pyplot as plt\n",
    "\n",
    "\n"
   ]
  },
  {
   "cell_type": "markdown",
   "id": "530f874f",
   "metadata": {},
   "source": [
    "# 0. Pre-defining functions"
   ]
  },
  {
   "cell_type": "code",
   "execution_count": null,
   "id": "d6c92816",
   "metadata": {},
   "outputs": [],
   "source": [
    "# to find n-th occurance of substring in the string (n = 0,1...)\n",
    "\n",
    "def find_substring(txt, str1, n):\n",
    "    parts = txt.split(str1, n + 1)\n",
    "    if len(parts) <= n + 1:\n",
    "        return -1\n",
    "    return len(txt) - len(parts[-1]) - len(str1)"
   ]
  },
  {
   "cell_type": "code",
   "execution_count": null,
   "id": "ba2f7114",
   "metadata": {},
   "outputs": [],
   "source": []
  },
  {
   "cell_type": "code",
   "execution_count": 412,
   "id": "edc781db",
   "metadata": {},
   "outputs": [
    {
     "data": {
      "text/html": [
       "<div>\n",
       "<style scoped>\n",
       "    .dataframe tbody tr th:only-of-type {\n",
       "        vertical-align: middle;\n",
       "    }\n",
       "\n",
       "    .dataframe tbody tr th {\n",
       "        vertical-align: top;\n",
       "    }\n",
       "\n",
       "    .dataframe thead th {\n",
       "        text-align: right;\n",
       "    }\n",
       "</style>\n",
       "<table border=\"1\" class=\"dataframe\">\n",
       "  <thead>\n",
       "    <tr style=\"text-align: right;\">\n",
       "      <th></th>\n",
       "      <th>conv_x_name</th>\n",
       "      <th>name</th>\n",
       "      <th>program_txt</th>\n",
       "      <th>convocation_no</th>\n",
       "    </tr>\n",
       "  </thead>\n",
       "  <tbody>\n",
       "    <tr>\n",
       "      <th>0</th>\n",
       "      <td>1_Левин_Андрей</td>\n",
       "      <td>Левин Андрей</td>\n",
       "      <td>Активный участник и организатор различных меро...</td>\n",
       "      <td>1</td>\n",
       "    </tr>\n",
       "    <tr>\n",
       "      <th>1</th>\n",
       "      <td>1_Кириллова_Полина</td>\n",
       "      <td>Кириллова Полина</td>\n",
       "      <td>Мне нравится заниматься общественной деятельно...</td>\n",
       "      <td>1</td>\n",
       "    </tr>\n",
       "    <tr>\n",
       "      <th>2</th>\n",
       "      <td>1_Семенов_Павел</td>\n",
       "      <td>Семенов Павел</td>\n",
       "      <td>\"Здравствуйте. Я так понимаю, что я уже поздно...</td>\n",
       "      <td>1</td>\n",
       "    </tr>\n",
       "    <tr>\n",
       "      <th>3</th>\n",
       "      <td>1_Кузнецова_Алёна</td>\n",
       "      <td>Кузнецова Алёна</td>\n",
       "      <td>\"Меня очень интересует жизнь Университета. я б...</td>\n",
       "      <td>1</td>\n",
       "    </tr>\n",
       "    <tr>\n",
       "      <th>4</th>\n",
       "      <td>1_Кунденко_Вадим</td>\n",
       "      <td>Кунденко Вадим</td>\n",
       "      <td>\"   Добрый день! Пару слов о себе. Путь к мехм...</td>\n",
       "      <td>1</td>\n",
       "    </tr>\n",
       "  </tbody>\n",
       "</table>\n",
       "</div>"
      ],
      "text/plain": [
       "          conv_x_name              name  \\\n",
       "0      1_Левин_Андрей      Левин Андрей   \n",
       "1  1_Кириллова_Полина  Кириллова Полина   \n",
       "2     1_Семенов_Павел     Семенов Павел   \n",
       "3   1_Кузнецова_Алёна   Кузнецова Алёна   \n",
       "4    1_Кунденко_Вадим    Кунденко Вадим   \n",
       "\n",
       "                                         program_txt  convocation_no  \n",
       "0  Активный участник и организатор различных меро...               1  \n",
       "1  Мне нравится заниматься общественной деятельно...               1  \n",
       "2  \"Здравствуйте. Я так понимаю, что я уже поздно...               1  \n",
       "3  \"Меня очень интересует жизнь Университета. я б...               1  \n",
       "4  \"   Добрый день! Пару слов о себе. Путь к мехм...               1  "
      ]
     },
     "execution_count": 412,
     "metadata": {},
     "output_type": "execute_result"
    }
   ],
   "source": [
    "programs_df = pd.read_csv('../library: main/ssmm_elections_candidates_1_11.csv', sep='\\t', encoding='utf-8')\n",
    "programs_df = programs_df[['conv_x_name','name','program_txt','convocation_no']][programs_df['program_txt'].notna()].reset_index().drop(['index'],axis=1)\n",
    "programs_df.head()\n"
   ]
  },
  {
   "cell_type": "code",
   "execution_count": 414,
   "id": "066f6135",
   "metadata": {},
   "outputs": [
    {
     "data": {
      "text/html": [
       "<div>\n",
       "<style scoped>\n",
       "    .dataframe tbody tr th:only-of-type {\n",
       "        vertical-align: middle;\n",
       "    }\n",
       "\n",
       "    .dataframe tbody tr th {\n",
       "        vertical-align: top;\n",
       "    }\n",
       "\n",
       "    .dataframe thead th {\n",
       "        text-align: right;\n",
       "    }\n",
       "</style>\n",
       "<table border=\"1\" class=\"dataframe\">\n",
       "  <thead>\n",
       "    <tr style=\"text-align: right;\">\n",
       "      <th></th>\n",
       "      <th>name</th>\n",
       "      <th>min_member_conv_no</th>\n",
       "      <th>min_cand_conv_no</th>\n",
       "    </tr>\n",
       "  </thead>\n",
       "  <tbody>\n",
       "    <tr>\n",
       "      <th>0</th>\n",
       "      <td>Владыкина Вероника Евгеньевна</td>\n",
       "      <td>1.0</td>\n",
       "      <td>1</td>\n",
       "    </tr>\n",
       "    <tr>\n",
       "      <th>1</th>\n",
       "      <td>Коновалов Антон Александрович</td>\n",
       "      <td>1.0</td>\n",
       "      <td>1</td>\n",
       "    </tr>\n",
       "    <tr>\n",
       "      <th>2</th>\n",
       "      <td>Ласкин Алексей Александрович</td>\n",
       "      <td>1.0</td>\n",
       "      <td>1</td>\n",
       "    </tr>\n",
       "    <tr>\n",
       "      <th>3</th>\n",
       "      <td>Малхасян Арамаис</td>\n",
       "      <td>1.0</td>\n",
       "      <td>1</td>\n",
       "    </tr>\n",
       "    <tr>\n",
       "      <th>4</th>\n",
       "      <td>Попов Леонид Андреевич</td>\n",
       "      <td>1.0</td>\n",
       "      <td>1</td>\n",
       "    </tr>\n",
       "  </tbody>\n",
       "</table>\n",
       "</div>"
      ],
      "text/plain": [
       "                            name  min_member_conv_no  min_cand_conv_no\n",
       "0  Владыкина Вероника Евгеньевна                 1.0                 1\n",
       "1  Коновалов Антон Александрович                 1.0                 1\n",
       "2   Ласкин Алексей Александрович                 1.0                 1\n",
       "3               Малхасян Арамаис                 1.0                 1\n",
       "4         Попов Леонид Андреевич                 1.0                 1"
      ]
     },
     "execution_count": 414,
     "metadata": {},
     "output_type": "execute_result"
    }
   ],
   "source": [
    "core_df = pd.read_csv('../library: main/ssmm_candidates_core.csv', sep='\\t', encoding='utf-8')\n",
    "core_df = core_df[['name','min_member_conv_no','min_cand_conv_no']].reset_index().drop(['index'],axis=1)\n",
    "core_df = core_df.fillna(0)\n",
    "core_df.head()\n"
   ]
  },
  {
   "cell_type": "code",
   "execution_count": 417,
   "id": "233389fe",
   "metadata": {},
   "outputs": [
    {
     "data": {
      "text/html": [
       "<div>\n",
       "<style scoped>\n",
       "    .dataframe tbody tr th:only-of-type {\n",
       "        vertical-align: middle;\n",
       "    }\n",
       "\n",
       "    .dataframe tbody tr th {\n",
       "        vertical-align: top;\n",
       "    }\n",
       "\n",
       "    .dataframe thead th {\n",
       "        text-align: right;\n",
       "    }\n",
       "</style>\n",
       "<table border=\"1\" class=\"dataframe\">\n",
       "  <thead>\n",
       "    <tr style=\"text-align: right;\">\n",
       "      <th></th>\n",
       "      <th>conv_x_name</th>\n",
       "      <th>name</th>\n",
       "      <th>program_txt</th>\n",
       "      <th>convocation_no</th>\n",
       "      <th>min_member_conv_no</th>\n",
       "      <th>min_cand_conv_no</th>\n",
       "      <th>first_nomination_flg</th>\n",
       "      <th>first_membership_flg</th>\n",
       "    </tr>\n",
       "  </thead>\n",
       "  <tbody>\n",
       "    <tr>\n",
       "      <th>0</th>\n",
       "      <td>1_Левин_Андрей</td>\n",
       "      <td>Левин Андрей</td>\n",
       "      <td>Активный участник и организатор различных меро...</td>\n",
       "      <td>1</td>\n",
       "      <td>1.0</td>\n",
       "      <td>1</td>\n",
       "      <td>True</td>\n",
       "      <td>True</td>\n",
       "    </tr>\n",
       "    <tr>\n",
       "      <th>1</th>\n",
       "      <td>1_Кириллова_Полина</td>\n",
       "      <td>Кириллова Полина</td>\n",
       "      <td>Мне нравится заниматься общественной деятельно...</td>\n",
       "      <td>1</td>\n",
       "      <td>1.0</td>\n",
       "      <td>1</td>\n",
       "      <td>True</td>\n",
       "      <td>True</td>\n",
       "    </tr>\n",
       "    <tr>\n",
       "      <th>2</th>\n",
       "      <td>1_Семенов_Павел</td>\n",
       "      <td>Семенов Павел</td>\n",
       "      <td>\"Здравствуйте. Я так понимаю, что я уже поздно...</td>\n",
       "      <td>1</td>\n",
       "      <td>0.0</td>\n",
       "      <td>1</td>\n",
       "      <td>True</td>\n",
       "      <td>False</td>\n",
       "    </tr>\n",
       "    <tr>\n",
       "      <th>3</th>\n",
       "      <td>1_Кузнецова_Алёна</td>\n",
       "      <td>Кузнецова Алёна</td>\n",
       "      <td>\"Меня очень интересует жизнь Университета. я б...</td>\n",
       "      <td>1</td>\n",
       "      <td>1.0</td>\n",
       "      <td>1</td>\n",
       "      <td>True</td>\n",
       "      <td>True</td>\n",
       "    </tr>\n",
       "    <tr>\n",
       "      <th>4</th>\n",
       "      <td>1_Кунденко_Вадим</td>\n",
       "      <td>Кунденко Вадим</td>\n",
       "      <td>\"   Добрый день! Пару слов о себе. Путь к мехм...</td>\n",
       "      <td>1</td>\n",
       "      <td>0.0</td>\n",
       "      <td>1</td>\n",
       "      <td>True</td>\n",
       "      <td>False</td>\n",
       "    </tr>\n",
       "  </tbody>\n",
       "</table>\n",
       "</div>"
      ],
      "text/plain": [
       "          conv_x_name              name  \\\n",
       "0      1_Левин_Андрей      Левин Андрей   \n",
       "1  1_Кириллова_Полина  Кириллова Полина   \n",
       "2     1_Семенов_Павел     Семенов Павел   \n",
       "3   1_Кузнецова_Алёна   Кузнецова Алёна   \n",
       "4    1_Кунденко_Вадим    Кунденко Вадим   \n",
       "\n",
       "                                         program_txt  convocation_no  \\\n",
       "0  Активный участник и организатор различных меро...               1   \n",
       "1  Мне нравится заниматься общественной деятельно...               1   \n",
       "2  \"Здравствуйте. Я так понимаю, что я уже поздно...               1   \n",
       "3  \"Меня очень интересует жизнь Университета. я б...               1   \n",
       "4  \"   Добрый день! Пару слов о себе. Путь к мехм...               1   \n",
       "\n",
       "   min_member_conv_no  min_cand_conv_no  first_nomination_flg  \\\n",
       "0                 1.0                 1                  True   \n",
       "1                 1.0                 1                  True   \n",
       "2                 0.0                 1                  True   \n",
       "3                 1.0                 1                  True   \n",
       "4                 0.0                 1                  True   \n",
       "\n",
       "   first_membership_flg  \n",
       "0                  True  \n",
       "1                  True  \n",
       "2                 False  \n",
       "3                  True  \n",
       "4                 False  "
      ]
     },
     "execution_count": 417,
     "metadata": {},
     "output_type": "execute_result"
    }
   ],
   "source": [
    "programs_df_2 = programs_df.merge(core_df, on='name', how='left')\n",
    "# interested in: True / False\n",
    "programs_df_2['first_nomination_flg'] = programs_df_2['convocation_no'] == programs_df_2['min_cand_conv_no']\n",
    "# interested in: False\n",
    "programs_df_2['first_membership_flg'] = programs_df_2['convocation_no'] == programs_df_2['min_member_conv_no']\n",
    "\n",
    "programs_df_2.head()"
   ]
  },
  {
   "cell_type": "code",
   "execution_count": null,
   "id": "3f53d8eb",
   "metadata": {},
   "outputs": [],
   "source": []
  },
  {
   "cell_type": "code",
   "execution_count": null,
   "id": "f6ef4ac5",
   "metadata": {},
   "outputs": [],
   "source": []
  },
  {
   "cell_type": "markdown",
   "id": "b343d112",
   "metadata": {},
   "source": [
    "# 1. Loading data -- table of election programs"
   ]
  },
  {
   "cell_type": "code",
   "execution_count": 1,
   "id": "83f4a713",
   "metadata": {},
   "outputs": [],
   "source": []
  },
  {
   "cell_type": "code",
   "execution_count": 2,
   "id": "e9606f77",
   "metadata": {},
   "outputs": [
    {
     "data": {
      "text/html": [
       "<div>\n",
       "<style scoped>\n",
       "    .dataframe tbody tr th:only-of-type {\n",
       "        vertical-align: middle;\n",
       "    }\n",
       "\n",
       "    .dataframe tbody tr th {\n",
       "        vertical-align: top;\n",
       "    }\n",
       "\n",
       "    .dataframe thead th {\n",
       "        text-align: right;\n",
       "    }\n",
       "</style>\n",
       "<table border=\"1\" class=\"dataframe\">\n",
       "  <thead>\n",
       "    <tr style=\"text-align: right;\">\n",
       "      <th></th>\n",
       "      <th>conv_x_name</th>\n",
       "      <th>program_txt</th>\n",
       "      <th>convocation_no</th>\n",
       "    </tr>\n",
       "  </thead>\n",
       "  <tbody>\n",
       "    <tr>\n",
       "      <th>0</th>\n",
       "      <td>1_Левин_Андрей</td>\n",
       "      <td>Активный участник и организатор различных меро...</td>\n",
       "      <td>1</td>\n",
       "    </tr>\n",
       "    <tr>\n",
       "      <th>1</th>\n",
       "      <td>1_Кириллова_Полина</td>\n",
       "      <td>Мне нравится заниматься общественной деятельно...</td>\n",
       "      <td>1</td>\n",
       "    </tr>\n",
       "    <tr>\n",
       "      <th>2</th>\n",
       "      <td>1_Семенов_Павел</td>\n",
       "      <td>\"Здравствуйте. Я так понимаю, что я уже поздно...</td>\n",
       "      <td>1</td>\n",
       "    </tr>\n",
       "    <tr>\n",
       "      <th>3</th>\n",
       "      <td>1_Кузнецова_Алёна</td>\n",
       "      <td>\"Меня очень интересует жизнь Университета. я б...</td>\n",
       "      <td>1</td>\n",
       "    </tr>\n",
       "    <tr>\n",
       "      <th>4</th>\n",
       "      <td>1_Кунденко_Вадим</td>\n",
       "      <td>\"   Добрый день! Пару слов о себе. Путь к мехм...</td>\n",
       "      <td>1</td>\n",
       "    </tr>\n",
       "  </tbody>\n",
       "</table>\n",
       "</div>"
      ],
      "text/plain": [
       "          conv_x_name                                        program_txt  \\\n",
       "0      1_Левин_Андрей  Активный участник и организатор различных меро...   \n",
       "1  1_Кириллова_Полина  Мне нравится заниматься общественной деятельно...   \n",
       "2     1_Семенов_Павел  \"Здравствуйте. Я так понимаю, что я уже поздно...   \n",
       "3   1_Кузнецова_Алёна  \"Меня очень интересует жизнь Университета. я б...   \n",
       "4    1_Кунденко_Вадим  \"   Добрый день! Пару слов о себе. Путь к мехм...   \n",
       "\n",
       "   convocation_no  \n",
       "0               1  \n",
       "1               1  \n",
       "2               1  \n",
       "3               1  \n",
       "4               1  "
      ]
     },
     "execution_count": 2,
     "metadata": {},
     "output_type": "execute_result"
    }
   ],
   "source": [
    "programs_df = pd.read_csv('../library: main/ssmm_elections_candidates_1_11.csv', sep='\\t', encoding='utf-8')\n",
    "programs_df = programs_df[['conv_x_name','program_txt','convocation_no']][programs_df['program_txt'].notna()].reset_index().drop(['index'],axis=1)\n",
    "\n",
    "programs_df.head()\n"
   ]
  },
  {
   "cell_type": "code",
   "execution_count": 418,
   "id": "f14e4bf4",
   "metadata": {},
   "outputs": [],
   "source": [
    "# len(programs_df)"
   ]
  },
  {
   "cell_type": "code",
   "execution_count": 435,
   "id": "2edf177a",
   "metadata": {},
   "outputs": [],
   "source": [
    "programs_df = programs_df_2[programs_df_2['first_membership_flg'] == False]\n",
    "\n",
    "# limit = 91 # for convocations 1-3\n",
    "limit = len(programs_df)\n",
    "\n",
    "key_list = list(programs_df['conv_x_name'])[:limit]\n",
    "# key_list[-5:]\n",
    "\n",
    "program_list = list(programs_df['program_txt'])[:limit]"
   ]
  },
  {
   "cell_type": "code",
   "execution_count": null,
   "id": "fa75a3e2",
   "metadata": {},
   "outputs": [],
   "source": []
  },
  {
   "cell_type": "markdown",
   "id": "7daacdc8",
   "metadata": {},
   "source": [
    "# 2. Tokenizing of texts"
   ]
  },
  {
   "cell_type": "code",
   "execution_count": 10,
   "id": "040ff249",
   "metadata": {},
   "outputs": [],
   "source": [
    "from nltk.tokenize import word_tokenize"
   ]
  },
  {
   "cell_type": "code",
   "execution_count": 14,
   "id": "e431b0c4",
   "metadata": {},
   "outputs": [
    {
     "name": "stderr",
     "output_type": "stream",
     "text": [
      "[nltk_data] Downloading package punkt to /Users/user/nltk_data...\n",
      "[nltk_data]   Unzipping tokenizers/punkt.zip.\n"
     ]
    },
    {
     "data": {
      "text/plain": [
       "True"
      ]
     },
     "execution_count": 14,
     "metadata": {},
     "output_type": "execute_result"
    }
   ],
   "source": [
    "import nltk\n",
    "nltk.download('punkt')\n",
    "# for russian text"
   ]
  },
  {
   "cell_type": "code",
   "execution_count": 94,
   "id": "d201430f",
   "metadata": {},
   "outputs": [],
   "source": [
    "\n",
    "# def remove_noise(text, stop_words = []):\n",
    "#     tokens = word_tokenize(text, language=\"russian\")\n",
    "#     cleaned_tokens = []\n",
    "#     for token in tokens:\n",
    "#         token = re.sub('[^А-Яа-я]+', '', token)\n",
    "#         if len(token) > 1 and token.lower() not in stop_words:\n",
    "#             # Get lowercase\n",
    "#             cleaned_tokens.append(token.lower())\n",
    "#     return cleaned_tokens\n",
    "\n",
    "# [^A-Za-z0-9]+\n",
    "\n",
    "# remove_noise(\"Мне нравится заниматься общественной деятельностью.\")"
   ]
  },
  {
   "cell_type": "code",
   "execution_count": null,
   "id": "04b8fedc",
   "metadata": {},
   "outputs": [],
   "source": []
  },
  {
   "cell_type": "code",
   "execution_count": null,
   "id": "dfb6df8b",
   "metadata": {},
   "outputs": [],
   "source": [
    "# http://brandonrose.org/clustering#Stopwords,-stemming,-and-tokenizing"
   ]
  },
  {
   "cell_type": "code",
   "execution_count": 28,
   "id": "7e3fcc70",
   "metadata": {},
   "outputs": [
    {
     "name": "stderr",
     "output_type": "stream",
     "text": [
      "[nltk_data] Downloading package stopwords to /Users/user/nltk_data...\n",
      "[nltk_data]   Package stopwords is already up-to-date!\n"
     ]
    },
    {
     "data": {
      "text/plain": [
       "['и',\n",
       " 'в',\n",
       " 'во',\n",
       " 'не',\n",
       " 'что',\n",
       " 'он',\n",
       " 'на',\n",
       " 'я',\n",
       " 'с',\n",
       " 'со',\n",
       " 'как',\n",
       " 'а',\n",
       " 'то',\n",
       " 'все',\n",
       " 'она',\n",
       " 'так',\n",
       " 'его',\n",
       " 'но',\n",
       " 'да',\n",
       " 'ты',\n",
       " 'к',\n",
       " 'у',\n",
       " 'же',\n",
       " 'вы',\n",
       " 'за',\n",
       " 'бы',\n",
       " 'по',\n",
       " 'только',\n",
       " 'ее',\n",
       " 'мне',\n",
       " 'было',\n",
       " 'вот',\n",
       " 'от',\n",
       " 'меня',\n",
       " 'еще',\n",
       " 'нет',\n",
       " 'о',\n",
       " 'из',\n",
       " 'ему',\n",
       " 'теперь',\n",
       " 'когда',\n",
       " 'даже',\n",
       " 'ну',\n",
       " 'вдруг',\n",
       " 'ли',\n",
       " 'если',\n",
       " 'уже',\n",
       " 'или',\n",
       " 'ни',\n",
       " 'быть',\n",
       " 'был',\n",
       " 'него',\n",
       " 'до',\n",
       " 'вас',\n",
       " 'нибудь',\n",
       " 'опять',\n",
       " 'уж',\n",
       " 'вам',\n",
       " 'ведь',\n",
       " 'там',\n",
       " 'потом',\n",
       " 'себя',\n",
       " 'ничего',\n",
       " 'ей',\n",
       " 'может',\n",
       " 'они',\n",
       " 'тут',\n",
       " 'где',\n",
       " 'есть',\n",
       " 'надо',\n",
       " 'ней',\n",
       " 'для',\n",
       " 'мы',\n",
       " 'тебя',\n",
       " 'их',\n",
       " 'чем',\n",
       " 'была',\n",
       " 'сам',\n",
       " 'чтоб',\n",
       " 'без',\n",
       " 'будто',\n",
       " 'чего',\n",
       " 'раз',\n",
       " 'тоже',\n",
       " 'себе',\n",
       " 'под',\n",
       " 'будет',\n",
       " 'ж',\n",
       " 'тогда',\n",
       " 'кто',\n",
       " 'этот',\n",
       " 'того',\n",
       " 'потому',\n",
       " 'этого',\n",
       " 'какой',\n",
       " 'совсем',\n",
       " 'ним',\n",
       " 'здесь',\n",
       " 'этом',\n",
       " 'один',\n",
       " 'почти',\n",
       " 'мой',\n",
       " 'тем',\n",
       " 'чтобы',\n",
       " 'нее',\n",
       " 'сейчас',\n",
       " 'были',\n",
       " 'куда',\n",
       " 'зачем',\n",
       " 'всех',\n",
       " 'никогда',\n",
       " 'можно',\n",
       " 'при',\n",
       " 'наконец',\n",
       " 'два',\n",
       " 'об',\n",
       " 'другой',\n",
       " 'хоть',\n",
       " 'после',\n",
       " 'над',\n",
       " 'больше',\n",
       " 'тот',\n",
       " 'через',\n",
       " 'эти',\n",
       " 'нас',\n",
       " 'про',\n",
       " 'всего',\n",
       " 'них',\n",
       " 'какая',\n",
       " 'много',\n",
       " 'разве',\n",
       " 'три',\n",
       " 'эту',\n",
       " 'моя',\n",
       " 'впрочем',\n",
       " 'хорошо',\n",
       " 'свою',\n",
       " 'этой',\n",
       " 'перед',\n",
       " 'иногда',\n",
       " 'лучше',\n",
       " 'чуть',\n",
       " 'том',\n",
       " 'нельзя',\n",
       " 'такой',\n",
       " 'им',\n",
       " 'более',\n",
       " 'всегда',\n",
       " 'конечно',\n",
       " 'всю',\n",
       " 'между']"
      ]
     },
     "execution_count": 28,
     "metadata": {},
     "output_type": "execute_result"
    }
   ],
   "source": [
    "nltk.download('stopwords')\n",
    "\n",
    "stopwords = nltk.corpus.stopwords.words('russian')\n",
    "stopwords"
   ]
  },
  {
   "cell_type": "code",
   "execution_count": 370,
   "id": "ee57ecee",
   "metadata": {},
   "outputs": [],
   "source": [
    "# to add stopwords\n",
    "\n",
    "stopwords += [\n",
    "        'это', 'этим', \n",
    "        'моего',\n",
    "        'свой', 'свои', 'своего', 'своей', \n",
    "        'всем', 'всё',\n",
    "        'нашего', \n",
    "        'таких', 'также', \n",
    "        'поэтому', 'многие', 'очень', 'которые', 'других', 'которых'\n",
    "    ] + [\n",
    "        'являюсь', \n",
    "        'хотел', 'хотела', 'хочу', 'хотелось',\n",
    "        'могу',\n",
    "        'рассказ', 'школе', \n",
    "        'году', 'год', 'года',\n",
    "        'зовут', 'привет', 'различных', 'надеюсь', 'считаю', 'просто', 'вообще'\n",
    "    ] + [\n",
    "        'мгу', 'университет', 'университета',\n",
    "        'мехмата', 'мехмат', 'мехмате', 'факультета', 'факультете', 'факультет',\n",
    "        'студсовета', 'студсовете', 'студсовет', 'совет', 'совета', 'совете',\n",
    "        'студентов', 'студенты', 'студентам', 'студенческий', 'студенческого', 'студенческом',\n",
    "        '2012',\n",
    "        'организации', 'организацией', 'организация'\n",
    "      ]\n"
   ]
  },
  {
   "cell_type": "code",
   "execution_count": 20,
   "id": "4c02ee8f",
   "metadata": {},
   "outputs": [],
   "source": [
    "# Stemming is just the process of breaking a word down into its root.\n",
    "\n",
    "from nltk.stem.snowball import SnowballStemmer\n",
    "stemmer = SnowballStemmer(\"russian\")"
   ]
  },
  {
   "cell_type": "code",
   "execution_count": null,
   "id": "eb770c4e",
   "metadata": {},
   "outputs": [],
   "source": []
  },
  {
   "cell_type": "code",
   "execution_count": 40,
   "id": "367c1716",
   "metadata": {},
   "outputs": [],
   "source": [
    "# sents = nltk.sent_tokenize('Мне нравится заниматься общественной деятельностью, всячески пытаюсь расширять свой кругозор. Еще в школе организовывала различные мероприятия и была сильно этим заинтересована', language=\"russian\")\n",
    "# print(sents)\n",
    "\n",
    "# for sent in sents:\n",
    "#     for word in nltk.word_tokenize(sent, language=\"russian\"):\n",
    "#         print(word)\n"
   ]
  },
  {
   "cell_type": "code",
   "execution_count": 378,
   "id": "a2670e2d",
   "metadata": {},
   "outputs": [],
   "source": [
    "#\n",
    "\n",
    "def tokenize_and_stem(text, stopwords=stopwords, lang=\"russian\"):\n",
    "    # first tokenize by sentence, then by word to ensure that punctuation is caught as it's own token\n",
    "    tokens = [word.lower() for sent in nltk.sent_tokenize(text, language=lang) for word in nltk.word_tokenize(sent, language=lang) if word.lower() not in stopwords]\n",
    "    filtered_tokens = []\n",
    "    # filter out any tokens not containing letters (e.g., numeric tokens, raw punctuation)\n",
    "    for token in tokens:\n",
    "        if re.search('[а-яА-Я]', token):\n",
    "            filtered_tokens.append(token)\n",
    "    stems = [stemmer.stem(t) for t in filtered_tokens]\n",
    "    return stems\n",
    "\n",
    "def tokenize_only(text, stopwords, lang):\n",
    "    # first tokenize by sentence, then by word to ensure that punctuation is caught as it's own token\n",
    "    tokens = [word.lower() for sent in nltk.sent_tokenize(text, language=lang) for word in nltk.word_tokenize(sent, language=lang) if word.lower() not in stopwords]\n",
    "    filtered_tokens = []\n",
    "    # filter out any tokens not containing letters (e.g., numeric tokens, raw punctuation)\n",
    "    for token in tokens:\n",
    "        if re.search('[а-яА-Я]', token):\n",
    "            filtered_tokens.append(token)\n",
    "    return filtered_tokens\n",
    "\n"
   ]
  },
  {
   "cell_type": "code",
   "execution_count": 43,
   "id": "ff5f8af4",
   "metadata": {},
   "outputs": [],
   "source": [
    "# for program in program_list:\n",
    "#     print(tokenize_and_stem(program, stopwords, \"russian\"))"
   ]
  },
  {
   "cell_type": "code",
   "execution_count": 436,
   "id": "de994998",
   "metadata": {},
   "outputs": [
    {
     "name": "stdout",
     "output_type": "stream",
     "text": [
      "10737\n"
     ]
    }
   ],
   "source": [
    "totalvocab_stemmed = []\n",
    "totalvocab_tokenized = []\n",
    "\n",
    "for i in program_list:\n",
    "    allwords_stemmed = tokenize_and_stem(i, stopwords, \"russian\")\n",
    "    totalvocab_stemmed.extend(allwords_stemmed)\n",
    "    \n",
    "    allwords_tokenized = tokenize_only(i, stopwords, \"russian\")\n",
    "    totalvocab_tokenized.extend(allwords_tokenized)\n",
    "    \n",
    "vocab_frame = pd.DataFrame({'words': totalvocab_tokenized}, index = totalvocab_stemmed)\n",
    "print(vocab_frame.shape[0])"
   ]
  },
  {
   "cell_type": "code",
   "execution_count": 223,
   "id": "0a4cf566",
   "metadata": {},
   "outputs": [],
   "source": [
    "# vocab_frame"
   ]
  },
  {
   "cell_type": "code",
   "execution_count": null,
   "id": "8ed87e1e",
   "metadata": {},
   "outputs": [],
   "source": []
  },
  {
   "cell_type": "markdown",
   "id": "db813e0c",
   "metadata": {},
   "source": [
    "# Tf-idf and program similarity"
   ]
  },
  {
   "cell_type": "code",
   "execution_count": 57,
   "id": "67d434a8",
   "metadata": {},
   "outputs": [],
   "source": [
    "from sklearn.feature_extraction.text import TfidfVectorizer\n"
   ]
  },
  {
   "cell_type": "code",
   "execution_count": 58,
   "id": "6028e486",
   "metadata": {},
   "outputs": [],
   "source": [
    "# define vectorizer parameters\n",
    "# tfidf_vectorizer = TfidfVectorizer(max_df=0.8, max_features=200000,\n",
    "#                                  min_df=0.2, stop_words=stopwords,\n",
    "#                                  use_idf=True, tokenizer=tokenize_and_stem, ngram_range=(1,3))\n",
    "\n",
    "# %time tfidf_matrix = tfidf_vectorizer.fit_transform(program_list) \n",
    "\n",
    "# print(tfidf_matrix.shape)"
   ]
  },
  {
   "cell_type": "code",
   "execution_count": null,
   "id": "2918dfb7",
   "metadata": {},
   "outputs": [],
   "source": []
  },
  {
   "cell_type": "code",
   "execution_count": 446,
   "id": "69073f70",
   "metadata": {},
   "outputs": [
    {
     "name": "stderr",
     "output_type": "stream",
     "text": [
      "/opt/homebrew/lib/python3.11/site-packages/sklearn/feature_extraction/text.py:528: UserWarning: The parameter 'token_pattern' will not be used since 'tokenizer' is not None'\n",
      "  warnings.warn(\n"
     ]
    },
    {
     "name": "stdout",
     "output_type": "stream",
     "text": [
      "(246, 145)\n"
     ]
    }
   ],
   "source": [
    "# alternative way, with own list of stop words\n",
    "# https://stackoverflow.com/questions/26826002/adding-words-to-stop-words-list-in-tfidfvectorizer-in-sklearn\n",
    "\n",
    "tfidf_vectorizer = TfidfVectorizer(\n",
    "    max_features=200, \n",
    "    max_df=0.7, min_df=0.05, \n",
    "#     ngram_range=(1,1), \n",
    "    tokenizer=tokenize_and_stem, \n",
    "    stop_words=stopwords\n",
    ")\n",
    "\n",
    "tfidf_matrix = tfidf_vectorizer.fit_transform(program_list) # БЕРЕТСЯ ОРИГИНАЛЬНЫЙ ТЕКСТ, БЕЗ stemmed\n",
    "# idf_values = dict(zip(vectorizer.get_feature_names(), vectorizer.idf_))\n",
    "terms = tfidf_vectorizer.get_feature_names_out()\n",
    "\n",
    "print(tfidf_matrix.shape)"
   ]
  },
  {
   "cell_type": "code",
   "execution_count": null,
   "id": "8f49a447",
   "metadata": {},
   "outputs": [],
   "source": []
  },
  {
   "cell_type": "code",
   "execution_count": 424,
   "id": "737e3702",
   "metadata": {},
   "outputs": [],
   "source": [
    "# print(tfidf_matrix)"
   ]
  },
  {
   "cell_type": "code",
   "execution_count": 425,
   "id": "8fe42b2e",
   "metadata": {},
   "outputs": [],
   "source": [
    "# tfidf_matrix.todense()"
   ]
  },
  {
   "cell_type": "code",
   "execution_count": 426,
   "id": "3987768e",
   "metadata": {},
   "outputs": [],
   "source": [
    "# terms"
   ]
  },
  {
   "cell_type": "code",
   "execution_count": null,
   "id": "e8b6b392",
   "metadata": {},
   "outputs": [],
   "source": []
  },
  {
   "cell_type": "markdown",
   "id": "a44953d9",
   "metadata": {},
   "source": [
    "# K-Means"
   ]
  },
  {
   "cell_type": "code",
   "execution_count": 54,
   "id": "e47f8b1e",
   "metadata": {},
   "outputs": [],
   "source": [
    "from sklearn.cluster import KMeans"
   ]
  },
  {
   "cell_type": "code",
   "execution_count": 444,
   "id": "68f72956",
   "metadata": {},
   "outputs": [
    {
     "name": "stdout",
     "output_type": "stream",
     "text": [
      "CPU times: user 69.2 ms, sys: 52.9 ms, total: 122 ms\n",
      "Wall time: 40.7 ms\n"
     ]
    }
   ],
   "source": [
    "num_clusters = 3\n",
    "\n",
    "km = KMeans(n_clusters=num_clusters, n_init=10)\n",
    "\n",
    "%time km.fit(tfidf_matrix)\n",
    "\n",
    "clusters = km.labels_.tolist()"
   ]
  },
  {
   "cell_type": "code",
   "execution_count": 442,
   "id": "c5ebca40",
   "metadata": {},
   "outputs": [
    {
     "data": {
      "text/plain": [
       "0    129\n",
       "2     35\n",
       "1     28\n",
       "3     28\n",
       "4     26\n",
       "Name: cluster, dtype: int64"
      ]
     },
     "execution_count": 442,
     "metadata": {},
     "output_type": "execute_result"
    }
   ],
   "source": [
    "program_clusters = {\n",
    "    'key': key_list, \n",
    "    'program': program_list, \n",
    "    'cluster': clusters\n",
    "}\n",
    "\n",
    "frame = pd.DataFrame(program_clusters, index = [clusters], columns = ['key', 'program', 'cluster'])\n",
    "\n",
    "frame['cluster'].value_counts()"
   ]
  },
  {
   "cell_type": "code",
   "execution_count": 406,
   "id": "7aa5e880",
   "metadata": {},
   "outputs": [
    {
     "data": {
      "text/html": [
       "<div>\n",
       "<style scoped>\n",
       "    .dataframe tbody tr th:only-of-type {\n",
       "        vertical-align: middle;\n",
       "    }\n",
       "\n",
       "    .dataframe tbody tr th {\n",
       "        vertical-align: top;\n",
       "    }\n",
       "\n",
       "    .dataframe thead th {\n",
       "        text-align: right;\n",
       "    }\n",
       "</style>\n",
       "<table border=\"1\" class=\"dataframe\">\n",
       "  <thead>\n",
       "    <tr style=\"text-align: right;\">\n",
       "      <th></th>\n",
       "      <th>key</th>\n",
       "      <th>program</th>\n",
       "      <th>cluster</th>\n",
       "    </tr>\n",
       "  </thead>\n",
       "  <tbody>\n",
       "    <tr>\n",
       "      <th>0</th>\n",
       "      <td>1_Левин_Андрей</td>\n",
       "      <td>Активный участник и организатор различных меро...</td>\n",
       "      <td>0</td>\n",
       "    </tr>\n",
       "    <tr>\n",
       "      <th>2</th>\n",
       "      <td>1_Кириллова_Полина</td>\n",
       "      <td>Мне нравится заниматься общественной деятельно...</td>\n",
       "      <td>2</td>\n",
       "    </tr>\n",
       "    <tr>\n",
       "      <th>2</th>\n",
       "      <td>1_Семенов_Павел</td>\n",
       "      <td>\"Здравствуйте. Я так понимаю, что я уже поздно...</td>\n",
       "      <td>2</td>\n",
       "    </tr>\n",
       "    <tr>\n",
       "      <th>0</th>\n",
       "      <td>1_Кузнецова_Алёна</td>\n",
       "      <td>\"Меня очень интересует жизнь Университета. я б...</td>\n",
       "      <td>0</td>\n",
       "    </tr>\n",
       "    <tr>\n",
       "      <th>2</th>\n",
       "      <td>1_Кунденко_Вадим</td>\n",
       "      <td>\"   Добрый день! Пару слов о себе. Путь к мехм...</td>\n",
       "      <td>2</td>\n",
       "    </tr>\n",
       "  </tbody>\n",
       "</table>\n",
       "</div>"
      ],
      "text/plain": [
       "                  key                                            program  \\\n",
       "0      1_Левин_Андрей  Активный участник и организатор различных меро...   \n",
       "2  1_Кириллова_Полина  Мне нравится заниматься общественной деятельно...   \n",
       "2     1_Семенов_Павел  \"Здравствуйте. Я так понимаю, что я уже поздно...   \n",
       "0   1_Кузнецова_Алёна  \"Меня очень интересует жизнь Университета. я б...   \n",
       "2    1_Кунденко_Вадим  \"   Добрый день! Пару слов о себе. Путь к мехм...   \n",
       "\n",
       "   cluster  \n",
       "0        0  \n",
       "2        2  \n",
       "2        2  \n",
       "0        0  \n",
       "2        2  "
      ]
     },
     "execution_count": 406,
     "metadata": {},
     "output_type": "execute_result"
    }
   ],
   "source": [
    "frame.head()"
   ]
  },
  {
   "cell_type": "code",
   "execution_count": null,
   "id": "1e323e41",
   "metadata": {},
   "outputs": [],
   "source": [
    "# grouped = frame['rank'].groupby(frame['cluster']) #groupby cluster for aggregation purposes\n",
    "\n",
    "# grouped.mean() #average rank (1 to 100) per cluster"
   ]
  },
  {
   "cell_type": "code",
   "execution_count": 405,
   "id": "6979fe3a",
   "metadata": {},
   "outputs": [
    {
     "name": "stdout",
     "output_type": "stream",
     "text": [
      "Top terms per cluster:\n",
      "\n",
      "Cluster 0 words: участвова, деятельн, планир, активн, мероприят, работа, групп, обществен, занима, помога, праздник, жизн, рабоч, проведен, курс, студент, стипенд, интерес, образован, участ,\n",
      "\n",
      "Cluster 0 keys:\t\t1_Левин_А,\t\t1_Кузнецова_А,\t\t1_Глухова_А,\t\t1_Сапунов_К,\t\t1_Котляров_Н,\t\t1_Чернодед_А,\t\t1_Савушкин_Н,\t\t2_Никифоров_С,\t\t2_Власов_А,\t\t2_Тишин_П,\t\t2_Сафина_Д,\t\t2_Смелов_В,\t\t2_Тропин_А,\t\t2_Сапунов_К,\t\t3_Суркова_А,\t\t3_Корно_Д,\t\t3_Дорман_Е,\t\t3_Локтионов_Ф,\t\t3_Савченко_А,\t\t3_Бунеев_А,\t\t3_Хамматова_Г,\t\t3_Медведева_Я,\t\t3_Скопинцев_А,\t\t3_Владыкина_В,\t\t3_Тен_А,\t\t3_Буряк_А,\t\t3_Морозов_С,\n",
      "\n",
      "Cluster 1 words: мероприят, спортивн, занима, проведен, ден, помога, след, участ, принима, проблем, член, активн, праздник, планир, сдела, работ, врем, групп, обществен, интересн,\n",
      "\n",
      "Cluster 1 keys:\t\t1_Штейников_Ю,\t\t1_Миценко_В,\t\t2_Лавров_В,\t\t2_Антонов_С,\t\t2_Оджаев_Р,\t\t2_Попов_Л,\t\t2_Тен_А,\t\t2_Акушевич_А,\t\t2_Дьяков_П,\t\t3_Тюрина_Т,\t\t3_Ватутин_К,\t\t3_Андреев_М,\t\t3_Борисов_В,\t\t3_Быстрицкая_В,\t\t3_Осин_Р,\t\t3_Куркотов_В,\t\t3_Антонов_С,\t\t3_Садрисламов_А,\t\t3_Попов_Л,\t\t3_Самонов_А,\t\t3_Короткин_В,\n",
      "\n",
      "Cluster 2 words: работ, групп, курс, жизн, вопрос, поток, план, человек, возможн, люд, оповещен, праздник, сдела, бытов, интересн, интерес, перв, котор, деятельн, активн,\n",
      "\n",
      "Cluster 2 keys:\t\t1_Кириллова_П,\t\t1_Семенов_П,\t\t1_Кунденко_В,\t\t1_Сафина_Д,\t\t1_Владыкина_В,\t\t1_Попов_Л,\t\t1_Тропин_А,\t\t1_Артамонова_М,\t\t1_Удимов_Д,\t\t2_Остроухова_Н,\t\t2_Габидов_А,\t\t2_Дяченко_М,\t\t2_Ванунц_А,\t\t2_Ватутин_К,\t\t2_Медведева_Я,\t\t2_Багров_К,\t\t2_Быстрицкая_В,\t\t2_Осин_Р,\t\t2_Владыкина_В,\t\t2_Сергеева_Э,\t\t2_Абдуллаева_Э,\t\t2_Котляров_Н,\t\t2_Морозов_С,\t\t3_Бурнус_А,\t\t3_Денисов_И,\t\t3_Изимова_А,\t\t3_Чистяков_М,\t\t3_Ариас-Альварес_В,\t\t3_Григорьев_И,\t\t3_Остроухова_Н,\t\t3_Дяченко_М,\t\t3_Глунчадзе_И,\t\t3_Матвеев_Д,\t\t3_Хасанов_Р,\t\t3_Матвеев_А,\t\t3_Митькина_М,\t\t3_Ольшевская_П,\t\t3_Селиверстова_Е,\t\t3_Шариков_А,\t\t3_Антонова_О,\t\t3_Сергеева_Э,\t\t3_Ласкин_А,\t\t3_Сапунов_К,\n",
      "\n"
     ]
    }
   ],
   "source": [
    "print(\"Top terms per cluster:\")\n",
    "print()\n",
    "\n",
    "#sort cluster centers by proximity to centroid\n",
    "order_centroids = km.cluster_centers_.argsort()[:, ::-1] \n",
    "\n",
    "for i in range(num_clusters):\n",
    "    print(\"Cluster %d words:\" % i, end='')\n",
    "    \n",
    "    for ind in order_centroids[i, :20]: #replace 6 with n words per cluster\n",
    "        print('', terms[ind], end=',')\n",
    "#         print('', vocab_frame.loc[terms[ind].split(' ')], end=',')\n",
    "#         print(' %s' % vocab_frame.loc[terms[ind].split(' ')].values.tolist()[0][0].encode('utf-8', 'ignore'), end=',')\n",
    "    print() #add whitespace\n",
    "    print() #add whitespace\n",
    "    \n",
    "    print(\"Cluster %d keys:\" % i, end='')\n",
    "    for key in frame.loc[i]['key'].values.tolist():\n",
    "#         print(' %s,' % key, end='')\n",
    "        print('\\t\\t%s,' % key[:find_substring(key, '_', 1)+2], end='')\n",
    "    print() #add whitespace\n",
    "    print() #add whitespace\n",
    "    \n",
    "# print() \n",
    "# print() \n"
   ]
  },
  {
   "cell_type": "code",
   "execution_count": null,
   "id": "c778ff53",
   "metadata": {},
   "outputs": [],
   "source": [
    "# GOOD ENOUGH: \n",
    "# 1-3 conv [:91] \n",
    "# max_features=100\n",
    "# max_df=0.2, min_df=0.05\n",
    "# num_clusters = 3\n"
   ]
  },
  {
   "cell_type": "code",
   "execution_count": 215,
   "id": "cd90e4b9",
   "metadata": {},
   "outputs": [],
   "source": [
    "# order_centroids"
   ]
  },
  {
   "cell_type": "code",
   "execution_count": 214,
   "id": "45955575",
   "metadata": {},
   "outputs": [],
   "source": [
    "# km.cluster_centers_"
   ]
  },
  {
   "cell_type": "code",
   "execution_count": null,
   "id": "bbbfbf04",
   "metadata": {},
   "outputs": [],
   "source": []
  },
  {
   "cell_type": "markdown",
   "id": "68455160",
   "metadata": {},
   "source": [
    "# (Alt: Clustering with sparse matrix)"
   ]
  },
  {
   "cell_type": "code",
   "execution_count": 175,
   "id": "77e3208b",
   "metadata": {},
   "outputs": [],
   "source": [
    "from scipy.cluster.vq import kmeans, vq"
   ]
  },
  {
   "cell_type": "code",
   "execution_count": null,
   "id": "12174fe9",
   "metadata": {},
   "outputs": [],
   "source": []
  },
  {
   "cell_type": "code",
   "execution_count": null,
   "id": "c0f49286",
   "metadata": {},
   "outputs": [],
   "source": []
  },
  {
   "cell_type": "code",
   "execution_count": 216,
   "id": "513f0c93",
   "metadata": {},
   "outputs": [],
   "source": [
    "cluster_centers, distortion = kmeans(tfidf_matrix.todense(), num_clusters)"
   ]
  },
  {
   "cell_type": "code",
   "execution_count": 353,
   "id": "456436bb",
   "metadata": {},
   "outputs": [
    {
     "name": "stdout",
     "output_type": "stream",
     "text": [
      "['деятельности', 'продолжить', 'жизни', 'вопросам', 'реализовать', 'время', 'активно', 'активное', 'бытовых', 'возможно']\n",
      "['информации', 'оповещению', 'организовывал', 'проблемы', 'активно', 'активное', 'бытовых', 'возможно', 'вопросам', 'вопросов']\n",
      "['реализовать', 'активно', 'активное', 'бытовых', 'возможно', 'вопросам', 'вопросов', 'вопросы', 'времени', 'время']\n"
     ]
    }
   ],
   "source": [
    "# terms = tfidf_vectorizer.get_feature_names_out()\n",
    "\n",
    "for i in range(num_clusters):\n",
    "    center_terms = dict(zip(terms, list(cluster_centers[i])))\n",
    "    sorted_terms = sorted(center_terms, key=center_terms.get, reverse=True)\n",
    "    print(sorted_terms[:10])"
   ]
  },
  {
   "cell_type": "code",
   "execution_count": null,
   "id": "5bbcd824",
   "metadata": {},
   "outputs": [],
   "source": []
  },
  {
   "cell_type": "markdown",
   "id": "394dcce3",
   "metadata": {},
   "source": [
    "# Create an elbow plot"
   ]
  },
  {
   "cell_type": "code",
   "execution_count": 447,
   "id": "494f0e17",
   "metadata": {},
   "outputs": [
    {
     "data": {
      "image/png": "[encoded data removed]",
      "text/plain": [
       "<Figure size 640x480 with 1 Axes>"
      ]
     },
     "metadata": {},
     "output_type": "display_data"
    }
   ],
   "source": [
    "distortions = []\n",
    "num_clusters_range = range(1, 21)\n",
    "\n",
    "# Create a list of distortions from the kmeans method\n",
    "for i in num_clusters_range:\n",
    "    cluster_centers, distortion = kmeans(tfidf_matrix.todense(), i)\n",
    "    distortions.append(distortion) \n",
    "    \n",
    "# Create a DataFrame with two lists - number of clusters and distortions\n",
    "elbow_plot = pd.DataFrame({'num_clusters': num_clusters_range,\n",
    "                           'distortions': distortions})\n",
    "# Creat a line plot of num_clusters and distortions\n",
    "sns.lineplot(x='num_clusters', y='distortions', data = elbow_plot)\n",
    "plt.xticks(num_clusters_range)\n",
    "plt.show()"
   ]
  },
  {
   "cell_type": "code",
   "execution_count": null,
   "id": "dc5e4257",
   "metadata": {},
   "outputs": [],
   "source": [
    "# CONCLUSION: clustering is failed\n",
    "# (maybe because of noisy words)"
   ]
  },
  {
   "cell_type": "code",
   "execution_count": null,
   "id": "96e20246",
   "metadata": {},
   "outputs": [],
   "source": []
  },
  {
   "cell_type": "code",
   "execution_count": 356,
   "id": "3c9e195e",
   "metadata": {},
   "outputs": [
    {
     "data": {
      "text/plain": [
       "<function print(*args, sep=' ', end='\\n', file=None, flush=False)>"
      ]
     },
     "execution_count": 356,
     "metadata": {},
     "output_type": "execute_result"
    }
   ],
   "source": [
    "from sklearn.metrics.pairwise import cosine_similarity\n",
    "dist = 1 - cosine_similarity(tfidf_matrix)\n",
    "# print\n",
    "# print"
   ]
  },
  {
   "cell_type": "code",
   "execution_count": 357,
   "id": "ab2480ba",
   "metadata": {},
   "outputs": [
    {
     "name": "stdout",
     "output_type": "stream",
     "text": [
      "\n",
      "\n"
     ]
    },
    {
     "name": "stderr",
     "output_type": "stream",
     "text": [
      "/opt/homebrew/lib/python3.11/site-packages/sklearn/manifold/_mds.py:299: FutureWarning: The default value of `normalized_stress` will change to `'auto'` in version 1.4. To suppress this warning, manually set the value of `normalized_stress`.\n",
      "  warnings.warn(\n"
     ]
    }
   ],
   "source": [
    "import os  # for os.path.basename\n",
    "\n",
    "import matplotlib.pyplot as plt\n",
    "import matplotlib as mpl\n",
    "\n",
    "from sklearn.manifold import MDS\n",
    "\n",
    "MDS()\n",
    "\n",
    "# convert two components as we're plotting points in a two-dimensional plane\n",
    "# \"precomputed\" because we provide a distance matrix\n",
    "# we will also specify `random_state` so the plot is reproducible.\n",
    "mds = MDS(n_components=2, dissimilarity=\"precomputed\", random_state=1)\n",
    "\n",
    "pos = mds.fit_transform(dist)  # shape (n_components, n_samples)\n",
    "\n",
    "xs, ys = pos[:, 0], pos[:, 1]\n",
    "print()\n",
    "print()"
   ]
  },
  {
   "cell_type": "code",
   "execution_count": 366,
   "id": "a92b7d43",
   "metadata": {},
   "outputs": [],
   "source": [
    "# cluster_colors = {0: '#1b9e77', 1: '#d95f02', 2: '#7570b3', 3: '#e7298a', 4: '#66a61e'}\n",
    "\n",
    "# cluster_names = {0: 'Family, home, war', \n",
    "#                  1: 'Police, killed, murders', \n",
    "#                  2: 'Father, New York, brothers', \n",
    "#                  3: 'Dance, singing, love', \n",
    "#                  4: 'Killed, soldiers, captain'}\n",
    "\n",
    "cluster_names = {}\n",
    "for i in range(num_clusters):\n",
    "    cluster_names[i] = str(i)"
   ]
  },
  {
   "cell_type": "code",
   "execution_count": 445,
   "id": "b8f22a48",
   "metadata": {},
   "outputs": [
    {
     "ename": "ValueError",
     "evalue": "All arrays must be of the same length",
     "output_type": "error",
     "traceback": [
      "\u001b[0;31m---------------------------------------------------------------------------\u001b[0m",
      "\u001b[0;31mValueError\u001b[0m                                Traceback (most recent call last)",
      "Cell \u001b[0;32mIn[445], line 5\u001b[0m\n\u001b[1;32m      2\u001b[0m get_ipython()\u001b[38;5;241m.\u001b[39mrun_line_magic(\u001b[38;5;124m'\u001b[39m\u001b[38;5;124mmatplotlib\u001b[39m\u001b[38;5;124m'\u001b[39m, \u001b[38;5;124m'\u001b[39m\u001b[38;5;124minline\u001b[39m\u001b[38;5;124m'\u001b[39m)\n\u001b[1;32m      4\u001b[0m \u001b[38;5;66;03m#create data frame that has the result of the MDS plus the cluster numbers and titles\u001b[39;00m\n\u001b[0;32m----> 5\u001b[0m df \u001b[38;5;241m=\u001b[39m \u001b[43mpd\u001b[49m\u001b[38;5;241;43m.\u001b[39;49m\u001b[43mDataFrame\u001b[49m\u001b[43m(\u001b[49m\u001b[38;5;28;43mdict\u001b[39;49m\u001b[43m(\u001b[49m\u001b[43mx\u001b[49m\u001b[38;5;241;43m=\u001b[39;49m\u001b[43mxs\u001b[49m\u001b[43m,\u001b[49m\u001b[43m \u001b[49m\u001b[43my\u001b[49m\u001b[38;5;241;43m=\u001b[39;49m\u001b[43mys\u001b[49m\u001b[43m,\u001b[49m\u001b[43m \u001b[49m\u001b[43mlabel\u001b[49m\u001b[38;5;241;43m=\u001b[39;49m\u001b[43mclusters\u001b[49m\u001b[43m,\u001b[49m\u001b[43m \u001b[49m\u001b[43mtitle\u001b[49m\u001b[38;5;241;43m=\u001b[39;49m\u001b[43mkey_list\u001b[49m\u001b[43m)\u001b[49m\u001b[43m)\u001b[49m \n\u001b[1;32m      7\u001b[0m \u001b[38;5;66;03m#group by cluster\u001b[39;00m\n\u001b[1;32m      8\u001b[0m groups \u001b[38;5;241m=\u001b[39m df\u001b[38;5;241m.\u001b[39mgroupby(\u001b[38;5;124m'\u001b[39m\u001b[38;5;124mlabel\u001b[39m\u001b[38;5;124m'\u001b[39m)\n",
      "File \u001b[0;32m/opt/homebrew/lib/python3.11/site-packages/pandas/core/frame.py:663\u001b[0m, in \u001b[0;36mDataFrame.__init__\u001b[0;34m(self, data, index, columns, dtype, copy)\u001b[0m\n\u001b[1;32m    657\u001b[0m     mgr \u001b[38;5;241m=\u001b[39m \u001b[38;5;28mself\u001b[39m\u001b[38;5;241m.\u001b[39m_init_mgr(\n\u001b[1;32m    658\u001b[0m         data, axes\u001b[38;5;241m=\u001b[39m{\u001b[38;5;124m\"\u001b[39m\u001b[38;5;124mindex\u001b[39m\u001b[38;5;124m\"\u001b[39m: index, \u001b[38;5;124m\"\u001b[39m\u001b[38;5;124mcolumns\u001b[39m\u001b[38;5;124m\"\u001b[39m: columns}, dtype\u001b[38;5;241m=\u001b[39mdtype, copy\u001b[38;5;241m=\u001b[39mcopy\n\u001b[1;32m    659\u001b[0m     )\n\u001b[1;32m    661\u001b[0m \u001b[38;5;28;01melif\u001b[39;00m \u001b[38;5;28misinstance\u001b[39m(data, \u001b[38;5;28mdict\u001b[39m):\n\u001b[1;32m    662\u001b[0m     \u001b[38;5;66;03m# GH#38939 de facto copy defaults to False only in non-dict cases\u001b[39;00m\n\u001b[0;32m--> 663\u001b[0m     mgr \u001b[38;5;241m=\u001b[39m \u001b[43mdict_to_mgr\u001b[49m\u001b[43m(\u001b[49m\u001b[43mdata\u001b[49m\u001b[43m,\u001b[49m\u001b[43m \u001b[49m\u001b[43mindex\u001b[49m\u001b[43m,\u001b[49m\u001b[43m \u001b[49m\u001b[43mcolumns\u001b[49m\u001b[43m,\u001b[49m\u001b[43m \u001b[49m\u001b[43mdtype\u001b[49m\u001b[38;5;241;43m=\u001b[39;49m\u001b[43mdtype\u001b[49m\u001b[43m,\u001b[49m\u001b[43m \u001b[49m\u001b[43mcopy\u001b[49m\u001b[38;5;241;43m=\u001b[39;49m\u001b[43mcopy\u001b[49m\u001b[43m,\u001b[49m\u001b[43m \u001b[49m\u001b[43mtyp\u001b[49m\u001b[38;5;241;43m=\u001b[39;49m\u001b[43mmanager\u001b[49m\u001b[43m)\u001b[49m\n\u001b[1;32m    664\u001b[0m \u001b[38;5;28;01melif\u001b[39;00m \u001b[38;5;28misinstance\u001b[39m(data, ma\u001b[38;5;241m.\u001b[39mMaskedArray):\n\u001b[1;32m    665\u001b[0m     \u001b[38;5;28;01mimport\u001b[39;00m \u001b[38;5;21;01mnumpy\u001b[39;00m\u001b[38;5;21;01m.\u001b[39;00m\u001b[38;5;21;01mma\u001b[39;00m\u001b[38;5;21;01m.\u001b[39;00m\u001b[38;5;21;01mmrecords\u001b[39;00m \u001b[38;5;28;01mas\u001b[39;00m \u001b[38;5;21;01mmrecords\u001b[39;00m\n",
      "File \u001b[0;32m/opt/homebrew/lib/python3.11/site-packages/pandas/core/internals/construction.py:493\u001b[0m, in \u001b[0;36mdict_to_mgr\u001b[0;34m(data, index, columns, dtype, typ, copy)\u001b[0m\n\u001b[1;32m    489\u001b[0m     \u001b[38;5;28;01melse\u001b[39;00m:\n\u001b[1;32m    490\u001b[0m         \u001b[38;5;66;03m# dtype check to exclude e.g. range objects, scalars\u001b[39;00m\n\u001b[1;32m    491\u001b[0m         arrays \u001b[38;5;241m=\u001b[39m [x\u001b[38;5;241m.\u001b[39mcopy() \u001b[38;5;28;01mif\u001b[39;00m \u001b[38;5;28mhasattr\u001b[39m(x, \u001b[38;5;124m\"\u001b[39m\u001b[38;5;124mdtype\u001b[39m\u001b[38;5;124m\"\u001b[39m) \u001b[38;5;28;01melse\u001b[39;00m x \u001b[38;5;28;01mfor\u001b[39;00m x \u001b[38;5;129;01min\u001b[39;00m arrays]\n\u001b[0;32m--> 493\u001b[0m \u001b[38;5;28;01mreturn\u001b[39;00m \u001b[43marrays_to_mgr\u001b[49m\u001b[43m(\u001b[49m\u001b[43marrays\u001b[49m\u001b[43m,\u001b[49m\u001b[43m \u001b[49m\u001b[43mcolumns\u001b[49m\u001b[43m,\u001b[49m\u001b[43m \u001b[49m\u001b[43mindex\u001b[49m\u001b[43m,\u001b[49m\u001b[43m \u001b[49m\u001b[43mdtype\u001b[49m\u001b[38;5;241;43m=\u001b[39;49m\u001b[43mdtype\u001b[49m\u001b[43m,\u001b[49m\u001b[43m \u001b[49m\u001b[43mtyp\u001b[49m\u001b[38;5;241;43m=\u001b[39;49m\u001b[43mtyp\u001b[49m\u001b[43m,\u001b[49m\u001b[43m \u001b[49m\u001b[43mconsolidate\u001b[49m\u001b[38;5;241;43m=\u001b[39;49m\u001b[43mcopy\u001b[49m\u001b[43m)\u001b[49m\n",
      "File \u001b[0;32m/opt/homebrew/lib/python3.11/site-packages/pandas/core/internals/construction.py:118\u001b[0m, in \u001b[0;36marrays_to_mgr\u001b[0;34m(arrays, columns, index, dtype, verify_integrity, typ, consolidate)\u001b[0m\n\u001b[1;32m    115\u001b[0m \u001b[38;5;28;01mif\u001b[39;00m verify_integrity:\n\u001b[1;32m    116\u001b[0m     \u001b[38;5;66;03m# figure out the index, if necessary\u001b[39;00m\n\u001b[1;32m    117\u001b[0m     \u001b[38;5;28;01mif\u001b[39;00m index \u001b[38;5;129;01mis\u001b[39;00m \u001b[38;5;28;01mNone\u001b[39;00m:\n\u001b[0;32m--> 118\u001b[0m         index \u001b[38;5;241m=\u001b[39m \u001b[43m_extract_index\u001b[49m\u001b[43m(\u001b[49m\u001b[43marrays\u001b[49m\u001b[43m)\u001b[49m\n\u001b[1;32m    119\u001b[0m     \u001b[38;5;28;01melse\u001b[39;00m:\n\u001b[1;32m    120\u001b[0m         index \u001b[38;5;241m=\u001b[39m ensure_index(index)\n",
      "File \u001b[0;32m/opt/homebrew/lib/python3.11/site-packages/pandas/core/internals/construction.py:666\u001b[0m, in \u001b[0;36m_extract_index\u001b[0;34m(data)\u001b[0m\n\u001b[1;32m    664\u001b[0m lengths \u001b[38;5;241m=\u001b[39m \u001b[38;5;28mlist\u001b[39m(\u001b[38;5;28mset\u001b[39m(raw_lengths))\n\u001b[1;32m    665\u001b[0m \u001b[38;5;28;01mif\u001b[39;00m \u001b[38;5;28mlen\u001b[39m(lengths) \u001b[38;5;241m>\u001b[39m \u001b[38;5;241m1\u001b[39m:\n\u001b[0;32m--> 666\u001b[0m     \u001b[38;5;28;01mraise\u001b[39;00m \u001b[38;5;167;01mValueError\u001b[39;00m(\u001b[38;5;124m\"\u001b[39m\u001b[38;5;124mAll arrays must be of the same length\u001b[39m\u001b[38;5;124m\"\u001b[39m)\n\u001b[1;32m    668\u001b[0m \u001b[38;5;28;01mif\u001b[39;00m have_dicts:\n\u001b[1;32m    669\u001b[0m     \u001b[38;5;28;01mraise\u001b[39;00m \u001b[38;5;167;01mValueError\u001b[39;00m(\n\u001b[1;32m    670\u001b[0m         \u001b[38;5;124m\"\u001b[39m\u001b[38;5;124mMixing dicts with non-Series may lead to ambiguous ordering.\u001b[39m\u001b[38;5;124m\"\u001b[39m\n\u001b[1;32m    671\u001b[0m     )\n",
      "\u001b[0;31mValueError\u001b[0m: All arrays must be of the same length"
     ]
    }
   ],
   "source": [
    "#some ipython magic to show the matplotlib plots inline\n",
    "%matplotlib inline \n",
    "\n",
    "#create data frame that has the result of the MDS plus the cluster numbers and titles\n",
    "df = pd.DataFrame(dict(x=xs, y=ys, label=clusters, title=key_list)) \n",
    "\n",
    "#group by cluster\n",
    "groups = df.groupby('label')\n",
    "\n",
    "# set up plot\n",
    "fig, ax = plt.subplots(figsize=(17, 9)) # set size\n",
    "ax.margins(0.05) # Optional, just adds 5% padding to the autoscaling\n",
    "\n",
    "#iterate through groups to layer the plot\n",
    "#note that I use the cluster_name and cluster_color dicts with the 'name' lookup to return the appropriate color/label\n",
    "for name, group in groups:\n",
    "    ax.plot(group.x, group.y, marker='o', linestyle='', ms=12, \n",
    "            label=cluster_names[name], # color=cluster_colors[name], \n",
    "            mec='none')\n",
    "    ax.set_aspect('auto')\n",
    "    ax.tick_params(\\\n",
    "        axis= 'x',          # changes apply to the x-axis\n",
    "        which='both',      # both major and minor ticks are affected\n",
    "        bottom='off',      # ticks along the bottom edge are off\n",
    "        top='off',         # ticks along the top edge are off\n",
    "        labelbottom='off')\n",
    "    ax.tick_params(\\\n",
    "        axis= 'y',         # changes apply to the y-axis\n",
    "        which='both',      # both major and minor ticks are affected\n",
    "        left='off',      # ticks along the bottom edge are off\n",
    "        top='off',         # ticks along the top edge are off\n",
    "        labelleft='off')\n",
    "    \n",
    "ax.legend(numpoints=1)  #show legend with only 1 point\n",
    "\n",
    "#add label in x,y position with the label as the film title\n",
    "for i in range(len(df)):\n",
    "    ax.text(df.loc[i]['x'], df.loc[i]['y'], df.loc[i]['title'], size=8)  \n",
    "\n",
    "    \n",
    "plt.show() #show the plot\n",
    "\n",
    "#uncomment the below to save the plot if need be\n",
    "#plt.savefig('clusters_small_noaxes.png', dpi=200)"
   ]
  },
  {
   "cell_type": "code",
   "execution_count": null,
   "id": "4bea1478",
   "metadata": {},
   "outputs": [],
   "source": []
  },
  {
   "cell_type": "code",
   "execution_count": null,
   "id": "36a77886",
   "metadata": {},
   "outputs": [],
   "source": []
  },
  {
   "cell_type": "code",
   "execution_count": null,
   "id": "cfffd27f",
   "metadata": {},
   "outputs": [],
   "source": []
  },
  {
   "cell_type": "code",
   "execution_count": null,
   "id": "f1bf7b65",
   "metadata": {},
   "outputs": [],
   "source": []
  },
  {
   "cell_type": "code",
   "execution_count": null,
   "id": "c22aced1",
   "metadata": {},
   "outputs": [],
   "source": []
  },
  {
   "cell_type": "code",
   "execution_count": null,
   "id": "129bed17",
   "metadata": {},
   "outputs": [],
   "source": [
    "'''\n",
    "QUESTIONS:\n",
    "    - is clustering working on stemmed_words, not on original?\n",
    "    - how to cut the top of noisy words?\n",
    "\n",
    "IDEAS:\n",
    "    - to cluster programs for 1st nomination and for 2+ nominations\n",
    "\n",
    "'''"
   ]
  }
 ],
 "metadata": {
  "kernelspec": {
   "display_name": "Python 3 (ipykernel)",
   "language": "python",
   "name": "python3"
  },
  "language_info": {
   "codemirror_mode": {
    "name": "ipython",
    "version": 3
   },
   "file_extension": ".py",
   "mimetype": "text/x-python",
   "name": "python",
   "nbconvert_exporter": "python",
   "pygments_lexer": "ipython3",
   "version": "3.11.1"
  }
 },
 "nbformat": 4,
 "nbformat_minor": 5
}
