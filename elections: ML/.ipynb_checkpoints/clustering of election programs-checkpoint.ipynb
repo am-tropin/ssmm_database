{
 "cells": [
  {
   "cell_type": "code",
   "execution_count": null,
   "id": "297eea42",
   "metadata": {},
   "outputs": [],
   "source": []
  },
  {
   "cell_type": "code",
   "execution_count": null,
   "id": "9c4b53e5",
   "metadata": {},
   "outputs": [],
   "source": [
    "'''\n",
    "    - NLTK -- for tokenezing russian texts of election programs\n",
    "    \n",
    "    - (LINK!!) -- for creating matrix of program_x_term\n",
    "    - sklearn -- for clustering...\n",
    "'''"
   ]
  },
  {
   "cell_type": "code",
   "execution_count": 1,
   "id": "8e4c00c4",
   "metadata": {},
   "outputs": [],
   "source": [
    "import pandas as pd\n",
    "import re\n",
    "import numpy as np\n",
    "\n",
    "import seaborn as sns\n",
    "import matplotlib.pyplot as plt\n"
   ]
  },
  {
   "cell_type": "markdown",
   "id": "ba4e4773",
   "metadata": {},
   "source": [
    "# 0. Pre-defining functions"
   ]
  },
  {
   "cell_type": "code",
   "execution_count": 2,
   "id": "4ba11c40",
   "metadata": {},
   "outputs": [],
   "source": [
    "# to find n-th occurance of substring in the string (n = 0,1...)\n",
    "\n",
    "def find_substring(txt, str1, n):\n",
    "    parts = txt.split(str1, n + 1)\n",
    "    if len(parts) <= n + 1:\n",
    "        return -1\n",
    "    return len(txt) - len(parts[-1]) - len(str1)"
   ]
  },
  {
   "cell_type": "code",
   "execution_count": null,
   "id": "f39f7d98",
   "metadata": {},
   "outputs": [],
   "source": []
  },
  {
   "cell_type": "markdown",
   "id": "393d2238",
   "metadata": {},
   "source": [
    "# 1. Loading data - election programs and flags of candidates"
   ]
  },
  {
   "cell_type": "code",
   "execution_count": 182,
   "id": "92a2bfc8",
   "metadata": {},
   "outputs": [
    {
     "data": {
      "text/html": [
       "<div>\n",
       "<style scoped>\n",
       "    .dataframe tbody tr th:only-of-type {\n",
       "        vertical-align: middle;\n",
       "    }\n",
       "\n",
       "    .dataframe tbody tr th {\n",
       "        vertical-align: top;\n",
       "    }\n",
       "\n",
       "    .dataframe thead th {\n",
       "        text-align: right;\n",
       "    }\n",
       "</style>\n",
       "<table border=\"1\" class=\"dataframe\">\n",
       "  <thead>\n",
       "    <tr style=\"text-align: right;\">\n",
       "      <th></th>\n",
       "      <th>conv_x_name</th>\n",
       "      <th>name</th>\n",
       "      <th>program_txt</th>\n",
       "      <th>convocation_no</th>\n",
       "    </tr>\n",
       "  </thead>\n",
       "  <tbody>\n",
       "    <tr>\n",
       "      <th>0</th>\n",
       "      <td>1_Левин_Андрей</td>\n",
       "      <td>Левин Андрей</td>\n",
       "      <td>Активный участник и организатор различных мероприятий (воспоминания о любимой школе), готов работать, творить, уверен, что все получится.)</td>\n",
       "      <td>1</td>\n",
       "    </tr>\n",
       "    <tr>\n",
       "      <th>1</th>\n",
       "      <td>1_Кириллова_Полина</td>\n",
       "      <td>Кириллова Полина</td>\n",
       "      <td>Мне нравится заниматься общественной деятельностью, всячески пытаюсь расширять свой кругозор. Еще в школе организовывала различные мероприятия и была сильно этим заинтересована. Увлекаюсь музыкой, для большего развития записалась в Академический хор. Начала заниматься спортивными бальными танцами. Но в спорте симпатизирую футболу. Планирую посетить еще некоторые клубы Университета и найти, что также может меня затянуть. Хотелось бы внести свой клад в развитие Университета. План работы: 1.Всестороннее развитие студентов. Нас кругом окружает бескультурье и невежество, общество просто гниет. Многие не могут отстаивать свои права, а причина в том, что они просто их не знают. И нужно что-то с этим делать. Поэтому хочется поднять вопрос о всестороннем развитии студентов. Если мы, допустим, обучаемся на Мехмате, это не означает, что мы должны всё своё время отдавать математике и только ей. (В расписании 1 курса в этом учебном году стояли только одни математические дисциплины и физкультура, во втором семестре появились английский язык и БЖД,. Это уже хорошо, но нам убрали историю, это что не такой важный предмет, мы не должны знать истории своей страны?А потом говорят, что нынешнее поколение необразованное.) Почему бы не ввести дополнительный предмет, но при условии, что студент сможет сам для себя выбрать, что ему интересно? Или дополнительные курсы для желающих, возможно, конечно, что такие курсы проводятся, но тогда встает другой вопрос, почему многие студенты не информированы об этом, ведь просто повесить объявление – это мало. Так же можно приглашать государственных деятелей, людей творческих профессий и т. д. Чтобы они делились своим опытом, общались со студентами, отвечали на их вопросы. 2. Мероприятия внутри  потоков. Считаю важным поддерживать дружескую атмосферу внутри потоков. Это  небольшие ячейки всего университета, поэтому нужно начать с них, нужно делать их крепче и сплоченней. Предлагаю проводить состязательные мероприятия между группами, игры, что ускорит процесс сближения студентов, как в самих группах, так и внутри потоков. 3.Предоставление  большей информации о внеучебной  деятельности и о клубах МГУ. 4.Общежития. Улучшение санитарных условий. Обустройство общежитий. Нормальный тренажерный зал и душ. Создание клуба в общежитии для организации праздников.</td>\n",
       "      <td>1</td>\n",
       "    </tr>\n",
       "    <tr>\n",
       "      <th>2</th>\n",
       "      <td>1_Семенов_Павел</td>\n",
       "      <td>Семенов Павел</td>\n",
       "      <td>\"Здравствуйте. Я так понимаю, что я уже поздно отправляю вам свой небольшой рассказ, но возможности сделать это ранее просто не представлялось. Итак, есть несколько пунктов, которые необходимо постоянно поддерживать и развивать. Большинство из них известно всем студентам, на них останавливаться я не буду, так как методы решения проблем там идентичны. Общежитие. К сожалению, сам я не очень хорошо знаю всех плюсов и минусов нынешнего общежития для ММ. Но по рассказам однокурсников, проблемы возникают, в первую очередь, с насекомыми. На кухне шастают тараканы, в комнатах клопы, от которых утром просыпаешься весь в укусах, а порой и вообще невозможно уснуть. Эти вопросы несомненно нужно решать общими усилиями СтудСовета и самого общежития. Студенческая жизнь. Очень слабый поток информации доходит до студентов ММ о каких-либо развлекательных и культурных мероприятиях. В первую очередь, необходимо увеличить потом этой информации, а так же дать студентам факультета больше свободы для организации подобных праздников. Пожалуй это основные два пункта, на которых я хотел остановиться. Буду рад вступить в СтудСовет, помогать и развивать Мех-Мат изнутри. Всем удачи. ;)\"</td>\n",
       "      <td>1</td>\n",
       "    </tr>\n",
       "    <tr>\n",
       "      <th>3</th>\n",
       "      <td>1_Кузнецова_Алёна</td>\n",
       "      <td>Кузнецова Алёна</td>\n",
       "      <td>\"Меня очень интересует жизнь Университета. я была активным участником жизни класса и гимназии, участвовала в различных городских мероприятиях, играла в школьном театре и была постановщиком танцев. Здесь мне немного этого не хватает..и со мной согласятся многие,поэтому хочу помогать в организации мероприятий, чтобы учиться было веселее:)\"</td>\n",
       "      <td>1</td>\n",
       "    </tr>\n",
       "    <tr>\n",
       "      <th>4</th>\n",
       "      <td>1_Кунденко_Вадим</td>\n",
       "      <td>Кунденко Вадим</td>\n",
       "      <td>\"   Добрый день! Пару слов о себе. Путь к мехмату, признаюсь, был для меня тернистым. Два года напряженной подготовки, и, наконец, мечта сбылась. Наверное, решающим оказалось влияние моего деда, который тоже был мехматянином. Я вовсе не жалею, что поступил сюда. Мне нравится все: преподаватели, атмосфера, любимые одногруппники и, особенно, математика. Сессию сдавать было тяжело, но я справился. Работа, работа и еще раз работа - вот ключ к успеху. Пробую себя в роли преподавателя на Малом Мехмате. Планы работы в Студсовете. Планы - это, наверно, громко сказано. А возможность сделать, что-то полезное для своего любимого факультета и его студентов - это было бы большой честью для меня. Проблем много и нужно их решить как можно быстрее и эффективнее.  Готов совмещать работу в Студсовете и обязанности профорга. Если ребята за меня проголосуют, сделаю все возможное и невозможное, чтобы оправдать их доверие. Благодарю за внимание, студент 1 курса, Кунденко Вадим.\"</td>\n",
       "      <td>1</td>\n",
       "    </tr>\n",
       "  </tbody>\n",
       "</table>\n",
       "</div>"
      ],
      "text/plain": [
       "          conv_x_name              name  \\\n",
       "0      1_Левин_Андрей      Левин Андрей   \n",
       "1  1_Кириллова_Полина  Кириллова Полина   \n",
       "2     1_Семенов_Павел     Семенов Павел   \n",
       "3   1_Кузнецова_Алёна   Кузнецова Алёна   \n",
       "4    1_Кунденко_Вадим    Кунденко Вадим   \n",
       "\n",
       "                                                                                                                                                                                                                                                                                                                                                                                                                                                                                                                                                                                                                                                                                                                                                                                                                                                                                                                                                                                                                                                                                                                                                                                                                                                                                                                                                                                                                                                                                                                                                                                                                                                                                                                                                                                                                                                                                                                                                                                                                                                                                                                                                                                                                                                                                                                                                                                          program_txt  \\\n",
       "0                                                                                                                                                                                                                                                                                                                                                                                                                                                                                                                                                                                                                                                                                                                                                                                                                                                                                                                                                                                                                                                                                                                                                                                                                                                                                                                                                                                                                                                                                                                                                                                                                                                                                                                                                                                                                                                                                                                                                                                                                                                                                                                                                                                                                                                          Активный участник и организатор различных мероприятий (воспоминания о любимой школе), готов работать, творить, уверен, что все получится.)   \n",
       "1  Мне нравится заниматься общественной деятельностью, всячески пытаюсь расширять свой кругозор. Еще в школе организовывала различные мероприятия и была сильно этим заинтересована. Увлекаюсь музыкой, для большего развития записалась в Академический хор. Начала заниматься спортивными бальными танцами. Но в спорте симпатизирую футболу. Планирую посетить еще некоторые клубы Университета и найти, что также может меня затянуть. Хотелось бы внести свой клад в развитие Университета. План работы: 1.Всестороннее развитие студентов. Нас кругом окружает бескультурье и невежество, общество просто гниет. Многие не могут отстаивать свои права, а причина в том, что они просто их не знают. И нужно что-то с этим делать. Поэтому хочется поднять вопрос о всестороннем развитии студентов. Если мы, допустим, обучаемся на Мехмате, это не означает, что мы должны всё своё время отдавать математике и только ей. (В расписании 1 курса в этом учебном году стояли только одни математические дисциплины и физкультура, во втором семестре появились английский язык и БЖД,. Это уже хорошо, но нам убрали историю, это что не такой важный предмет, мы не должны знать истории своей страны?А потом говорят, что нынешнее поколение необразованное.) Почему бы не ввести дополнительный предмет, но при условии, что студент сможет сам для себя выбрать, что ему интересно? Или дополнительные курсы для желающих, возможно, конечно, что такие курсы проводятся, но тогда встает другой вопрос, почему многие студенты не информированы об этом, ведь просто повесить объявление – это мало. Так же можно приглашать государственных деятелей, людей творческих профессий и т. д. Чтобы они делились своим опытом, общались со студентами, отвечали на их вопросы. 2. Мероприятия внутри  потоков. Считаю важным поддерживать дружескую атмосферу внутри потоков. Это  небольшие ячейки всего университета, поэтому нужно начать с них, нужно делать их крепче и сплоченней. Предлагаю проводить состязательные мероприятия между группами, игры, что ускорит процесс сближения студентов, как в самих группах, так и внутри потоков. 3.Предоставление  большей информации о внеучебной  деятельности и о клубах МГУ. 4.Общежития. Улучшение санитарных условий. Обустройство общежитий. Нормальный тренажерный зал и душ. Создание клуба в общежитии для организации праздников.   \n",
       "2                                                                                                                                                                                                                                                                                                                                                                                                                                                                                                                                                                                                                                                                                                                                                                                                                                                                                                                                                                                                                                                                                                                                                                             \"Здравствуйте. Я так понимаю, что я уже поздно отправляю вам свой небольшой рассказ, но возможности сделать это ранее просто не представлялось. Итак, есть несколько пунктов, которые необходимо постоянно поддерживать и развивать. Большинство из них известно всем студентам, на них останавливаться я не буду, так как методы решения проблем там идентичны. Общежитие. К сожалению, сам я не очень хорошо знаю всех плюсов и минусов нынешнего общежития для ММ. Но по рассказам однокурсников, проблемы возникают, в первую очередь, с насекомыми. На кухне шастают тараканы, в комнатах клопы, от которых утром просыпаешься весь в укусах, а порой и вообще невозможно уснуть. Эти вопросы несомненно нужно решать общими усилиями СтудСовета и самого общежития. Студенческая жизнь. Очень слабый поток информации доходит до студентов ММ о каких-либо развлекательных и культурных мероприятиях. В первую очередь, необходимо увеличить потом этой информации, а так же дать студентам факультета больше свободы для организации подобных праздников. Пожалуй это основные два пункта, на которых я хотел остановиться. Буду рад вступить в СтудСовет, помогать и развивать Мех-Мат изнутри. Всем удачи. ;)\"   \n",
       "3                                                                                                                                                                                                                                                                                                                                                                                                                                                                                                                                                                                                                                                                                                                                                                                                                                                                                                                                                                                                                                                                                                                                                                                                                                                                                                                                                                                                                                                                                                                                                                                                                                                                                                                                                                                                                                                                                                                                                                                                                                                 \"Меня очень интересует жизнь Университета. я была активным участником жизни класса и гимназии, участвовала в различных городских мероприятиях, играла в школьном театре и была постановщиком танцев. Здесь мне немного этого не хватает..и со мной согласятся многие,поэтому хочу помогать в организации мероприятий, чтобы учиться было веселее:)\"   \n",
       "4                                                                                                                                                                                                                                                                                                                                                                                                                                                                                                                                                                                                                                                                                                                                                                                                                                                                                                                                                                                                                                                                                                                                                                                                                                                                                                                                                                                         \"   Добрый день! Пару слов о себе. Путь к мехмату, признаюсь, был для меня тернистым. Два года напряженной подготовки, и, наконец, мечта сбылась. Наверное, решающим оказалось влияние моего деда, который тоже был мехматянином. Я вовсе не жалею, что поступил сюда. Мне нравится все: преподаватели, атмосфера, любимые одногруппники и, особенно, математика. Сессию сдавать было тяжело, но я справился. Работа, работа и еще раз работа - вот ключ к успеху. Пробую себя в роли преподавателя на Малом Мехмате. Планы работы в Студсовете. Планы - это, наверно, громко сказано. А возможность сделать, что-то полезное для своего любимого факультета и его студентов - это было бы большой честью для меня. Проблем много и нужно их решить как можно быстрее и эффективнее.  Готов совмещать работу в Студсовете и обязанности профорга. Если ребята за меня проголосуют, сделаю все возможное и невозможное, чтобы оправдать их доверие. Благодарю за внимание, студент 1 курса, Кунденко Вадим.\"   \n",
       "\n",
       "   convocation_no  \n",
       "0               1  \n",
       "1               1  \n",
       "2               1  \n",
       "3               1  \n",
       "4               1  "
      ]
     },
     "execution_count": 182,
     "metadata": {},
     "output_type": "execute_result"
    }
   ],
   "source": [
    "# downloading all election programs\n",
    "\n",
    "programs_df = pd.read_csv('../library: main/ssmm_elections_candidates_1_11.csv', sep='\\t', encoding='utf-8')\n",
    "programs_df = programs_df[['conv_x_name','name','program_txt','convocation_no']][programs_df['program_txt'].notna()].reset_index().drop(['index'],axis=1)\n",
    "programs_df.head()\n"
   ]
  },
  {
   "cell_type": "code",
   "execution_count": 52,
   "id": "af1dff5d",
   "metadata": {},
   "outputs": [
    {
     "data": {
      "text/html": [
       "<div>\n",
       "<style scoped>\n",
       "    .dataframe tbody tr th:only-of-type {\n",
       "        vertical-align: middle;\n",
       "    }\n",
       "\n",
       "    .dataframe tbody tr th {\n",
       "        vertical-align: top;\n",
       "    }\n",
       "\n",
       "    .dataframe thead th {\n",
       "        text-align: right;\n",
       "    }\n",
       "</style>\n",
       "<table border=\"1\" class=\"dataframe\">\n",
       "  <thead>\n",
       "    <tr style=\"text-align: right;\">\n",
       "      <th></th>\n",
       "      <th>name</th>\n",
       "      <th>min_member_conv_no</th>\n",
       "      <th>min_cand_conv_no</th>\n",
       "      <th>cand_conv_cnt</th>\n",
       "      <th>manage_convocation_cnt</th>\n",
       "    </tr>\n",
       "  </thead>\n",
       "  <tbody>\n",
       "    <tr>\n",
       "      <th>0</th>\n",
       "      <td>Владыкина Вероника Евгеньевна</td>\n",
       "      <td>1.0</td>\n",
       "      <td>1</td>\n",
       "      <td>3</td>\n",
       "      <td>2.0</td>\n",
       "    </tr>\n",
       "    <tr>\n",
       "      <th>1</th>\n",
       "      <td>Коновалов Антон Александрович</td>\n",
       "      <td>1.0</td>\n",
       "      <td>1</td>\n",
       "      <td>2</td>\n",
       "      <td>1.0</td>\n",
       "    </tr>\n",
       "    <tr>\n",
       "      <th>2</th>\n",
       "      <td>Ласкин Алексей Александрович</td>\n",
       "      <td>1.0</td>\n",
       "      <td>1</td>\n",
       "      <td>3</td>\n",
       "      <td>0.0</td>\n",
       "    </tr>\n",
       "    <tr>\n",
       "      <th>3</th>\n",
       "      <td>Малхасян Арамаис</td>\n",
       "      <td>1.0</td>\n",
       "      <td>1</td>\n",
       "      <td>1</td>\n",
       "      <td>0.0</td>\n",
       "    </tr>\n",
       "    <tr>\n",
       "      <th>4</th>\n",
       "      <td>Попов Леонид Андреевич</td>\n",
       "      <td>1.0</td>\n",
       "      <td>1</td>\n",
       "      <td>3</td>\n",
       "      <td>2.0</td>\n",
       "    </tr>\n",
       "  </tbody>\n",
       "</table>\n",
       "</div>"
      ],
      "text/plain": [
       "                            name  min_member_conv_no  min_cand_conv_no  \\\n",
       "0  Владыкина Вероника Евгеньевна                 1.0                 1   \n",
       "1  Коновалов Антон Александрович                 1.0                 1   \n",
       "2   Ласкин Алексей Александрович                 1.0                 1   \n",
       "3               Малхасян Арамаис                 1.0                 1   \n",
       "4         Попов Леонид Андреевич                 1.0                 1   \n",
       "\n",
       "   cand_conv_cnt  manage_convocation_cnt  \n",
       "0              3                     2.0  \n",
       "1              2                     1.0  \n",
       "2              3                     0.0  \n",
       "3              1                     0.0  \n",
       "4              3                     2.0  "
      ]
     },
     "execution_count": 52,
     "metadata": {},
     "output_type": "execute_result"
    }
   ],
   "source": [
    "# downloading info about first nomination/membership of person\n",
    "\n",
    "core_df = pd.read_csv('../library: main/ssmm_candidates_core.csv', sep='\\t', encoding='utf-8')\n",
    "# print(list(core_df))\n",
    "core_df = core_df[['name','min_member_conv_no','min_cand_conv_no','cand_conv_cnt','manage_convocation_cnt']].reset_index().drop(['index'],axis=1)\n",
    "core_df = core_df.fillna(0)\n",
    "core_df.head()\n"
   ]
  },
  {
   "cell_type": "code",
   "execution_count": 53,
   "id": "1968db63",
   "metadata": {},
   "outputs": [
    {
     "data": {
      "text/html": [
       "<div>\n",
       "<style scoped>\n",
       "    .dataframe tbody tr th:only-of-type {\n",
       "        vertical-align: middle;\n",
       "    }\n",
       "\n",
       "    .dataframe tbody tr th {\n",
       "        vertical-align: top;\n",
       "    }\n",
       "\n",
       "    .dataframe thead th {\n",
       "        text-align: right;\n",
       "    }\n",
       "</style>\n",
       "<table border=\"1\" class=\"dataframe\">\n",
       "  <thead>\n",
       "    <tr style=\"text-align: right;\">\n",
       "      <th></th>\n",
       "      <th>name</th>\n",
       "      <th>cluster</th>\n",
       "    </tr>\n",
       "  </thead>\n",
       "  <tbody>\n",
       "    <tr>\n",
       "      <th>0</th>\n",
       "      <td>Владыкина Вероника Евгеньевна</td>\n",
       "      <td>4</td>\n",
       "    </tr>\n",
       "    <tr>\n",
       "      <th>1</th>\n",
       "      <td>Коновалов Антон Александрович</td>\n",
       "      <td>1</td>\n",
       "    </tr>\n",
       "    <tr>\n",
       "      <th>2</th>\n",
       "      <td>Ласкин Алексей Александрович</td>\n",
       "      <td>1</td>\n",
       "    </tr>\n",
       "    <tr>\n",
       "      <th>3</th>\n",
       "      <td>Малхасян Арамаис</td>\n",
       "      <td>2</td>\n",
       "    </tr>\n",
       "    <tr>\n",
       "      <th>4</th>\n",
       "      <td>Попов Леонид Андреевич</td>\n",
       "      <td>4</td>\n",
       "    </tr>\n",
       "  </tbody>\n",
       "</table>\n",
       "</div>"
      ],
      "text/plain": [
       "                            name  cluster\n",
       "0  Владыкина Вероника Евгеньевна        4\n",
       "1  Коновалов Антон Александрович        1\n",
       "2   Ласкин Алексей Александрович        1\n",
       "3               Малхасян Арамаис        2\n",
       "4         Попов Леонид Андреевич        4"
      ]
     },
     "execution_count": 53,
     "metadata": {},
     "output_type": "execute_result"
    }
   ],
   "source": [
    "# downloanding info about person's cluster (after clustering of person)\n",
    "\n",
    "person_clusters_df = pd.read_csv('person_clusters.csv', sep='\\t', encoding='utf-8')\n",
    "person_clusters_df = person_clusters_df[['key','cluster']].rename(columns={'key':'name'})\n",
    "person_clusters_df.head()"
   ]
  },
  {
   "cell_type": "code",
   "execution_count": 183,
   "id": "ea3599b4",
   "metadata": {},
   "outputs": [
    {
     "data": {
      "text/html": [
       "<div>\n",
       "<style scoped>\n",
       "    .dataframe tbody tr th:only-of-type {\n",
       "        vertical-align: middle;\n",
       "    }\n",
       "\n",
       "    .dataframe tbody tr th {\n",
       "        vertical-align: top;\n",
       "    }\n",
       "\n",
       "    .dataframe thead th {\n",
       "        text-align: right;\n",
       "    }\n",
       "</style>\n",
       "<table border=\"1\" class=\"dataframe\">\n",
       "  <thead>\n",
       "    <tr style=\"text-align: right;\">\n",
       "      <th></th>\n",
       "      <th>conv_x_name</th>\n",
       "      <th>name</th>\n",
       "      <th>program_txt</th>\n",
       "      <th>convocation_no</th>\n",
       "      <th>min_member_conv_no</th>\n",
       "      <th>min_cand_conv_no</th>\n",
       "      <th>cand_conv_cnt</th>\n",
       "      <th>manage_convocation_cnt</th>\n",
       "      <th>first_nomination_flg</th>\n",
       "      <th>first_membership_flg</th>\n",
       "      <th>cluster</th>\n",
       "    </tr>\n",
       "  </thead>\n",
       "  <tbody>\n",
       "    <tr>\n",
       "      <th>0</th>\n",
       "      <td>1_Левин_Андрей</td>\n",
       "      <td>Левин Андрей</td>\n",
       "      <td>Активный участник и организатор различных мероприятий (воспоминания о любимой школе), готов работать, творить, уверен, что все получится.)</td>\n",
       "      <td>1</td>\n",
       "      <td>1.0</td>\n",
       "      <td>1</td>\n",
       "      <td>1</td>\n",
       "      <td>0.0</td>\n",
       "      <td>True</td>\n",
       "      <td>True</td>\n",
       "      <td>2</td>\n",
       "    </tr>\n",
       "  </tbody>\n",
       "</table>\n",
       "</div>"
      ],
      "text/plain": [
       "      conv_x_name          name  \\\n",
       "0  1_Левин_Андрей  Левин Андрей   \n",
       "\n",
       "                                                                                                                                  program_txt  \\\n",
       "0  Активный участник и организатор различных мероприятий (воспоминания о любимой школе), готов работать, творить, уверен, что все получится.)   \n",
       "\n",
       "   convocation_no  min_member_conv_no  min_cand_conv_no  cand_conv_cnt  \\\n",
       "0               1                 1.0                 1              1   \n",
       "\n",
       "   manage_convocation_cnt  first_nomination_flg  first_membership_flg  cluster  \n",
       "0                     0.0                  True                  True        2  "
      ]
     },
     "execution_count": 183,
     "metadata": {},
     "output_type": "execute_result"
    }
   ],
   "source": [
    "programs_df_2 = programs_df.merge(core_df, on='name', how='left')\n",
    "# print(list(programs_df_2))\n",
    "\n",
    "# new flag (I'm interested in: True / False)\n",
    "programs_df_2['first_nomination_flg'] = programs_df_2['convocation_no'] == programs_df_2['min_cand_conv_no']\n",
    "# new flag (I'm interested in: False)\n",
    "programs_df_2['first_membership_flg'] = programs_df_2['convocation_no'] == programs_df_2['min_member_conv_no']\n",
    "\n",
    "programs_df_2 = programs_df_2.merge(person_clusters_df, on='name', how='left')\n",
    "programs_df_2.head(1)"
   ]
  },
  {
   "cell_type": "code",
   "execution_count": 55,
   "id": "85ca89e6",
   "metadata": {},
   "outputs": [
    {
     "data": {
      "text/plain": [
       "481"
      ]
     },
     "execution_count": 55,
     "metadata": {},
     "output_type": "execute_result"
    }
   ],
   "source": [
    "len(programs_df_2)"
   ]
  },
  {
   "cell_type": "code",
   "execution_count": null,
   "id": "4b427b04",
   "metadata": {},
   "outputs": [],
   "source": []
  },
  {
   "cell_type": "markdown",
   "id": "a8b82c73",
   "metadata": {},
   "source": []
  },
  {
   "cell_type": "code",
   "execution_count": 8,
   "id": "2e6380c6",
   "metadata": {},
   "outputs": [],
   "source": [
    "pd.set_option('display.max_colwidth', None)"
   ]
  },
  {
   "cell_type": "code",
   "execution_count": 12,
   "id": "52f84c22",
   "metadata": {},
   "outputs": [],
   "source": [
    "# downloading info about candidates with election programs\n",
    "\n",
    "# programs_df = pd.read_csv('../library: main/ssmm_elections_candidates_1_11.csv', sep='\\t', encoding='utf-8')\n",
    "# programs_df = programs_df[['conv_x_name','program_txt','convocation_no']][programs_df['program_txt'].notna()].reset_index().drop(['index'],axis=1)\n",
    "\n",
    "# programs_df.head()\n"
   ]
  },
  {
   "cell_type": "code",
   "execution_count": 13,
   "id": "a1b3a75c",
   "metadata": {},
   "outputs": [],
   "source": [
    "# len(programs_df)"
   ]
  },
  {
   "cell_type": "code",
   "execution_count": 194,
   "id": "1e50ff08",
   "metadata": {},
   "outputs": [
    {
     "data": {
      "text/plain": [
       "481"
      ]
     },
     "execution_count": 194,
     "metadata": {},
     "output_type": "execute_result"
    }
   ],
   "source": [
    "# all nominations\n",
    "programs_df_3 = programs_df_2[list(programs_df_2)] # bad clustering\n",
    "\n",
    "# programs_df_3 = programs_df_2[programs_df_2['cluster'] == 4] # bad clustering\n",
    "# programs_df_3 = programs_df_2[programs_df_2['cand_conv_cnt'] >= 3] # worse clustering\n",
    "# programs_df_3 = programs_df_2[programs_df_2['cand_conv_cnt'] >= 4] # bad clustering\n",
    "# programs_df_3 = programs_df_2[programs_df_2['convocation_no'].isin([4,5,6])] # bad clustering\n",
    "\n",
    "# 2+ ordinal number of nomination\n",
    "# programs_df_3 = programs_df_2[programs_df_2['first_nomination_flg'] == False] \n",
    "\n",
    "# limit = 91 # for convocations 1-3\n",
    "limit = len(programs_df_3)\n",
    "\n",
    "key_list = list(programs_df_3['conv_x_name'])[:limit]\n",
    "# key_list[-5:]\n",
    "program_list = list(programs_df_3['program_txt'])[:limit]\n",
    "\n",
    "# number of processing programs \n",
    "len(program_list)"
   ]
  },
  {
   "cell_type": "code",
   "execution_count": null,
   "id": "f20ee248",
   "metadata": {},
   "outputs": [],
   "source": []
  },
  {
   "cell_type": "code",
   "execution_count": null,
   "id": "f13ada11",
   "metadata": {},
   "outputs": [],
   "source": []
  },
  {
   "cell_type": "markdown",
   "id": "b30a249d",
   "metadata": {},
   "source": [
    "# 2. Tokenizing of texts"
   ]
  },
  {
   "cell_type": "code",
   "execution_count": 185,
   "id": "553567f1",
   "metadata": {},
   "outputs": [
    {
     "name": "stderr",
     "output_type": "stream",
     "text": [
      "[nltk_data] Downloading package punkt to /Users/user/nltk_data...\n",
      "[nltk_data]   Package punkt is already up-to-date!\n",
      "[nltk_data] Downloading package stopwords to /Users/user/nltk_data...\n",
      "[nltk_data]   Package stopwords is already up-to-date!\n"
     ]
    }
   ],
   "source": [
    "from nltk.tokenize import word_tokenize\n",
    "\n",
    "import nltk\n",
    "nltk.download('punkt')\n",
    "# for russian text\n",
    "\n",
    "nltk.download('stopwords')\n",
    "stopwords = nltk.corpus.stopwords.words('russian')\n",
    "# stopwords\n",
    "\n",
    "# Stemming is just the process of breaking a word down into its root.\n",
    "from nltk.stem.snowball import SnowballStemmer\n",
    "stemmer = SnowballStemmer(\"russian\")"
   ]
  },
  {
   "cell_type": "code",
   "execution_count": 94,
   "id": "5281f3dc",
   "metadata": {},
   "outputs": [],
   "source": [
    "\n",
    "# def remove_noise(text, stop_words = []):\n",
    "#     tokens = word_tokenize(text, language=\"russian\")\n",
    "#     cleaned_tokens = []\n",
    "#     for token in tokens:\n",
    "#         token = re.sub('[^А-Яа-я]+', '', token)\n",
    "#         if len(token) > 1 and token.lower() not in stop_words:\n",
    "#             # Get lowercase\n",
    "#             cleaned_tokens.append(token.lower())\n",
    "#     return cleaned_tokens\n",
    "\n",
    "# [^A-Za-z0-9]+\n",
    "\n",
    "# remove_noise(\"Мне нравится заниматься общественной деятельностью.\")"
   ]
  },
  {
   "cell_type": "code",
   "execution_count": null,
   "id": "431e18e6",
   "metadata": {},
   "outputs": [],
   "source": []
  },
  {
   "cell_type": "code",
   "execution_count": null,
   "id": "8532d7e9",
   "metadata": {},
   "outputs": [],
   "source": [
    "# http://brandonrose.org/clustering#Stopwords,-stemming,-and-tokenizing"
   ]
  },
  {
   "cell_type": "code",
   "execution_count": 83,
   "id": "4d75c556",
   "metadata": {},
   "outputs": [],
   "source": [
    "# to add stopwords\n",
    "\n",
    "# stopwords += [\n",
    "#         'это', 'этим', \n",
    "#         'моего',\n",
    "#         'свой', 'свои', 'своего', 'своей', \n",
    "#         'всем', 'всё',\n",
    "#         'нашего', \n",
    "#         'таких', 'также', \n",
    "#         'поэтому', 'многие', 'очень', 'других', \n",
    "#         'который', 'которая', 'которое', 'которого', 'которую', 'которым', 'которой', 'которых'\n",
    "#     ] + [\n",
    "#         'являюсь', \n",
    "#         'хотел', 'хотела', 'хочу', 'хотелось',\n",
    "#         'могу',\n",
    "#         'рассказ', 'школе', \n",
    "#         'году', 'год', 'года',\n",
    "#         'зовут', 'привет', 'различных', 'надеюсь', 'считаю', 'просто', 'вообще'\n",
    "#     ] + [\n",
    "#         'мгу', 'университет', 'университета',\n",
    "# #         'мехмата', 'мехмат', 'мехмате', 'факультета', 'факультете', 'факультет',\n",
    "#         'студсовета', 'студсовете', 'студсовет', 'совет', 'совета', 'совете',\n",
    "#         'студентов', 'студенты', 'студентам', 'студенческий', 'студенческого', 'студенческом',\n",
    "#         '2012',\n",
    "#         'организации', 'организацией', 'организация'\n",
    "#       ]\n"
   ]
  },
  {
   "cell_type": "code",
   "execution_count": null,
   "id": "cafebe89",
   "metadata": {},
   "outputs": [],
   "source": []
  },
  {
   "cell_type": "code",
   "execution_count": 40,
   "id": "2d022e1f",
   "metadata": {},
   "outputs": [],
   "source": [
    "# sents = nltk.sent_tokenize('Мне нравится заниматься общественной деятельностью, всячески пытаюсь расширять свой кругозор. Еще в школе организовывала различные мероприятия и была сильно этим заинтересована', language=\"russian\")\n",
    "# print(sents)\n",
    "\n",
    "# for sent in sents:\n",
    "#     for word in nltk.word_tokenize(sent, language=\"russian\"):\n",
    "#         print(word)\n"
   ]
  },
  {
   "cell_type": "code",
   "execution_count": 20,
   "id": "96b15a30",
   "metadata": {},
   "outputs": [],
   "source": [
    "#\n",
    "\n",
    "def tokenize_and_stem(text, stopwords=stopwords, lang=\"russian\"):\n",
    "    # first tokenize by sentence, then by word to ensure that punctuation is caught as it's own token\n",
    "    tokens = [word.lower() for sent in nltk.sent_tokenize(text, language=lang) for word in nltk.word_tokenize(sent, language=lang) if word.lower() not in stopwords]\n",
    "    filtered_tokens = []\n",
    "    # filter out any tokens not containing letters (e.g., numeric tokens, raw punctuation)\n",
    "    for token in tokens:\n",
    "        if re.search('[а-яА-Я]', token):\n",
    "            filtered_tokens.append(token)\n",
    "    stems = [stemmer.stem(t) for t in filtered_tokens]\n",
    "    return stems\n",
    "\n",
    "def tokenize_only(text, stopwords, lang):\n",
    "    # first tokenize by sentence, then by word to ensure that punctuation is caught as it's own token\n",
    "    tokens = [word.lower() for sent in nltk.sent_tokenize(text, language=lang) for word in nltk.word_tokenize(sent, language=lang) if word.lower() not in stopwords]\n",
    "    filtered_tokens = []\n",
    "    # filter out any tokens not containing letters (e.g., numeric tokens, raw punctuation)\n",
    "    for token in tokens:\n",
    "        if re.search('[а-яА-Я]', token):\n",
    "            filtered_tokens.append(token)\n",
    "    return filtered_tokens\n",
    "\n"
   ]
  },
  {
   "cell_type": "code",
   "execution_count": 43,
   "id": "00c9c60f",
   "metadata": {},
   "outputs": [],
   "source": [
    "# for program in program_list:\n",
    "#     print(tokenize_and_stem(program, stopwords, \"russian\"))"
   ]
  },
  {
   "cell_type": "code",
   "execution_count": 195,
   "id": "8b0307e6",
   "metadata": {},
   "outputs": [
    {
     "name": "stdout",
     "output_type": "stream",
     "text": [
      "25655\n"
     ]
    }
   ],
   "source": [
    "totalvocab_stemmed = []\n",
    "totalvocab_tokenized = []\n",
    "\n",
    "for i in program_list:\n",
    "    allwords_stemmed = tokenize_and_stem(i, stopwords, \"russian\")\n",
    "    totalvocab_stemmed.extend(allwords_stemmed)\n",
    "    \n",
    "    allwords_tokenized = tokenize_only(i, stopwords, \"russian\")\n",
    "    totalvocab_tokenized.extend(allwords_tokenized)\n",
    "    \n",
    "vocab_frame = pd.DataFrame({'words': totalvocab_tokenized}, index = totalvocab_stemmed)\n",
    "print(vocab_frame.shape[0])"
   ]
  },
  {
   "cell_type": "code",
   "execution_count": null,
   "id": "69bdb06e",
   "metadata": {},
   "outputs": [],
   "source": []
  },
  {
   "cell_type": "markdown",
   "id": "ecfd238f",
   "metadata": {},
   "source": [
    "# Tf-idf and program similarity"
   ]
  },
  {
   "cell_type": "code",
   "execution_count": 23,
   "id": "505841b0",
   "metadata": {},
   "outputs": [],
   "source": [
    "from sklearn.feature_extraction.text import TfidfVectorizer\n"
   ]
  },
  {
   "cell_type": "code",
   "execution_count": 227,
   "id": "d94f3340",
   "metadata": {},
   "outputs": [
    {
     "name": "stderr",
     "output_type": "stream",
     "text": [
      "/opt/homebrew/lib/python3.11/site-packages/sklearn/feature_extraction/text.py:528: UserWarning: The parameter 'token_pattern' will not be used since 'tokenizer' is not None'\n",
      "  warnings.warn(\n"
     ]
    },
    {
     "name": "stdout",
     "output_type": "stream",
     "text": [
      "(481, 106)\n"
     ]
    }
   ],
   "source": [
    "# alternative way, with own list of stop words\n",
    "# https://stackoverflow.com/questions/26826002/adding-words-to-stop-words-list-in-tfidfvectorizer-in-sklearn\n",
    "\n",
    "tfidf_vectorizer = TfidfVectorizer(\n",
    "#     max_features=200, \n",
    "    max_df=0.7, min_df=0.013, \n",
    "    ngram_range=(2,2), # only 2-grams\n",
    "    tokenizer=tokenize_and_stem, \n",
    "    stop_words=stopwords\n",
    ")\n",
    "\n",
    "tfidf_matrix = tfidf_vectorizer.fit_transform(program_list)\n",
    "# idf_values = dict(zip(vectorizer.get_feature_names(), vectorizer.idf_))\n",
    "terms = tfidf_vectorizer.get_feature_names_out()\n",
    "\n",
    "print(tfidf_matrix.shape)"
   ]
  },
  {
   "cell_type": "code",
   "execution_count": null,
   "id": "ef538596",
   "metadata": {},
   "outputs": [],
   "source": []
  },
  {
   "cell_type": "code",
   "execution_count": 228,
   "id": "2019207e",
   "metadata": {},
   "outputs": [
    {
     "data": {
      "text/plain": [
       "array(['активн участ', 'активн участвова', 'активн участник', 'буд рад',\n",
       "       'бытов вопрос', 'ваш поддержк', 'внест вклад', 'вопрос котор',\n",
       "       'времен суток', 'встреч второкурсник', 'групп бытов',\n",
       "       'групп образован', 'групп оповещен', 'групп первокурсник',\n",
       "       'групп праздник', 'дан момент', 'дела жизн', 'ден ден',\n",
       "       'ден пифагор', 'дня пифагор', 'добр времен', 'добр ден',\n",
       "       'жизн интересн', 'жизн мехматя', 'занима вопрос',\n",
       "       'занима мероприят', 'занима обществен', 'занима праздник',\n",
       "       'избира втор', 'инициативн групп', 'иностра язык', 'интерес поток',\n",
       "       'интересн мероприят', 'кажд студент', 'качеств образован',\n",
       "       'конкурс групп', 'координатор рабоч', 'котор будут',\n",
       "       'культурно-массов мероприят', 'куратор групп', 'лучш вуз',\n",
       "       'мероприят ден', 'мероприят котор', 'младш курс', 'наш жизн',\n",
       "       'нов проект', 'нов созыв', 'образован бытов', 'общежит гз',\n",
       "       'обществен деятельн', 'обществен жизн', 'обществен работ',\n",
       "       'огромн количеств', 'одн организатор', 'ответствен секретар',\n",
       "       'перв курс', 'пифагор ден', 'план работ', 'планир занима',\n",
       "       'планир продолж', 'повышен стипенд', 'пода заявк',\n",
       "       'помога мероприят', 'помога праздник', 'помога проведен',\n",
       "       'помога студсовет', 'посвящен первокурсник', 'постара сдела',\n",
       "       'праздник ден', 'праздник спорт', 'представля интерес',\n",
       "       'приемн комисс', 'принима активн', 'принима участ', 'приня участ',\n",
       "       'проведен дня', 'проведен мероприят', 'проведен праздник',\n",
       "       'продолж деятельн', 'продолж занима', 'продолж работ',\n",
       "       'проект котор', 'прошл созыв', 'работ групп', 'работ партнер',\n",
       "       'рабоч групп', 'распределен повышен', 'решен бытов',\n",
       "       'решен вопрос', 'решен пробл', 'сбор макулатур', 'сдела жизн',\n",
       "       'спасиб вниман', 'спортивн мероприят', 'старост групп',\n",
       "       'стат член', 'студент курс', 'студенческ жизн', 'услов проживан',\n",
       "       'участ жизн', 'участ мероприят', 'участвова проведен',\n",
       "       'участвова распределен', 'учебн процесс', 'учебн част',\n",
       "       'школ актив'], dtype=object)"
      ]
     },
     "execution_count": 228,
     "metadata": {},
     "output_type": "execute_result"
    }
   ],
   "source": [
    "# most frequent 2-grams\n",
    "terms"
   ]
  },
  {
   "cell_type": "code",
   "execution_count": 229,
   "id": "5dbe4a94",
   "metadata": {},
   "outputs": [
    {
     "data": {
      "text/plain": [
       "array(['активн участ', 'активн участвова', 'активн участник',\n",
       "       'внест вклад', 'встреч второкурсник', 'групп бытов',\n",
       "       'групп образован', 'групп оповещен', 'групп первокурсник',\n",
       "       'групп праздник', 'дела жизн', 'ден пифагор', 'дня пифагор',\n",
       "       'жизн интересн', 'занима мероприят', 'занима обществен',\n",
       "       'занима праздник', 'иностра язык', 'интерес поток',\n",
       "       'интересн мероприят', 'качеств образован', 'конкурс групп',\n",
       "       'координатор рабоч', 'культурно-массов мероприят', 'куратор групп',\n",
       "       'мероприят ден', 'образован бытов', 'общежит гз',\n",
       "       'обществен деятельн', 'обществен жизн', 'обществен работ',\n",
       "       'одн организатор', 'ответствен секретар', 'пифагор ден',\n",
       "       'повышен стипенд', 'помога мероприят', 'помога праздник',\n",
       "       'помога проведен', 'посвящен первокурсник', 'праздник ден',\n",
       "       'праздник спорт', 'представля интерес', 'приемн комисс',\n",
       "       'проведен дня', 'проведен мероприят', 'проведен праздник',\n",
       "       'продолж деятельн', 'работ партнер', 'распределен повышен',\n",
       "       'решен бытов', 'решен вопрос', 'решен пробл', 'сбор макулатур',\n",
       "       'спортивн мероприят', 'услов проживан', 'участ мероприят',\n",
       "       'участвова проведен', 'участвова распределен', 'учебн процесс',\n",
       "       'школ актив'], dtype=object)"
      ]
     },
     "execution_count": 229,
     "metadata": {},
     "output_type": "execute_result"
    }
   ],
   "source": [
    "# deleting noisy 2-grams from terms\n",
    "drop_n_grams = ['буд рад', 'вопрос котор', 'времен суток', 'добр времен', 'кажд студент', 'котор будут', 'лучш вуз', 'младш курс', \n",
    "                'нов созыв', 'огромн количеств', 'пода заявк', 'помога студсовет', 'постара сдела', 'принима активн', 'принима участ', \n",
    "                'приня участ', 'проект котор', 'прошл созыв', 'спасиб вниман', 'стат член', 'студент курс', 'студенческ жизн', \n",
    "                'участ жизн', 'учебн част', 'старост групп', 'продолж работ', 'ближайш врем', 'бур эмоц', 'ваш голос', 'ден ден',\n",
    "                'ваш интерес', 'избира трет', 'избира четверт', 'планир занима', 'планир продолж', 'жизн мехматя', 'занима вопрос',\n",
    "                'мероприят котор', 'наш жизн', 'нов проект', 'продолж занима', 'сдела жизн', 'котор будут', 'нов проект', \n",
    "                \n",
    "                'ваш поддержк', 'дан момент', 'добр ден', 'избира втор', 'перв курс', 'план работ', 'работ групп', 'рабоч групп'\n",
    "               ]\n",
    "\n",
    "search = np.array(drop_n_grams)\n",
    "search_indexes = np.searchsorted(terms, search)\n",
    "terms = np.delete(terms, search_indexes)\n",
    "terms\n",
    "# terms_fix"
   ]
  },
  {
   "cell_type": "code",
   "execution_count": 230,
   "id": "5434b6f9",
   "metadata": {},
   "outputs": [],
   "source": [
    "# deleting appropriate columns from tfidf_matrix\n",
    "\n",
    "from scipy import sparse\n",
    "\n",
    "indexes_to_keep = list(set(range(tfidf_matrix.shape[1]))-set(search_indexes))\n",
    "tfidf_matrix = sparse.lil_matrix(sparse.csr_matrix(tfidf_matrix)[:, indexes_to_keep]) # tfidf_matrix_new\n",
    "\n",
    "# to see the result\n",
    "# tfidf_array_new = tfidf_matrix.todense()\n",
    "# tfidf_df = pd.DataFrame(tfidf_array_new)\n",
    "# tfidf_df\n",
    "# tfidf_df_new"
   ]
  },
  {
   "cell_type": "code",
   "execution_count": null,
   "id": "07fade38",
   "metadata": {},
   "outputs": [],
   "source": []
  },
  {
   "cell_type": "markdown",
   "id": "d92fdee9",
   "metadata": {},
   "source": [
    "# Create an elbow plot"
   ]
  },
  {
   "cell_type": "code",
   "execution_count": 192,
   "id": "6016420e",
   "metadata": {},
   "outputs": [],
   "source": [
    "from scipy.cluster.vq import kmeans #, vq"
   ]
  },
  {
   "cell_type": "code",
   "execution_count": 231,
   "id": "6980bd3a",
   "metadata": {},
   "outputs": [
    {
     "data": {
      "image/png": "[encoded data removed]",
      "text/plain": [
       "<Figure size 640x480 with 1 Axes>"
      ]
     },
     "metadata": {},
     "output_type": "display_data"
    }
   ],
   "source": [
    "distortions = []\n",
    "num_clusters_range = range(1, 21)\n",
    "\n",
    "# Create a list of distortions from the kmeans method\n",
    "for i in num_clusters_range:\n",
    "    cluster_centers, distortion = kmeans(tfidf_matrix.todense(), i)\n",
    "    distortions.append(distortion) \n",
    "    \n",
    "# Create a DataFrame with two lists - number of clusters and distortions\n",
    "elbow_plot = pd.DataFrame({'num_clusters': num_clusters_range,\n",
    "                           'distortions': distortions})\n",
    "# Creat a line plot of num_clusters and distortions\n",
    "sns.lineplot(x='num_clusters', y='distortions', data = elbow_plot)\n",
    "plt.xticks(num_clusters_range)\n",
    "plt.show()"
   ]
  },
  {
   "cell_type": "code",
   "execution_count": null,
   "id": "5ea97bf3",
   "metadata": {},
   "outputs": [],
   "source": []
  },
  {
   "cell_type": "markdown",
   "id": "f25bde17",
   "metadata": {},
   "source": [
    "# K-Means clusters"
   ]
  },
  {
   "cell_type": "code",
   "execution_count": 209,
   "id": "4e93773c",
   "metadata": {},
   "outputs": [],
   "source": [
    "from sklearn.cluster import KMeans"
   ]
  },
  {
   "cell_type": "code",
   "execution_count": 232,
   "id": "faa397c7",
   "metadata": {},
   "outputs": [
    {
     "name": "stdout",
     "output_type": "stream",
     "text": [
      "CPU times: user 88.3 ms, sys: 67 ms, total: 155 ms\n",
      "Wall time: 43.2 ms\n"
     ]
    }
   ],
   "source": [
    "num_clusters = 5\n",
    "\n",
    "km = KMeans(n_clusters=num_clusters, n_init=10)\n",
    "\n",
    "%time km.fit(tfidf_matrix)\n",
    "\n",
    "clusters = km.labels_.tolist()"
   ]
  },
  {
   "cell_type": "code",
   "execution_count": 233,
   "id": "9fe04f9d",
   "metadata": {},
   "outputs": [
    {
     "data": {
      "text/plain": [
       "1    390\n",
       "0     39\n",
       "3     30\n",
       "4     12\n",
       "2     10\n",
       "Name: cluster, dtype: int64"
      ]
     },
     "execution_count": 233,
     "metadata": {},
     "output_type": "execute_result"
    }
   ],
   "source": [
    "program_clusters = {\n",
    "    'key': key_list, \n",
    "    'program': program_list, \n",
    "    'cluster': clusters\n",
    "}\n",
    "\n",
    "frame = pd.DataFrame(program_clusters, index = [clusters], columns = ['key', 'program', 'cluster'])\n",
    "\n",
    "frame['cluster'].value_counts()"
   ]
  },
  {
   "cell_type": "code",
   "execution_count": 234,
   "id": "4e864e3f",
   "metadata": {},
   "outputs": [
    {
     "name": "stdout",
     "output_type": "stream",
     "text": [
      "Top terms per cluster:\n",
      "\n",
      "Cluster 0 words:\n",
      "повышен стипенд - 0.439\n",
      "распределен повышен - 0.262\n",
      "встреч второкурсник - 0.092\n",
      "участвова распределен - 0.071\n",
      "групп оповещен - 0.057\n",
      "активн участ - 0.051\n",
      "интерес поток - 0.046\n",
      "координатор рабоч - 0.045\n",
      "культурно-массов мероприят - 0.031\n",
      "обществен деятельн - 0.024\n",
      "\n",
      "Cluster 0 keys:\n",
      "\t\t2_Медведева_Я,\t\t2_Тишин_П,\t\t2_Владыкина_В,\t\t2_Котляров_Н,\t\t3_Дяченко_М,\t\t3_Матвеев_А,\t\t3_Владыкина_В,\t\t4_Дорман_Е,\t\t4_Матвеев_Д,\t\t4_Борисов_В,\t\t4_Чеботаева_В,\t\t4_Глунчадзе_И,\t\t4_Дяченко_М,\t\t4_Остроухова_Н,\t\t5_Тюрина_Т,\t\t5_Нагорных_Я,\t\t5_Остроухова_Н,\t\t5_Матвеев_Д,\t\t5_Подкользина_Е,\t\t5_Савченко_А,\t\t6_Хасанов_Р,\t\t6_Щербаков_В,\t\t6_Глунчадзе_И,\t\t6_Назмутдинов_А,\t\t6_Савин_П,\t\t6_Чаплыгина_Е,\t\t6_Остроухова_Н,\t\t6_Чернова_А,\t\t6_Провидухина_М,\t\t6_Денисов_И,\t\t6_Бахметьева_М,\t\t6_Савченко_А,\t\t7_Савченко_А,\t\t7_Хасанов_Р,\t\t7_Денисов_И,\t\t7_Зарубин_Н,\t\t8_Кухарчук_И,\t\t8_Сенотов_В,\t\t9_Кухарчук_И,\n",
      "\n",
      "Cluster 1 words:\n",
      "групп образован - 0.024\n",
      "обществен деятельн - 0.024\n",
      "обществен жизн - 0.023\n",
      "активн участ - 0.019\n",
      "занима обществен - 0.016\n",
      "помога мероприят - 0.016\n",
      "групп праздник - 0.015\n",
      "решен бытов - 0.015\n",
      "работ партнер - 0.014\n",
      "групп оповещен - 0.014\n",
      "\n",
      "Cluster 1 keys:\n",
      "\t\t1_Левин_А,\t\t1_Кириллова_П,\t\t1_Семенов_П,\t\t1_Кузнецова_А,\t\t1_Кунденко_В,\t\t1_Сафина_Д,\t\t1_Глухова_А,\t\t1_Владыкина_В,\t\t1_Попов_Л,\t\t1_Тропин_А,\t\t1_Сапунов_К,\t\t1_Артамонова_М,\t\t1_Удимов_Д,\t\t1_Котляров_Н,\t\t1_Чернодед_А,\t\t1_Савушкин_Н,\t\t2_Остроухова_Н,\t\t2_Габидов_А,\t\t2_Дяченко_М,\t\t2_Ванунц_А,\t\t2_Ватутин_К,\t\t2_Никифоров_С,\t\t2_Власов_А,\t\t2_Багров_К,\t\t2_Быстрицкая_В,\t\t2_Сафина_Д,\t\t2_Осин_Р,\t\t2_Смелов_В,\t\t2_Оджаев_Р,\t\t2_Попов_Л,\t\t2_Тропин_А,\t\t2_Сергеева_Э,\t\t2_Тен_А,\t\t2_Акушевич_А,\t\t2_Дьяков_П,\t\t2_Сапунов_К,\t\t2_Абдуллаева_Э,\t\t2_Морозов_С,\t\t3_Бурнус_А,\t\t3_Денисов_И,\t\t3_Суркова_А,\t\t3_Тюрина_Т,\t\t3_Корно_Д,\t\t3_Изимова_А,\t\t3_Чистяков_М,\t\t3_Ариас-Альварес_В,\t\t3_Григорьев_И,\t\t3_Дорман_Е,\t\t3_Остроухова_Н,\t\t3_Локтионов_Ф,\t\t3_Глунчадзе_И,\t\t3_Ватутин_К,\t\t3_Савченко_А,\t\t3_Матвеев_Д,\t\t3_Бунеев_А,\t\t3_Борисов_В,\t\t3_Хамматова_Г,\t\t3_Медведева_Я,\t\t3_Хасанов_Р,\t\t3_Скопинцев_А,\t\t3_Осин_Р,\t\t3_Куркотов_В,\t\t3_Антонов_С,\t\t3_Митькина_М,\t\t3_Ольшевская_П,\t\t3_Селиверстова_Е,\t\t3_Садрисламов_А,\t\t3_Шариков_А,\t\t3_Антонова_О,\t\t3_Сергеева_Э,\t\t3_Ласкин_А,\t\t3_Тен_А,\t\t3_Сапунов_К,\t\t3_Короткин_В,\t\t3_Буряк_А,\t\t3_Морозов_С,\t\t4_Суркова_А,\t\t4_Денисов_И,\t\t4_Тюрина_Т,\t\t4_Оськин_А,\t\t4_Хапкин_А,\t\t4_Тулякова_А,\t\t4_Бунеев_А,\t\t4_Морозов_С,\t\t4_Антонов_С,\t\t4_Мылзенова_Д,\t\t4_Нечаев_Н,\t\t4_Мизраки_В,\t\t4_Яшин_Р,\t\t4_Змиевский_Л,\t\t4_Таибов_А,\t\t4_Савин_П,\t\t4_Ахмеджанова_М,\t\t4_Ламтюгин_А,\t\t4_Матвеев_А,\t\t4_Нагорных_Я,\t\t4_Краснова_А,\t\t4_Аседова_Е,\t\t4_Шведов_К,\t\t4_Бахметьева_М,\t\t4_Белов_А,\t\t4_Оджаев_Р,\t\t4_Лапина_С,\t\t4_Коварский_А,\t\t4_Броницкий_Г,\t\t4_Чидякина_О,\t\t4_Лучкина_А,\t\t4_Чернова_А,\t\t4_Муравьёва_А,\t\t4_Савченко_А,\t\t4_Подкользина_Е,\t\t4_Волчанский_А,\t\t4_Аленина_А,\t\t4_Думаревский_А,\t\t4_Гордеева_М,\t\t4_Горшков_К,\t\t4_Бекбулатов_Р,\t\t5_Семенюк_П,\t\t5_Бахметьева_М,\t\t5_Ронжин_Д,\t\t5_Коллерова_С,\t\t5_Чидякина_О,\t\t5_Муравьёва_А,\t\t5_Чернова_А,\t\t5_Нечаев_Н,\t\t5_Змиевский_Л,\t\t5_Лапина_С,\t\t5_Ильясова_А,\t\t5_Краснова_А,\t\t5_Кравчук_Н,\t\t5_Думаревский_А,\t\t5_Понфиленко_А,\t\t5_Волчанский_А,\t\t5_Шведов_К,\t\t5_Денисов_И,\t\t5_Бекбулатов_Р,\t\t5_Савин_П,\t\t5_Глунчадзе_И,\t\t5_Морозов_С,\t\t5_Проничкин_Ю,\t\t5_Матюнин_В,\t\t5_Ариас-Альварес_В,\t\t5_Шигаев_И,\t\t5_Гулин_Н,\t\t5_Сергейчик_Р,\t\t5_Бун-Ян-Тун_В,\t\t5_Мотовилина_А,\t\t5_Провидухина_М,\t\t5_Сакаев_Р,\t\t5_Трошина_Д,\t\t5_Козлова_К,\t\t5_Лебедев_В,\t\t5_Святкин_И,\t\t5_Мамедов_Р,\t\t5_Ким_Н,\t\t5_Базанов_И,\t\t5_Милютин_Э,\t\t6_Титов_М,\t\t6_Кудрявцев_С,\t\t6_Поликушин_В,\t\t6_Штерн_А,\t\t6_Корж_Д,\t\t6_Зарубин_Н,\t\t6_Новицкая_Е,\t\t6_Батутина_М,\t\t6_Исмагилов_А,\t\t6_Тропин_А,\t\t6_Тесля_А,\t\t6_Хан_Т,\t\t6_Кремер_А,\t\t6_Мазитова_В,\t\t6_Чебунина_Т,\t\t6_Малахов_Н,\t\t6_Бекбулатов_Р,\t\t6_Бун-Ян-Тун_В,\t\t6_Саакян_В,\t\t6_Змиевский_Л,\t\t6_Лапина_С,\t\t6_Украинский_Д,\t\t6_Чидякина_О,\t\t6_Третьяков_А,\t\t6_Сакаев_Р,\t\t6_Татаринцева_М,\t\t6_Трошина_Д,\t\t6_Воробьёва_Н,\t\t6_Гигин_И,\t\t6_Садова_К,\t\t6_Семенюк_П,\t\t6_Тонконогов_А,\t\t6_Нагорных_Я,\t\t6_Захахатнов_Д,\t\t6_Никулин_М,\t\t6_Суркова_А,\t\t6_Московский_Б,\t\t6_Дмитриев_И,\t\t6_Мищенко_А,\t\t6_Авилова_Е,\t\t6_Рогачёв_А,\t\t7_Савин_П,\t\t7_Бекбулатов_Р,\t\t7_Рогачёв_А,\t\t7_Коновалов_Д,\t\t7_Порфирьева_Н,\t\t7_Сакаев_Р,\t\t7_Татаринцева_М,\t\t7_Малания_Г,\t\t7_Третьяков_А,\t\t7_Сенотов_В,\t\t7_Жуковский_Н,\t\t7_Кудасов_М,\t\t7_Волкова_Д,\t\t7_Фиткович_В,\t\t7_Батутина_М,\t\t7_Малахов_Н,\t\t7_Воробьёва_Н,\t\t7_Кухарчук_И,\t\t7_Салимгереев_М,\t\t7_Гусейнов_С,\t\t7_Малиновский_Г,\t\t7_Бузенков_О,\t\t7_Филатов_К,\t\t7_Корж_Д,\t\t7_Вихорева_Н,\t\t7_Федотов_К,\t\t7_Мазитова_В,\t\t7_Хахова_М,\t\t7_Митрофанов_Д,\t\t8_Шерстобитов_А,\t\t8_Алиев_Р,\t\t8_Устинов_Н,\t\t8_Сиухина_А,\t\t8_Логинова_И,\t\t8_Ефимкина_А,\t\t8_Вихорева_Н,\t\t8_Кудасов_М,\t\t8_Денисов_И,\t\t8_Мазитова_В,\t\t8_Краснова_А,\t\t8_Фенелонов_Д,\t\t8_Скурихин_Д,\t\t8_Яцык_Я,\t\t8_Бузенков_О,\t\t8_Малиновский_Г,\t\t8_Гусейнов_С,\t\t8_Клюев_А,\t\t8_Митрофанов_Д,\t\t8_Корж_Д,\t\t8_Артамонов_С,\t\t8_Сперанский_А,\t\t8_Винокурова_А,\t\t8_Перфильева_Н,\t\t8_Шишкин_И,\t\t8_Малахов_Н,\t\t8_Промыслов_П,\t\t9_Малахов_Н,\t\t9_Краснова_А,\t\t9_Сенотов_В,\t\t9_Клюев_А,\t\t9_Евдокимова_С,\t\t9_Третьяков_П,\t\t9_Корж_Д,\t\t9_Вихорева_Н,\t\t9_Фиткович_В,\t\t9_Мазитова_В,\t\t9_Матвеев_Д,\t\t9_Малиновский_Г,\t\t9_Саметов_М,\t\t9_Чулкова_К,\t\t9_Хахова_М,\t\t9_Дехнич_К,\t\t9_Аскарова_А,\t\t9_Сиухина_А,\t\t9_Фенелонов_Д,\t\t9_Скурихин_Д,\t\t9_Воронин_В,\t\t9_Попова_А,\t\t9_Ладейщиков_Е,\t\t9_Окунев_Ф,\t\t9_Рябцев_Л,\t\t9_Лобанова_А,\t\t9_Рязанов_Д,\t\t9_Зайцева_А,\t\t9_Игин_А,\t\t9_Шишкин_И,\t\t9_Винокурова_А,\t\t9_Ревнивцев_А,\t\t9_Кулюсов_М,\t\t9_Меньшикова_Л,\t\t9_Янкова_М,\t\t9_Кузякина_С,\t\t9_Васильев_Н,\t\t10_Малахов_Н,\t\t10_Шишков_А,\t\t10_Хахова_М,\t\t10_Фиткович_В,\t\t10_Мазитова_В,\t\t10_Лобанова_А,\t\t10_Терехов_М,\t\t10_Янкова_М,\t\t10_Тузова_В,\t\t10_Куслина_К,\t\t10_Мельникова_Д,\t\t10_Малиновский_Г,\t\t10_Пчельникова_Е,\t\t10_Евдокимова_С,\t\t10_Клюев_А,\t\t10_Третьяков_П,\t\t10_Кухарчук_И,\t\t10_Саметов_М,\t\t10_Сулейкин_А,\t\t10_Харламов_В,\t\t10_Фенелонов_Д,\t\t10_Скурихин_Д,\t\t10_Попова_А,\t\t10_Устинов_Н,\t\t10_Сиухина_А,\t\t10_Кирюхина_А,\t\t10_Фёдоров_Л,\t\t10_Беляева_А,\t\t10_Ковыршина_В,\t\t10_Рахматуллаев_Т,\t\t10_Манахова_А,\t\t10_Блинов_А,\t\t10_Винокурова_А,\t\t10_Шереметьев_В,\t\t10_Пушкарёва_А,\t\t10_Дехнич_К,\t\t10_Чуб_В,\t\t10_Родионова_Е,\t\t10_Лобанова_А,\t\t10_Макаров_Н,\t\t10_Павликова_А,\t\t10_Шевченко_Е,\t\t10_Пятина_А,\t\t10_Зеленин_Г,\t\t10_Лещенко_С,\t\t10_Гаспарян_И,\t\t10_Верещагина_С,\t\t10_Дементьева_А,\t\t10_Перфильев_Д,\t\t10_Мишанин_О,\t\t10_Корченкина_Д,\t\t10_Янушкевич_И,\t\t10_Ляпунов_А,\t\t10_Захарычев_А,\t\t10_Муджиков_В,\t\t10_Приходко_М,\t\t10_Ковалева_К,\t\t10_Гордеев_Н,\t\t10_Орлов_Д,\t\t10_Алёшечкина_Е,\t\t10_Горшков_Е,\t\t10_Белугин_Н,\t\t11_Малиновский_Г,\t\t11_Мельникова_Д,\t\t11_Третьяков_П,\t\t11_Клюев_А,\t\t11_Евдокимова_С,\t\t11_Пчельникова_Е,\t\t11_Шереметьев_В,\t\t11_Манахова_А,\t\t11_Водолеев_М,\t\t11_Дехнич_К,\t\t11_Бабаджанова_Е,\t\t11_Зенков_Т,\t\t11_Чуб_В,\t\t11_Лобанова_А,\t\t11_Шевченко_Е,\t\t11_Макаров_Н,\t\t11_Янушкевич_И,\t\t11_Монина_Д,\t\t11_Белан_А,\t\t11_Бароян_А,\t\t11_Гаспарян_И,\t\t11_Садовицкая_Е,\t\t11_Алёшечкина_Е,\t\t11_Агуреева_Е,\t\t11_Приходко_М,\t\t11_Абубакарова_Л,\t\t11_Арефьева_В,\t\t11_Заводян_М,\t\t11_Уваров_А,\t\t11_Майданик_А,\t\t11_Кадников_К,\t\t11_Мазитова_В,\t\t11_Терехов_М,\t\t11_Поликарпов_А,\t\t11_Каляев_Т,\t\t11_Маммагаджиев_Р,\t\t11_Третьякова_Е,\n",
      "\n",
      "Cluster 2 words:\n",
      "учебн процесс - 0.689\n",
      "дела жизн - 0.073\n",
      "интересн мероприят - 0.072\n",
      "групп бытов - 0.065\n",
      "качеств образован - 0.052\n",
      "представля интерес - 0.041\n",
      "культурно-массов мероприят - 0.040\n",
      "занима обществен - 0.039\n",
      "обществен деятельн - 0.037\n",
      "куратор групп - 0.000\n",
      "\n",
      "Cluster 2 keys:\n",
      "\t\t4_Митькина_М,\t\t5_Плотников_В,\t\t9_Пушкарёва_А,\t\t9_Тирешко_Д,\t\t10_Хан_В,\t\t10_Илизаров_Г,\t\t10_Волкова_Е,\t\t11_Лоншаков_Н,\t\t11_Вербовская_Д,\t\t11_Витковский_А,\n",
      "\n",
      "Cluster 3 words:\n",
      "ден пифагор - 0.330\n",
      "мероприят ден - 0.182\n",
      "пифагор ден - 0.177\n",
      "конкурс групп - 0.113\n",
      "школ актив - 0.093\n",
      "посвящен первокурсник - 0.080\n",
      "праздник ден - 0.072\n",
      "групп праздник - 0.068\n",
      "занима мероприят - 0.042\n",
      "помога проведен - 0.040\n",
      "\n",
      "Cluster 3 keys:\n",
      "\t\t1_Штейников_Ю,\t\t3_Быстрицкая_В,\t\t3_Самонов_А,\t\t4_Быстрицкая_В,\t\t4_Карякин_И,\t\t4_Кондрашкин_С,\t\t4_Остросаблина_О,\t\t5_Суркова_А,\t\t5_Александрина_М,\t\t6_Проничкин_Ю,\t\t6_Зарков_А,\t\t6_Ураева_Д,\t\t6_Краснова_А,\t\t6_Думаревский_А,\t\t6_Муравьёва_А,\t\t6_Сенотов_В,\t\t6_Пилюгина_С,\t\t6_Кравчук_Н,\t\t7_Тонконогов_А,\t\t7_Муравьёва_А,\t\t7_Краснова_А,\t\t7_Гигин_И,\t\t7_Змиевский_Л,\t\t8_Тонконогов_А,\t\t8_Фиткович_В,\t\t8_Хахова_М,\t\t8_Муравьёва_А,\t\t9_Муравьёва_А,\t\t10_Зайцева_А,\t\t11_Алеев_Д,\n",
      "\n",
      "Cluster 4 words:\n",
      "спортивн мероприят - 0.794\n",
      "одн организатор - 0.065\n",
      "услов проживан - 0.053\n",
      "активн участник - 0.052\n",
      "проведен мероприят - 0.051\n",
      "школ актив - 0.000\n",
      "качеств образован - 0.000\n",
      "занима праздник - 0.000\n",
      "иностра язык - 0.000\n",
      "интерес поток - 0.000\n",
      "\n",
      "Cluster 4 keys:\n",
      "\t\t1_Миценко_В,\t\t2_Лавров_В,\t\t2_Антонов_С,\t\t3_Андреев_М,\t\t3_Попов_Л,\t\t4_Мамедов_Р,\t\t8_Антонов_И,\t\t8_Дементьев_Ф,\t\t8_Панина_Т,\t\t9_Фёдоров_К,\t\t9_Панина_Т,\t\t9_Колузанов_Ф,\n",
      "\n"
     ]
    }
   ],
   "source": [
    "print(\"Top terms per cluster:\")\n",
    "print()\n",
    "\n",
    "#sort cluster centers by proximity to centroid\n",
    "order_centroids = km.cluster_centers_.argsort()[:, ::-1] \n",
    "\n",
    "for i in range(num_clusters):\n",
    "    print(\"Cluster %d words:\" % i) # , end=''\n",
    "    \n",
    "    for ind in order_centroids[i, :10]: #replace 10 with n words per cluster\n",
    "        print(\"{0} - {1:.3f}\".format(terms[ind], km.cluster_centers_[i][ind]))\n",
    "    print()\n",
    "    \n",
    "    print(\"Cluster %d keys:\" % i) # , end=''\n",
    "    for key in frame.loc[i]['key'].values.tolist():\n",
    "        print('\\t\\t%s,' % key[:find_substring(key, '_', 1)+2], end='')\n",
    "    print()\n",
    "    print()\n"
   ]
  },
  {
   "cell_type": "code",
   "execution_count": null,
   "id": "b047ff98",
   "metadata": {},
   "outputs": [],
   "source": []
  },
  {
   "cell_type": "code",
   "execution_count": null,
   "id": "d1173758",
   "metadata": {},
   "outputs": [],
   "source": []
  },
  {
   "cell_type": "code",
   "execution_count": null,
   "id": "e7f8d459",
   "metadata": {},
   "outputs": [],
   "source": []
  },
  {
   "cell_type": "code",
   "execution_count": null,
   "id": "3e1a0e3c",
   "metadata": {},
   "outputs": [],
   "source": []
  },
  {
   "cell_type": "code",
   "execution_count": null,
   "id": "45e38d5c",
   "metadata": {},
   "outputs": [],
   "source": []
  },
  {
   "cell_type": "code",
   "execution_count": null,
   "id": "665fd352",
   "metadata": {},
   "outputs": [],
   "source": []
  },
  {
   "cell_type": "code",
   "execution_count": null,
   "id": "19ab58cc",
   "metadata": {},
   "outputs": [],
   "source": []
  },
  {
   "cell_type": "code",
   "execution_count": null,
   "id": "19c1b5ce",
   "metadata": {},
   "outputs": [],
   "source": []
  },
  {
   "cell_type": "markdown",
   "id": "72c52492",
   "metadata": {},
   "source": [
    "# ======== DRAFTS:"
   ]
  },
  {
   "cell_type": "code",
   "execution_count": null,
   "id": "50899604",
   "metadata": {},
   "outputs": [],
   "source": []
  },
  {
   "cell_type": "markdown",
   "id": "b714ad6e",
   "metadata": {},
   "source": [
    "## Analysis of most frequent tokens"
   ]
  },
  {
   "cell_type": "code",
   "execution_count": 42,
   "id": "873e36f7",
   "metadata": {},
   "outputs": [],
   "source": [
    "# first index (row) = serial number of program\n",
    "# second index (column) = serial number of feature (1-token)\n",
    "\n",
    "# print(tfidf_matrix)"
   ]
  },
  {
   "cell_type": "code",
   "execution_count": 85,
   "id": "7fd9c96a",
   "metadata": {},
   "outputs": [
    {
     "data": {
      "text/html": [
       "<div>\n",
       "<style scoped>\n",
       "    .dataframe tbody tr th:only-of-type {\n",
       "        vertical-align: middle;\n",
       "    }\n",
       "\n",
       "    .dataframe tbody tr th {\n",
       "        vertical-align: top;\n",
       "    }\n",
       "\n",
       "    .dataframe thead th {\n",
       "        text-align: right;\n",
       "    }\n",
       "</style>\n",
       "<table border=\"1\" class=\"dataframe\">\n",
       "  <thead>\n",
       "    <tr style=\"text-align: right;\">\n",
       "      <th></th>\n",
       "      <th>0</th>\n",
       "      <th>1</th>\n",
       "      <th>2</th>\n",
       "      <th>3</th>\n",
       "      <th>4</th>\n",
       "      <th>5</th>\n",
       "      <th>6</th>\n",
       "      <th>7</th>\n",
       "      <th>8</th>\n",
       "      <th>9</th>\n",
       "      <th>...</th>\n",
       "      <th>39</th>\n",
       "      <th>40</th>\n",
       "      <th>41</th>\n",
       "      <th>42</th>\n",
       "      <th>43</th>\n",
       "      <th>44</th>\n",
       "      <th>45</th>\n",
       "      <th>46</th>\n",
       "      <th>47</th>\n",
       "      <th>48</th>\n",
       "    </tr>\n",
       "  </thead>\n",
       "  <tbody>\n",
       "    <tr>\n",
       "      <th>0</th>\n",
       "      <td>0.000000</td>\n",
       "      <td>0.0</td>\n",
       "      <td>0.0</td>\n",
       "      <td>0.000000</td>\n",
       "      <td>0.0</td>\n",
       "      <td>0.000000</td>\n",
       "      <td>0.0</td>\n",
       "      <td>0.0</td>\n",
       "      <td>0.000000</td>\n",
       "      <td>0.000000</td>\n",
       "      <td>...</td>\n",
       "      <td>0.000000</td>\n",
       "      <td>0.000000</td>\n",
       "      <td>0.0</td>\n",
       "      <td>0.000000</td>\n",
       "      <td>0.0</td>\n",
       "      <td>0.0</td>\n",
       "      <td>0.0</td>\n",
       "      <td>0.000000</td>\n",
       "      <td>0.000000</td>\n",
       "      <td>0.0</td>\n",
       "    </tr>\n",
       "    <tr>\n",
       "      <th>1</th>\n",
       "      <td>0.000000</td>\n",
       "      <td>0.0</td>\n",
       "      <td>0.0</td>\n",
       "      <td>0.649005</td>\n",
       "      <td>0.0</td>\n",
       "      <td>0.433823</td>\n",
       "      <td>0.0</td>\n",
       "      <td>0.0</td>\n",
       "      <td>0.000000</td>\n",
       "      <td>0.000000</td>\n",
       "      <td>...</td>\n",
       "      <td>0.000000</td>\n",
       "      <td>0.000000</td>\n",
       "      <td>0.0</td>\n",
       "      <td>0.000000</td>\n",
       "      <td>0.0</td>\n",
       "      <td>0.0</td>\n",
       "      <td>0.0</td>\n",
       "      <td>0.449875</td>\n",
       "      <td>0.000000</td>\n",
       "      <td>0.0</td>\n",
       "    </tr>\n",
       "    <tr>\n",
       "      <th>2</th>\n",
       "      <td>0.000000</td>\n",
       "      <td>0.0</td>\n",
       "      <td>0.0</td>\n",
       "      <td>0.000000</td>\n",
       "      <td>0.0</td>\n",
       "      <td>0.000000</td>\n",
       "      <td>0.0</td>\n",
       "      <td>0.0</td>\n",
       "      <td>0.269096</td>\n",
       "      <td>0.225922</td>\n",
       "      <td>...</td>\n",
       "      <td>0.170960</td>\n",
       "      <td>0.000000</td>\n",
       "      <td>0.0</td>\n",
       "      <td>0.000000</td>\n",
       "      <td>0.0</td>\n",
       "      <td>0.0</td>\n",
       "      <td>0.0</td>\n",
       "      <td>0.000000</td>\n",
       "      <td>0.251177</td>\n",
       "      <td>0.0</td>\n",
       "    </tr>\n",
       "    <tr>\n",
       "      <th>3</th>\n",
       "      <td>0.310085</td>\n",
       "      <td>0.0</td>\n",
       "      <td>0.0</td>\n",
       "      <td>0.000000</td>\n",
       "      <td>0.0</td>\n",
       "      <td>0.000000</td>\n",
       "      <td>0.0</td>\n",
       "      <td>0.0</td>\n",
       "      <td>0.000000</td>\n",
       "      <td>0.000000</td>\n",
       "      <td>...</td>\n",
       "      <td>0.000000</td>\n",
       "      <td>0.281636</td>\n",
       "      <td>0.0</td>\n",
       "      <td>0.377678</td>\n",
       "      <td>0.0</td>\n",
       "      <td>0.0</td>\n",
       "      <td>0.0</td>\n",
       "      <td>0.000000</td>\n",
       "      <td>0.000000</td>\n",
       "      <td>0.0</td>\n",
       "    </tr>\n",
       "    <tr>\n",
       "      <th>4</th>\n",
       "      <td>0.000000</td>\n",
       "      <td>0.0</td>\n",
       "      <td>0.0</td>\n",
       "      <td>0.320848</td>\n",
       "      <td>0.0</td>\n",
       "      <td>0.000000</td>\n",
       "      <td>0.0</td>\n",
       "      <td>0.0</td>\n",
       "      <td>0.000000</td>\n",
       "      <td>0.000000</td>\n",
       "      <td>...</td>\n",
       "      <td>0.000000</td>\n",
       "      <td>0.000000</td>\n",
       "      <td>0.0</td>\n",
       "      <td>0.444809</td>\n",
       "      <td>0.0</td>\n",
       "      <td>0.0</td>\n",
       "      <td>0.0</td>\n",
       "      <td>0.000000</td>\n",
       "      <td>0.000000</td>\n",
       "      <td>0.0</td>\n",
       "    </tr>\n",
       "    <tr>\n",
       "      <th>...</th>\n",
       "      <td>...</td>\n",
       "      <td>...</td>\n",
       "      <td>...</td>\n",
       "      <td>...</td>\n",
       "      <td>...</td>\n",
       "      <td>...</td>\n",
       "      <td>...</td>\n",
       "      <td>...</td>\n",
       "      <td>...</td>\n",
       "      <td>...</td>\n",
       "      <td>...</td>\n",
       "      <td>...</td>\n",
       "      <td>...</td>\n",
       "      <td>...</td>\n",
       "      <td>...</td>\n",
       "      <td>...</td>\n",
       "      <td>...</td>\n",
       "      <td>...</td>\n",
       "      <td>...</td>\n",
       "      <td>...</td>\n",
       "      <td>...</td>\n",
       "    </tr>\n",
       "    <tr>\n",
       "      <th>160</th>\n",
       "      <td>0.000000</td>\n",
       "      <td>0.0</td>\n",
       "      <td>0.0</td>\n",
       "      <td>0.399021</td>\n",
       "      <td>0.0</td>\n",
       "      <td>0.000000</td>\n",
       "      <td>0.0</td>\n",
       "      <td>0.0</td>\n",
       "      <td>0.000000</td>\n",
       "      <td>0.000000</td>\n",
       "      <td>...</td>\n",
       "      <td>0.351444</td>\n",
       "      <td>0.000000</td>\n",
       "      <td>0.0</td>\n",
       "      <td>0.000000</td>\n",
       "      <td>0.0</td>\n",
       "      <td>0.0</td>\n",
       "      <td>0.0</td>\n",
       "      <td>0.553184</td>\n",
       "      <td>0.000000</td>\n",
       "      <td>0.0</td>\n",
       "    </tr>\n",
       "    <tr>\n",
       "      <th>161</th>\n",
       "      <td>0.000000</td>\n",
       "      <td>0.0</td>\n",
       "      <td>0.0</td>\n",
       "      <td>0.000000</td>\n",
       "      <td>0.0</td>\n",
       "      <td>0.000000</td>\n",
       "      <td>0.0</td>\n",
       "      <td>0.0</td>\n",
       "      <td>0.000000</td>\n",
       "      <td>0.000000</td>\n",
       "      <td>...</td>\n",
       "      <td>0.000000</td>\n",
       "      <td>0.000000</td>\n",
       "      <td>0.0</td>\n",
       "      <td>0.000000</td>\n",
       "      <td>0.0</td>\n",
       "      <td>0.0</td>\n",
       "      <td>0.0</td>\n",
       "      <td>0.000000</td>\n",
       "      <td>0.000000</td>\n",
       "      <td>0.0</td>\n",
       "    </tr>\n",
       "    <tr>\n",
       "      <th>162</th>\n",
       "      <td>0.000000</td>\n",
       "      <td>1.0</td>\n",
       "      <td>0.0</td>\n",
       "      <td>0.000000</td>\n",
       "      <td>0.0</td>\n",
       "      <td>0.000000</td>\n",
       "      <td>0.0</td>\n",
       "      <td>0.0</td>\n",
       "      <td>0.000000</td>\n",
       "      <td>0.000000</td>\n",
       "      <td>...</td>\n",
       "      <td>0.000000</td>\n",
       "      <td>0.000000</td>\n",
       "      <td>0.0</td>\n",
       "      <td>0.000000</td>\n",
       "      <td>0.0</td>\n",
       "      <td>0.0</td>\n",
       "      <td>0.0</td>\n",
       "      <td>0.000000</td>\n",
       "      <td>0.000000</td>\n",
       "      <td>0.0</td>\n",
       "    </tr>\n",
       "    <tr>\n",
       "      <th>163</th>\n",
       "      <td>0.000000</td>\n",
       "      <td>0.0</td>\n",
       "      <td>0.0</td>\n",
       "      <td>0.000000</td>\n",
       "      <td>0.0</td>\n",
       "      <td>0.000000</td>\n",
       "      <td>0.0</td>\n",
       "      <td>0.0</td>\n",
       "      <td>0.000000</td>\n",
       "      <td>0.000000</td>\n",
       "      <td>...</td>\n",
       "      <td>0.000000</td>\n",
       "      <td>0.000000</td>\n",
       "      <td>0.0</td>\n",
       "      <td>0.000000</td>\n",
       "      <td>0.0</td>\n",
       "      <td>0.0</td>\n",
       "      <td>0.0</td>\n",
       "      <td>0.000000</td>\n",
       "      <td>0.000000</td>\n",
       "      <td>0.0</td>\n",
       "    </tr>\n",
       "    <tr>\n",
       "      <th>164</th>\n",
       "      <td>0.000000</td>\n",
       "      <td>0.0</td>\n",
       "      <td>0.0</td>\n",
       "      <td>0.000000</td>\n",
       "      <td>0.0</td>\n",
       "      <td>0.000000</td>\n",
       "      <td>0.0</td>\n",
       "      <td>0.0</td>\n",
       "      <td>0.000000</td>\n",
       "      <td>0.000000</td>\n",
       "      <td>...</td>\n",
       "      <td>0.000000</td>\n",
       "      <td>0.000000</td>\n",
       "      <td>0.0</td>\n",
       "      <td>0.000000</td>\n",
       "      <td>0.0</td>\n",
       "      <td>0.0</td>\n",
       "      <td>0.0</td>\n",
       "      <td>0.000000</td>\n",
       "      <td>0.000000</td>\n",
       "      <td>0.0</td>\n",
       "    </tr>\n",
       "  </tbody>\n",
       "</table>\n",
       "<p>165 rows × 49 columns</p>\n",
       "</div>"
      ],
      "text/plain": [
       "           0    1    2         3    4         5    6    7         8   \\\n",
       "0    0.000000  0.0  0.0  0.000000  0.0  0.000000  0.0  0.0  0.000000   \n",
       "1    0.000000  0.0  0.0  0.649005  0.0  0.433823  0.0  0.0  0.000000   \n",
       "2    0.000000  0.0  0.0  0.000000  0.0  0.000000  0.0  0.0  0.269096   \n",
       "3    0.310085  0.0  0.0  0.000000  0.0  0.000000  0.0  0.0  0.000000   \n",
       "4    0.000000  0.0  0.0  0.320848  0.0  0.000000  0.0  0.0  0.000000   \n",
       "..        ...  ...  ...       ...  ...       ...  ...  ...       ...   \n",
       "160  0.000000  0.0  0.0  0.399021  0.0  0.000000  0.0  0.0  0.000000   \n",
       "161  0.000000  0.0  0.0  0.000000  0.0  0.000000  0.0  0.0  0.000000   \n",
       "162  0.000000  1.0  0.0  0.000000  0.0  0.000000  0.0  0.0  0.000000   \n",
       "163  0.000000  0.0  0.0  0.000000  0.0  0.000000  0.0  0.0  0.000000   \n",
       "164  0.000000  0.0  0.0  0.000000  0.0  0.000000  0.0  0.0  0.000000   \n",
       "\n",
       "           9   ...        39        40   41        42   43   44   45  \\\n",
       "0    0.000000  ...  0.000000  0.000000  0.0  0.000000  0.0  0.0  0.0   \n",
       "1    0.000000  ...  0.000000  0.000000  0.0  0.000000  0.0  0.0  0.0   \n",
       "2    0.225922  ...  0.170960  0.000000  0.0  0.000000  0.0  0.0  0.0   \n",
       "3    0.000000  ...  0.000000  0.281636  0.0  0.377678  0.0  0.0  0.0   \n",
       "4    0.000000  ...  0.000000  0.000000  0.0  0.444809  0.0  0.0  0.0   \n",
       "..        ...  ...       ...       ...  ...       ...  ...  ...  ...   \n",
       "160  0.000000  ...  0.351444  0.000000  0.0  0.000000  0.0  0.0  0.0   \n",
       "161  0.000000  ...  0.000000  0.000000  0.0  0.000000  0.0  0.0  0.0   \n",
       "162  0.000000  ...  0.000000  0.000000  0.0  0.000000  0.0  0.0  0.0   \n",
       "163  0.000000  ...  0.000000  0.000000  0.0  0.000000  0.0  0.0  0.0   \n",
       "164  0.000000  ...  0.000000  0.000000  0.0  0.000000  0.0  0.0  0.0   \n",
       "\n",
       "           46        47   48  \n",
       "0    0.000000  0.000000  0.0  \n",
       "1    0.449875  0.000000  0.0  \n",
       "2    0.000000  0.251177  0.0  \n",
       "3    0.000000  0.000000  0.0  \n",
       "4    0.000000  0.000000  0.0  \n",
       "..        ...       ...  ...  \n",
       "160  0.553184  0.000000  0.0  \n",
       "161  0.000000  0.000000  0.0  \n",
       "162  0.000000  0.000000  0.0  \n",
       "163  0.000000  0.000000  0.0  \n",
       "164  0.000000  0.000000  0.0  \n",
       "\n",
       "[165 rows x 49 columns]"
      ]
     },
     "execution_count": 85,
     "metadata": {},
     "output_type": "execute_result"
    }
   ],
   "source": [
    "tfidf_array = tfidf_matrix.todense()\n",
    "tfidf_df = pd.DataFrame(tfidf_array)\n",
    "tfidf_df"
   ]
  },
  {
   "cell_type": "code",
   "execution_count": 118,
   "id": "19bb66cc",
   "metadata": {},
   "outputs": [],
   "source": [
    "# tfidf_df[search_indexes]"
   ]
  },
  {
   "cell_type": "code",
   "execution_count": 165,
   "id": "80707a73",
   "metadata": {},
   "outputs": [
    {
     "data": {
      "text/html": [
       "<div>\n",
       "<style scoped>\n",
       "    .dataframe tbody tr th:only-of-type {\n",
       "        vertical-align: middle;\n",
       "    }\n",
       "\n",
       "    .dataframe tbody tr th {\n",
       "        vertical-align: top;\n",
       "    }\n",
       "\n",
       "    .dataframe thead th {\n",
       "        text-align: right;\n",
       "    }\n",
       "</style>\n",
       "<table border=\"1\" class=\"dataframe\">\n",
       "  <thead>\n",
       "    <tr style=\"text-align: right;\">\n",
       "      <th></th>\n",
       "      <th>count</th>\n",
       "      <th>token</th>\n",
       "    </tr>\n",
       "  </thead>\n",
       "  <tbody>\n",
       "    <tr>\n",
       "      <th>30</th>\n",
       "      <td>43.0</td>\n",
       "      <td>повышен стипенд</td>\n",
       "    </tr>\n",
       "    <tr>\n",
       "      <th>9</th>\n",
       "      <td>32.0</td>\n",
       "      <td>ден пифагор</td>\n",
       "    </tr>\n",
       "    <tr>\n",
       "      <th>0</th>\n",
       "      <td>27.0</td>\n",
       "      <td>активн участ</td>\n",
       "    </tr>\n",
       "    <tr>\n",
       "      <th>25</th>\n",
       "      <td>22.0</td>\n",
       "      <td>обществен деятельн</td>\n",
       "    </tr>\n",
       "    <tr>\n",
       "      <th>4</th>\n",
       "      <td>22.0</td>\n",
       "      <td>групп образован</td>\n",
       "    </tr>\n",
       "    <tr>\n",
       "      <th>7</th>\n",
       "      <td>19.0</td>\n",
       "      <td>групп праздник</td>\n",
       "    </tr>\n",
       "    <tr>\n",
       "      <th>5</th>\n",
       "      <td>17.0</td>\n",
       "      <td>групп оповещен</td>\n",
       "    </tr>\n",
       "    <tr>\n",
       "      <th>19</th>\n",
       "      <td>16.0</td>\n",
       "      <td>конкурс групп</td>\n",
       "    </tr>\n",
       "    <tr>\n",
       "      <th>14</th>\n",
       "      <td>16.0</td>\n",
       "      <td>занима обществен</td>\n",
       "    </tr>\n",
       "    <tr>\n",
       "      <th>20</th>\n",
       "      <td>15.0</td>\n",
       "      <td>координатор рабоч</td>\n",
       "    </tr>\n",
       "    <tr>\n",
       "      <th>26</th>\n",
       "      <td>14.0</td>\n",
       "      <td>обществен жизн</td>\n",
       "    </tr>\n",
       "    <tr>\n",
       "      <th>45</th>\n",
       "      <td>14.0</td>\n",
       "      <td>сдела жизн</td>\n",
       "    </tr>\n",
       "    <tr>\n",
       "      <th>40</th>\n",
       "      <td>13.0</td>\n",
       "      <td>продолж работ</td>\n",
       "    </tr>\n",
       "    <tr>\n",
       "      <th>34</th>\n",
       "      <td>13.0</td>\n",
       "      <td>представля интерес</td>\n",
       "    </tr>\n",
       "    <tr>\n",
       "      <th>32</th>\n",
       "      <td>12.0</td>\n",
       "      <td>помога проведен</td>\n",
       "    </tr>\n",
       "    <tr>\n",
       "      <th>8</th>\n",
       "      <td>12.0</td>\n",
       "      <td>ден ден</td>\n",
       "    </tr>\n",
       "    <tr>\n",
       "      <th>17</th>\n",
       "      <td>12.0</td>\n",
       "      <td>интерес поток</td>\n",
       "    </tr>\n",
       "    <tr>\n",
       "      <th>1</th>\n",
       "      <td>12.0</td>\n",
       "      <td>активн участвова</td>\n",
       "    </tr>\n",
       "    <tr>\n",
       "      <th>23</th>\n",
       "      <td>11.0</td>\n",
       "      <td>нов проект</td>\n",
       "    </tr>\n",
       "    <tr>\n",
       "      <th>29</th>\n",
       "      <td>11.0</td>\n",
       "      <td>планир продолж</td>\n",
       "    </tr>\n",
       "  </tbody>\n",
       "</table>\n",
       "</div>"
      ],
      "text/plain": [
       "    count               token\n",
       "30   43.0     повышен стипенд\n",
       "9    32.0         ден пифагор\n",
       "0    27.0        активн участ\n",
       "25   22.0  обществен деятельн\n",
       "4    22.0     групп образован\n",
       "7    19.0      групп праздник\n",
       "5    17.0      групп оповещен\n",
       "19   16.0       конкурс групп\n",
       "14   16.0    занима обществен\n",
       "20   15.0   координатор рабоч\n",
       "26   14.0      обществен жизн\n",
       "45   14.0          сдела жизн\n",
       "40   13.0       продолж работ\n",
       "34   13.0  представля интерес\n",
       "32   12.0     помога проведен\n",
       "8    12.0             ден ден\n",
       "17   12.0       интерес поток\n",
       "1    12.0    активн участвова\n",
       "23   11.0          нов проект\n",
       "29   11.0      планир продолж"
      ]
     },
     "execution_count": 165,
     "metadata": {},
     "output_type": "execute_result"
    }
   ],
   "source": [
    "# flags of occurance \n",
    "tfidf_flags_df = tfidf_df[list(tfidf_df)]\n",
    "for col in list(tfidf_df):\n",
    "    tfidf_flags_df[col] = np.sign(tfidf_flags_df[col])\n",
    "# tfidf_flags_df\n",
    "\n",
    "# frequency of features\n",
    "feature_frequency = pd.DataFrame(np.sum(tfidf_flags_df)).rename(columns={0:'count'})\n",
    "# feature_frequency\n",
    "\n",
    "# russian words of features\n",
    "terms_df = pd.DataFrame(terms).rename(columns={0:'token'})\n",
    "# terms_df\n",
    "\n",
    "# Top-20 of most frequent tokens\n",
    "tfidf_feature_df = pd.concat([feature_frequency, terms_df], axis=1).sort_values(by='count', ascending=False)\n",
    "tfidf_feature_df.head(20)"
   ]
  },
  {
   "cell_type": "code",
   "execution_count": 226,
   "id": "b237c178",
   "metadata": {},
   "outputs": [],
   "source": [
    "# exceptions = ['групп','вопрос','участ','нов','врем','созыв','перв','студент','поток','студенческ','член','наш','ваш','ид','втор']\n",
    "\n",
    "# tfidf_feature_df[~tfidf_feature_df['token'].isin(exceptions)].head(30)"
   ]
  },
  {
   "cell_type": "code",
   "execution_count": null,
   "id": "1fb4b8c0",
   "metadata": {},
   "outputs": [],
   "source": []
  },
  {
   "cell_type": "code",
   "execution_count": null,
   "id": "f23de650",
   "metadata": {},
   "outputs": [],
   "source": []
  },
  {
   "cell_type": "code",
   "execution_count": null,
   "id": "b0f1be24",
   "metadata": {},
   "outputs": [],
   "source": []
  },
  {
   "cell_type": "code",
   "execution_count": 32,
   "id": "02e34d80",
   "metadata": {},
   "outputs": [],
   "source": [
    "# tfidf_matrix.todense()"
   ]
  },
  {
   "cell_type": "code",
   "execution_count": 53,
   "id": "3fb01b8b",
   "metadata": {},
   "outputs": [],
   "source": [
    "# terms"
   ]
  },
  {
   "cell_type": "code",
   "execution_count": null,
   "id": "737be8be",
   "metadata": {},
   "outputs": [],
   "source": []
  },
  {
   "cell_type": "code",
   "execution_count": null,
   "id": "99ec6618",
   "metadata": {},
   "outputs": [],
   "source": []
  },
  {
   "cell_type": "code",
   "execution_count": null,
   "id": "bb989ffc",
   "metadata": {},
   "outputs": [],
   "source": [
    "# GOOD ENOUGH: \n",
    "# 1-3 conv [:91] \n",
    "# max_features=100\n",
    "# max_df=0.2, min_df=0.05\n",
    "# num_clusters = 3\n"
   ]
  },
  {
   "cell_type": "code",
   "execution_count": 175,
   "id": "f5dbec31",
   "metadata": {},
   "outputs": [],
   "source": [
    "# km.cluster_centers_"
   ]
  },
  {
   "cell_type": "code",
   "execution_count": 176,
   "id": "5e2410fa",
   "metadata": {},
   "outputs": [],
   "source": [
    "# km.cluster_centers_.argsort()"
   ]
  },
  {
   "cell_type": "code",
   "execution_count": null,
   "id": "5813d522",
   "metadata": {},
   "outputs": [],
   "source": []
  },
  {
   "cell_type": "code",
   "execution_count": null,
   "id": "c0adb4f5",
   "metadata": {},
   "outputs": [],
   "source": []
  },
  {
   "cell_type": "code",
   "execution_count": null,
   "id": "9ad718df",
   "metadata": {},
   "outputs": [],
   "source": []
  },
  {
   "cell_type": "code",
   "execution_count": null,
   "id": "98242e62",
   "metadata": {},
   "outputs": [],
   "source": []
  },
  {
   "cell_type": "markdown",
   "id": "22a4de77",
   "metadata": {},
   "source": [
    "# (Alt: Clustering with sparse matrix)"
   ]
  },
  {
   "cell_type": "code",
   "execution_count": 224,
   "id": "35e27fb7",
   "metadata": {},
   "outputs": [],
   "source": [
    "from scipy.cluster.vq import kmeans, vq"
   ]
  },
  {
   "cell_type": "code",
   "execution_count": 225,
   "id": "d5a0892b",
   "metadata": {},
   "outputs": [
    {
     "name": "stdout",
     "output_type": "stream",
     "text": [
      "['конкурс групп', 'обществен деятельн', 'бытов вопрос', 'планир занима', 'вопрос котор', 'активн участ', 'дня пифагор', 'жизн мехматя', 'занима вопрос', 'инициативн групп']\n",
      "['инициативн групп', 'внест вклад', 'иностра язык', 'планир продолж', 'координатор рабоч', 'обществен жизн', 'активн участ', 'дела жизн', 'занима вопрос', 'общежит гз']\n",
      "['обществен работ', 'активн участ', 'добр ден', 'общежит гз', 'групп оповещен', 'интерес поток', 'нов созыв', 'иностра язык', 'дела жизн', 'групп образован']\n",
      "['ответствен секретар', 'активн участ', 'интересн мероприят', 'перв курс', 'активн участник', 'нов проект', 'интерес поток', 'групп первокурсник', 'мероприят ден', 'наш жизн']\n",
      "['групп оповещен', 'встреч второкурсник', 'жизн интересн', 'занима обществен', 'качеств образован', 'групп образован', 'лучш вуз', 'повышен стипенд', 'куратор групп', 'жизн мехматя']\n"
     ]
    }
   ],
   "source": [
    "cluster_centers, distortion = kmeans(tfidf_matrix.todense(), num_clusters)\n",
    "terms = tfidf_vectorizer.get_feature_names_out()\n",
    "\n",
    "for i in range(num_clusters):\n",
    "    center_terms = dict(zip(terms, list(cluster_centers[i])))\n",
    "    sorted_terms = sorted(center_terms, key=center_terms.get, reverse=True)\n",
    "    print(sorted_terms[:10])"
   ]
  },
  {
   "cell_type": "code",
   "execution_count": null,
   "id": "c91fc6d2",
   "metadata": {},
   "outputs": [],
   "source": []
  },
  {
   "cell_type": "code",
   "execution_count": null,
   "id": "e0644d62",
   "metadata": {},
   "outputs": [],
   "source": [
    "# CONCLUSION: clustering is failed\n",
    "# (maybe because of noisy words)"
   ]
  },
  {
   "cell_type": "code",
   "execution_count": null,
   "id": "f43d705b",
   "metadata": {},
   "outputs": [],
   "source": []
  },
  {
   "cell_type": "code",
   "execution_count": null,
   "id": "f6eac1f1",
   "metadata": {},
   "outputs": [],
   "source": []
  },
  {
   "cell_type": "code",
   "execution_count": null,
   "id": "88afaf99",
   "metadata": {},
   "outputs": [],
   "source": []
  },
  {
   "cell_type": "code",
   "execution_count": null,
   "id": "ac7ec79f",
   "metadata": {},
   "outputs": [],
   "source": []
  },
  {
   "cell_type": "code",
   "execution_count": null,
   "id": "b0135d56",
   "metadata": {},
   "outputs": [],
   "source": []
  },
  {
   "cell_type": "code",
   "execution_count": null,
   "id": "d86dd792",
   "metadata": {},
   "outputs": [],
   "source": []
  },
  {
   "cell_type": "code",
   "execution_count": 356,
   "id": "02c0389f",
   "metadata": {},
   "outputs": [
    {
     "data": {
      "text/plain": [
       "<function print(*args, sep=' ', end='\\n', file=None, flush=False)>"
      ]
     },
     "execution_count": 356,
     "metadata": {},
     "output_type": "execute_result"
    }
   ],
   "source": [
    "from sklearn.metrics.pairwise import cosine_similarity\n",
    "dist = 1 - cosine_similarity(tfidf_matrix)\n",
    "# print\n",
    "# print"
   ]
  },
  {
   "cell_type": "code",
   "execution_count": 357,
   "id": "69823cfe",
   "metadata": {},
   "outputs": [
    {
     "name": "stdout",
     "output_type": "stream",
     "text": [
      "\n",
      "\n"
     ]
    },
    {
     "name": "stderr",
     "output_type": "stream",
     "text": [
      "/opt/homebrew/lib/python3.11/site-packages/sklearn/manifold/_mds.py:299: FutureWarning: The default value of `normalized_stress` will change to `'auto'` in version 1.4. To suppress this warning, manually set the value of `normalized_stress`.\n",
      "  warnings.warn(\n"
     ]
    }
   ],
   "source": [
    "import os  # for os.path.basename\n",
    "\n",
    "import matplotlib.pyplot as plt\n",
    "import matplotlib as mpl\n",
    "\n",
    "from sklearn.manifold import MDS\n",
    "\n",
    "MDS()\n",
    "\n",
    "# convert two components as we're plotting points in a two-dimensional plane\n",
    "# \"precomputed\" because we provide a distance matrix\n",
    "# we will also specify `random_state` so the plot is reproducible.\n",
    "mds = MDS(n_components=2, dissimilarity=\"precomputed\", random_state=1)\n",
    "\n",
    "pos = mds.fit_transform(dist)  # shape (n_components, n_samples)\n",
    "\n",
    "xs, ys = pos[:, 0], pos[:, 1]\n",
    "print()\n",
    "print()"
   ]
  },
  {
   "cell_type": "code",
   "execution_count": 366,
   "id": "9ebc74cd",
   "metadata": {},
   "outputs": [],
   "source": [
    "# cluster_colors = {0: '#1b9e77', 1: '#d95f02', 2: '#7570b3', 3: '#e7298a', 4: '#66a61e'}\n",
    "\n",
    "# cluster_names = {0: 'Family, home, war', \n",
    "#                  1: 'Police, killed, murders', \n",
    "#                  2: 'Father, New York, brothers', \n",
    "#                  3: 'Dance, singing, love', \n",
    "#                  4: 'Killed, soldiers, captain'}\n",
    "\n",
    "cluster_names = {}\n",
    "for i in range(num_clusters):\n",
    "    cluster_names[i] = str(i)"
   ]
  },
  {
   "cell_type": "code",
   "execution_count": 445,
   "id": "863cf485",
   "metadata": {},
   "outputs": [
    {
     "ename": "ValueError",
     "evalue": "All arrays must be of the same length",
     "output_type": "error",
     "traceback": [
      "\u001b[0;31m---------------------------------------------------------------------------\u001b[0m",
      "\u001b[0;31mValueError\u001b[0m                                Traceback (most recent call last)",
      "Cell \u001b[0;32mIn[445], line 5\u001b[0m\n\u001b[1;32m      2\u001b[0m get_ipython()\u001b[38;5;241m.\u001b[39mrun_line_magic(\u001b[38;5;124m'\u001b[39m\u001b[38;5;124mmatplotlib\u001b[39m\u001b[38;5;124m'\u001b[39m, \u001b[38;5;124m'\u001b[39m\u001b[38;5;124minline\u001b[39m\u001b[38;5;124m'\u001b[39m)\n\u001b[1;32m      4\u001b[0m \u001b[38;5;66;03m#create data frame that has the result of the MDS plus the cluster numbers and titles\u001b[39;00m\n\u001b[0;32m----> 5\u001b[0m df \u001b[38;5;241m=\u001b[39m \u001b[43mpd\u001b[49m\u001b[38;5;241;43m.\u001b[39;49m\u001b[43mDataFrame\u001b[49m\u001b[43m(\u001b[49m\u001b[38;5;28;43mdict\u001b[39;49m\u001b[43m(\u001b[49m\u001b[43mx\u001b[49m\u001b[38;5;241;43m=\u001b[39;49m\u001b[43mxs\u001b[49m\u001b[43m,\u001b[49m\u001b[43m \u001b[49m\u001b[43my\u001b[49m\u001b[38;5;241;43m=\u001b[39;49m\u001b[43mys\u001b[49m\u001b[43m,\u001b[49m\u001b[43m \u001b[49m\u001b[43mlabel\u001b[49m\u001b[38;5;241;43m=\u001b[39;49m\u001b[43mclusters\u001b[49m\u001b[43m,\u001b[49m\u001b[43m \u001b[49m\u001b[43mtitle\u001b[49m\u001b[38;5;241;43m=\u001b[39;49m\u001b[43mkey_list\u001b[49m\u001b[43m)\u001b[49m\u001b[43m)\u001b[49m \n\u001b[1;32m      7\u001b[0m \u001b[38;5;66;03m#group by cluster\u001b[39;00m\n\u001b[1;32m      8\u001b[0m groups \u001b[38;5;241m=\u001b[39m df\u001b[38;5;241m.\u001b[39mgroupby(\u001b[38;5;124m'\u001b[39m\u001b[38;5;124mlabel\u001b[39m\u001b[38;5;124m'\u001b[39m)\n",
      "File \u001b[0;32m/opt/homebrew/lib/python3.11/site-packages/pandas/core/frame.py:663\u001b[0m, in \u001b[0;36mDataFrame.__init__\u001b[0;34m(self, data, index, columns, dtype, copy)\u001b[0m\n\u001b[1;32m    657\u001b[0m     mgr \u001b[38;5;241m=\u001b[39m \u001b[38;5;28mself\u001b[39m\u001b[38;5;241m.\u001b[39m_init_mgr(\n\u001b[1;32m    658\u001b[0m         data, axes\u001b[38;5;241m=\u001b[39m{\u001b[38;5;124m\"\u001b[39m\u001b[38;5;124mindex\u001b[39m\u001b[38;5;124m\"\u001b[39m: index, \u001b[38;5;124m\"\u001b[39m\u001b[38;5;124mcolumns\u001b[39m\u001b[38;5;124m\"\u001b[39m: columns}, dtype\u001b[38;5;241m=\u001b[39mdtype, copy\u001b[38;5;241m=\u001b[39mcopy\n\u001b[1;32m    659\u001b[0m     )\n\u001b[1;32m    661\u001b[0m \u001b[38;5;28;01melif\u001b[39;00m \u001b[38;5;28misinstance\u001b[39m(data, \u001b[38;5;28mdict\u001b[39m):\n\u001b[1;32m    662\u001b[0m     \u001b[38;5;66;03m# GH#38939 de facto copy defaults to False only in non-dict cases\u001b[39;00m\n\u001b[0;32m--> 663\u001b[0m     mgr \u001b[38;5;241m=\u001b[39m \u001b[43mdict_to_mgr\u001b[49m\u001b[43m(\u001b[49m\u001b[43mdata\u001b[49m\u001b[43m,\u001b[49m\u001b[43m \u001b[49m\u001b[43mindex\u001b[49m\u001b[43m,\u001b[49m\u001b[43m \u001b[49m\u001b[43mcolumns\u001b[49m\u001b[43m,\u001b[49m\u001b[43m \u001b[49m\u001b[43mdtype\u001b[49m\u001b[38;5;241;43m=\u001b[39;49m\u001b[43mdtype\u001b[49m\u001b[43m,\u001b[49m\u001b[43m \u001b[49m\u001b[43mcopy\u001b[49m\u001b[38;5;241;43m=\u001b[39;49m\u001b[43mcopy\u001b[49m\u001b[43m,\u001b[49m\u001b[43m \u001b[49m\u001b[43mtyp\u001b[49m\u001b[38;5;241;43m=\u001b[39;49m\u001b[43mmanager\u001b[49m\u001b[43m)\u001b[49m\n\u001b[1;32m    664\u001b[0m \u001b[38;5;28;01melif\u001b[39;00m \u001b[38;5;28misinstance\u001b[39m(data, ma\u001b[38;5;241m.\u001b[39mMaskedArray):\n\u001b[1;32m    665\u001b[0m     \u001b[38;5;28;01mimport\u001b[39;00m \u001b[38;5;21;01mnumpy\u001b[39;00m\u001b[38;5;21;01m.\u001b[39;00m\u001b[38;5;21;01mma\u001b[39;00m\u001b[38;5;21;01m.\u001b[39;00m\u001b[38;5;21;01mmrecords\u001b[39;00m \u001b[38;5;28;01mas\u001b[39;00m \u001b[38;5;21;01mmrecords\u001b[39;00m\n",
      "File \u001b[0;32m/opt/homebrew/lib/python3.11/site-packages/pandas/core/internals/construction.py:493\u001b[0m, in \u001b[0;36mdict_to_mgr\u001b[0;34m(data, index, columns, dtype, typ, copy)\u001b[0m\n\u001b[1;32m    489\u001b[0m     \u001b[38;5;28;01melse\u001b[39;00m:\n\u001b[1;32m    490\u001b[0m         \u001b[38;5;66;03m# dtype check to exclude e.g. range objects, scalars\u001b[39;00m\n\u001b[1;32m    491\u001b[0m         arrays \u001b[38;5;241m=\u001b[39m [x\u001b[38;5;241m.\u001b[39mcopy() \u001b[38;5;28;01mif\u001b[39;00m \u001b[38;5;28mhasattr\u001b[39m(x, \u001b[38;5;124m\"\u001b[39m\u001b[38;5;124mdtype\u001b[39m\u001b[38;5;124m\"\u001b[39m) \u001b[38;5;28;01melse\u001b[39;00m x \u001b[38;5;28;01mfor\u001b[39;00m x \u001b[38;5;129;01min\u001b[39;00m arrays]\n\u001b[0;32m--> 493\u001b[0m \u001b[38;5;28;01mreturn\u001b[39;00m \u001b[43marrays_to_mgr\u001b[49m\u001b[43m(\u001b[49m\u001b[43marrays\u001b[49m\u001b[43m,\u001b[49m\u001b[43m \u001b[49m\u001b[43mcolumns\u001b[49m\u001b[43m,\u001b[49m\u001b[43m \u001b[49m\u001b[43mindex\u001b[49m\u001b[43m,\u001b[49m\u001b[43m \u001b[49m\u001b[43mdtype\u001b[49m\u001b[38;5;241;43m=\u001b[39;49m\u001b[43mdtype\u001b[49m\u001b[43m,\u001b[49m\u001b[43m \u001b[49m\u001b[43mtyp\u001b[49m\u001b[38;5;241;43m=\u001b[39;49m\u001b[43mtyp\u001b[49m\u001b[43m,\u001b[49m\u001b[43m \u001b[49m\u001b[43mconsolidate\u001b[49m\u001b[38;5;241;43m=\u001b[39;49m\u001b[43mcopy\u001b[49m\u001b[43m)\u001b[49m\n",
      "File \u001b[0;32m/opt/homebrew/lib/python3.11/site-packages/pandas/core/internals/construction.py:118\u001b[0m, in \u001b[0;36marrays_to_mgr\u001b[0;34m(arrays, columns, index, dtype, verify_integrity, typ, consolidate)\u001b[0m\n\u001b[1;32m    115\u001b[0m \u001b[38;5;28;01mif\u001b[39;00m verify_integrity:\n\u001b[1;32m    116\u001b[0m     \u001b[38;5;66;03m# figure out the index, if necessary\u001b[39;00m\n\u001b[1;32m    117\u001b[0m     \u001b[38;5;28;01mif\u001b[39;00m index \u001b[38;5;129;01mis\u001b[39;00m \u001b[38;5;28;01mNone\u001b[39;00m:\n\u001b[0;32m--> 118\u001b[0m         index \u001b[38;5;241m=\u001b[39m \u001b[43m_extract_index\u001b[49m\u001b[43m(\u001b[49m\u001b[43marrays\u001b[49m\u001b[43m)\u001b[49m\n\u001b[1;32m    119\u001b[0m     \u001b[38;5;28;01melse\u001b[39;00m:\n\u001b[1;32m    120\u001b[0m         index \u001b[38;5;241m=\u001b[39m ensure_index(index)\n",
      "File \u001b[0;32m/opt/homebrew/lib/python3.11/site-packages/pandas/core/internals/construction.py:666\u001b[0m, in \u001b[0;36m_extract_index\u001b[0;34m(data)\u001b[0m\n\u001b[1;32m    664\u001b[0m lengths \u001b[38;5;241m=\u001b[39m \u001b[38;5;28mlist\u001b[39m(\u001b[38;5;28mset\u001b[39m(raw_lengths))\n\u001b[1;32m    665\u001b[0m \u001b[38;5;28;01mif\u001b[39;00m \u001b[38;5;28mlen\u001b[39m(lengths) \u001b[38;5;241m>\u001b[39m \u001b[38;5;241m1\u001b[39m:\n\u001b[0;32m--> 666\u001b[0m     \u001b[38;5;28;01mraise\u001b[39;00m \u001b[38;5;167;01mValueError\u001b[39;00m(\u001b[38;5;124m\"\u001b[39m\u001b[38;5;124mAll arrays must be of the same length\u001b[39m\u001b[38;5;124m\"\u001b[39m)\n\u001b[1;32m    668\u001b[0m \u001b[38;5;28;01mif\u001b[39;00m have_dicts:\n\u001b[1;32m    669\u001b[0m     \u001b[38;5;28;01mraise\u001b[39;00m \u001b[38;5;167;01mValueError\u001b[39;00m(\n\u001b[1;32m    670\u001b[0m         \u001b[38;5;124m\"\u001b[39m\u001b[38;5;124mMixing dicts with non-Series may lead to ambiguous ordering.\u001b[39m\u001b[38;5;124m\"\u001b[39m\n\u001b[1;32m    671\u001b[0m     )\n",
      "\u001b[0;31mValueError\u001b[0m: All arrays must be of the same length"
     ]
    }
   ],
   "source": [
    "#some ipython magic to show the matplotlib plots inline\n",
    "%matplotlib inline \n",
    "\n",
    "#create data frame that has the result of the MDS plus the cluster numbers and titles\n",
    "df = pd.DataFrame(dict(x=xs, y=ys, label=clusters, title=key_list)) \n",
    "\n",
    "#group by cluster\n",
    "groups = df.groupby('label')\n",
    "\n",
    "# set up plot\n",
    "fig, ax = plt.subplots(figsize=(17, 9)) # set size\n",
    "ax.margins(0.05) # Optional, just adds 5% padding to the autoscaling\n",
    "\n",
    "#iterate through groups to layer the plot\n",
    "#note that I use the cluster_name and cluster_color dicts with the 'name' lookup to return the appropriate color/label\n",
    "for name, group in groups:\n",
    "    ax.plot(group.x, group.y, marker='o', linestyle='', ms=12, \n",
    "            label=cluster_names[name], # color=cluster_colors[name], \n",
    "            mec='none')\n",
    "    ax.set_aspect('auto')\n",
    "    ax.tick_params(\\\n",
    "        axis= 'x',          # changes apply to the x-axis\n",
    "        which='both',      # both major and minor ticks are affected\n",
    "        bottom='off',      # ticks along the bottom edge are off\n",
    "        top='off',         # ticks along the top edge are off\n",
    "        labelbottom='off')\n",
    "    ax.tick_params(\\\n",
    "        axis= 'y',         # changes apply to the y-axis\n",
    "        which='both',      # both major and minor ticks are affected\n",
    "        left='off',      # ticks along the bottom edge are off\n",
    "        top='off',         # ticks along the top edge are off\n",
    "        labelleft='off')\n",
    "    \n",
    "ax.legend(numpoints=1)  #show legend with only 1 point\n",
    "\n",
    "#add label in x,y position with the label as the film title\n",
    "for i in range(len(df)):\n",
    "    ax.text(df.loc[i]['x'], df.loc[i]['y'], df.loc[i]['title'], size=8)  \n",
    "\n",
    "    \n",
    "plt.show() #show the plot\n",
    "\n",
    "#uncomment the below to save the plot if need be\n",
    "#plt.savefig('clusters_small_noaxes.png', dpi=200)"
   ]
  },
  {
   "cell_type": "code",
   "execution_count": null,
   "id": "4d51c535",
   "metadata": {},
   "outputs": [],
   "source": []
  },
  {
   "cell_type": "code",
   "execution_count": null,
   "id": "9f631893",
   "metadata": {},
   "outputs": [],
   "source": []
  },
  {
   "cell_type": "code",
   "execution_count": null,
   "id": "90fe32f3",
   "metadata": {},
   "outputs": [],
   "source": []
  },
  {
   "cell_type": "code",
   "execution_count": null,
   "id": "04907a85",
   "metadata": {},
   "outputs": [],
   "source": [
    "# Import TfidfVectorizer\n",
    "from sklearn.feature_extraction.text import TfidfVectorizer\n",
    "\n",
    "# Instantiate TfidfVectorizer\n",
    "tv = TfidfVectorizer(max_features=100, stop_words='english')\n",
    "\n",
    "# Fit the vectroizer and transform the data\n",
    "tv_transformed = tv.fit_transform(speech_df['text_clean'])\n",
    "\n",
    "# Create a DataFrame with these features\n",
    "tv_df = pd.DataFrame(tv_transformed.toarray(), \n",
    "                     columns=tv.get_feature_names()).add_prefix('TFIDF_')\n",
    "print(tv_df.head())"
   ]
  },
  {
   "cell_type": "code",
   "execution_count": null,
   "id": "23bc7e74",
   "metadata": {},
   "outputs": [],
   "source": []
  },
  {
   "cell_type": "code",
   "execution_count": null,
   "id": "1dbf5800",
   "metadata": {},
   "outputs": [],
   "source": [
    "# N-grams !!!!\n",
    "\n",
    "# Import CountVectorizer\n",
    "from sklearn.feature_extraction.text import CountVectorizer\n",
    "\n",
    "# Instantiate a trigram vectorizer\n",
    "cv_trigram_vec = CountVectorizer(max_features=100, \n",
    "                                 stop_words='english', \n",
    "                                 ngram_range=(3,3))\n",
    "\n",
    "# Fit and apply trigram vectorizer\n",
    "cv_trigram = cv_trigram_vec.fit_transform(speech_df['text_clean'])\n",
    "\n",
    "# Print the trigram features\n",
    "print(cv_trigram_vec.get_feature_names())\n",
    "\n",
    "# Create a DataFrame of the features\n",
    "cv_tri_df = pd.DataFrame(cv_trigram.toarray(), \n",
    "                 columns=cv_trigram_vec.get_feature_names()).add_prefix('Counts_')\n",
    "\n",
    "# Print the top 5 words in the sorted output\n",
    "print(cv_tri_df.sum().sort_values(ascending=False).head())"
   ]
  },
  {
   "cell_type": "code",
   "execution_count": null,
   "id": "05f79835",
   "metadata": {},
   "outputs": [],
   "source": []
  },
  {
   "cell_type": "code",
   "execution_count": null,
   "id": "56aefb51",
   "metadata": {},
   "outputs": [],
   "source": []
  },
  {
   "cell_type": "markdown",
   "id": "81d6ab2a",
   "metadata": {},
   "source": [
    "# ideas from datacamp"
   ]
  },
  {
   "cell_type": "code",
   "execution_count": null,
   "id": "d0b81015",
   "metadata": {},
   "outputs": [],
   "source": [
    "# NAIVE BAYES -- the best classifier for texts\n",
    "\n",
    "# Import the necessary modules\n",
    "from sklearn import metrics\n",
    "from sklearn.naive_bayes import MultinomialNB\n",
    "\n",
    "# Training and testing the \"fake news\" model with CountVectorizer\n",
    "\n",
    "# Instantiate a Multinomial Naive Bayes classifier: nb_classifier\n",
    "nb_classifier = MultinomialNB()\n",
    "\n",
    "# Fit the classifier to the training data\n",
    "nb_classifier.fit(count_train, y_train)\n",
    "\n",
    "# Create the predicted tags: pred\n",
    "pred = nb_classifier.predict(count_test)\n",
    "\n",
    "# Calculate the accuracy score: score\n",
    "score = metrics.accuracy_score(y_test, pred)\n",
    "print(score)\n",
    "\n",
    "# Calculate the confusion matrix: cm\n",
    "cm = metrics.confusion_matrix(y_test, pred, labels=['FAKE', 'REAL'])\n",
    "print(cm)\n"
   ]
  },
  {
   "cell_type": "code",
   "execution_count": null,
   "id": "06f85cdf",
   "metadata": {},
   "outputs": [],
   "source": [
    "# Training and testing the \"fake news\" model with TfidfVectorizer\n",
    "\n",
    "# Create a Multinomial Naive Bayes classifier: nb_classifier\n",
    "nb_classifier = MultinomialNB()\n",
    "\n",
    "# Fit the classifier to the training data\n",
    "nb_classifier.fit(tfidf_train, y_train)\n",
    "\n",
    "# Create the predicted tags: pred\n",
    "pred = nb_classifier.predict(tfidf_test)\n",
    "\n",
    "# Calculate the accuracy score: score\n",
    "score = metrics.accuracy_score(y_test, pred)\n",
    "print(score)\n",
    "\n",
    "# Calculate the confusion matrix: cm\n",
    "cm = metrics.confusion_matrix(y_test, pred, labels=['FAKE', 'REAL'])\n",
    "print(cm)\n"
   ]
  },
  {
   "cell_type": "code",
   "execution_count": null,
   "id": "4e06c981",
   "metadata": {},
   "outputs": [],
   "source": [
    "# basic features:\n",
    "#     - number of words\n",
    "#     - number of charachters\n",
    "#     - average length of words\n",
    "\n",
    "#     - number of sentences\n",
    "#     - number of paragraphs\n",
    "#     - number of words starting with capitals\n",
    "\n",
    "\n",
    "# text features\n",
    "# word features\n",
    "\n",
    "# Create a feature char_count\n",
    "tweets['char_count'] = tweets['content'].apply(len)\n",
    "\n",
    "# Print the average character count\n",
    "print(tweets['char_count'].mean())"
   ]
  },
  {
   "cell_type": "code",
   "execution_count": null,
   "id": "8afa9493",
   "metadata": {},
   "outputs": [],
   "source": [
    "# Function that returns number of words in a string\n",
    "def count_words(string):\n",
    "\t# Split the string into words\n",
    "    words = string.split()\n",
    "    \n",
    "    # Return the number of words\n",
    "    return len(words)\n",
    "\n",
    "# Create a new feature word_count\n",
    "ted['word_count'] = ted['transcript'].apply(count_words)\n",
    "\n",
    "# Print the average word count of the talks\n",
    "print(ted['word_count'].mean())"
   ]
  },
  {
   "cell_type": "code",
   "execution_count": null,
   "id": "1b2046f6",
   "metadata": {},
   "outputs": [],
   "source": [
    "# lemmatization = convert words into its base form\n",
    "\n",
    "# Function to preprocess text\n",
    "def preprocess(text):\n",
    "  \t# Create Doc object\n",
    "    doc = nlp(text, disable=['ner', 'parser'])\n",
    "    # Generate lemmas\n",
    "    lemmas = [token.lemma_ for token in doc]\n",
    "    # Remove stopwords and non-alphabetic characters\n",
    "    a_lemmas = [lemma for lemma in lemmas \n",
    "            if lemma.isalpha() and lemma not in stopwords]\n",
    "    \n",
    "    return ' '.join(a_lemmas)\n",
    "  \n",
    "# Apply preprocess to ted['transcript']\n",
    "ted['transcript'] = ted['transcript'].apply(preprocess)\n",
    "print(ted['transcript'])"
   ]
  },
  {
   "cell_type": "code",
   "execution_count": null,
   "id": "68ca154b",
   "metadata": {},
   "outputs": [],
   "source": [
    "# part-of-speech (POS) tagging\n"
   ]
  },
  {
   "cell_type": "code",
   "execution_count": null,
   "id": "16ee2651",
   "metadata": {},
   "outputs": [],
   "source": [
    "# Import CountVectorizer\n",
    "from sklearn.feature_extraction.text import CountVectorizer\n",
    "\n",
    "# Create a CountVectorizer object\n",
    "vectorizer = CountVectorizer(lowercase=True, stop_words='english')\n",
    "\n",
    "# Fit and transform X_train\n",
    "X_train_bow = vectorizer.fit_transform(X_train)\n",
    "\n",
    "# Transform X_test\n",
    "X_test_bow = vectorizer.transform(X_test)\n",
    "\n",
    "# Print shape of X_train_bow and X_test_bow\n",
    "print(X_train_bow.shape)\n",
    "print(X_test_bow.shape)"
   ]
  },
  {
   "cell_type": "code",
   "execution_count": null,
   "id": "4133550f",
   "metadata": {},
   "outputs": [],
   "source": [
    "# Create a MultinomialNB object\n",
    "clf = MultinomialNB()\n",
    "\n",
    "# Fit the classifier\n",
    "clf.fit(X_train_bow, y_train)\n",
    "\n",
    "# Measure the accuracy\n",
    "accuracy = clf.score(X_test_bow, y_test)\n",
    "print(\"The accuracy of the classifier on the test set is %.3f\" % accuracy)\n",
    "\n",
    "# Predict the sentiment of a negative review\n",
    "review = \"The movie was terrible. The music was underwhelming and the acting mediocre.\"\n",
    "prediction = clf.predict(vectorizer.transform([review]))[0]\n",
    "print(\"The sentiment predicted by the classifier is %i\" % (prediction))"
   ]
  },
  {
   "cell_type": "code",
   "execution_count": null,
   "id": "09016a41",
   "metadata": {},
   "outputs": [],
   "source": [
    "# n-grams"
   ]
  },
  {
   "cell_type": "code",
   "execution_count": null,
   "id": "c720de6a",
   "metadata": {},
   "outputs": [],
   "source": [
    "# Generate n-grams upto n=1\n",
    "vectorizer_ng1 = CountVectorizer(ngram_range=(1,1))\n",
    "ng1 = vectorizer_ng1.fit_transform(corpus)\n",
    "\n",
    "# Generate n-grams upto n=2\n",
    "vectorizer_ng2 = CountVectorizer(ngram_range=(1,2))\n",
    "ng2 = vectorizer_ng2.fit_transform(corpus)\n",
    "\n",
    "# Generate n-grams upto n=3\n",
    "vectorizer_ng3 = CountVectorizer(ngram_range=(1, 3))\n",
    "ng3 = vectorizer_ng3.fit_transform(corpus)\n",
    "\n",
    "# Print the number of features for each model\n",
    "print(\"ng1, ng2 and ng3 have %i, %i and %i features respectively\" % (ng1.shape[1], ng2.shape[1], ng3.shape[1]))"
   ]
  },
  {
   "cell_type": "code",
   "execution_count": null,
   "id": "2b1c4874",
   "metadata": {},
   "outputs": [],
   "source": [
    "# Define an instance of MultinomialNB \n",
    "clf_ng = MultinomialNB()\n",
    "\n",
    "# Fit the classifier \n",
    "clf_ng.fit(X_train_ng, y_train)\n",
    "\n",
    "# Measure the accuracy \n",
    "accuracy = clf_ng.score(X_test_ng, y_test)\n",
    "print(\"The accuracy of the classifier on the test set is %.3f\" % accuracy)\n",
    "\n",
    "# Predict the sentiment of a negative review\n",
    "review = \"The movie was not good. The plot had several holes and the acting lacked panache.\"\n",
    "prediction = clf_ng.predict(ng_vectorizer.transform([review]))[0]\n",
    "print(\"The sentiment predicted by the classifier is %i\" % (prediction))"
   ]
  },
  {
   "cell_type": "code",
   "execution_count": null,
   "id": "7f41c58a",
   "metadata": {},
   "outputs": [],
   "source": [
    "start_time = time.time()\n",
    "# Splitting the data into training and test sets\n",
    "train_X, test_X, train_y, test_y = train_test_split(df['review'], df['sentiment'], test_size=0.5, random_state=42, stratify=df['sentiment'])\n",
    "\n",
    "# Generating ngrams\n",
    "vectorizer = CountVectorizer(ngram_range=(1,3))\n",
    "train_X = vectorizer.fit_transform(train_X)\n",
    "test_X = vectorizer.transform(test_X)\n",
    "\n",
    "# Fit classifier\n",
    "clf = MultinomialNB()\n",
    "clf.fit(train_X, train_y)\n",
    "\n",
    "# Print accuracy, time and number of dimensions\n",
    "print(\"The program took %.3f seconds to complete. The accuracy on the test set is %.2f. The ngram representation had %i features.\" % (time.time() - start_time, clf.score(test_X, test_y), train_X.shape[1]))"
   ]
  },
  {
   "cell_type": "code",
   "execution_count": null,
   "id": "592f372b",
   "metadata": {},
   "outputs": [],
   "source": []
  },
  {
   "cell_type": "code",
   "execution_count": null,
   "id": "a48efe54",
   "metadata": {},
   "outputs": [],
   "source": []
  },
  {
   "cell_type": "code",
   "execution_count": null,
   "id": "31021db1",
   "metadata": {},
   "outputs": [],
   "source": [
    "'''\n",
    "(?)\n",
    "    - to predict by program length, in what time the candidate nominates\n",
    "    - to classify programs by quantitative features \n",
    "'''"
   ]
  },
  {
   "cell_type": "code",
   "execution_count": null,
   "id": "04586bcf",
   "metadata": {},
   "outputs": [],
   "source": []
  },
  {
   "cell_type": "code",
   "execution_count": null,
   "id": "798651b4",
   "metadata": {},
   "outputs": [],
   "source": []
  },
  {
   "cell_type": "code",
   "execution_count": null,
   "id": "68754f58",
   "metadata": {},
   "outputs": [],
   "source": [
    "'''\n",
    "QUESTIONS:\n",
    "    - is clustering working on stemmed_words, not on original?\n",
    "    - how to cut the top of noisy words?\n",
    "\n",
    "IDEAS:\n",
    "    - to cluster programs for 1st nomination and for 2+ nominations (+, but no sense)\n",
    "    - to cluster programs for clusters of persons !!!\n",
    "    - to add 2-tokens\n",
    "    \n",
    "    - to cluster programs only for 3+ time nominated persons\n",
    "    - to unite text of each person with 2+ time nominated persons?\n",
    "    \n",
    "    - TO ADD VISUALIZATION (scatterplot) !!!!!\n",
    "'''"
   ]
  }
 ],
 "metadata": {
  "kernelspec": {
   "display_name": "Python 3 (ipykernel)",
   "language": "python",
   "name": "python3"
  },
  "language_info": {
   "codemirror_mode": {
    "name": "ipython",
    "version": 3
   },
   "file_extension": ".py",
   "mimetype": "text/x-python",
   "name": "python",
   "nbconvert_exporter": "python",
   "pygments_lexer": "ipython3",
   "version": "3.11.1"
  }
 },
 "nbformat": 4,
 "nbformat_minor": 5
}
