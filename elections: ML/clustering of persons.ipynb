{
 "cells": [
  {
   "cell_type": "code",
   "execution_count": null,
   "id": "777fec40",
   "metadata": {},
   "outputs": [],
   "source": []
  },
  {
   "cell_type": "code",
   "execution_count": null,
   "id": "1f0eafd7",
   "metadata": {},
   "outputs": [],
   "source": []
  },
  {
   "cell_type": "code",
   "execution_count": 50,
   "id": "d376558a",
   "metadata": {},
   "outputs": [],
   "source": [
    "# to find n-th occurance of substring in the string (n = 0,1...)\n",
    "\n",
    "def find_substring(txt, str1, n):\n",
    "    parts = txt.split(str1, n + 1)\n",
    "    if len(parts) <= n + 1:\n",
    "        return -1\n",
    "    return len(txt) - len(parts[-1]) - len(str1)"
   ]
  },
  {
   "cell_type": "code",
   "execution_count": 1,
   "id": "73a7c948",
   "metadata": {},
   "outputs": [],
   "source": [
    "import pandas as pd\n",
    "import re\n",
    "import numpy as np\n"
   ]
  },
  {
   "cell_type": "code",
   "execution_count": 2,
   "id": "8f434f5d",
   "metadata": {},
   "outputs": [
    {
     "data": {
      "text/html": [
       "<div>\n",
       "<style scoped>\n",
       "    .dataframe tbody tr th:only-of-type {\n",
       "        vertical-align: middle;\n",
       "    }\n",
       "\n",
       "    .dataframe tbody tr th {\n",
       "        vertical-align: top;\n",
       "    }\n",
       "\n",
       "    .dataframe thead th {\n",
       "        text-align: right;\n",
       "    }\n",
       "</style>\n",
       "<table border=\"1\" class=\"dataframe\">\n",
       "  <thead>\n",
       "    <tr style=\"text-align: right;\">\n",
       "      <th></th>\n",
       "      <th>ssmm_id</th>\n",
       "      <th>name</th>\n",
       "      <th>elected_flg</th>\n",
       "      <th>member_conv_cnt</th>\n",
       "      <th>cand_conv_cnt</th>\n",
       "      <th>manage_convocation_cnt</th>\n",
       "      <th>position_cnt</th>\n",
       "      <th>honorary_flg</th>\n",
       "      <th>gender</th>\n",
       "    </tr>\n",
       "  </thead>\n",
       "  <tbody>\n",
       "    <tr>\n",
       "      <th>0</th>\n",
       "      <td>1</td>\n",
       "      <td>Владыкина Вероника Евгеньевна</td>\n",
       "      <td>1</td>\n",
       "      <td>3.0</td>\n",
       "      <td>3</td>\n",
       "      <td>2.0</td>\n",
       "      <td>3.0</td>\n",
       "      <td>1</td>\n",
       "      <td>female</td>\n",
       "    </tr>\n",
       "    <tr>\n",
       "      <th>1</th>\n",
       "      <td>2</td>\n",
       "      <td>Коновалов Антон Александрович</td>\n",
       "      <td>1</td>\n",
       "      <td>2.0</td>\n",
       "      <td>2</td>\n",
       "      <td>1.0</td>\n",
       "      <td>1.0</td>\n",
       "      <td>0</td>\n",
       "      <td>male</td>\n",
       "    </tr>\n",
       "    <tr>\n",
       "      <th>2</th>\n",
       "      <td>3</td>\n",
       "      <td>Ласкин Алексей Александрович</td>\n",
       "      <td>1</td>\n",
       "      <td>2.0</td>\n",
       "      <td>3</td>\n",
       "      <td>NaN</td>\n",
       "      <td>NaN</td>\n",
       "      <td>0</td>\n",
       "      <td>male</td>\n",
       "    </tr>\n",
       "    <tr>\n",
       "      <th>3</th>\n",
       "      <td>4</td>\n",
       "      <td>Малхасян Арамаис</td>\n",
       "      <td>1</td>\n",
       "      <td>1.0</td>\n",
       "      <td>1</td>\n",
       "      <td>NaN</td>\n",
       "      <td>NaN</td>\n",
       "      <td>0</td>\n",
       "      <td>male</td>\n",
       "    </tr>\n",
       "    <tr>\n",
       "      <th>4</th>\n",
       "      <td>5</td>\n",
       "      <td>Попов Леонид Андреевич</td>\n",
       "      <td>1</td>\n",
       "      <td>3.0</td>\n",
       "      <td>3</td>\n",
       "      <td>2.0</td>\n",
       "      <td>2.0</td>\n",
       "      <td>1</td>\n",
       "      <td>male</td>\n",
       "    </tr>\n",
       "  </tbody>\n",
       "</table>\n",
       "</div>"
      ],
      "text/plain": [
       "   ssmm_id                           name  elected_flg  member_conv_cnt  \\\n",
       "0        1  Владыкина Вероника Евгеньевна            1              3.0   \n",
       "1        2  Коновалов Антон Александрович            1              2.0   \n",
       "2        3   Ласкин Алексей Александрович            1              2.0   \n",
       "3        4               Малхасян Арамаис            1              1.0   \n",
       "4        5         Попов Леонид Андреевич            1              3.0   \n",
       "\n",
       "   cand_conv_cnt  manage_convocation_cnt  position_cnt  honorary_flg  gender  \n",
       "0              3                     2.0           3.0             1  female  \n",
       "1              2                     1.0           1.0             0    male  \n",
       "2              3                     NaN           NaN             0    male  \n",
       "3              1                     NaN           NaN             0    male  \n",
       "4              3                     2.0           2.0             1    male  "
      ]
     },
     "execution_count": 2,
     "metadata": {},
     "output_type": "execute_result"
    }
   ],
   "source": [
    "df = pd.read_csv('../library: main/ssmm_candidates_core.csv', sep='\\t', encoding='utf-8')\n",
    "df = df[['ssmm_id','name','elected_flg','member_conv_cnt','cand_conv_cnt','manage_convocation_cnt','position_cnt','honorary_flg','gender']].reset_index().drop(['index'],axis=1)\n",
    "df.head()\n"
   ]
  },
  {
   "cell_type": "code",
   "execution_count": 5,
   "id": "f4a19174",
   "metadata": {},
   "outputs": [],
   "source": []
  },
  {
   "cell_type": "code",
   "execution_count": 5,
   "id": "aadb4b20",
   "metadata": {},
   "outputs": [
    {
     "data": {
      "text/html": [
       "<div>\n",
       "<style scoped>\n",
       "    .dataframe tbody tr th:only-of-type {\n",
       "        vertical-align: middle;\n",
       "    }\n",
       "\n",
       "    .dataframe tbody tr th {\n",
       "        vertical-align: top;\n",
       "    }\n",
       "\n",
       "    .dataframe thead th {\n",
       "        text-align: right;\n",
       "    }\n",
       "</style>\n",
       "<table border=\"1\" class=\"dataframe\">\n",
       "  <thead>\n",
       "    <tr style=\"text-align: right;\">\n",
       "      <th></th>\n",
       "      <th>ssmm_id</th>\n",
       "      <th>name</th>\n",
       "      <th>elected_flg</th>\n",
       "      <th>member_conv_cnt</th>\n",
       "      <th>cand_conv_cnt</th>\n",
       "      <th>manage_conv_cnt</th>\n",
       "      <th>position_cnt</th>\n",
       "      <th>honorary_flg</th>\n",
       "      <th>female</th>\n",
       "    </tr>\n",
       "  </thead>\n",
       "  <tbody>\n",
       "    <tr>\n",
       "      <th>0</th>\n",
       "      <td>1</td>\n",
       "      <td>Владыкина Вероника Евгеньевна</td>\n",
       "      <td>1</td>\n",
       "      <td>3.0</td>\n",
       "      <td>3</td>\n",
       "      <td>2.0</td>\n",
       "      <td>3.0</td>\n",
       "      <td>1</td>\n",
       "      <td>1</td>\n",
       "    </tr>\n",
       "    <tr>\n",
       "      <th>1</th>\n",
       "      <td>2</td>\n",
       "      <td>Коновалов Антон Александрович</td>\n",
       "      <td>1</td>\n",
       "      <td>2.0</td>\n",
       "      <td>2</td>\n",
       "      <td>1.0</td>\n",
       "      <td>1.0</td>\n",
       "      <td>0</td>\n",
       "      <td>0</td>\n",
       "    </tr>\n",
       "    <tr>\n",
       "      <th>2</th>\n",
       "      <td>3</td>\n",
       "      <td>Ласкин Алексей Александрович</td>\n",
       "      <td>1</td>\n",
       "      <td>2.0</td>\n",
       "      <td>3</td>\n",
       "      <td>0.0</td>\n",
       "      <td>0.0</td>\n",
       "      <td>0</td>\n",
       "      <td>0</td>\n",
       "    </tr>\n",
       "    <tr>\n",
       "      <th>3</th>\n",
       "      <td>4</td>\n",
       "      <td>Малхасян Арамаис</td>\n",
       "      <td>1</td>\n",
       "      <td>1.0</td>\n",
       "      <td>1</td>\n",
       "      <td>0.0</td>\n",
       "      <td>0.0</td>\n",
       "      <td>0</td>\n",
       "      <td>0</td>\n",
       "    </tr>\n",
       "    <tr>\n",
       "      <th>4</th>\n",
       "      <td>5</td>\n",
       "      <td>Попов Леонид Андреевич</td>\n",
       "      <td>1</td>\n",
       "      <td>3.0</td>\n",
       "      <td>3</td>\n",
       "      <td>2.0</td>\n",
       "      <td>2.0</td>\n",
       "      <td>1</td>\n",
       "      <td>0</td>\n",
       "    </tr>\n",
       "  </tbody>\n",
       "</table>\n",
       "</div>"
      ],
      "text/plain": [
       "   ssmm_id                           name  elected_flg  member_conv_cnt  \\\n",
       "0        1  Владыкина Вероника Евгеньевна            1              3.0   \n",
       "1        2  Коновалов Антон Александрович            1              2.0   \n",
       "2        3   Ласкин Алексей Александрович            1              2.0   \n",
       "3        4               Малхасян Арамаис            1              1.0   \n",
       "4        5         Попов Леонид Андреевич            1              3.0   \n",
       "\n",
       "   cand_conv_cnt  manage_conv_cnt  position_cnt  honorary_flg  female  \n",
       "0              3              2.0           3.0             1       1  \n",
       "1              2              1.0           1.0             0       0  \n",
       "2              3              0.0           0.0             0       0  \n",
       "3              1              0.0           0.0             0       0  \n",
       "4              3              2.0           2.0             1       0  "
      ]
     },
     "execution_count": 5,
     "metadata": {},
     "output_type": "execute_result"
    }
   ],
   "source": [
    "person_df = df\n",
    "person_df[\"gender\"].replace({'female':1, 'male':0}, inplace=True)\n",
    "person_df = person_df.rename(columns={'gender':'female', 'manage_convocation_cnt':'manage_conv_cnt'})\n",
    "person_df = person_df.fillna(0)\n",
    "\n",
    "person_df.head()"
   ]
  },
  {
   "cell_type": "code",
   "execution_count": 26,
   "id": "4e9b9b79",
   "metadata": {},
   "outputs": [
    {
     "data": {
      "text/plain": [
       "(320, 9)"
      ]
     },
     "execution_count": 26,
     "metadata": {},
     "output_type": "execute_result"
    }
   ],
   "source": [
    "person_df.shape"
   ]
  },
  {
   "cell_type": "code",
   "execution_count": 43,
   "id": "bb7f0fb2",
   "metadata": {},
   "outputs": [],
   "source": [
    "features = ['elected_flg', 'member_conv_cnt', 'cand_conv_cnt', 'manage_conv_cnt', 'position_cnt']\n",
    "# , 'honorary_flg'"
   ]
  },
  {
   "cell_type": "code",
   "execution_count": 44,
   "id": "76128947",
   "metadata": {},
   "outputs": [],
   "source": [
    "person_df_final = person_df[features]"
   ]
  },
  {
   "cell_type": "code",
   "execution_count": 41,
   "id": "924b7367",
   "metadata": {},
   "outputs": [],
   "source": [
    "key_list = list(person_df['name'])\n"
   ]
  },
  {
   "cell_type": "code",
   "execution_count": null,
   "id": "eecbb299",
   "metadata": {},
   "outputs": [],
   "source": []
  },
  {
   "cell_type": "code",
   "execution_count": 8,
   "id": "d19b5577",
   "metadata": {},
   "outputs": [],
   "source": [
    "import scipy\n",
    "import seaborn as sns\n",
    "import matplotlib.pyplot as plt"
   ]
  },
  {
   "cell_type": "code",
   "execution_count": 9,
   "id": "b1149394",
   "metadata": {},
   "outputs": [],
   "source": [
    "from scipy.cluster.vq import kmeans, vq"
   ]
  },
  {
   "cell_type": "code",
   "execution_count": 45,
   "id": "897c3ce4",
   "metadata": {},
   "outputs": [
    {
     "data": {
      "image/png": "[encoded data removed]",
      "text/plain": [
       "<Figure size 640x480 with 1 Axes>"
      ]
     },
     "metadata": {},
     "output_type": "display_data"
    }
   ],
   "source": [
    "\n",
    "# Declaring variables for use\n",
    "distortions = []\n",
    "num_clusters_range = range(1, 11)\n",
    "\n",
    "# Populating distortions for various clusters\n",
    "for i in num_clusters_range:\n",
    "    centroids, distortion = kmeans(person_df_final, i)\n",
    "    distortions.append(distortion)\n",
    "    \n",
    "# Plotting elbow plot data\n",
    "elbow_plot_data = pd.DataFrame({'num_clusters': num_clusters_range,\n",
    "                                'distortions': distortions})\n",
    "sns.lineplot(x='num_clusters', y='distortions',\n",
    "             data = elbow_plot_data)\n",
    "plt.show()\n",
    "\n"
   ]
  },
  {
   "cell_type": "code",
   "execution_count": 36,
   "id": "ad6f2cbd",
   "metadata": {},
   "outputs": [],
   "source": []
  },
  {
   "cell_type": "code",
   "execution_count": 11,
   "id": "b1b097ad",
   "metadata": {},
   "outputs": [],
   "source": [
    "from sklearn.cluster import KMeans"
   ]
  },
  {
   "cell_type": "code",
   "execution_count": 46,
   "id": "20288f7e",
   "metadata": {},
   "outputs": [
    {
     "name": "stdout",
     "output_type": "stream",
     "text": [
      "CPU times: user 43.1 ms, sys: 31.9 ms, total: 75 ms\n",
      "Wall time: 30.4 ms\n"
     ]
    }
   ],
   "source": [
    "num_clusters = 5\n",
    "\n",
    "km = KMeans(n_clusters=num_clusters, n_init=10)\n",
    "\n",
    "%time km.fit(person_df_final)\n",
    "\n",
    "clusters = km.labels_.tolist()"
   ]
  },
  {
   "cell_type": "code",
   "execution_count": 47,
   "id": "f1187c12",
   "metadata": {},
   "outputs": [
    {
     "data": {
      "text/plain": [
       "2    154\n",
       "1     75\n",
       "0     57\n",
       "4     24\n",
       "3     10\n",
       "Name: cluster, dtype: int64"
      ]
     },
     "execution_count": 47,
     "metadata": {},
     "output_type": "execute_result"
    }
   ],
   "source": [
    "program_clusters = {\n",
    "    'key': key_list,\n",
    "    'cluster': clusters\n",
    "}\n",
    "for feature in features:\n",
    "    program_clusters[feature] = list(person_df[feature])\n",
    "\n",
    "frame = pd.DataFrame(program_clusters, index = [clusters], columns = ['key'] + features + ['cluster']) \n",
    "\n",
    "frame['cluster'].value_counts()"
   ]
  },
  {
   "cell_type": "code",
   "execution_count": 53,
   "id": "24203fa2",
   "metadata": {},
   "outputs": [
    {
     "data": {
      "text/plain": [
       "2    48.1\n",
       "1    23.4\n",
       "0    17.8\n",
       "4     7.5\n",
       "3     3.1\n",
       "Name: cluster, dtype: float64"
      ]
     },
     "execution_count": 53,
     "metadata": {},
     "output_type": "execute_result"
    }
   ],
   "source": [
    "# percentage:\n",
    "100 * round(frame['cluster'].value_counts() / len(person_df), 3)"
   ]
  },
  {
   "cell_type": "code",
   "execution_count": 48,
   "id": "33182a94",
   "metadata": {},
   "outputs": [
    {
     "name": "stdout",
     "output_type": "stream",
     "text": [
      "\t\telected_flg\tmember_conv_cnt\tcand_conv_cnt\tmanage_conv_cnt\tposition_cnt\n",
      "Cluster 0\t0.0\t\t0.0\t\t1.04\t\t0.0\t\t-0.0\n",
      "Cluster 1\t1.0\t\t2.08\t\t2.27\t\t0.51\t\t0.45\n",
      "Cluster 2\t1.0\t\t1.0\t\t1.04\t\t0.07\t\t0.08\n",
      "Cluster 3\t1.0\t\t4.8\t\t4.8\t\t0.7\t\t0.7\n",
      "Cluster 4\t1.0\t\t3.54\t\t3.62\t\t2.62\t\t3.25\n"
     ]
    }
   ],
   "source": [
    "print(\"\\t\\t{0}\".format('\\t'.join(features)))\n",
    "\n",
    "for i in range(num_clusters):\n",
    "    print(\"Cluster {0}\\t{1}\".format(i, '\\t\\t'.join(map(str, km.cluster_centers_[i].round(2)))))"
   ]
  },
  {
   "cell_type": "code",
   "execution_count": null,
   "id": "01b2938b",
   "metadata": {},
   "outputs": [],
   "source": [
    "'''\n",
    "version withou honorary flag:\n",
    "\n",
    "Cluster 0 (18%):   1 time  nominated, 0 time elected\n",
    "Cluster 2 (48%):   1 time  nominated and elected\n",
    "Cluster 1 (23%):   2 times nominated and elected, 0-1 times in management on 0-1 positions\n",
    "Cluster 4  (8%): 3-4 times nominated and elected, 2-3 times in management on   3 positions\n",
    "Cluster 3  (3%):   5 times nominated and elected\n",
    "'''"
   ]
  },
  {
   "cell_type": "code",
   "execution_count": null,
   "id": "217f34bf",
   "metadata": {},
   "outputs": [],
   "source": []
  },
  {
   "cell_type": "code",
   "execution_count": 49,
   "id": "cf464db9",
   "metadata": {},
   "outputs": [
    {
     "name": "stdout",
     "output_type": "stream",
     "text": [
      "Cluster 0:\n",
      "Валиев З, Ульмаскулов Р, Кунденко В, Семенов П, Скобенникова Ю, Ванунц А, Николаева Н, Скопинцев А, Заболотский Л, Изимова А, Корно Д, Чистяков М, Карякин И, Таибов А, Лучкина А, Аленина А, Аседова Е, Гордеева М, Горшков К, Ахмеджанова М, Коллерова С, Ильясова А, Матюнин В, Шигаев И, Лебедев В, Александрина М, Ким Н, Кудрявцев С, Титов М, Новицкая Е, Ураева Д, Щербаков В, Третьяков А, Гусейнов С, Салимгереев М, Логинова И, Яцык Я, Перфильева Н, Сперанский А, Воронин В, Окунев Ф, Кулюсов М, Ревнивцев А, Харламов В, Беляева А, Блинов А, Родионова Е, Лещенко С, Хан В, Верещагина С, Дементьева А, Корченкина Д, Захарычев А, Белугин Н, Гордеев Н, Орлов Д, Водолеев М, \n",
      "\n",
      "Cluster 1:\n",
      "Коновалов А, Ласкин А, Самонов А, Асташов Д, Костицын А, Оджаев Р, Шариков А, Абдуллаева Э, Удимов Д, Чернодед А, Власов А, Медведева Я, Тишин П, Федорова Е, Буряк А, Антонов С, Ватутин К, Дяченко М, Тулякова А, Сергеева Э, Тен А, Митькина М, Борисов В, Бунеев А, Хасанов Р, Дорман Е, Тюрина Т, Мамедов Р, Нагорных Я, Лапина С, Чернова А, Чидякина О, Волчанский А, Подкользина Е, Думаревский А, Бахметьева М, Семенюк П, Кравчук Н, Проничкин Ю, Бун-Ян-Тун В, Провидухина М, Сакаев Р, Трошина Д, Батутина М, Зарубин Н, Воробьёва Н, Гигин И, Татаринцева М, Рогачёв А, Кудасов М, Бузенков О, Вихорева Н, Митрофанов Д, Сиухина А, Устинов Н, Скурихин Д, Фенелонов Д, Винокурова А, Шишкин И, Панина Т, Саметов М, Пушкарёва А, Лобанова А, Янкова М, Попова А, Мельникова Д, Пчельникова Е, Манахова А, Шереметьев В, Чуб В, Макаров Н, Шевченко Е, Янушкевич И, Алёшечкина Е, Приходко М, \n",
      "\n",
      "Cluster 2:\n",
      "Малхасян А, Аканаев Т, Гильманов Р, Глухова А, Харлашин В, Артамонова М, Громов И, Савелов М, Цылин И, Кириллова П, Кузнецова А, Левин А, Сафина Д, Дубровин Г, Миценко В, Савушкин Н, Хисматуллина М, Штейников Ю, Багров К, Габидов А, Курикша А, Лавров В, Никифоров С, Смелов В, Акушевич А, Дьяков П, Короткин В, Антонова О, Куркотов В, Ольшевская П, Садрисламов А, Селиверстова Е, Андреев М, Хамматова Г, Локтионов Ф, Ариас-Альварес В, Бурнус А, Григорьев И, Алекберов И, Оськин А, Хапкин А, Мылзенова Д, Чеботаева В, Мизраки В, Нечаев Н, Яшин Р, Ламтюгин А, Белов А, Коварский А, Броницкий Г, Вергазов М, Кондрашкин С, Остросаблина О, Плотников В, Понфиленко А, Ронжин Д, Гулин Н, Сергейчик Р, Мотовилина А, Козлова К, Святкин И, Базанов И, Милютин Э, Поликушин В, Штерн А, Исмагилов А, Тесля А, Зарков А, Чебунина Т, Назмутдинов А, Саакян В, Чаплыгина Е, Украинский Д, Пилюгина С, Захахатнов Д, Никулин М, Кремер А, Хан Т, Московский Б, Дмитриев И, Мищенко А, Авилова Е, Садова К, Коновалов Д, Порфирьева Н, Малания Г, Жуковский Н, Волкова Д, Федотов К, Филатов К, Алиев Р, Шерстобитов А, Ефимкина А, Артамонов С, Антонов И, Дементьев Ф, Промыслов П, Фёдоров К, Колузанов Ф, Матвеев Д, Чулкова К, Аскарова А, Ладейщиков Е, Рябцев Л, Зайцева А, Игин А, Рязанов Д, Тирешко Д, Меньшикова Л, Васильев Н, Кузякина С, Шишков А, Лобанова А, Терехов М, Куслина К, Тузова В, Сулейкин А, Кирюхина А, Ковыршина В, Рахматуллаев Т, Фёдоров Л, Павликова А, Зеленин Г, Илизаров Г, Пятина А, Волкова Е, Гаспарян И, Мишанин О, Перфильев Д, Ляпунов А, Муджиков В, Горшков Е, Ковалева К, Лоншаков Н, Бабаджанова Е, Зенков Т, Вербовская Д, Витковский А, Белан А, Монина Д, Бароян А, Садовицкая Е, Агуреева Е, Абубакарова Л, Алеев Д, Арефьева В, Заводян М, Кадников К, Майданик А, Уваров А, Поликарпов А, Каляев Т, Маммагаджиев Р, Третьякова Е, \n",
      "\n",
      "Cluster 3:\n",
      "Остроухова Н, Морозов С, Савченко А, Суркова А, Змиевский Л, Краснова А, Муравьёва А, Мазитова В, Фиткович В, Хахова М, \n",
      "\n",
      "Cluster 4:\n",
      "Владыкина В, Попов Л, Сапунов К, Тропин А, Матвеев А, Осин Р, Котляров Н, Матвеев Д, Быстрицкая В, Глунчадзе И, Денисов И, Шведов К, Бекбулатов Р, Савин П, Корж Д, Малахов Н, Сенотов В, Тонконогов А, Кухарчук И, Малиновский Г, Клюев А, Дехнич К, Евдокимова С, Третьяков П, \n",
      "\n"
     ]
    }
   ],
   "source": [
    "\n",
    "order_centroids = km.cluster_centers_.argsort()[:, ::-1] \n",
    "\n",
    "for i in range(num_clusters):\n",
    "    \n",
    "    print(\"Cluster %d:\" % i, end='')\n",
    "    print()\n",
    "    counter = 0\n",
    "    \n",
    "    for key in frame.loc[i]['key'].values.tolist():\n",
    "        short_name = key[:find_substring(key, ' ', 0)+2]\n",
    "        print('{}, '.format(short_name), end='')\n",
    "        \n",
    "#         counter += 1\n",
    "#         short_name = key[:find_substring(key, ' ', 0)+2]\n",
    "#         if len(short_name) <= 9:\n",
    "#             print('%s,\\t' % short_name + ' '*(9-len(short_name)), end='')\n",
    "#         else:\n",
    "#             print('%s,' % short_name + ' '*(17-len(short_name)), end='')\n",
    "#         if counter % 7 == 0:\n",
    "#             print()\n",
    "    print()\n",
    "    print()\n"
   ]
  },
  {
   "cell_type": "code",
   "execution_count": null,
   "id": "639584c1",
   "metadata": {},
   "outputs": [],
   "source": []
  },
  {
   "cell_type": "code",
   "execution_count": null,
   "id": "0ed917ca",
   "metadata": {},
   "outputs": [],
   "source": []
  },
  {
   "cell_type": "code",
   "execution_count": null,
   "id": "7ecb0259",
   "metadata": {},
   "outputs": [],
   "source": [
    "'''\n",
    "\n",
    "version with honorary_flg:\n",
    "\n",
    "Cluster 0  (57): 1 time  nominated, 0 time elected\n",
    "Cluster 3 (154): 1 time  nominated and elected\n",
    "Cluster 2  (70): 2 times nominated and elected\n",
    "Cluster 1  (26): 3 times nominated and elected, 2 times in management on 3 positions\n",
    "Cluster 4  (13): 5 times nominated and elected, 2 times in management on 2 positions\n",
    "'''"
   ]
  },
  {
   "cell_type": "code",
   "execution_count": null,
   "id": "d73ed8be",
   "metadata": {},
   "outputs": [],
   "source": []
  },
  {
   "cell_type": "code",
   "execution_count": null,
   "id": "a0b3c07d",
   "metadata": {},
   "outputs": [],
   "source": []
  }
 ],
 "metadata": {
  "kernelspec": {
   "display_name": "Python 3 (ipykernel)",
   "language": "python",
   "name": "python3"
  },
  "language_info": {
   "codemirror_mode": {
    "name": "ipython",
    "version": 3
   },
   "file_extension": ".py",
   "mimetype": "text/x-python",
   "name": "python",
   "nbconvert_exporter": "python",
   "pygments_lexer": "ipython3",
   "version": "3.11.1"
  }
 },
 "nbformat": 4,
 "nbformat_minor": 5
}
