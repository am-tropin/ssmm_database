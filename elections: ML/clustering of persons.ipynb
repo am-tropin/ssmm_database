{
 "cells": [
  {
   "cell_type": "code",
   "execution_count": null,
   "id": "0375c1ae",
   "metadata": {},
   "outputs": [],
   "source": []
  },
  {
   "cell_type": "code",
   "execution_count": 1,
   "id": "0222af1b",
   "metadata": {},
   "outputs": [],
   "source": [
    "import pandas as pd\n",
    "import re\n",
    "import numpy as np\n"
   ]
  },
  {
   "cell_type": "code",
   "execution_count": 9,
   "id": "ab8ba231",
   "metadata": {},
   "outputs": [
    {
     "data": {
      "text/html": [
       "<div>\n",
       "<style scoped>\n",
       "    .dataframe tbody tr th:only-of-type {\n",
       "        vertical-align: middle;\n",
       "    }\n",
       "\n",
       "    .dataframe tbody tr th {\n",
       "        vertical-align: top;\n",
       "    }\n",
       "\n",
       "    .dataframe thead th {\n",
       "        text-align: right;\n",
       "    }\n",
       "</style>\n",
       "<table border=\"1\" class=\"dataframe\">\n",
       "  <thead>\n",
       "    <tr style=\"text-align: right;\">\n",
       "      <th></th>\n",
       "      <th>ssmm_id</th>\n",
       "      <th>name</th>\n",
       "      <th>elected_flg</th>\n",
       "      <th>member_conv_cnt</th>\n",
       "      <th>cand_conv_cnt</th>\n",
       "      <th>manage_convocation_cnt</th>\n",
       "      <th>position_cnt</th>\n",
       "      <th>honorary_flg</th>\n",
       "      <th>gender</th>\n",
       "    </tr>\n",
       "  </thead>\n",
       "  <tbody>\n",
       "    <tr>\n",
       "      <th>0</th>\n",
       "      <td>1</td>\n",
       "      <td>Владыкина Вероника Евгеньевна</td>\n",
       "      <td>1</td>\n",
       "      <td>3.0</td>\n",
       "      <td>3</td>\n",
       "      <td>2.0</td>\n",
       "      <td>3.0</td>\n",
       "      <td>1</td>\n",
       "      <td>female</td>\n",
       "    </tr>\n",
       "    <tr>\n",
       "      <th>1</th>\n",
       "      <td>2</td>\n",
       "      <td>Коновалов Антон Александрович</td>\n",
       "      <td>1</td>\n",
       "      <td>2.0</td>\n",
       "      <td>2</td>\n",
       "      <td>1.0</td>\n",
       "      <td>1.0</td>\n",
       "      <td>0</td>\n",
       "      <td>male</td>\n",
       "    </tr>\n",
       "    <tr>\n",
       "      <th>2</th>\n",
       "      <td>3</td>\n",
       "      <td>Ласкин Алексей Александрович</td>\n",
       "      <td>1</td>\n",
       "      <td>2.0</td>\n",
       "      <td>3</td>\n",
       "      <td>NaN</td>\n",
       "      <td>NaN</td>\n",
       "      <td>0</td>\n",
       "      <td>male</td>\n",
       "    </tr>\n",
       "    <tr>\n",
       "      <th>3</th>\n",
       "      <td>4</td>\n",
       "      <td>Малхасян Арамаис</td>\n",
       "      <td>1</td>\n",
       "      <td>1.0</td>\n",
       "      <td>1</td>\n",
       "      <td>NaN</td>\n",
       "      <td>NaN</td>\n",
       "      <td>0</td>\n",
       "      <td>male</td>\n",
       "    </tr>\n",
       "    <tr>\n",
       "      <th>4</th>\n",
       "      <td>5</td>\n",
       "      <td>Попов Леонид Андреевич</td>\n",
       "      <td>1</td>\n",
       "      <td>3.0</td>\n",
       "      <td>3</td>\n",
       "      <td>2.0</td>\n",
       "      <td>2.0</td>\n",
       "      <td>1</td>\n",
       "      <td>male</td>\n",
       "    </tr>\n",
       "  </tbody>\n",
       "</table>\n",
       "</div>"
      ],
      "text/plain": [
       "   ssmm_id                           name  elected_flg  member_conv_cnt  \\\n",
       "0        1  Владыкина Вероника Евгеньевна            1              3.0   \n",
       "1        2  Коновалов Антон Александрович            1              2.0   \n",
       "2        3   Ласкин Алексей Александрович            1              2.0   \n",
       "3        4               Малхасян Арамаис            1              1.0   \n",
       "4        5         Попов Леонид Андреевич            1              3.0   \n",
       "\n",
       "   cand_conv_cnt  manage_convocation_cnt  position_cnt  honorary_flg  gender  \n",
       "0              3                     2.0           3.0             1  female  \n",
       "1              2                     1.0           1.0             0    male  \n",
       "2              3                     NaN           NaN             0    male  \n",
       "3              1                     NaN           NaN             0    male  \n",
       "4              3                     2.0           2.0             1    male  "
      ]
     },
     "execution_count": 9,
     "metadata": {},
     "output_type": "execute_result"
    }
   ],
   "source": [
    "df = pd.read_csv('../library: main/ssmm_candidates_core.csv', sep='\\t', encoding='utf-8')\n",
    "df = df[['ssmm_id','name','elected_flg','member_conv_cnt','cand_conv_cnt','manage_convocation_cnt','position_cnt','honorary_flg','gender']].reset_index().drop(['index'],axis=1)\n",
    "df.head()\n"
   ]
  },
  {
   "cell_type": "code",
   "execution_count": 5,
   "id": "827c02c0",
   "metadata": {},
   "outputs": [],
   "source": [
    "# list(df)"
   ]
  },
  {
   "cell_type": "code",
   "execution_count": 25,
   "id": "4a16fc97",
   "metadata": {},
   "outputs": [
    {
     "data": {
      "text/html": [
       "<div>\n",
       "<style scoped>\n",
       "    .dataframe tbody tr th:only-of-type {\n",
       "        vertical-align: middle;\n",
       "    }\n",
       "\n",
       "    .dataframe tbody tr th {\n",
       "        vertical-align: top;\n",
       "    }\n",
       "\n",
       "    .dataframe thead th {\n",
       "        text-align: right;\n",
       "    }\n",
       "</style>\n",
       "<table border=\"1\" class=\"dataframe\">\n",
       "  <thead>\n",
       "    <tr style=\"text-align: right;\">\n",
       "      <th></th>\n",
       "      <th>ssmm_id</th>\n",
       "      <th>name</th>\n",
       "      <th>elected_flg</th>\n",
       "      <th>member_conv_cnt</th>\n",
       "      <th>cand_conv_cnt</th>\n",
       "      <th>manage_convocation_cnt</th>\n",
       "      <th>position_cnt</th>\n",
       "      <th>honorary_flg</th>\n",
       "      <th>gender</th>\n",
       "    </tr>\n",
       "  </thead>\n",
       "  <tbody>\n",
       "    <tr>\n",
       "      <th>0</th>\n",
       "      <td>1</td>\n",
       "      <td>Владыкина Вероника Евгеньевна</td>\n",
       "      <td>1</td>\n",
       "      <td>3.0</td>\n",
       "      <td>3</td>\n",
       "      <td>2.0</td>\n",
       "      <td>3.0</td>\n",
       "      <td>1</td>\n",
       "      <td>1</td>\n",
       "    </tr>\n",
       "    <tr>\n",
       "      <th>1</th>\n",
       "      <td>2</td>\n",
       "      <td>Коновалов Антон Александрович</td>\n",
       "      <td>1</td>\n",
       "      <td>2.0</td>\n",
       "      <td>2</td>\n",
       "      <td>1.0</td>\n",
       "      <td>1.0</td>\n",
       "      <td>0</td>\n",
       "      <td>0</td>\n",
       "    </tr>\n",
       "    <tr>\n",
       "      <th>2</th>\n",
       "      <td>3</td>\n",
       "      <td>Ласкин Алексей Александрович</td>\n",
       "      <td>1</td>\n",
       "      <td>2.0</td>\n",
       "      <td>3</td>\n",
       "      <td>0.0</td>\n",
       "      <td>0.0</td>\n",
       "      <td>0</td>\n",
       "      <td>0</td>\n",
       "    </tr>\n",
       "    <tr>\n",
       "      <th>3</th>\n",
       "      <td>4</td>\n",
       "      <td>Малхасян Арамаис</td>\n",
       "      <td>1</td>\n",
       "      <td>1.0</td>\n",
       "      <td>1</td>\n",
       "      <td>0.0</td>\n",
       "      <td>0.0</td>\n",
       "      <td>0</td>\n",
       "      <td>0</td>\n",
       "    </tr>\n",
       "    <tr>\n",
       "      <th>4</th>\n",
       "      <td>5</td>\n",
       "      <td>Попов Леонид Андреевич</td>\n",
       "      <td>1</td>\n",
       "      <td>3.0</td>\n",
       "      <td>3</td>\n",
       "      <td>2.0</td>\n",
       "      <td>2.0</td>\n",
       "      <td>1</td>\n",
       "      <td>0</td>\n",
       "    </tr>\n",
       "  </tbody>\n",
       "</table>\n",
       "</div>"
      ],
      "text/plain": [
       "   ssmm_id                           name  elected_flg  member_conv_cnt  \\\n",
       "0        1  Владыкина Вероника Евгеньевна            1              3.0   \n",
       "1        2  Коновалов Антон Александрович            1              2.0   \n",
       "2        3   Ласкин Алексей Александрович            1              2.0   \n",
       "3        4               Малхасян Арамаис            1              1.0   \n",
       "4        5         Попов Леонид Андреевич            1              3.0   \n",
       "\n",
       "   cand_conv_cnt  manage_convocation_cnt  position_cnt  honorary_flg  gender  \n",
       "0              3                     2.0           3.0             1       1  \n",
       "1              2                     1.0           1.0             0       0  \n",
       "2              3                     0.0           0.0             0       0  \n",
       "3              1                     0.0           0.0             0       0  \n",
       "4              3                     2.0           2.0             1       0  "
      ]
     },
     "execution_count": 25,
     "metadata": {},
     "output_type": "execute_result"
    }
   ],
   "source": [
    "import copy\n",
    "\n",
    "person_df = copy.deepcopy(df)\n",
    "di = {'female':1, 'male':0}\n",
    "# person_df.replace({\"gender\": di}).rename({'gender':'female'})\n",
    "person_df[\"gender\"].replace(di, inplace=True)\n",
    "# person_df = person_df.drop('gender', axis=1)\n",
    "person_df.rename({'gender':'female'})\n",
    "person_df = person_df.fillna(0)\n",
    "\n",
    "person_df.head()"
   ]
  },
  {
   "cell_type": "code",
   "execution_count": 26,
   "id": "146034a5",
   "metadata": {},
   "outputs": [
    {
     "data": {
      "text/plain": [
       "(320, 9)"
      ]
     },
     "execution_count": 26,
     "metadata": {},
     "output_type": "execute_result"
    }
   ],
   "source": [
    "person_df.shape"
   ]
  },
  {
   "cell_type": "code",
   "execution_count": 38,
   "id": "545fc70e",
   "metadata": {},
   "outputs": [],
   "source": [
    "person_df_final = person_df[['elected_flg','member_conv_cnt','cand_conv_cnt','manage_convocation_cnt','position_cnt','honorary_flg']]\n"
   ]
  },
  {
   "cell_type": "code",
   "execution_count": 43,
   "id": "87ada90e",
   "metadata": {},
   "outputs": [],
   "source": [
    "key_list = list(person_df['name'])\n"
   ]
  },
  {
   "cell_type": "code",
   "execution_count": null,
   "id": "953d1662",
   "metadata": {},
   "outputs": [],
   "source": []
  },
  {
   "cell_type": "code",
   "execution_count": null,
   "id": "e4cd0a1d",
   "metadata": {},
   "outputs": [],
   "source": []
  },
  {
   "cell_type": "code",
   "execution_count": 31,
   "id": "77bdbec2",
   "metadata": {},
   "outputs": [],
   "source": [
    "import scipy\n",
    "import seaborn as sns\n",
    "import matplotlib.pyplot as plt"
   ]
  },
  {
   "cell_type": "code",
   "execution_count": 28,
   "id": "e0444455",
   "metadata": {},
   "outputs": [],
   "source": [
    "from scipy.cluster.vq import kmeans, vq"
   ]
  },
  {
   "cell_type": "code",
   "execution_count": 40,
   "id": "90be91e4",
   "metadata": {},
   "outputs": [
    {
     "data": {
      "image/png": "[encoded data removed]",
      "text/plain": [
       "<Figure size 640x480 with 1 Axes>"
      ]
     },
     "metadata": {},
     "output_type": "display_data"
    }
   ],
   "source": [
    "\n",
    "# Declaring variables for use\n",
    "distortions = []\n",
    "num_clusters_range = range(1, 11)\n",
    "\n",
    "# Populating distortions for various clusters\n",
    "for i in num_clusters_range:\n",
    "    centroids, distortion = kmeans(person_df_final, i)\n",
    "    distortions.append(distortion)\n",
    "    \n",
    "# Plotting elbow plot data\n",
    "elbow_plot_data = pd.DataFrame({'num_clusters': num_clusters_range,\n",
    "                                'distortions': distortions})\n",
    "sns.lineplot(x='num_clusters', y='distortions',\n",
    "             data = elbow_plot_data)\n",
    "plt.show()\n",
    "\n"
   ]
  },
  {
   "cell_type": "code",
   "execution_count": 36,
   "id": "6a8a3a95",
   "metadata": {},
   "outputs": [],
   "source": []
  },
  {
   "cell_type": "code",
   "execution_count": 35,
   "id": "23f04a16",
   "metadata": {},
   "outputs": [],
   "source": [
    "from sklearn.cluster import KMeans"
   ]
  },
  {
   "cell_type": "code",
   "execution_count": 48,
   "id": "c494495c",
   "metadata": {},
   "outputs": [
    {
     "name": "stdout",
     "output_type": "stream",
     "text": [
      "CPU times: user 44.5 ms, sys: 42.3 ms, total: 86.9 ms\n",
      "Wall time: 36.8 ms\n"
     ]
    }
   ],
   "source": [
    "num_clusters = 6\n",
    "\n",
    "km = KMeans(n_clusters=num_clusters, n_init=10)\n",
    "\n",
    "%time km.fit(person_df_final)\n",
    "\n",
    "clusters = km.labels_.tolist()"
   ]
  },
  {
   "cell_type": "code",
   "execution_count": null,
   "id": "73589db0",
   "metadata": {},
   "outputs": [],
   "source": []
  },
  {
   "cell_type": "code",
   "execution_count": 49,
   "id": "0e9bd264",
   "metadata": {},
   "outputs": [
    {
     "data": {
      "text/plain": [
       "4    147\n",
       "1     57\n",
       "0     51\n",
       "5     36\n",
       "2     19\n",
       "3     10\n",
       "Name: cluster, dtype: int64"
      ]
     },
     "execution_count": 49,
     "metadata": {},
     "output_type": "execute_result"
    }
   ],
   "source": [
    "program_clusters = {\n",
    "    'key': key_list, \n",
    "#     'program': person_df_final, \n",
    "    'cluster': clusters\n",
    "}\n",
    "\n",
    "frame = pd.DataFrame(program_clusters, index = [clusters], columns = ['key', 'cluster'])  #'program', \n",
    "\n",
    "frame['cluster'].value_counts()"
   ]
  },
  {
   "cell_type": "code",
   "execution_count": 46,
   "id": "87c477b3",
   "metadata": {},
   "outputs": [],
   "source": [
    "# to find n-th occurance of substring in the string (n = 0,1...)\n",
    "\n",
    "def find_substring(txt, str1, n):\n",
    "    parts = txt.split(str1, n + 1)\n",
    "    if len(parts) <= n + 1:\n",
    "        return -1\n",
    "    return len(txt) - len(parts[-1]) - len(str1)"
   ]
  },
  {
   "cell_type": "code",
   "execution_count": 50,
   "id": "4db2c30a",
   "metadata": {},
   "outputs": [
    {
     "name": "stdout",
     "output_type": "stream",
     "text": [
      "\n",
      "Cluster 0 persons:\t\tЛаскин А,\t\tСамонов А,\t\tКостицын А,\t\tШариков А,\t\tАбдуллаева Э,\t\tУдимов Д,\t\tЧернодед А,\t\tВласов А,\t\tСафина Д,\t\tТишин П,\t\tФедорова Е,\t\tБуряк А,\t\tТулякова А,\t\tСергеева Э,\t\tБорисов В,\t\tБунеев А,\t\tХасанов Р,\t\tАриас-Альварес В,\t\tМамедов Р,\t\tНечаев Н,\t\tЛапина С,\t\tЧидякина О,\t\tВолчанский А,\t\tДумаревский А,\t\tБахметьева М,\t\tКравчук Н,\t\tПроничкин Ю,\t\tБун-Ян-Тун В,\t\tПровидухина М,\t\tСакаев Р,\t\tТрошина Д,\t\tБатутина М,\t\tЗарубин Н,\t\tТатаринцева М,\t\tРогачёв А,\t\tМитрофанов Д,\t\tСиухина А,\t\tУстинов Н,\t\tВинокурова А,\t\tШишкин И,\t\tПанина Т,\t\tПушкарёва А,\t\tЛобанова А,\t\tЗайцева А,\t\tЯнкова М,\t\tТерехов М,\t\tПчельникова Е,\t\tШереметьев В,\t\tМакаров Н,\t\tГаспарян И,\t\tЯнушкевич И,\n",
      "\n",
      "Cluster 1 persons:\t\tВалиев З,\t\tУльмаскулов Р,\t\tКунденко В,\t\tСеменов П,\t\tСкобенникова Ю,\t\tВанунц А,\t\tНиколаева Н,\t\tСкопинцев А,\t\tЗаболотский Л,\t\tИзимова А,\t\tКорно Д,\t\tЧистяков М,\t\tКарякин И,\t\tТаибов А,\t\tЛучкина А,\t\tАленина А,\t\tАседова Е,\t\tГордеева М,\t\tГоршков К,\t\tАхмеджанова М,\t\tКоллерова С,\t\tИльясова А,\t\tМатюнин В,\t\tШигаев И,\t\tЛебедев В,\t\tАлександрина М,\t\tКим Н,\t\tКудрявцев С,\t\tТитов М,\t\tНовицкая Е,\t\tУраева Д,\t\tЩербаков В,\t\tТретьяков А,\t\tГусейнов С,\t\tСалимгереев М,\t\tЛогинова И,\t\tЯцык Я,\t\tПерфильева Н,\t\tСперанский А,\t\tВоронин В,\t\tОкунев Ф,\t\tКулюсов М,\t\tРевнивцев А,\t\tХарламов В,\t\tБеляева А,\t\tБлинов А,\t\tРодионова Е,\t\tЛещенко С,\t\tХан В,\t\tВерещагина С,\t\tДементьева А,\t\tКорченкина Д,\t\tЗахарычев А,\t\tБелугин Н,\t\tГордеев Н,\t\tОрлов Д,\t\tВодолеев М,\n",
      "\n",
      "Cluster 2 persons:\t\tВладыкина В,\t\tСапунов К,\t\tТропин А,\t\tМатвеев А,\t\tОсин Р,\t\tМатвеев Д,\t\tГлунчадзе И,\t\tДенисов И,\t\tБекбулатов Р,\t\tСавин П,\t\tКорж Д,\t\tМалахов Н,\t\tСенотов В,\t\tТонконогов А,\t\tКухарчук И,\t\tМалиновский Г,\t\tКлюев А,\t\tДехнич К,\t\tТретьяков П,\n",
      "\n",
      "Cluster 3 persons:\t\tОстроухова Н,\t\tМорозов С,\t\tСавченко А,\t\tСуркова А,\t\tЗмиевский Л,\t\tКраснова А,\t\tМуравьёва А,\t\tМазитова В,\t\tФиткович В,\t\tХахова М,\n",
      "\n",
      "Cluster 4 persons:\t\tМалхасян А,\t\tАканаев Т,\t\tГильманов Р,\t\tГлухова А,\t\tХарлашин В,\t\tАртамонова М,\t\tГромов И,\t\tСавелов М,\t\tЦылин И,\t\tКириллова П,\t\tКузнецова А,\t\tЛевин А,\t\tДубровин Г,\t\tМиценко В,\t\tСавушкин Н,\t\tХисматуллина М,\t\tШтейников Ю,\t\tБагров К,\t\tГабидов А,\t\tКурикша А,\t\tЛавров В,\t\tНикифоров С,\t\tСмелов В,\t\tАкушевич А,\t\tДьяков П,\t\tКороткин В,\t\tАнтонова О,\t\tКуркотов В,\t\tОльшевская П,\t\tСадрисламов А,\t\tСеливерстова Е,\t\tАндреев М,\t\tХамматова Г,\t\tЛоктионов Ф,\t\tБурнус А,\t\tГригорьев И,\t\tАлекберов И,\t\tОськин А,\t\tХапкин А,\t\tМылзенова Д,\t\tЧеботаева В,\t\tМизраки В,\t\tЯшин Р,\t\tЛамтюгин А,\t\tБелов А,\t\tКоварский А,\t\tБроницкий Г,\t\tВергазов М,\t\tКондрашкин С,\t\tОстросаблина О,\t\tПлотников В,\t\tПонфиленко А,\t\tРонжин Д,\t\tГулин Н,\t\tСергейчик Р,\t\tМотовилина А,\t\tКозлова К,\t\tСвяткин И,\t\tБазанов И,\t\tМилютин Э,\t\tПоликушин В,\t\tШтерн А,\t\tИсмагилов А,\t\tТесля А,\t\tЗарков А,\t\tЧебунина Т,\t\tНазмутдинов А,\t\tСаакян В,\t\tЧаплыгина Е,\t\tУкраинский Д,\t\tПилюгина С,\t\tЗахахатнов Д,\t\tНикулин М,\t\tКремер А,\t\tХан Т,\t\tМосковский Б,\t\tДмитриев И,\t\tМищенко А,\t\tАвилова Е,\t\tСадова К,\t\tКоновалов Д,\t\tПорфирьева Н,\t\tМалания Г,\t\tЖуковский Н,\t\tВолкова Д,\t\tФедотов К,\t\tФилатов К,\t\tАлиев Р,\t\tШерстобитов А,\t\tЕфимкина А,\t\tАртамонов С,\t\tАнтонов И,\t\tДементьев Ф,\t\tПромыслов П,\t\tФёдоров К,\t\tКолузанов Ф,\t\tМатвеев Д,\t\tЧулкова К,\t\tАскарова А,\t\tЛадейщиков Е,\t\tРябцев Л,\t\tИгин А,\t\tРязанов Д,\t\tТирешко Д,\t\tМеньшикова Л,\t\tВасильев Н,\t\tКузякина С,\t\tЛобанова А,\t\tКуслина К,\t\tТузова В,\t\tСулейкин А,\t\tКирюхина А,\t\tКовыршина В,\t\tРахматуллаев Т,\t\tФёдоров Л,\t\tПавликова А,\t\tЗеленин Г,\t\tИлизаров Г,\t\tПятина А,\t\tВолкова Е,\t\tМишанин О,\t\tПерфильев Д,\t\tЛяпунов А,\t\tМуджиков В,\t\tГоршков Е,\t\tКовалева К,\t\tЛоншаков Н,\t\tБабаджанова Е,\t\tЗенков Т,\t\tВербовская Д,\t\tВитковский А,\t\tБелан А,\t\tМонина Д,\t\tБароян А,\t\tСадовицкая Е,\t\tАгуреева Е,\t\tАбубакарова Л,\t\tАлеев Д,\t\tАрефьева В,\t\tЗаводян М,\t\tКадников К,\t\tМайданик А,\t\tУваров А,\t\tПоликарпов А,\t\tКаляев Т,\t\tМаммагаджиев Р,\t\tТретьякова Е,\n",
      "\n",
      "Cluster 5 persons:\t\tКоновалов А,\t\tПопов Л,\t\tАсташов Д,\t\tОджаев Р,\t\tКотляров Н,\t\tМедведева Я,\t\tАнтонов С,\t\tБыстрицкая В,\t\tВатутин К,\t\tДяченко М,\t\tТен А,\t\tМитькина М,\t\tДорман Е,\t\tТюрина Т,\t\tНагорных Я,\t\tЧернова А,\t\tПодкользина Е,\t\tШведов К,\t\tСеменюк П,\t\tВоробьёва Н,\t\tГигин И,\t\tКудасов М,\t\tБузенков О,\t\tВихорева Н,\t\tСкурихин Д,\t\tФенелонов Д,\t\tСаметов М,\t\tЕвдокимова С,\t\tПопова А,\t\tШишков А,\t\tМельникова Д,\t\tМанахова А,\t\tЧуб В,\t\tШевченко Е,\t\tАлёшечкина Е,\t\tПриходко М,\n",
      "\n"
     ]
    }
   ],
   "source": [
    "# print(\"Top terms per cluster:\")\n",
    "print()\n",
    "\n",
    "#sort cluster centers by proximity to centroid\n",
    "order_centroids = km.cluster_centers_.argsort()[:, ::-1] \n",
    "\n",
    "for i in range(num_clusters):\n",
    "#     print(\"Cluster %d words:\" % i, end='')\n",
    "    \n",
    "#     for ind in order_centroids[i, :20]: #replace 6 with n words per cluster\n",
    "#         print('', terms[ind], end=',')\n",
    "#         print('', vocab_frame.loc[terms[ind].split(' ')], end=',')\n",
    "#         print(' %s' % vocab_frame.loc[terms[ind].split(' ')].values.tolist()[0][0].encode('utf-8', 'ignore'), end=',')\n",
    "#     print() #add whitespace\n",
    "#     print() #add whitespace\n",
    "    \n",
    "    print(\"Cluster %d persons:\" % i, end='')\n",
    "    for key in frame.loc[i]['key'].values.tolist():\n",
    "#         print(' %s,' % key, end='')\n",
    "        print('\\t\\t%s,' % key[:find_substring(key, ' ', 0)+2], end='')\n",
    "    print() #add whitespace\n",
    "    print() #add whitespace\n",
    "    \n",
    "# print() \n",
    "# print() \n"
   ]
  },
  {
   "cell_type": "code",
   "execution_count": null,
   "id": "bc1d8041",
   "metadata": {},
   "outputs": [],
   "source": []
  },
  {
   "cell_type": "code",
   "execution_count": null,
   "id": "522cb30a",
   "metadata": {},
   "outputs": [],
   "source": []
  },
  {
   "cell_type": "code",
   "execution_count": null,
   "id": "164e5a43",
   "metadata": {},
   "outputs": [],
   "source": []
  }
 ],
 "metadata": {
  "kernelspec": {
   "display_name": "Python 3 (ipykernel)",
   "language": "python",
   "name": "python3"
  },
  "language_info": {
   "codemirror_mode": {
    "name": "ipython",
    "version": 3
   },
   "file_extension": ".py",
   "mimetype": "text/x-python",
   "name": "python",
   "nbconvert_exporter": "python",
   "pygments_lexer": "ipython3",
   "version": "3.11.1"
  }
 },
 "nbformat": 4,
 "nbformat_minor": 5
}
