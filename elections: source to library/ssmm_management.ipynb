{
 "cells": [
  {
   "cell_type": "code",
   "execution_count": null,
   "id": "b171479e",
   "metadata": {},
   "outputs": [],
   "source": []
  },
  {
   "cell_type": "code",
   "execution_count": null,
   "id": "cd40cf38",
   "metadata": {},
   "outputs": [],
   "source": [
    "# все ссылки тут https://vk.com/pages?oid=-33327655&p=%D0%A1%D0%9E%D0%A1%D0%A2%D0%90%D0%92_%D0%A1%D1%82%D1%83%D0%B4%D1%81%D0%BE%D0%B2%D0%B5%D1%82%D0%B0_%D0%BC%D0%B5%D1%85%D0%BC%D0%B0%D1%82%D0%B0\n",
    "\n",
    "# 1 - https://vk.com/pages?oid=-33327655&p=%D0%A1%D0%BE%D1%81%D1%82%D0%B0%D0%B2_%D0%A1%D1%82%D1%83%D0%B4%D1%81%D0%BE%D0%B2%D0%B5%D1%82%D0%B0_%D0%BC%D0%B5%D1%85%D0%BC%D0%B0%D1%82%D0%B0%2C_2012-03\n",
    "# 2 - https://vk.com/pages?oid=-33327655&p=%D0%A1%D0%BE%D1%81%D1%82%D0%B0%D0%B2_%D0%A1%D1%82%D1%83%D0%B4%D1%81%D0%BE%D0%B2%D0%B5%D1%82%D0%B0_%D0%BC%D0%B5%D1%85%D0%BC%D0%B0%D1%82%D0%B0%2C_2012-11\n",
    "# 3 - https://vk.com/pages?oid=-33327655&p=%D0%A1%D0%BE%D1%81%D1%82%D0%B0%D0%B2_%D0%A1%D1%82%D1%83%D0%B4%D1%81%D0%BE%D0%B2%D0%B5%D1%82%D0%B0_%D0%BC%D0%B5%D1%85%D0%BC%D0%B0%D1%82%D0%B0%2C_2013-12\n",
    "    \n",
    "    "
   ]
  },
  {
   "cell_type": "markdown",
   "id": "270017fd",
   "metadata": {},
   "source": [
    "# 1. РУКОВОДСТВО"
   ]
  },
  {
   "cell_type": "code",
   "execution_count": null,
   "id": "a82bcf31",
   "metadata": {},
   "outputs": [],
   "source": [
    "# 1 - https://vk.com/topic-33327655_26214681"
   ]
  },
  {
   "cell_type": "code",
   "execution_count": null,
   "id": "0092ea31",
   "metadata": {},
   "outputs": [],
   "source": [
    "# 2 - https://vk.com/wall-33327655_733"
   ]
  },
  {
   "cell_type": "code",
   "execution_count": null,
   "id": "e2175506",
   "metadata": {},
   "outputs": [],
   "source": [
    "# 3 - https://vk.com/wall-33327655_1603"
   ]
  },
  {
   "cell_type": "code",
   "execution_count": null,
   "id": "e7ea921a",
   "metadata": {},
   "outputs": [],
   "source": []
  },
  {
   "cell_type": "code",
   "execution_count": null,
   "id": "ab467145",
   "metadata": {},
   "outputs": [],
   "source": []
  },
  {
   "cell_type": "code",
   "execution_count": null,
   "id": "f35797f6",
   "metadata": {},
   "outputs": [],
   "source": [
    "# 8 - https://vk.com/wall-33327655_7774"
   ]
  },
  {
   "cell_type": "code",
   "execution_count": null,
   "id": "de247a77",
   "metadata": {},
   "outputs": [],
   "source": [
    "# 9 - https://vk.com/wall-33327655_8432"
   ]
  },
  {
   "cell_type": "code",
   "execution_count": null,
   "id": "604bf802",
   "metadata": {},
   "outputs": [],
   "source": [
    "# 10 - https://vk.com/wall-33327655_9402"
   ]
  },
  {
   "cell_type": "code",
   "execution_count": null,
   "id": "23f4c0b1",
   "metadata": {},
   "outputs": [],
   "source": [
    "# 11 - https://vk.com/wall-33327655_10064"
   ]
  },
  {
   "cell_type": "markdown",
   "id": "6b70cd08",
   "metadata": {},
   "source": [
    "# 2. КООРДИНАТОРЫ"
   ]
  },
  {
   "cell_type": "code",
   "execution_count": null,
   "id": "effaf5c5",
   "metadata": {},
   "outputs": [],
   "source": [
    "# 1 - https://vk.com/topic-33327655_26162739 - НЕ ПОЛНО, РУКАМИ"
   ]
  },
  {
   "cell_type": "code",
   "execution_count": null,
   "id": "7ef6c1ec",
   "metadata": {},
   "outputs": [],
   "source": [
    "# 2 - https://vk.com/wall-33327655_733"
   ]
  },
  {
   "cell_type": "code",
   "execution_count": null,
   "id": "9b42601b",
   "metadata": {},
   "outputs": [],
   "source": [
    "# 3 - https://vk.com/wall-33327655_1603"
   ]
  },
  {
   "cell_type": "code",
   "execution_count": null,
   "id": "6dcbada7",
   "metadata": {},
   "outputs": [],
   "source": []
  },
  {
   "cell_type": "code",
   "execution_count": null,
   "id": "aa2a83fe",
   "metadata": {},
   "outputs": [],
   "source": [
    "# 4 - https://vk.com/wall-33327655_2354 - НЕТ ТЕКСТА"
   ]
  },
  {
   "cell_type": "code",
   "execution_count": null,
   "id": "72602648",
   "metadata": {},
   "outputs": [],
   "source": [
    "# Избраны были также и координаторы всех рабочих групп совета."
   ]
  },
  {
   "cell_type": "code",
   "execution_count": null,
   "id": "7eda421e",
   "metadata": {},
   "outputs": [],
   "source": [
    "# 5 - https://vk.com/wall-33327655_3524"
   ]
  },
  {
   "cell_type": "code",
   "execution_count": null,
   "id": "624a26b7",
   "metadata": {},
   "outputs": [],
   "source": [
    "# 6 - https://vk.com/wall-33327655_5487"
   ]
  },
  {
   "cell_type": "code",
   "execution_count": null,
   "id": "729f9a6f",
   "metadata": {},
   "outputs": [],
   "source": [
    "# На первом собрании Студсовета были также избраны и координаторы рабочих групп совета."
   ]
  },
  {
   "cell_type": "code",
   "execution_count": null,
   "id": "19b6ccc7",
   "metadata": {},
   "outputs": [],
   "source": [
    "# 7 - https://vk.com/wall-33327655_6755"
   ]
  },
  {
   "cell_type": "code",
   "execution_count": null,
   "id": "a82b89ff",
   "metadata": {},
   "outputs": [],
   "source": [
    "# 8 - https://vk.com/wall-33327655_7776"
   ]
  },
  {
   "cell_type": "code",
   "execution_count": null,
   "id": "a57900cf",
   "metadata": {},
   "outputs": [],
   "source": []
  },
  {
   "cell_type": "code",
   "execution_count": null,
   "id": "516e43cb",
   "metadata": {},
   "outputs": [],
   "source": [
    "# Координаторы рабочих групп"
   ]
  },
  {
   "cell_type": "code",
   "execution_count": null,
   "id": "a22d9bdc",
   "metadata": {},
   "outputs": [],
   "source": [
    "# 10 - https://vk.com/wall-33327655_9421"
   ]
  },
  {
   "cell_type": "code",
   "execution_count": null,
   "id": "31719a86",
   "metadata": {},
   "outputs": [],
   "source": [
    "# 11 - https://vk.com/wall-33327655_10092"
   ]
  },
  {
   "cell_type": "code",
   "execution_count": null,
   "id": "813e42ed",
   "metadata": {},
   "outputs": [],
   "source": []
  }
 ],
 "metadata": {
  "kernelspec": {
   "display_name": "Python 3 (ipykernel)",
   "language": "python",
   "name": "python3"
  },
  "language_info": {
   "codemirror_mode": {
    "name": "ipython",
    "version": 3
   },
   "file_extension": ".py",
   "mimetype": "text/x-python",
   "name": "python",
   "nbconvert_exporter": "python",
   "pygments_lexer": "ipython3",
   "version": "3.9.13"
  }
 },
 "nbformat": 4,
 "nbformat_minor": 5
}
